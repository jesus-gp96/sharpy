{
 "cells": [
  {
   "cell_type": "markdown",
   "metadata": {},
   "source": [
    "# LCO study speed 115 m/s\n",
    "\n",
    "This is an example using SHARPy\n",
    "\n",
    "\n"
   ]
  },
  {
   "cell_type": "markdown",
   "metadata": {},
   "source": [
    "## Required Packages"
   ]
  },
  {
   "cell_type": "code",
   "execution_count": 1,
   "metadata": {},
   "outputs": [],
   "source": [
    "# Loading of the used packages\n",
    "import numpy as np              # basic mathematical and array functions\n",
    "import os                       # Functions related to the operating system\n",
    "import matplotlib.pyplot as plt # Plotting library\n",
    "\n",
    "import sharpy.sharpy_main                  # Run SHARPy inside jupyter notebooks\n",
    "import sharpy.utils.plotutils as pu        # Plotting utilities\n",
    "from sharpy.utils.constants import deg2rad # Constant to conver degrees to radians\n",
    "\n",
    "import sharpy.utils.generate_cases as gc"
   ]
  },
  {
   "cell_type": "markdown",
   "metadata": {},
   "source": [
    "## Problem Set-up"
   ]
  },
  {
   "cell_type": "markdown",
   "metadata": {},
   "source": [
    "### Velocity\n",
    "\n",
    "The UVLM is assembled in normalised time at a velocity of $1 m/s$. The only matrices that need updating then with free stream velocity are the structural matrices, which is significantly cheaper to do than to update the UVLM."
   ]
  },
  {
   "cell_type": "code",
   "execution_count": 2,
   "metadata": {},
   "outputs": [
    {
     "name": "stdout",
     "output_type": "stream",
     "text": [
      "Requirement already satisfied: plotly in /home/jesusgp/anaconda3/envs/sharpy_env/lib/python3.7/site-packages (5.10.0)\r\n",
      "Requirement already satisfied: tenacity>=6.2.0 in /home/jesusgp/anaconda3/envs/sharpy_env/lib/python3.7/site-packages (from plotly) (8.1.0)\r\n"
     ]
    }
   ],
   "source": [
    "! pip install plotly"
   ]
  },
  {
   "cell_type": "code",
   "execution_count": 3,
   "metadata": {},
   "outputs": [],
   "source": [
    "# Geometry\n",
    "chord = 1.         # Chord of the wing\n",
    "aspect_ratio = 16. # Ratio between lenght and chord: aspect_ratio = length/chord\n",
    "wake_length = 25   # Length of the wake in chord lengths\n",
    "\n",
    "# Discretization\n",
    "num_node = 21           # Number of nodes in the structural discretisation\n",
    "                        # The number of nodes will also define the aerodynamic panels in the\n",
    "                        # spanwise direction\n",
    "num_chord_panels = 4    # Number of aerodynamic panels in the chordwise direction\n",
    "num_points_camber = 100 # The camber line of the wing will be defined by a series of (x,y)\n",
    "                        # coordintes. Here, we define the size of the (x,y) vectors\n",
    "\n",
    "# Structural properties of the beam cross section\n",
    "mass_per_unit_length = 0.75 # Mass per unit length\n",
    "mass_iner_x = 0.1           # Mass inertia around the local x axis\n",
    "mass_iner_y = 0.05          # Mass inertia around the local y axis\n",
    "mass_iner_z = 0.05          # Mass inertia around the local z axis\n",
    "pos_cg_B = np.zeros((3))    # position of the centre of mass with respect to the elastic axis\n",
    "EA = 1e7                    # Axial stiffness\n",
    "GAy = 1e6                   # Shear stiffness in the local y axis\n",
    "GAz = 1e6                   # Shear stiffness in the local z axis\n",
    "GJ = 3e5                    # Torsional stiffness\n",
    "EIy = 6e5                   # Bending stiffness around the flapwise direction\n",
    "EIz = 1.5e8                   # Bending stiffness around the edgewise direction\n",
    "\n",
    "# Operation\n",
    "WSP = 115.             # Wind speed\n",
    "air_density = 0.1      # Air density\n",
    "\n",
    "# Time discretization\n",
    "end_time = 10.0                  # End time of the simulation\n",
    "dt = 2*chord/num_chord_panels/WSP # Always keep one timestep per panel\n",
    "\n"
   ]
  },
  {
   "cell_type": "code",
   "execution_count": 4,
   "metadata": {},
   "outputs": [],
   "source": [
    "aoa_ini_deg = 4.        # Angle of attack at the beginning of the simulation\n",
    "aoa_end_deg = 1.        # Angle of attack at the end of the simulation"
   ]
  },
  {
   "cell_type": "code",
   "execution_count": 5,
   "metadata": {},
   "outputs": [],
   "source": [
    "wing = gc.AeroelasticInformation()"
   ]
  },
  {
   "cell_type": "code",
   "execution_count": 6,
   "metadata": {},
   "outputs": [
    {
     "data": {
      "text/plain": [
       "dict_keys(['num_node_elem', 'num_node', 'num_elem', 'coordinates', 'connectivities', 'elem_stiffness', 'stiffness_db', 'elem_mass', 'mass_db', 'frame_of_reference_delta', 'structural_twist', 'boundary_conditions', 'beam_number', 'body_number', 'app_forces', 'lumped_mass_nodes', 'lumped_mass', 'lumped_mass_inertia', 'lumped_mass_position', 'lumped_mass_mat', 'lumped_mass_mat_nodes'])"
      ]
     },
     "execution_count": 6,
     "metadata": {},
     "output_type": "execute_result"
    }
   ],
   "source": [
    "wing.StructuralInformation.__dict__.keys()"
   ]
  },
  {
   "cell_type": "code",
   "execution_count": 7,
   "metadata": {},
   "outputs": [],
   "source": [
    "# Define the number of nodes and the number of nodes per element\n",
    "wing.StructuralInformation.num_node = num_node\n",
    "wing.StructuralInformation.num_node_elem = 3\n",
    "# Compute the number of elements assuming basic connections\n",
    "wing.StructuralInformation.compute_basic_num_elem()"
   ]
  },
  {
   "cell_type": "code",
   "execution_count": 8,
   "metadata": {},
   "outputs": [],
   "source": [
    "# Generate an array with the location of the nodes\n",
    "node_r = np.zeros((num_node, 3))\n",
    "node_r[:,1] = np.linspace(0, chord*aspect_ratio, num_node)"
   ]
  },
  {
   "cell_type": "code",
   "execution_count": 9,
   "metadata": {},
   "outputs": [],
   "source": [
    "wing.StructuralInformation.generate_uniform_beam(node_r,\n",
    "                    mass_per_unit_length,\n",
    "                    mass_iner_x,\n",
    "                    mass_iner_y,\n",
    "                    mass_iner_z,\n",
    "                    pos_cg_B,\n",
    "                    EA,\n",
    "                    GAy,\n",
    "                    GAz,\n",
    "                    GJ,\n",
    "                    EIy,\n",
    "                    EIz,\n",
    "                    num_node_elem = wing.StructuralInformation.num_node_elem,\n",
    "                    y_BFoR = 'x_AFoR',\n",
    "                    num_lumped_mass=0)"
   ]
  },
  {
   "cell_type": "code",
   "execution_count": 10,
   "metadata": {},
   "outputs": [],
   "source": [
    "# print(wing.StructuralInformation.connectivities)"
   ]
  },
  {
   "cell_type": "code",
   "execution_count": 11,
   "metadata": {},
   "outputs": [],
   "source": [
    "wing.StructuralInformation.boundary_conditions[0] = 1\n",
    "wing.StructuralInformation.boundary_conditions[-1] = -1"
   ]
  },
  {
   "cell_type": "code",
   "execution_count": 12,
   "metadata": {},
   "outputs": [],
   "source": [
    "# Compute the number of panels in the wake (streamwise direction) based on the previous paramete\n",
    "wake_panels = int(wake_length*chord/dt)\n",
    "\n",
    "# Define the coordinates of the camber line of the wing\n",
    "wing_camber = np.zeros((1, num_points_camber, 2))\n",
    "wing_camber[0, :, 0] = np.linspace(0, 1, num_points_camber)\n",
    "\n"
   ]
  },
  {
   "cell_type": "code",
   "execution_count": 13,
   "metadata": {},
   "outputs": [],
   "source": [
    "# Generate blade aerodynamics\n",
    "wing.AerodynamicInformation.create_one_uniform_aerodynamics(wing.StructuralInformation,\n",
    "                                 chord = chord,\n",
    "                                 twist = 0.,\n",
    "                                 sweep = 0.,\n",
    "                                 num_chord_panels = num_chord_panels,\n",
    "                                 m_distribution = 'uniform',\n",
    "                                 elastic_axis = 0.5,\n",
    "                                 num_points_camber = num_points_camber,\n",
    "                                 airfoil = wing_camber)"
   ]
  },
  {
   "cell_type": "code",
   "execution_count": 14,
   "metadata": {},
   "outputs": [],
   "source": [
    "# Gather data about available solvers\n",
    "SimInfo = gc.SimulationInformation() # Initialises the SimulationInformation class\n",
    "SimInfo.set_default_values()         # Assigns the default values to all the solvers\n",
    "\n",
    "# Print the available solvers and postprocessors\n",
    "# for key in SimInfo.solvers.keys():\n",
    "#     print(key)\n",
    "\n"
   ]
  },
  {
   "cell_type": "code",
   "execution_count": 15,
   "metadata": {},
   "outputs": [
    {
     "data": {
      "text/plain": [
       "{'unsteady': True, 'orientation': [1.0, 0, 0, 0], 'for_pos': [0.0, 0, 0]}"
      ]
     },
     "execution_count": 15,
     "metadata": {},
     "output_type": "execute_result"
    }
   ],
   "source": [
    "SimInfo.solvers['BeamLoader']\n",
    "\n"
   ]
  },
  {
   "cell_type": "code",
   "execution_count": 16,
   "metadata": {},
   "outputs": [],
   "source": [
    "SimInfo.solvers['SHARPy']['flow'] = ['BeamLoader',\n",
    "                        'AerogridLoader']\n",
    "\n",
    "SimInfo.solvers['SHARPy']['case'] = 'plot'\n",
    "SimInfo.solvers['SHARPy']['route'] = './'\n",
    "SimInfo.solvers['SHARPy']['write_screen'] = 'off'\n",
    "\n"
   ]
  },
  {
   "cell_type": "code",
   "execution_count": 17,
   "metadata": {},
   "outputs": [],
   "source": [
    "SimInfo.solvers['AerogridLoader']['unsteady'] = 'on'\n",
    "SimInfo.solvers['AerogridLoader']['mstar'] = wake_panels\n",
    "SimInfo.solvers['AerogridLoader']['freestream_dir'] = np.array([1.,0.,0.])\n",
    "SimInfo.solvers['AerogridLoader']['wake_shape_generator'] = 'StraightWake'\n",
    "SimInfo.solvers['AerogridLoader']['wake_shape_generator_input'] = {'u_inf': WSP,\n",
    "                                                                   'u_inf_direction' : np.array(\n",
    "                                                                                         [np.cos(aoa_ini_deg*deg2rad),\n",
    "                                                                                         0.,\n",
    "                                                                                         np.sin(aoa_ini_deg*deg2rad)]),\n",
    "                                                                   'dt': dt}\n",
    "\n"
   ]
  },
  {
   "cell_type": "code",
   "execution_count": 18,
   "metadata": {},
   "outputs": [],
   "source": [
    "gc.clean_test_files(SimInfo.solvers['SHARPy']['route'], SimInfo.solvers['SHARPy']['case'])\n",
    "wing.generate_h5_files(SimInfo.solvers['SHARPy']['route'], SimInfo.solvers['SHARPy']['case'])\n",
    "SimInfo.generate_solver_file()"
   ]
  },
  {
   "cell_type": "code",
   "execution_count": 19,
   "metadata": {},
   "outputs": [
    {
     "name": "stderr",
     "output_type": "stream",
     "text": [
      "fatal: not a git repository (or any of the parent directories): .git\n"
     ]
    }
   ],
   "source": [
    "sharpy_output = sharpy.sharpy_main.main(['',\n",
    "                                         SimInfo.solvers['SHARPy']['route'] +\n",
    "                                         SimInfo.solvers['SHARPy']['case'] +\n",
    "                                         '.sharpy'])\n",
    "\n"
   ]
  },
  {
   "cell_type": "code",
   "execution_count": 20,
   "metadata": {},
   "outputs": [],
   "source": [
    "#pu.plot_timestep(sharpy_output, tstep=-1, minus_mstar=(wake_panels - 6), plotly=True)"
   ]
  },
  {
   "cell_type": "code",
   "execution_count": 21,
   "metadata": {},
   "outputs": [],
   "source": [
    "# Define the simulation\n",
    "SimInfo.solvers['SHARPy']['flow'] = ['BeamLoader',\n",
    "                        'AerogridLoader',\n",
    "                        'StaticCoupled']\n",
    "\n",
    "SimInfo.set_variable_all_dicts('rho', air_density)\n",
    "\n",
    "SimInfo.solvers['SHARPy']['case'] = 'static'\n",
    "SimInfo.solvers['SHARPy']['write_screen'] = 'on'\n",
    "\n",
    "SimInfo.solvers['NonLinearStatic']['gravity_on'] = False\n",
    "\n",
    "SimInfo.solvers['StaticUvlm']['horseshoe'] = True\n",
    "SimInfo.solvers['StaticUvlm']['n_rollup'] = 0\n",
    "SimInfo.solvers['StaticUvlm']['velocity_field_generator'] = 'SteadyVelocityField'\n",
    "SimInfo.solvers['StaticUvlm']['velocity_field_input'] = {'u_inf' : WSP,\n",
    "                                                         'u_inf_direction' : np.array(\n",
    "                                                                                [np.cos(aoa_ini_deg*deg2rad),\n",
    "                                                                                 0.,\n",
    "                                                                                 np.sin(aoa_ini_deg*deg2rad)])}\n",
    "\n",
    "SimInfo.solvers['StaticCoupled']['structural_solver'] = 'NonLinearStatic'\n",
    "SimInfo.solvers['StaticCoupled']['structural_solver_settings'] = SimInfo.solvers['NonLinearStatic']\n",
    "SimInfo.solvers['StaticCoupled']['aero_solver'] = 'StaticUvlm'\n",
    "SimInfo.solvers['StaticCoupled']['aero_solver_settings'] = SimInfo.solvers['StaticUvlm']\n",
    "SimInfo.solvers['StaticCoupled']['n_load_steps'] = 0\n"
   ]
  },
  {
   "cell_type": "code",
   "execution_count": 22,
   "metadata": {},
   "outputs": [],
   "source": [
    "gc.clean_test_files(SimInfo.solvers['SHARPy']['route'], SimInfo.solvers['SHARPy']['case'])\n",
    "SimInfo.generate_solver_file()\n",
    "wing.generate_h5_files(SimInfo.solvers['SHARPy']['route'], SimInfo.solvers['SHARPy']['case'])"
   ]
  },
  {
   "cell_type": "code",
   "execution_count": 23,
   "metadata": {},
   "outputs": [
    {
     "name": "stdout",
     "output_type": "stream",
     "text": [
      "--------------------------------------------------------------------------------\u001b[0m\n",
      "            ######  ##     ##    ###    ########  ########  ##    ##\u001b[0m\n",
      "           ##    ## ##     ##   ## ##   ##     ## ##     ##  ##  ##\u001b[0m\n",
      "           ##       ##     ##  ##   ##  ##     ## ##     ##   ####\u001b[0m\n",
      "            ######  ######### ##     ## ########  ########     ##\u001b[0m\n",
      "                 ## ##     ## ######### ##   ##   ##           ##\u001b[0m\n",
      "           ##    ## ##     ## ##     ## ##    ##  ##           ##\u001b[0m\n",
      "            ######  ##     ## ##     ## ##     ## ##           ##\u001b[0m\n",
      "--------------------------------------------------------------------------------\u001b[0m\n",
      "Aeroelastics Lab, Aeronautics Department.\u001b[0m\n",
      "    Copyright (c), Imperial College London.\u001b[0m\n",
      "    All rights reserved.\u001b[0m\n",
      "    License available at https://github.com/imperialcollegelondon/sharpy\u001b[0m\n",
      "\u001b[36mRunning SHARPy from /home/jesusgp/sharpy/docs/source/content/example_notebooks/HALE_wing_time_marching/Speed_115\u001b[0m\n",
      "\u001b[36mSHARPy being run is in /home/jesusgp/anaconda3/envs/sharpy_env/lib/python3.7/site-packages\u001b[0m\n",
      "SHARPy output folder set\u001b[0m\n",
      "\u001b[34m\t./output//static/\u001b[0m\n",
      "\u001b[36mGenerating an instance of BeamLoader\u001b[0m\n",
      "\u001b[36mGenerating an instance of AerogridLoader\u001b[0m\n",
      "Variable dx1 has no assigned value in the settings file.\u001b[0m\n",
      "\u001b[34m    will default to the value: -1.0\u001b[0m\n",
      "Variable ndx1 has no assigned value in the settings file.\u001b[0m\n",
      "\u001b[34m    will default to the value: 1\u001b[0m\n",
      "Variable r has no assigned value in the settings file.\u001b[0m\n",
      "\u001b[34m    will default to the value: 1.0\u001b[0m\n",
      "Variable dxmax has no assigned value in the settings file.\u001b[0m\n",
      "\u001b[34m    will default to the value: -1.0\u001b[0m\n",
      "\u001b[34mThe aerodynamic grid contains 1 surfaces\u001b[0m\n",
      "\u001b[34m  Surface 0, M=4, N=20\u001b[0m\n",
      "     Wake 0, M=5750, N=20\u001b[0m\n",
      "  In total: 80 bound panels\u001b[0m\n",
      "  In total: 115000 wake panels\u001b[0m\n",
      "  Total number of panels = 115080\u001b[0m\n"
     ]
    },
    {
     "name": "stderr",
     "output_type": "stream",
     "text": [
      "fatal: not a git repository (or any of the parent directories): .git\n"
     ]
    },
    {
     "name": "stdout",
     "output_type": "stream",
     "text": [
      "\u001b[36mGenerating an instance of StaticCoupled\u001b[0m\n",
      "\u001b[36mGenerating an instance of NonLinearStatic\u001b[0m\n",
      "\u001b[36mGenerating an instance of StaticUvlm\u001b[0m\n",
      "\u001b[0m\n",
      "\u001b[0m\n",
      "\u001b[0m\n",
      "|=====|=====|============|==========|==========|==========|==========|==========|==========|\u001b[0m\n",
      "|iter |step | log10(res) |    Fx    |    Fy    |    Fz    |    Mx    |    My    |    Mz    |\u001b[0m\n",
      "|=====|=====|============|==========|==========|==========|==========|==========|==========|\u001b[0m\n",
      "                      DeltaF      DeltaX         Res      ResRel      ResFrc   ResRelFrc      ResMmt   ResRelMmt         ErX       ErPos       ErPsi\n",
      "LoadStep Subiter      DeltaF     DeltaX          Res      ResRel      ResFrc   ResRelFrc      ResMmt   ResRelMmt         ErX       ErPos       ErPsi\n",
      "|  0  |  0  |  0.00000   |-183.7072 |-835.6037 |3884.3698 |31683.7231| 735.0058 |1529.1149 |\u001b[0m\n",
      "                      DeltaF      DeltaX         Res      ResRel      ResFrc   ResRelFrc      ResMmt   ResRelMmt         ErX       ErPos       ErPsi\n",
      "LoadStep Subiter      DeltaF     DeltaX          Res      ResRel      ResFrc   ResRelFrc      ResMmt   ResRelMmt         ErX       ErPos       ErPsi\n",
      "|  1  |  0  |  -2.76087  |-272.2534 |-1296.7210|4601.7485 |39380.3558| 660.8916 |2434.4781 |\u001b[0m\n",
      "                      DeltaF      DeltaX         Res      ResRel      ResFrc   ResRelFrc      ResMmt   ResRelMmt         ErX       ErPos       ErPsi\n",
      "LoadStep Subiter      DeltaF     DeltaX          Res      ResRel      ResFrc   ResRelFrc      ResMmt   ResRelMmt         ErX       ErPos       ErPsi\n",
      "|  2  |  0  |  -3.76172  |-279.3194 |-1339.5470|4646.4442 |39997.5036| 643.7992 |2521.6842 |\u001b[0m\n",
      "                      DeltaF      DeltaX         Res      ResRel      ResFrc   ResRelFrc      ResMmt   ResRelMmt         ErX       ErPos       ErPsi\n",
      "LoadStep Subiter      DeltaF     DeltaX          Res      ResRel      ResFrc   ResRelFrc      ResMmt   ResRelMmt         ErX       ErPos       ErPsi\n",
      "|  3  |  0  |  -5.75231  |-279.1298 |-1339.6230|4644.7558 |39995.9354| 643.1598 |2521.8295 |\u001b[0m\n",
      "\u001b[36mFINISHED - Elapsed time = 7.6181016 seconds\u001b[0m\n",
      "\u001b[36mFINISHED - CPU process time = 11.0713126 seconds\u001b[0m\n"
     ]
    }
   ],
   "source": [
    "# Running SHARPy again inside jupyter\n",
    "sharpy_output = sharpy.sharpy_main.main(['',\n",
    "                                         SimInfo.solvers['SHARPy']['route'] +\n",
    "                                         SimInfo.solvers['SHARPy']['case'] +\n",
    "                                         '.sharpy'])"
   ]
  },
  {
   "cell_type": "code",
   "execution_count": 24,
   "metadata": {},
   "outputs": [],
   "source": [
    "# pu.plot_timestep(sharpy_output, tstep=-1, minus_mstar=(wake_panels-6), plotly=True)\n"
   ]
  },
  {
   "cell_type": "code",
   "execution_count": 25,
   "metadata": {},
   "outputs": [],
   "source": [
    "SimInfo.solvers['SHARPy']['flow'] = ['BeamLoader',\n",
    "                        'AerogridLoader',\n",
    "                        'StaticCoupled',\n",
    "                        'DynamicCoupled']\n",
    "\n",
    "SimInfo.solvers['SHARPy']['route'] = './'\n",
    "SimInfo.solvers['SHARPy']['case'] = 'dynamic'"
   ]
  },
  {
   "cell_type": "code",
   "execution_count": 26,
   "metadata": {},
   "outputs": [],
   "source": [
    "# Compute the number of time steps needed based on the previous parameters\n",
    "time_steps = int(end_time/dt)\n",
    "\n",
    "# Define the time step and the number of time steps in every solver that requires them as input\n",
    "SimInfo.set_variable_all_dicts('dt', dt)\n",
    "SimInfo.define_num_steps(time_steps)"
   ]
  },
  {
   "cell_type": "code",
   "execution_count": 27,
   "metadata": {},
   "outputs": [],
   "source": [
    "SimInfo.solvers['StepUvlm']['convection_scheme'] = 2\n",
    "SimInfo.solvers['StaticUvlm']['velocity_field_generator'] = 'SteadyVelocityField'\n",
    "SimInfo.solvers['StepUvlm']['velocity_field_input'] = {'u_inf' : WSP,\n",
    "                                                       'u_inf_direction' : np.array(\n",
    "                                                                              [np.cos(aoa_end_deg*deg2rad),\n",
    "                                                                               0.,\n",
    "                                                                               np.sin(aoa_end_deg*deg2rad)])}\n",
    "\n",
    "SimInfo.solvers['NonLinearDynamicPrescribedStep']['gravity_on'] = False\n",
    "\n",
    "SimInfo.solvers['DynamicCoupled']['structural_solver'] = 'NonLinearDynamicPrescribedStep'\n",
    "SimInfo.solvers['DynamicCoupled']['structural_solver_settings'] = SimInfo.solvers['NonLinearDynamicPrescribedStep']\n",
    "SimInfo.solvers['DynamicCoupled']['aero_solver'] = 'StepUvlm'\n",
    "SimInfo.solvers['DynamicCoupled']['aero_solver_settings'] = SimInfo.solvers['StepUvlm']\n",
    "SimInfo.solvers['DynamicCoupled']['postprocessors'] = ['BeamPlot', 'AerogridPlot']\n",
    "SimInfo.solvers['DynamicCoupled']['postprocessors_settings'] = {'BeamPlot': SimInfo.solvers['BeamPlot'],\n",
    "                                                             'AerogridPlot': SimInfo.solvers['AerogridPlot']}\n"
   ]
  },
  {
   "cell_type": "code",
   "execution_count": 28,
   "metadata": {},
   "outputs": [],
   "source": [
    "SimInfo.with_forced_vel = True\n",
    "SimInfo.for_vel = np.zeros((time_steps,6), dtype=float)\n",
    "SimInfo.for_acc = np.zeros((time_steps,6), dtype=float)\n",
    "SimInfo.with_dynamic_forces = True\n",
    "SimInfo.dynamic_forces = np.zeros((time_steps,wing.StructuralInformation.num_node,6),\n",
    "                                  dtype=float)\n",
    "\n"
   ]
  },
  {
   "cell_type": "code",
   "execution_count": 29,
   "metadata": {},
   "outputs": [],
   "source": [
    "gc.clean_test_files(SimInfo.solvers['SHARPy']['route'], SimInfo.solvers['SHARPy']['case'])\n",
    "wing.generate_h5_files(SimInfo.solvers['SHARPy']['route'], SimInfo.solvers['SHARPy']['case'])\n",
    "SimInfo.generate_solver_file()\n",
    "SimInfo.generate_dyn_file(time_steps)"
   ]
  },
  {
   "cell_type": "code",
   "execution_count": null,
   "metadata": {},
   "outputs": [
    {
     "name": "stdout",
     "output_type": "stream",
     "text": [
      "--------------------------------------------------------------------------------\u001b[0m\n",
      "            ######  ##     ##    ###    ########  ########  ##    ##\u001b[0m\n",
      "           ##    ## ##     ##   ## ##   ##     ## ##     ##  ##  ##\u001b[0m\n",
      "           ##       ##     ##  ##   ##  ##     ## ##     ##   ####\u001b[0m\n",
      "            ######  ######### ##     ## ########  ########     ##\u001b[0m\n",
      "                 ## ##     ## ######### ##   ##   ##           ##\u001b[0m\n",
      "           ##    ## ##     ## ##     ## ##    ##  ##           ##\u001b[0m\n",
      "            ######  ##     ## ##     ## ##     ## ##           ##\u001b[0m\n",
      "--------------------------------------------------------------------------------\u001b[0m\n",
      "Aeroelastics Lab, Aeronautics Department.\u001b[0m\n",
      "    Copyright (c), Imperial College London.\u001b[0m\n",
      "    All rights reserved.\u001b[0m\n",
      "    License available at https://github.com/imperialcollegelondon/sharpy\u001b[0m\n",
      "\u001b[36mRunning SHARPy from /home/jesusgp/sharpy/docs/source/content/example_notebooks/HALE_wing_time_marching/Speed_115\u001b[0m\n",
      "\u001b[36mSHARPy being run is in /home/jesusgp/anaconda3/envs/sharpy_env/lib/python3.7/site-packages\u001b[0m\n",
      "SHARPy output folder set\u001b[0m\n",
      "\u001b[34m\t./output//dynamic/\u001b[0m\n",
      "\u001b[36mGenerating an instance of BeamLoader\u001b[0m\n",
      "\u001b[36mGenerating an instance of AerogridLoader\u001b[0m\n",
      "Variable dx1 has no assigned value in the settings file.\u001b[0m\n",
      "\u001b[34m    will default to the value: -1.0\u001b[0m\n",
      "Variable ndx1 has no assigned value in the settings file.\u001b[0m\n",
      "\u001b[34m    will default to the value: 1\u001b[0m\n",
      "Variable r has no assigned value in the settings file.\u001b[0m\n",
      "\u001b[34m    will default to the value: 1.0\u001b[0m\n",
      "Variable dxmax has no assigned value in the settings file.\u001b[0m\n",
      "\u001b[34m    will default to the value: -1.0\u001b[0m\n",
      "\u001b[34mThe aerodynamic grid contains 1 surfaces\u001b[0m\n",
      "\u001b[34m  Surface 0, M=4, N=20\u001b[0m\n",
      "     Wake 0, M=5750, N=20\u001b[0m\n",
      "  In total: 80 bound panels\u001b[0m\n",
      "  In total: 115000 wake panels\u001b[0m\n",
      "  Total number of panels = 115080\u001b[0m\n"
     ]
    },
    {
     "name": "stderr",
     "output_type": "stream",
     "text": [
      "fatal: not a git repository (or any of the parent directories): .git\n"
     ]
    },
    {
     "name": "stdout",
     "output_type": "stream",
     "text": [
      "\u001b[36mGenerating an instance of StaticCoupled\u001b[0m\n",
      "\u001b[36mGenerating an instance of NonLinearStatic\u001b[0m\n",
      "\u001b[36mGenerating an instance of StaticUvlm\u001b[0m\n",
      "\u001b[0m\n",
      "\u001b[0m\n",
      "\u001b[0m\n",
      "|=====|=====|============|==========|==========|==========|==========|==========|==========|\u001b[0m\n",
      "|iter |step | log10(res) |    Fx    |    Fy    |    Fz    |    Mx    |    My    |    Mz    |\u001b[0m\n",
      "|=====|=====|============|==========|==========|==========|==========|==========|==========|\u001b[0m\n",
      "                      DeltaF      DeltaX         Res      ResRel      ResFrc   ResRelFrc      ResMmt   ResRelMmt         ErX       ErPos       ErPsi\n",
      "LoadStep Subiter      DeltaF     DeltaX          Res      ResRel      ResFrc   ResRelFrc      ResMmt   ResRelMmt         ErX       ErPos       ErPsi\n",
      "|  0  |  0  |  0.00000   |-183.7072 |-835.6037 |3884.3698 |31683.7231| 735.0058 |1529.1149 |\u001b[0m\n",
      "                      DeltaF      DeltaX         Res      ResRel      ResFrc   ResRelFrc      ResMmt   ResRelMmt         ErX       ErPos       ErPsi\n",
      "LoadStep Subiter      DeltaF     DeltaX          Res      ResRel      ResFrc   ResRelFrc      ResMmt   ResRelMmt         ErX       ErPos       ErPsi\n",
      "|  1  |  0  |  -2.76087  |-272.2534 |-1296.7210|4601.7485 |39380.3558| 660.8916 |2434.4781 |\u001b[0m\n",
      "                      DeltaF      DeltaX         Res      ResRel      ResFrc   ResRelFrc      ResMmt   ResRelMmt         ErX       ErPos       ErPsi\n",
      "LoadStep Subiter      DeltaF     DeltaX          Res      ResRel      ResFrc   ResRelFrc      ResMmt   ResRelMmt         ErX       ErPos       ErPsi\n",
      "|  2  |  0  |  -3.76172  |-279.3194 |-1339.5470|4646.4442 |39997.5036| 643.7992 |2521.6842 |\u001b[0m\n",
      "                      DeltaF      DeltaX         Res      ResRel      ResFrc   ResRelFrc      ResMmt   ResRelMmt         ErX       ErPos       ErPsi\n",
      "LoadStep Subiter      DeltaF     DeltaX          Res      ResRel      ResFrc   ResRelFrc      ResMmt   ResRelMmt         ErX       ErPos       ErPsi\n",
      "|  3  |  0  |  -5.75231  |-279.1298 |-1339.6230|4644.7558 |39995.9354| 643.1598 |2521.8295 |\u001b[0m\n",
      "\u001b[36mGenerating an instance of DynamicCoupled\u001b[0m\n",
      "\u001b[36mGenerating an instance of NonLinearDynamicPrescribedStep\u001b[0m\n",
      "\u001b[36mGenerating an instance of StepUvlm\u001b[0m\n",
      "\u001b[36mGenerating an instance of BeamPlot\u001b[0m\n",
      "\u001b[36mGenerating an instance of AerogridPlot\u001b[0m\n",
      "\u001b[0m\n",
      "\u001b[0m\n",
      "\u001b[0m\n",
      "|=======|========|======|==============|==============|==============|==============|==============|\u001b[0m\n",
      "|  ts   |   t    | iter | struc ratio  |  iter time   | residual vel |  FoR_vel(x)  |  FoR_vel(z)  |\u001b[0m\n",
      "|=======|========|======|==============|==============|==============|==============|==============|\u001b[0m\n",
      "|   1   | 0.0043 |  7   |   0.008126   |  12.467655   |  -5.378304   | 0.000000e+00 | 0.000000e+00 |\u001b[0m\n",
      "|   2   | 0.0087 |  6   |   0.006922   |  10.953141   |  -5.018273   | 0.000000e+00 | 0.000000e+00 |\u001b[0m\n",
      "|   3   | 0.0130 |  6   |   0.006980   |  10.803488   |  -5.588548   | 0.000000e+00 | 0.000000e+00 |\u001b[0m\n",
      "|   4   | 0.0174 |  6   |   0.007004   |  10.855226   |  -5.764267   | 0.000000e+00 | 0.000000e+00 |\u001b[0m\n",
      "|   5   | 0.0217 |  6   |   0.006972   |  10.721154   |  -5.520733   | 0.000000e+00 | 0.000000e+00 |\u001b[0m\n",
      "|   6   | 0.0261 |  6   |   0.006947   |  10.885963   |  -5.382004   | 0.000000e+00 | 0.000000e+00 |\u001b[0m\n",
      "|   7   | 0.0304 |  6   |   0.006902   |  10.971467   |  -5.363099   | 0.000000e+00 | 0.000000e+00 |\u001b[0m\n",
      "|   8   | 0.0348 |  6   |   0.007272   |  11.113371   |  -5.463477   | 0.000000e+00 | 0.000000e+00 |\u001b[0m\n",
      "|   9   | 0.0391 |  6   |   0.007658   |  10.443250   |  -5.678144   | 0.000000e+00 | 0.000000e+00 |\u001b[0m\n",
      "|  10   | 0.0435 |  5   |   0.007636   |   8.954822   |  -5.282963   | 0.000000e+00 | 0.000000e+00 |\u001b[0m\n",
      "|  11   | 0.0478 |  5   |   0.007143   |   8.937647   |  -5.342680   | 0.000000e+00 | 0.000000e+00 |\u001b[0m\n",
      "|  12   | 0.0522 |  5   |   0.007196   |   8.933000   |  -5.200496   | 0.000000e+00 | 0.000000e+00 |\u001b[0m\n",
      "|  13   | 0.0565 |  5   |   0.007236   |   8.865998   |  -5.357624   | 0.000000e+00 | 0.000000e+00 |\u001b[0m\n",
      "|  14   | 0.0609 |  5   |   0.007187   |   8.842258   |  -5.501685   | 0.000000e+00 | 0.000000e+00 |\u001b[0m\n",
      "|  15   | 0.0652 |  5   |   0.007186   |   8.916581   |  -5.138856   | 0.000000e+00 | 0.000000e+00 |\u001b[0m\n",
      "|  16   | 0.0696 |  5   |   0.007164   |   8.909540   |  -5.013452   | 0.000000e+00 | 0.000000e+00 |\u001b[0m\n",
      "|  17   | 0.0739 |  5   |   0.007115   |   8.901397   |  -5.150943   | 0.000000e+00 | 0.000000e+00 |\u001b[0m\n",
      "|  18   | 0.0783 |  4   |   0.007162   |   7.453402   |  -5.005445   | 0.000000e+00 | 0.000000e+00 |\u001b[0m\n",
      "|  19   | 0.0826 |  5   |   0.007206   |   8.913188   |  -5.132635   | 0.000000e+00 | 0.000000e+00 |\u001b[0m\n",
      "|  20   | 0.0870 |  5   |   0.007161   |   8.926134   |  -5.026505   | 0.000000e+00 | 0.000000e+00 |\u001b[0m\n",
      "|  21   | 0.0913 |  5   |   0.007092   |   8.941420   |  -5.246110   | 0.000000e+00 | 0.000000e+00 |\u001b[0m\n",
      "|  22   | 0.0957 |  5   |   0.007195   |   8.921764   |  -5.586355   | 0.000000e+00 | 0.000000e+00 |\u001b[0m\n",
      "|  23   | 0.1000 |  5   |   0.007161   |   8.939698   |  -5.188319   | 0.000000e+00 | 0.000000e+00 |\u001b[0m\n",
      "|  24   | 0.1043 |  5   |   0.007105   |   8.960833   |  -5.177561   | 0.000000e+00 | 0.000000e+00 |\u001b[0m\n",
      "|  25   | 0.1087 |  5   |   0.007063   |   8.965101   |  -5.498683   | 0.000000e+00 | 0.000000e+00 |\u001b[0m\n",
      "|  26   | 0.1130 |  5   |   0.007119   |   8.915298   |  -5.531012   | 0.000000e+00 | 0.000000e+00 |\u001b[0m\n",
      "|  27   | 0.1174 |  5   |   0.007087   |   8.921830   |  -5.094024   | 0.000000e+00 | 0.000000e+00 |\u001b[0m\n",
      "|  28   | 0.1217 |  6   |   0.007074   |  10.395224   |  -5.718010   | 0.000000e+00 | 0.000000e+00 |\u001b[0m\n",
      "|  29   | 0.1261 |  6   |   0.007104   |  10.378831   |  -5.722674   | 0.000000e+00 | 0.000000e+00 |\u001b[0m\n",
      "|  30   | 0.1304 |  5   |   0.007096   |   8.903315   |  -5.219758   | 0.000000e+00 | 0.000000e+00 |\u001b[0m\n",
      "|  31   | 0.1348 |  5   |   0.007064   |   8.969980   |  -5.695899   | 0.000000e+00 | 0.000000e+00 |\u001b[0m\n",
      "|  32   | 0.1391 |  5   |   0.007172   |   8.935820   |  -5.196139   | 0.000000e+00 | 0.000000e+00 |\u001b[0m\n",
      "|  33   | 0.1435 |  5   |   0.007197   |   8.947392   |  -5.214703   | 0.000000e+00 | 0.000000e+00 |\u001b[0m\n",
      "|  34   | 0.1478 |  5   |   0.007080   |   8.932202   |  -5.467768   | 0.000000e+00 | 0.000000e+00 |\u001b[0m\n",
      "|  35   | 0.1522 |  6   |   0.007565   |  10.431527   |  -5.763536   | 0.000000e+00 | 0.000000e+00 |\u001b[0m\n",
      "|  36   | 0.1565 |  6   |   0.007579   |  10.432111   |  -5.589766   | 0.000000e+00 | 0.000000e+00 |\u001b[0m\n",
      "|  37   | 0.1609 |  6   |   0.007625   |  10.433366   |  -5.650344   | 0.000000e+00 | 0.000000e+00 |\u001b[0m\n",
      "|  38   | 0.1652 |  5   |   0.007616   |   8.961535   |  -5.345394   | 0.000000e+00 | 0.000000e+00 |\u001b[0m\n",
      "|  39   | 0.1696 |  5   |   0.007627   |   8.934199   |  -5.386620   | 0.000000e+00 | 0.000000e+00 |\u001b[0m\n",
      "|  40   | 0.1739 |  5   |   0.007583   |   8.926360   |  -5.123449   | 0.000000e+00 | 0.000000e+00 |\u001b[0m\n",
      "|  41   | 0.1783 |  5   |   0.007179   |   8.927679   |  -5.196432   | 0.000000e+00 | 0.000000e+00 |\u001b[0m\n",
      "|  42   | 0.1826 |  5   |   0.007166   |   8.899717   |  -5.603561   | 0.000000e+00 | 0.000000e+00 |\u001b[0m\n",
      "|  43   | 0.1870 |  5   |   0.013852   |   8.988151   |  -5.369038   | 0.000000e+00 | 0.000000e+00 |\u001b[0m\n",
      "|  44   | 0.1913 |  5   |   0.007146   |   8.897379   |  -5.065075   | 0.000000e+00 | 0.000000e+00 |\u001b[0m\n",
      "|  45   | 0.1957 |  5   |   0.007170   |   8.896275   |  -5.028698   | 0.000000e+00 | 0.000000e+00 |\u001b[0m\n",
      "|  46   | 0.2000 |  5   |   0.007125   |   8.908871   |  -5.248524   | 0.000000e+00 | 0.000000e+00 |\u001b[0m\n",
      "|  47   | 0.2043 |  5   |   0.007148   |   8.894116   |  -5.563638   | 0.000000e+00 | 0.000000e+00 |\u001b[0m\n",
      "|  48   | 0.2087 |  5   |   0.007049   |   8.908275   |  -5.079073   | 0.000000e+00 | 0.000000e+00 |\u001b[0m\n",
      "|  49   | 0.2130 |  6   |   0.007121   |  10.390740   |  -5.718258   | 0.000000e+00 | 0.000000e+00 |\u001b[0m\n",
      "|  50   | 0.2174 |  5   |   0.007075   |   8.923704   |  -5.159889   | 0.000000e+00 | 0.000000e+00 |\u001b[0m\n",
      "|  51   | 0.2217 |  5   |   0.007125   |   8.923316   |  -5.460393   | 0.000000e+00 | 0.000000e+00 |\u001b[0m\n",
      "|  52   | 0.2261 |  6   |   0.007148   |  10.414154   |  -5.755077   | 0.000000e+00 | 0.000000e+00 |\u001b[0m\n",
      "|  53   | 0.2304 |  6   |   0.007076   |  10.418293   |  -5.646301   | 0.000000e+00 | 0.000000e+00 |\u001b[0m\n",
      "|  54   | 0.2348 |  5   |   0.007097   |   8.923679   |  -5.067447   | 0.000000e+00 | 0.000000e+00 |\u001b[0m\n"
     ]
    },
    {
     "name": "stdout",
     "output_type": "stream",
     "text": [
      "|  55   | 0.2391 |  4   |   0.007095   |   7.436302   |  -5.112956   | 0.000000e+00 | 0.000000e+00 |\u001b[0m\n",
      "|  56   | 0.2435 |  5   |   0.007131   |   8.943248   |  -5.305727   | 0.000000e+00 | 0.000000e+00 |\u001b[0m\n",
      "|  57   | 0.2478 |  5   |   0.007096   |   8.954147   |  -5.242098   | 0.000000e+00 | 0.000000e+00 |\u001b[0m\n",
      "|  58   | 0.2522 |  5   |   0.007141   |   8.932123   |  -5.497017   | 0.000000e+00 | 0.000000e+00 |\u001b[0m\n",
      "|  59   | 0.2565 |  5   |   0.007134   |   8.947936   |  -5.362098   | 0.000000e+00 | 0.000000e+00 |\u001b[0m\n",
      "|  60   | 0.2609 |  6   |   0.007072   |  10.386043   |  -5.776408   | 0.000000e+00 | 0.000000e+00 |\u001b[0m\n",
      "|  61   | 0.2652 |  6   |   0.007098   |  10.414675   |  -5.579622   | 0.000000e+00 | 0.000000e+00 |\u001b[0m\n",
      "|  62   | 0.2696 |  6   |   0.007098   |  10.437697   |  -5.563443   | 0.000000e+00 | 0.000000e+00 |\u001b[0m\n",
      "|  63   | 0.2739 |  5   |   0.007112   |   8.892268   |  -5.063506   | 0.000000e+00 | 0.000000e+00 |\u001b[0m\n",
      "|  64   | 0.2783 |  5   |   0.007131   |   8.907840   |  -5.576788   | 0.000000e+00 | 0.000000e+00 |\u001b[0m\n",
      "|  65   | 0.2826 |  5   |   0.007111   |   8.910468   |  -5.016416   | 0.000000e+00 | 0.000000e+00 |\u001b[0m\n",
      "|  66   | 0.2870 |  6   |   0.007092   |  10.378960   |  -5.710437   | 0.000000e+00 | 0.000000e+00 |\u001b[0m\n",
      "|  67   | 0.2913 |  5   |   0.007070   |   8.925030   |  -5.324337   | 0.000000e+00 | 0.000000e+00 |\u001b[0m\n",
      "|  68   | 0.2957 |  5   |   0.007108   |   8.880474   |  -5.337509   | 0.000000e+00 | 0.000000e+00 |\u001b[0m\n",
      "|  69   | 0.3000 |  5   |   0.007133   |   8.885196   |  -5.063756   | 0.000000e+00 | 0.000000e+00 |\u001b[0m\n",
      "|  70   | 0.3043 |  5   |   0.007125   |   8.884458   |  -5.122712   | 0.000000e+00 | 0.000000e+00 |\u001b[0m\n",
      "|  71   | 0.3087 |  5   |   0.007152   |   8.890647   |  -5.547928   | 0.000000e+00 | 0.000000e+00 |\u001b[0m\n",
      "|  72   | 0.3130 |  5   |   0.007104   |   8.896528   |  -5.354488   | 0.000000e+00 | 0.000000e+00 |\u001b[0m\n",
      "|  73   | 0.3174 |  5   |   0.007126   |   8.886729   |  -5.069473   | 0.000000e+00 | 0.000000e+00 |\u001b[0m\n",
      "|  74   | 0.3217 |  5   |   0.007122   |   8.902464   |  -5.025656   | 0.000000e+00 | 0.000000e+00 |\u001b[0m\n",
      "|  75   | 0.3261 |  5   |   0.007106   |   8.902712   |  -5.139752   | 0.000000e+00 | 0.000000e+00 |\u001b[0m\n",
      "|  76   | 0.3304 |  5   |   0.007084   |   8.906497   |  -5.597144   | 0.000000e+00 | 0.000000e+00 |\u001b[0m\n",
      "|  77   | 0.3348 |  5   |   0.007065   |   8.913684   |  -5.047875   | 0.000000e+00 | 0.000000e+00 |\u001b[0m\n",
      "|  78   | 0.3391 |  6   |   0.007104   |  10.399160   |  -5.570172   | 0.000000e+00 | 0.000000e+00 |\u001b[0m\n",
      "|  79   | 0.3435 |  6   |   0.012795   |  10.430578   |  -5.517157   | 0.000000e+00 | 0.000000e+00 |\u001b[0m\n",
      "|  80   | 0.3478 |  6   |   0.007127   |  10.385008   |  -5.716591   | 0.000000e+00 | 0.000000e+00 |\u001b[0m\n",
      "|  81   | 0.3522 |  4   |   0.007097   |   7.446294   |  -5.201957   | 0.000000e+00 | 0.000000e+00 |\u001b[0m\n",
      "|  82   | 0.3565 |  5   |   0.007137   |   8.903352   |  -5.214716   | 0.000000e+00 | 0.000000e+00 |\u001b[0m\n",
      "|  83   | 0.3609 |  5   |   0.007099   |   8.939994   |  -5.273259   | 0.000000e+00 | 0.000000e+00 |\u001b[0m\n",
      "|  84   | 0.3652 |  5   |   0.007113   |   8.886508   |  -5.355195   | 0.000000e+00 | 0.000000e+00 |\u001b[0m\n",
      "|  85   | 0.3696 |  6   |   0.007151   |  10.373564   |  -5.748475   | 0.000000e+00 | 0.000000e+00 |\u001b[0m\n",
      "|  86   | 0.3739 |  6   |   0.007139   |  10.377457   |  -5.643286   | 0.000000e+00 | 0.000000e+00 |\u001b[0m\n",
      "|  87   | 0.3783 |  6   |   0.007102   |  10.358306   |  -5.705047   | 0.000000e+00 | 0.000000e+00 |\u001b[0m\n",
      "|  88   | 0.3826 |  5   |   0.007122   |   8.928446   |  -5.230725   | 0.000000e+00 | 0.000000e+00 |\u001b[0m\n",
      "|  89   | 0.3870 |  5   |   0.007187   |   8.910043   |  -5.608414   | 0.000000e+00 | 0.000000e+00 |\u001b[0m\n",
      "|  90   | 0.3913 |  5   |   0.007070   |   8.914461   |  -5.080652   | 0.000000e+00 | 0.000000e+00 |\u001b[0m\n",
      "|  91   | 0.3957 |  6   |   0.007180   |  10.384487   |  -5.697106   | 0.000000e+00 | 0.000000e+00 |\u001b[0m\n",
      "|  92   | 0.4000 |  6   |   0.007117   |  10.385725   |  -5.666286   | 0.000000e+00 | 0.000000e+00 |\u001b[0m\n",
      "|  93   | 0.4043 |  5   |   0.007110   |   8.886878   |  -5.147481   | 0.000000e+00 | 0.000000e+00 |\u001b[0m\n",
      "|  94   | 0.4087 |  5   |   0.007102   |   8.865712   |  -5.596564   | 0.000000e+00 | 0.000000e+00 |\u001b[0m\n",
      "|  95   | 0.4130 |  5   |   0.007123   |   8.870123   |  -5.042193   | 0.000000e+00 | 0.000000e+00 |\u001b[0m\n",
      "|  96   | 0.4174 |  5   |   0.007098   |   8.913874   |  -5.028478   | 0.000000e+00 | 0.000000e+00 |\u001b[0m\n",
      "|  97   | 0.4217 |  5   |   0.007128   |   8.932218   |  -5.369569   | 0.000000e+00 | 0.000000e+00 |\u001b[0m\n",
      "|  98   | 0.4261 |  5   |   0.007098   |   8.892946   |  -5.455951   | 0.000000e+00 | 0.000000e+00 |\u001b[0m\n",
      "|  99   | 0.4304 |  5   |   0.007063   |   8.978177   |  -5.192217   | 0.000000e+00 | 0.000000e+00 |\u001b[0m\n",
      "|  100  | 0.4348 |  5   |   0.007162   |   8.928843   |  -5.327161   | 0.000000e+00 | 0.000000e+00 |\u001b[0m\n",
      "|  101  | 0.4391 |  5   |   0.007093   |   8.919821   |  -5.266611   | 0.000000e+00 | 0.000000e+00 |\u001b[0m\n",
      "|  102  | 0.4435 |  6   |   0.007086   |  10.433720   |  -5.715899   | 0.000000e+00 | 0.000000e+00 |\u001b[0m\n",
      "|  103  | 0.4478 |  6   |   0.007186   |  10.403659   |  -5.552751   | 0.000000e+00 | 0.000000e+00 |\u001b[0m\n",
      "|  104  | 0.4522 |  6   |   0.007113   |  10.391093   |  -5.493345   | 0.000000e+00 | 0.000000e+00 |\u001b[0m\n",
      "|  105  | 0.4565 |  6   |   0.007100   |  10.382929   |  -5.519684   | 0.000000e+00 | 0.000000e+00 |\u001b[0m\n",
      "|  106  | 0.4609 |  6   |   0.007126   |  10.355716   |  -5.731551   | 0.000000e+00 | 0.000000e+00 |\u001b[0m\n",
      "|  107  | 0.4652 |  5   |   0.007155   |   8.952828   |  -5.620611   | 0.000000e+00 | 0.000000e+00 |\u001b[0m\n",
      "|  108  | 0.4696 |  5   |   0.007123   |   8.917806   |  -5.011915   | 0.000000e+00 | 0.000000e+00 |\u001b[0m\n",
      "|  109  | 0.4739 |  6   |   0.006905   |  11.026635   |  -5.653378   | 0.000000e+00 | 0.000000e+00 |\u001b[0m\n",
      "|  110  | 0.4783 |  5   |   0.006966   |   9.261087   |  -5.094797   | 0.000000e+00 | 0.000000e+00 |\u001b[0m\n",
      "|  111  | 0.4826 |  4   |   0.007026   |   7.488782   |  -5.125727   | 0.000000e+00 | 0.000000e+00 |\u001b[0m\n",
      "|  112  | 0.4870 |  5   |   0.007058   |   8.970912   |  -5.339744   | 0.000000e+00 | 0.000000e+00 |\u001b[0m\n",
      "|  113  | 0.4913 |  5   |   0.006809   |   9.488230   |  -5.444140   | 0.000000e+00 | 0.000000e+00 |\u001b[0m\n",
      "|  114  | 0.4957 |  5   |   0.007101   |   8.966191   |  -5.515786   | 0.000000e+00 | 0.000000e+00 |\u001b[0m\n",
      "|  115  | 0.5000 |  5   |   0.007114   |   8.980251   |  -5.140242   | 0.000000e+00 | 0.000000e+00 |\u001b[0m\n",
      "|  116  | 0.5043 |  5   |   0.006986   |   9.106213   |  -5.048326   | 0.000000e+00 | 0.000000e+00 |\u001b[0m\n",
      "|  117  | 0.5087 |  5   |   0.007099   |   9.010758   |  -5.066256   | 0.000000e+00 | 0.000000e+00 |\u001b[0m\n",
      "|  118  | 0.5130 |  5   |   0.007030   |   8.968692   |  -5.236198   | 0.000000e+00 | 0.000000e+00 |\u001b[0m\n",
      "|  119  | 0.5174 |  5   |   0.006984   |   9.074973   |  -5.482125   | 0.000000e+00 | 0.000000e+00 |\u001b[0m\n",
      "|  120  | 0.5217 |  6   |   0.007014   |  10.506452   |  -5.721684   | 0.000000e+00 | 0.000000e+00 |\u001b[0m\n",
      "|  121  | 0.5261 |  6   |   0.006975   |  10.554755   |  -5.475610   | 0.000000e+00 | 0.000000e+00 |\u001b[0m\n",
      "|  122  | 0.5304 |  6   |   0.006972   |  10.666678   |  -5.371325   | 0.000000e+00 | 0.000000e+00 |\u001b[0m\n",
      "|  123  | 0.5348 |  6   |   0.007111   |  10.422866   |  -5.431814   | 0.000000e+00 | 0.000000e+00 |\u001b[0m\n",
      "|  124  | 0.5391 |  5   |   0.006996   |   9.090826   |  -5.004827   | 0.000000e+00 | 0.000000e+00 |\u001b[0m\n",
      "|  125  | 0.5435 |  5   |   0.007105   |   9.144920   |  -5.676655   | 0.000000e+00 | 0.000000e+00 |\u001b[0m\n",
      "|  126  | 0.5478 |  5   |   0.006960   |   9.207212   |  -5.298474   | 0.000000e+00 | 0.000000e+00 |\u001b[0m\n",
      "|  127  | 0.5522 |  5   |   0.007145   |   9.025625   |  -5.477757   | 0.000000e+00 | 0.000000e+00 |\u001b[0m\n",
      "|  128  | 0.5565 |  5   |   0.006998   |   9.208146   |  -5.590031   | 0.000000e+00 | 0.000000e+00 |\u001b[0m\n",
      "|  129  | 0.5609 |  5   |   0.007011   |   9.090258   |  -5.400669   | 0.000000e+00 | 0.000000e+00 |\u001b[0m\n",
      "|  130  | 0.5652 |  5   |   0.007065   |   8.982053   |  -5.453268   | 0.000000e+00 | 0.000000e+00 |\u001b[0m\n",
      "|  131  | 0.5696 |  5   |   0.007110   |   8.919481   |  -5.513143   | 0.000000e+00 | 0.000000e+00 |\u001b[0m\n",
      "|  132  | 0.5739 |  5   |   0.007042   |   9.052597   |  -5.202629   | 0.000000e+00 | 0.000000e+00 |\u001b[0m\n",
      "|  133  | 0.5783 |  5   |   0.007027   |   9.016403   |  -5.024307   | 0.000000e+00 | 0.000000e+00 |\u001b[0m\n"
     ]
    },
    {
     "name": "stdout",
     "output_type": "stream",
     "text": [
      "|  134  | 0.5826 |  6   |   0.007089   |  10.415112   |  -5.694527   | 0.000000e+00 | 0.000000e+00 |\u001b[0m\n",
      "|  135  | 0.5870 |  6   |   0.012788   |  10.497664   |  -5.616430   | 0.000000e+00 | 0.000000e+00 |\u001b[0m\n",
      "|  136  | 0.5913 |  6   |   0.007040   |  10.439010   |  -5.686140   | 0.000000e+00 | 0.000000e+00 |\u001b[0m\n",
      "|  137  | 0.5957 |  5   |   0.007114   |   8.933511   |  -5.529012   | 0.000000e+00 | 0.000000e+00 |\u001b[0m\n",
      "|  138  | 0.6000 |  6   |   0.007096   |  10.419116   |  -5.679481   | 0.000000e+00 | 0.000000e+00 |\u001b[0m\n",
      "|  139  | 0.6043 |  6   |   0.007083   |  10.424538   |  -5.425286   | 0.000000e+00 | 0.000000e+00 |\u001b[0m\n",
      "|  140  | 0.6087 |  6   |   0.007130   |  10.395191   |  -5.415100   | 0.000000e+00 | 0.000000e+00 |\u001b[0m\n",
      "|  141  | 0.6130 |  6   |   0.007100   |  10.414209   |  -5.543597   | 0.000000e+00 | 0.000000e+00 |\u001b[0m\n",
      "|  142  | 0.6174 |  6   |   0.007112   |  10.424595   |  -5.757619   | 0.000000e+00 | 0.000000e+00 |\u001b[0m\n",
      "|  143  | 0.6217 |  5   |   0.007095   |   8.944633   |  -5.070077   | 0.000000e+00 | 0.000000e+00 |\u001b[0m\n",
      "|  144  | 0.6261 |  5   |   0.007042   |   8.935275   |  -5.104329   | 0.000000e+00 | 0.000000e+00 |\u001b[0m\n",
      "|  145  | 0.6304 |  5   |   0.007068   |   8.920508   |  -5.126514   | 0.000000e+00 | 0.000000e+00 |\u001b[0m\n",
      "|  146  | 0.6348 |  5   |   0.007046   |   8.930795   |  -5.202901   | 0.000000e+00 | 0.000000e+00 |\u001b[0m\n",
      "|  147  | 0.6391 |  5   |   0.007103   |   8.946186   |  -5.228764   | 0.000000e+00 | 0.000000e+00 |\u001b[0m\n",
      "|  148  | 0.6435 |  5   |   0.007120   |   8.912315   |  -5.278212   | 0.000000e+00 | 0.000000e+00 |\u001b[0m\n",
      "|  149  | 0.6478 |  5   |   0.007028   |   8.972640   |  -5.626388   | 0.000000e+00 | 0.000000e+00 |\u001b[0m\n",
      "|  150  | 0.6522 |  5   |   0.007115   |   8.953839   |  -5.145076   | 0.000000e+00 | 0.000000e+00 |\u001b[0m\n",
      "|  151  | 0.6565 |  6   |   0.007043   |  10.511998   |  -5.662519   | 0.000000e+00 | 0.000000e+00 |\u001b[0m\n",
      "|  152  | 0.6609 |  6   |   0.007077   |  10.481624   |  -5.518371   | 0.000000e+00 | 0.000000e+00 |\u001b[0m\n",
      "|  153  | 0.6652 |  6   |   0.007078   |  10.508349   |  -5.513161   | 0.000000e+00 | 0.000000e+00 |\u001b[0m\n",
      "|  154  | 0.6696 |  6   |   0.007049   |  10.472712   |  -5.699758   | 0.000000e+00 | 0.000000e+00 |\u001b[0m\n",
      "|  155  | 0.6739 |  5   |   0.007108   |   8.911651   |  -5.662333   | 0.000000e+00 | 0.000000e+00 |\u001b[0m\n",
      "|  156  | 0.6783 |  5   |   0.007120   |   8.912353   |  -5.077608   | 0.000000e+00 | 0.000000e+00 |\u001b[0m\n",
      "|  157  | 0.6826 |  6   |   0.007101   |  10.445450   |  -5.638791   | 0.000000e+00 | 0.000000e+00 |\u001b[0m\n",
      "|  158  | 0.6870 |  6   |   0.007084   |  10.407870   |  -5.550683   | 0.000000e+00 | 0.000000e+00 |\u001b[0m\n",
      "|  159  | 0.6913 |  6   |   0.007042   |  10.508052   |  -5.511597   | 0.000000e+00 | 0.000000e+00 |\u001b[0m\n",
      "|  160  | 0.6957 |  6   |   0.007063   |  10.517015   |  -5.515852   | 0.000000e+00 | 0.000000e+00 |\u001b[0m\n",
      "|  161  | 0.7000 |  6   |   0.007095   |  10.505479   |  -5.600030   | 0.000000e+00 | 0.000000e+00 |\u001b[0m\n",
      "|  162  | 0.7043 |  6   |   0.007113   |  10.446347   |  -5.735813   | 0.000000e+00 | 0.000000e+00 |\u001b[0m\n",
      "|  163  | 0.7087 |  6   |   0.007058   |  10.452387   |  -5.791928   | 0.000000e+00 | 0.000000e+00 |\u001b[0m\n",
      "|  164  | 0.7130 |  6   |   0.007067   |  10.463316   |  -5.707182   | 0.000000e+00 | 0.000000e+00 |\u001b[0m\n",
      "|  165  | 0.7174 |  6   |   0.007088   |  10.468221   |  -5.624925   | 0.000000e+00 | 0.000000e+00 |\u001b[0m\n",
      "|  166  | 0.7217 |  6   |   0.007054   |  10.435338   |  -5.725416   | 0.000000e+00 | 0.000000e+00 |\u001b[0m\n",
      "|  167  | 0.7261 |  5   |   0.007058   |   9.010473   |  -5.496697   | 0.000000e+00 | 0.000000e+00 |\u001b[0m\n",
      "|  168  | 0.7304 |  6   |   0.007102   |  10.414913   |  -5.743558   | 0.000000e+00 | 0.000000e+00 |\u001b[0m\n",
      "|  169  | 0.7348 |  6   |   0.007032   |  10.478391   |  -5.555842   | 0.000000e+00 | 0.000000e+00 |\u001b[0m\n",
      "|  170  | 0.7391 |  6   |   0.007089   |  10.449426   |  -5.523030   | 0.000000e+00 | 0.000000e+00 |\u001b[0m\n",
      "|  171  | 0.7435 |  6   |   0.007087   |  10.370768   |  -5.562400   | 0.000000e+00 | 0.000000e+00 |\u001b[0m\n",
      "|  172  | 0.7478 |  6   |   0.006954   |  10.546959   |  -5.648732   | 0.000000e+00 | 0.000000e+00 |\u001b[0m\n",
      "|  173  | 0.7522 |  5   |   0.007078   |   9.053613   |  -5.016360   | 0.000000e+00 | 0.000000e+00 |\u001b[0m\n",
      "|  174  | 0.7565 |  5   |   0.007056   |   8.962876   |  -5.576423   | 0.000000e+00 | 0.000000e+00 |\u001b[0m\n",
      "|  175  | 0.7609 |  6   |   0.007080   |  10.409087   |  -5.771016   | 0.000000e+00 | 0.000000e+00 |\u001b[0m\n",
      "|  176  | 0.7652 |  6   |   0.007029   |  10.504769   |  -5.477458   | 0.000000e+00 | 0.000000e+00 |\u001b[0m\n",
      "|  177  | 0.7696 |  6   |   0.007102   |  10.458365   |  -5.421418   | 0.000000e+00 | 0.000000e+00 |\u001b[0m\n",
      "|  178  | 0.7739 |  6   |   0.007025   |  10.455888   |  -5.504216   | 0.000000e+00 | 0.000000e+00 |\u001b[0m\n",
      "|  179  | 0.7783 |  6   |   0.007030   |  10.562932   |  -5.617960   | 0.000000e+00 | 0.000000e+00 |\u001b[0m\n",
      "|  180  | 0.7826 |  6   |   0.007094   |  10.420976   |  -5.611119   | 0.000000e+00 | 0.000000e+00 |\u001b[0m\n",
      "|  181  | 0.7870 |  6   |   0.007064   |  10.443702   |  -5.529083   | 0.000000e+00 | 0.000000e+00 |\u001b[0m\n",
      "|  182  | 0.7913 |  6   |   0.007088   |  10.462073   |  -5.455232   | 0.000000e+00 | 0.000000e+00 |\u001b[0m\n",
      "|  183  | 0.7957 |  6   |   0.007099   |  10.413093   |  -5.526801   | 0.000000e+00 | 0.000000e+00 |\u001b[0m\n",
      "|  184  | 0.8000 |  5   |   0.007018   |   8.993045   |  -5.202358   | 0.000000e+00 | 0.000000e+00 |\u001b[0m\n",
      "|  185  | 0.8043 |  5   |   0.007104   |   8.934682   |  -5.239182   | 0.000000e+00 | 0.000000e+00 |\u001b[0m\n",
      "|  186  | 0.8087 |  6   |   0.007068   |  10.409572   |  -5.754840   | 0.000000e+00 | 0.000000e+00 |\u001b[0m\n",
      "|  187  | 0.8130 |  6   |   0.007011   |  10.405048   |  -5.628363   | 0.000000e+00 | 0.000000e+00 |\u001b[0m\n",
      "|  188  | 0.8174 |  6   |   0.007045   |  10.421340   |  -5.547044   | 0.000000e+00 | 0.000000e+00 |\u001b[0m\n",
      "|  189  | 0.8217 |  6   |   0.007074   |  10.418701   |  -5.483037   | 0.000000e+00 | 0.000000e+00 |\u001b[0m\n",
      "|  190  | 0.8261 |  6   |   0.007068   |  10.432309   |  -5.478043   | 0.000000e+00 | 0.000000e+00 |\u001b[0m\n",
      "|  191  | 0.8304 |  6   |   0.007029   |  10.440791   |  -5.615518   | 0.000000e+00 | 0.000000e+00 |\u001b[0m\n",
      "|  192  | 0.8348 |  5   |   0.007040   |   8.952198   |  -5.501636   | 0.000000e+00 | 0.000000e+00 |\u001b[0m\n",
      "|  193  | 0.8391 |  6   |   0.007106   |  10.449167   |  -5.720400   | 0.000000e+00 | 0.000000e+00 |\u001b[0m\n",
      "|  194  | 0.8435 |  6   |   0.007094   |  10.453274   |  -5.522291   | 0.000000e+00 | 0.000000e+00 |\u001b[0m\n",
      "|  195  | 0.8478 |  6   |   0.007071   |  10.475211   |  -5.512972   | 0.000000e+00 | 0.000000e+00 |\u001b[0m\n",
      "|  196  | 0.8522 |  6   |   0.007007   |  10.441823   |  -5.511829   | 0.000000e+00 | 0.000000e+00 |\u001b[0m\n",
      "|  197  | 0.8565 |  6   |   0.007036   |  10.444436   |  -5.458413   | 0.000000e+00 | 0.000000e+00 |\u001b[0m\n",
      "|  198  | 0.8609 |  6   |   0.007086   |  10.430166   |  -5.419536   | 0.000000e+00 | 0.000000e+00 |\u001b[0m\n",
      "|  199  | 0.8652 |  6   |   0.007144   |  10.255275   |  -5.414526   | 0.000000e+00 | 0.000000e+00 |\u001b[0m\n",
      "|  200  | 0.8696 |  6   |   0.007163   |  10.281243   |  -5.488487   | 0.000000e+00 | 0.000000e+00 |\u001b[0m\n",
      "|  201  | 0.8739 |  6   |   0.007140   |  10.225396   |  -5.639822   | 0.000000e+00 | 0.000000e+00 |\u001b[0m\n",
      "|  202  | 0.8783 |  5   |   0.007096   |   8.938422   |  -5.179196   | 0.000000e+00 | 0.000000e+00 |\u001b[0m\n",
      "|  203  | 0.8826 |  5   |   0.007088   |   8.951589   |  -5.383083   | 0.000000e+00 | 0.000000e+00 |\u001b[0m\n",
      "|  204  | 0.8870 |  6   |   0.007070   |  10.461140   |  -5.776738   | 0.000000e+00 | 0.000000e+00 |\u001b[0m\n",
      "|  205  | 0.8913 |  6   |   0.007069   |  10.469615   |  -5.565605   | 0.000000e+00 | 0.000000e+00 |\u001b[0m\n",
      "|  206  | 0.8957 |  6   |   0.007134   |  10.467330   |  -5.448574   | 0.000000e+00 | 0.000000e+00 |\u001b[0m\n",
      "|  207  | 0.9000 |  6   |   0.007081   |  10.462133   |  -5.428735   | 0.000000e+00 | 0.000000e+00 |\u001b[0m\n",
      "|  208  | 0.9043 |  6   |   0.007066   |  10.411851   |  -5.498311   | 0.000000e+00 | 0.000000e+00 |\u001b[0m\n",
      "|  209  | 0.9087 |  6   |   0.007102   |  10.393075   |  -5.666864   | 0.000000e+00 | 0.000000e+00 |\u001b[0m\n",
      "|  210  | 0.9130 |  5   |   0.007113   |   8.950760   |  -5.175304   | 0.000000e+00 | 0.000000e+00 |\u001b[0m\n",
      "|  211  | 0.9174 |  5   |   0.007085   |   8.967157   |  -5.271641   | 0.000000e+00 | 0.000000e+00 |\u001b[0m\n",
      "|  212  | 0.9217 |  6   |   0.007072   |  10.445295   |  -5.642912   | 0.000000e+00 | 0.000000e+00 |\u001b[0m\n"
     ]
    },
    {
     "name": "stdout",
     "output_type": "stream",
     "text": [
      "|  213  | 0.9261 |  6   |   0.007083   |  10.421754   |  -5.447666   | 0.000000e+00 | 0.000000e+00 |\u001b[0m\n",
      "|  214  | 0.9304 |  6   |   0.007053   |  10.426520   |  -5.368278   | 0.000000e+00 | 0.000000e+00 |\u001b[0m\n",
      "|  215  | 0.9348 |  6   |   0.007066   |  10.546547   |  -5.358781   | 0.000000e+00 | 0.000000e+00 |\u001b[0m\n",
      "|  216  | 0.9391 |  6   |   0.007204   |  10.449870   |  -5.411589   | 0.000000e+00 | 0.000000e+00 |\u001b[0m\n",
      "|  217  | 0.9435 |  6   |   0.007074   |  10.440827   |  -5.469148   | 0.000000e+00 | 0.000000e+00 |\u001b[0m\n",
      "|  218  | 0.9478 |  6   |   0.007080   |  10.429012   |  -5.485996   | 0.000000e+00 | 0.000000e+00 |\u001b[0m\n",
      "|  219  | 0.9522 |  6   |   0.007098   |  10.462953   |  -5.516029   | 0.000000e+00 | 0.000000e+00 |\u001b[0m\n",
      "|  220  | 0.9565 |  5   |   0.006990   |   9.093015   |  -5.067278   | 0.000000e+00 | 0.000000e+00 |\u001b[0m\n",
      "|  221  | 0.9609 |  5   |   0.007093   |   8.994424   |  -5.058577   | 0.000000e+00 | 0.000000e+00 |\u001b[0m\n",
      "|  222  | 0.9652 |  6   |   0.007106   |  10.490829   |  -5.577695   | 0.000000e+00 | 0.000000e+00 |\u001b[0m\n",
      "|  223  | 0.9696 |  6   |   0.012851   |  10.532154   |  -5.480650   | 0.000000e+00 | 0.000000e+00 |\u001b[0m\n",
      "|  224  | 0.9739 |  6   |   0.007058   |  10.469404   |  -5.471573   | 0.000000e+00 | 0.000000e+00 |\u001b[0m\n",
      "|  225  | 0.9783 |  6   |   0.007058   |  10.396958   |  -5.486947   | 0.000000e+00 | 0.000000e+00 |\u001b[0m\n",
      "|  226  | 0.9826 |  6   |   0.007079   |  10.455935   |  -5.508786   | 0.000000e+00 | 0.000000e+00 |\u001b[0m\n",
      "|  227  | 0.9870 |  6   |   0.007005   |  10.493421   |  -5.507971   | 0.000000e+00 | 0.000000e+00 |\u001b[0m\n",
      "|  228  | 0.9913 |  6   |   0.007036   |  10.434452   |  -5.629360   | 0.000000e+00 | 0.000000e+00 |\u001b[0m\n",
      "|  229  | 0.9957 |  5   |   0.007084   |   8.964685   |  -5.172261   | 0.000000e+00 | 0.000000e+00 |\u001b[0m\n",
      "|  230  | 1.0000 |  6   |   0.007075   |  10.494745   |  -5.467501   | 0.000000e+00 | 0.000000e+00 |\u001b[0m\n",
      "|  231  | 1.0043 |  6   |   0.013088   |  10.580597   |  -5.361714   | 0.000000e+00 | 0.000000e+00 |\u001b[0m\n",
      "|  232  | 1.0087 |  6   |   0.007115   |  10.409819   |  -5.360064   | 0.000000e+00 | 0.000000e+00 |\u001b[0m\n",
      "|  233  | 1.0130 |  6   |   0.007025   |  10.423254   |  -5.399869   | 0.000000e+00 | 0.000000e+00 |\u001b[0m\n",
      "|  234  | 1.0174 |  6   |   0.006961   |  10.645038   |  -5.409383   | 0.000000e+00 | 0.000000e+00 |\u001b[0m\n",
      "|  235  | 1.0217 |  6   |   0.007017   |  10.619501   |  -5.389288   | 0.000000e+00 | 0.000000e+00 |\u001b[0m\n",
      "|  236  | 1.0261 |  6   |   0.007005   |  10.456437   |  -5.375601   | 0.000000e+00 | 0.000000e+00 |\u001b[0m\n",
      "|  237  | 1.0304 |  6   |   0.007032   |  10.523518   |  -5.558576   | 0.000000e+00 | 0.000000e+00 |\u001b[0m\n",
      "|  238  | 1.0348 |  5   |   0.006983   |   9.085971   |  -5.090684   | 0.000000e+00 | 0.000000e+00 |\u001b[0m\n",
      "|  239  | 1.0391 |  6   |   0.007041   |  10.522175   |  -5.643796   | 0.000000e+00 | 0.000000e+00 |\u001b[0m\n",
      "|  240  | 1.0435 |  6   |   0.006984   |  10.652719   |  -5.536707   | 0.000000e+00 | 0.000000e+00 |\u001b[0m\n",
      "|  241  | 1.0478 |  6   |   0.007057   |  10.482988   |  -5.532584   | 0.000000e+00 | 0.000000e+00 |\u001b[0m\n",
      "|  242  | 1.0522 |  6   |   0.007041   |  10.561772   |  -5.495070   | 0.000000e+00 | 0.000000e+00 |\u001b[0m\n",
      "|  243  | 1.0565 |  6   |   0.007046   |  10.588436   |  -5.447761   | 0.000000e+00 | 0.000000e+00 |\u001b[0m\n",
      "|  244  | 1.0609 |  6   |   0.006862   |  10.732927   |  -5.413784   | 0.000000e+00 | 0.000000e+00 |\u001b[0m\n",
      "|  245  | 1.0652 |  6   |   0.007060   |  10.518426   |  -5.458823   | 0.000000e+00 | 0.000000e+00 |\u001b[0m\n",
      "|  246  | 1.0696 |  5   |   0.006989   |   9.209422   |  -5.069566   | 0.000000e+00 | 0.000000e+00 |\u001b[0m\n",
      "|  247  | 1.0739 |  6   |   0.007319   |  10.562254   |  -5.685515   | 0.000000e+00 | 0.000000e+00 |\u001b[0m\n",
      "|  248  | 1.0783 |  6   |   0.007108   |  10.577048   |  -5.460848   | 0.000000e+00 | 0.000000e+00 |\u001b[0m\n",
      "|  249  | 1.0826 |  6   |   0.007268   |  10.649344   |  -5.416173   | 0.000000e+00 | 0.000000e+00 |\u001b[0m\n",
      "|  250  | 1.0870 |  6   |   0.007242   |  10.601742   |  -5.393743   | 0.000000e+00 | 0.000000e+00 |\u001b[0m\n",
      "|  251  | 1.0913 |  6   |   0.007026   |  10.777049   |  -5.350134   | 0.000000e+00 | 0.000000e+00 |\u001b[0m\n",
      "|  252  | 1.0957 |  6   |   0.007090   |  10.745878   |  -5.322213   | 0.000000e+00 | 0.000000e+00 |\u001b[0m\n",
      "|  253  | 1.1000 |  6   |   0.007098   |  10.504866   |  -5.337776   | 0.000000e+00 | 0.000000e+00 |\u001b[0m\n",
      "|  254  | 1.1043 |  6   |   0.006654   |  11.157127   |  -5.516833   | 0.000000e+00 | 0.000000e+00 |\u001b[0m\n",
      "|  255  | 1.1087 |  5   |   0.006851   |   9.259610   |  -5.158386   | 0.000000e+00 | 0.000000e+00 |\u001b[0m\n",
      "|  256  | 1.1130 |  6   |   0.006905   |  10.822474   |  -5.688113   | 0.000000e+00 | 0.000000e+00 |\u001b[0m\n",
      "|  257  | 1.1174 |  6   |   0.006932   |  10.772443   |  -5.625978   | 0.000000e+00 | 0.000000e+00 |\u001b[0m\n",
      "|  258  | 1.1217 |  6   |   0.006790   |  10.861309   |  -5.531619   | 0.000000e+00 | 0.000000e+00 |\u001b[0m\n",
      "|  259  | 1.1261 |  6   |   0.006778   |  10.809446   |  -5.476462   | 0.000000e+00 | 0.000000e+00 |\u001b[0m\n",
      "|  260  | 1.1304 |  6   |   0.006640   |  10.821537   |  -5.423915   | 0.000000e+00 | 0.000000e+00 |\u001b[0m\n",
      "|  261  | 1.1348 |  6   |   0.006771   |  10.856223   |  -5.415358   | 0.000000e+00 | 0.000000e+00 |\u001b[0m\n",
      "|  262  | 1.1391 |  6   |   0.006757   |  10.866974   |  -5.459088   | 0.000000e+00 | 0.000000e+00 |\u001b[0m\n",
      "|  263  | 1.1435 |  6   |   0.006726   |  10.853187   |  -5.582049   | 0.000000e+00 | 0.000000e+00 |\u001b[0m\n",
      "|  264  | 1.1478 |  5   |   0.006757   |   9.273951   |  -5.137810   | 0.000000e+00 | 0.000000e+00 |\u001b[0m\n",
      "|  265  | 1.1522 |  6   |   0.006757   |  10.831963   |  -5.714921   | 0.000000e+00 | 0.000000e+00 |\u001b[0m\n",
      "|  266  | 1.1565 |  6   |   0.006977   |  10.793674   |  -5.501908   | 0.000000e+00 | 0.000000e+00 |\u001b[0m\n",
      "|  267  | 1.1609 |  6   |   0.012645   |  10.918944   |  -5.395383   | 0.000000e+00 | 0.000000e+00 |\u001b[0m\n",
      "|  268  | 1.1652 |  6   |   0.006950   |  10.916274   |  -5.331684   | 0.000000e+00 | 0.000000e+00 |\u001b[0m\n",
      "|  269  | 1.1696 |  6   |   0.006859   |  10.982985   |  -5.305250   | 0.000000e+00 | 0.000000e+00 |\u001b[0m\n",
      "|  270  | 1.1739 |  6   |   0.006961   |  10.877289   |  -5.329821   | 0.000000e+00 | 0.000000e+00 |\u001b[0m\n",
      "|  271  | 1.1783 |  6   |   0.006941   |  10.872025   |  -5.437173   | 0.000000e+00 | 0.000000e+00 |\u001b[0m\n",
      "|  272  | 1.1826 |  6   |   0.007040   |  10.837853   |  -5.554413   | 0.000000e+00 | 0.000000e+00 |\u001b[0m\n",
      "|  273  | 1.1870 |  5   |   0.006964   |   9.282001   |  -5.077407   | 0.000000e+00 | 0.000000e+00 |\u001b[0m\n",
      "|  274  | 1.1913 |  6   |   0.006995   |  10.851005   |  -5.599273   | 0.000000e+00 | 0.000000e+00 |\u001b[0m\n",
      "|  275  | 1.1957 |  6   |   0.012809   |  10.928851   |  -5.502297   | 0.000000e+00 | 0.000000e+00 |\u001b[0m\n",
      "|  276  | 1.2000 |  6   |   0.006971   |  10.812855   |  -5.426614   | 0.000000e+00 | 0.000000e+00 |\u001b[0m\n",
      "|  277  | 1.2043 |  6   |   0.007017   |  10.677678   |  -5.417519   | 0.000000e+00 | 0.000000e+00 |\u001b[0m\n",
      "|  278  | 1.2087 |  6   |   0.007027   |  10.697748   |  -5.445010   | 0.000000e+00 | 0.000000e+00 |\u001b[0m\n",
      "|  279  | 1.2130 |  6   |   0.007035   |  10.720183   |  -5.483546   | 0.000000e+00 | 0.000000e+00 |\u001b[0m\n",
      "|  280  | 1.2174 |  6   |   0.007015   |  10.685117   |  -5.503651   | 0.000000e+00 | 0.000000e+00 |\u001b[0m\n",
      "|  281  | 1.2217 |  6   |   0.006991   |  10.734930   |  -5.527144   | 0.000000e+00 | 0.000000e+00 |\u001b[0m\n",
      "|  282  | 1.2261 |  5   |   0.006993   |   9.218502   |  -5.094757   | 0.000000e+00 | 0.000000e+00 |\u001b[0m\n",
      "|  283  | 1.2304 |  6   |   0.007033   |  10.682432   |  -5.585353   | 0.000000e+00 | 0.000000e+00 |\u001b[0m\n",
      "|  284  | 1.2348 |  6   |   0.007023   |  10.667491   |  -5.405973   | 0.000000e+00 | 0.000000e+00 |\u001b[0m\n",
      "|  285  | 1.2391 |  6   |   0.007034   |  10.746516   |  -5.348947   | 0.000000e+00 | 0.000000e+00 |\u001b[0m\n",
      "|  286  | 1.2435 |  6   |   0.007027   |  10.691425   |  -5.337457   | 0.000000e+00 | 0.000000e+00 |\u001b[0m\n",
      "|  287  | 1.2478 |  6   |   0.007077   |  10.667462   |  -5.341503   | 0.000000e+00 | 0.000000e+00 |\u001b[0m\n",
      "|  288  | 1.2522 |  6   |   0.006991   |  10.716292   |  -5.347866   | 0.000000e+00 | 0.000000e+00 |\u001b[0m\n",
      "|  289  | 1.2565 |  6   |   0.007023   |  10.671613   |  -5.390417   | 0.000000e+00 | 0.000000e+00 |\u001b[0m\n",
      "|  290  | 1.2609 |  6   |   0.006980   |  10.738875   |  -5.553682   | 0.000000e+00 | 0.000000e+00 |\u001b[0m\n",
      "|  291  | 1.2652 |  6   |   0.007003   |  10.723059   |  -5.622882   | 0.000000e+00 | 0.000000e+00 |\u001b[0m\n"
     ]
    },
    {
     "name": "stdout",
     "output_type": "stream",
     "text": [
      "|  292  | 1.2696 |  6   |   0.007047   |  10.791723   |  -5.421321   | 0.000000e+00 | 0.000000e+00 |\u001b[0m\n",
      "|  293  | 1.2739 |  6   |   0.007004   |  10.720311   |  -5.408370   | 0.000000e+00 | 0.000000e+00 |\u001b[0m\n",
      "|  294  | 1.2783 |  6   |   0.007058   |  10.852892   |  -5.416937   | 0.000000e+00 | 0.000000e+00 |\u001b[0m\n",
      "|  295  | 1.2826 |  6   |   0.006745   |  11.166439   |  -5.455957   | 0.000000e+00 | 0.000000e+00 |\u001b[0m\n",
      "|  296  | 1.2870 |  6   |   0.007051   |  10.762275   |  -5.472477   | 0.000000e+00 | 0.000000e+00 |\u001b[0m\n",
      "|  297  | 1.2913 |  6   |   0.006948   |  10.824673   |  -5.447575   | 0.000000e+00 | 0.000000e+00 |\u001b[0m\n",
      "|  298  | 1.2957 |  6   |   0.006987   |  10.762703   |  -5.440414   | 0.000000e+00 | 0.000000e+00 |\u001b[0m\n",
      "|  299  | 1.3000 |  6   |   0.006540   |  11.490926   |  -5.628604   | 0.000000e+00 | 0.000000e+00 |\u001b[0m\n",
      "|  300  | 1.3043 |  6   |   0.006715   |  11.237258   |  -5.675421   | 0.000000e+00 | 0.000000e+00 |\u001b[0m\n",
      "|  301  | 1.3087 |  6   |   0.006729   |  11.109321   |  -5.442969   | 0.000000e+00 | 0.000000e+00 |\u001b[0m\n",
      "|  302  | 1.3130 |  6   |   0.006859   |  11.136775   |  -5.396110   | 0.000000e+00 | 0.000000e+00 |\u001b[0m\n",
      "|  303  | 1.3174 |  6   |   0.013028   |  11.201580   |  -5.384868   | 0.000000e+00 | 0.000000e+00 |\u001b[0m\n"
     ]
    }
   ],
   "source": [
    "sharpy_output = sharpy.sharpy_main.main(['',\n",
    "                                         SimInfo.solvers['SHARPy']['route'] +\n",
    "                                         SimInfo.solvers['SHARPy']['case'] +\n",
    "                                         '.sharpy'])"
   ]
  },
  {
   "cell_type": "code",
   "execution_count": null,
   "metadata": {},
   "outputs": [],
   "source": [
    "pu.plot_timestep(sharpy_output, tstep=-400, minus_mstar=(wake_panels-6), plotly=True)"
   ]
  },
  {
   "cell_type": "code",
   "execution_count": null,
   "metadata": {},
   "outputs": [],
   "source": [
    "time = np.linspace(0, dt*time_steps, time_steps)\n",
    "tip_pos = np.zeros((time_steps))\n",
    "for it in range(time_steps):\n",
    "    tip_pos[it] = sharpy_output.structure.timestep_info[it].pos[-1, 2]\n",
    "\n",
    "fig, plots = plt.subplots(1, 1, figsize=(6, 3))\n",
    "\n",
    "plots.grid()\n",
    "plots.set_xlabel(\"time [s]\")\n",
    "plots.set_ylabel(\"tip position [m]\")\n",
    "plots.plot(time, tip_pos, '-')\n",
    "\n",
    "plt.show()\n",
    "\n"
   ]
  },
  {
   "cell_type": "code",
   "execution_count": null,
   "metadata": {},
   "outputs": [],
   "source": [
    "print(sharpy_output.structure.timestep_info)"
   ]
  },
  {
   "cell_type": "code",
   "execution_count": null,
   "metadata": {},
   "outputs": [],
   "source": []
  }
 ],
 "metadata": {
  "kernelspec": {
   "display_name": "Python 3 (ipykernel)",
   "language": "python",
   "name": "python3"
  },
  "language_info": {
   "codemirror_mode": {
    "name": "ipython",
    "version": 3
   },
   "file_extension": ".py",
   "mimetype": "text/x-python",
   "name": "python",
   "nbconvert_exporter": "python",
   "pygments_lexer": "ipython3",
   "version": "3.7.5"
  },
  "vscode": {
   "interpreter": {
    "hash": "d49438a85068a1e5cdecee7d4daf6c817a6e3c5701eb03450a0dbffb1a1d49f1"
   }
  }
 },
 "nbformat": 4,
 "nbformat_minor": 4
}
