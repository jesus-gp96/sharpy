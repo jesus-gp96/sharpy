{
 "cells": [
  {
   "cell_type": "markdown",
   "metadata": {},
   "source": [
    "# LCO study speed 95 m/s\n",
    "\n",
    "This is an example using SHARPy\n",
    "\n",
    "\n"
   ]
  },
  {
   "cell_type": "markdown",
   "metadata": {},
   "source": [
    "## Required Packages"
   ]
  },
  {
   "cell_type": "code",
   "execution_count": 33,
   "metadata": {},
   "outputs": [],
   "source": [
    "# Loading of the used packages\n",
    "import numpy as np              # basic mathematical and array functions\n",
    "import os                       # Functions related to the operating system\n",
    "import matplotlib.pyplot as plt # Plotting library\n",
    "\n",
    "import sharpy.sharpy_main                  # Run SHARPy inside jupyter notebooks\n",
    "import sharpy.utils.plotutils as pu        # Plotting utilities\n",
    "from sharpy.utils.constants import deg2rad # Constant to conver degrees to radians\n",
    "\n",
    "import sharpy.utils.generate_cases as gc"
   ]
  },
  {
   "cell_type": "markdown",
   "metadata": {},
   "source": [
    "## Problem Set-up"
   ]
  },
  {
   "cell_type": "markdown",
   "metadata": {},
   "source": [
    "### Velocity\n",
    "\n",
    "The UVLM is assembled in normalised time at a velocity of $1 m/s$. The only matrices that need updating then with free stream velocity are the structural matrices, which is significantly cheaper to do than to update the UVLM."
   ]
  },
  {
   "cell_type": "code",
   "execution_count": 34,
   "metadata": {},
   "outputs": [
    {
     "name": "stdout",
     "output_type": "stream",
     "text": [
      "Requirement already satisfied: plotly in /home/jesusgp/anaconda3/envs/sharpy_env/lib/python3.7/site-packages (5.10.0)\n",
      "Requirement already satisfied: tenacity>=6.2.0 in /home/jesusgp/anaconda3/envs/sharpy_env/lib/python3.7/site-packages (from plotly) (8.1.0)\n"
     ]
    }
   ],
   "source": [
    "! pip install plotly"
   ]
  },
  {
   "cell_type": "code",
   "execution_count": 36,
   "metadata": {},
   "outputs": [],
   "source": [
    "# Geometry\n",
    "chord = 1.         # Chord of the wing\n",
    "aspect_ratio = 16. # Ratio between lenght and chord: aspect_ratio = length/chord\n",
    "wake_length = 25   # Length of the wake in chord lengths\n",
    "\n",
    "# Discretization\n",
    "num_node = 11           # Number of nodes in the structural discretisation\n",
    "                        # The number of nodes will also define the aerodynamic panels in the\n",
    "                        # spanwise direction\n",
    "num_chord_panels = 2    # Number of aerodynamic panels in the chordwise direction\n",
    "num_points_camber = 100 # The camber line of the wing will be defined by a series of (x,y)\n",
    "                        # coordintes. Here, we define the size of the (x,y) vectors\n",
    "\n",
    "# Structural properties of the beam cross section\n",
    "mass_per_unit_length = 0.75 # Mass per unit length\n",
    "mass_iner_x = 0.1           # Mass inertia around the local x axis\n",
    "mass_iner_y = 0.05          # Mass inertia around the local y axis\n",
    "mass_iner_z = 0.05          # Mass inertia around the local z axis\n",
    "pos_cg_B = np.zeros((3))    # position of the centre of mass with respect to the elastic axis\n",
    "EA = 1e7                    # Axial stiffness\n",
    "GAy = 1e6                   # Shear stiffness in the local y axis\n",
    "GAz = 1e6                   # Shear stiffness in the local z axis\n",
    "GJ = 3e5                    # Torsional stiffness\n",
    "EIy = 6e5                   # Bending stiffness around the flapwise direction\n",
    "EIz = 1.5e8                   # Bending stiffness around the edgewise direction\n",
    "\n",
    "# Operation\n",
    "WSP = 95.             # Wind speed\n",
    "air_density = 0.1      # Air density\n",
    "\n",
    "# Time discretization\n",
    "end_time = 5.0                  # End time of the simulation\n",
    "dt = chord/num_chord_panels/WSP # Always keep one timestep per panel\n",
    "\n"
   ]
  },
  {
   "cell_type": "code",
   "execution_count": 37,
   "metadata": {},
   "outputs": [],
   "source": [
    "aoa_ini_deg = 4.        # Angle of attack at the beginning of the simulation\n",
    "aoa_end_deg = 1.        # Angle of attack at the end of the simulation"
   ]
  },
  {
   "cell_type": "code",
   "execution_count": 38,
   "metadata": {},
   "outputs": [],
   "source": [
    "wing = gc.AeroelasticInformation()"
   ]
  },
  {
   "cell_type": "code",
   "execution_count": 39,
   "metadata": {},
   "outputs": [
    {
     "data": {
      "text/plain": [
       "dict_keys(['num_node_elem', 'num_node', 'num_elem', 'coordinates', 'connectivities', 'elem_stiffness', 'stiffness_db', 'elem_mass', 'mass_db', 'frame_of_reference_delta', 'structural_twist', 'boundary_conditions', 'beam_number', 'body_number', 'app_forces', 'lumped_mass_nodes', 'lumped_mass', 'lumped_mass_inertia', 'lumped_mass_position', 'lumped_mass_mat', 'lumped_mass_mat_nodes'])"
      ]
     },
     "execution_count": 39,
     "metadata": {},
     "output_type": "execute_result"
    }
   ],
   "source": [
    "wing.StructuralInformation.__dict__.keys()"
   ]
  },
  {
   "cell_type": "code",
   "execution_count": 41,
   "metadata": {},
   "outputs": [],
   "source": [
    "# Define the number of nodes and the number of nodes per element\n",
    "wing.StructuralInformation.num_node = num_node\n",
    "wing.StructuralInformation.num_node_elem = 3\n",
    "# Compute the number of elements assuming basic connections\n",
    "wing.StructuralInformation.compute_basic_num_elem()"
   ]
  },
  {
   "cell_type": "code",
   "execution_count": 42,
   "metadata": {},
   "outputs": [
    {
     "name": "stdout",
     "output_type": "stream",
     "text": [
      "[[ 0.   0.   0. ]\n",
      " [ 0.   1.6  0. ]\n",
      " [ 0.   3.2  0. ]\n",
      " [ 0.   4.8  0. ]\n",
      " [ 0.   6.4  0. ]\n",
      " [ 0.   8.   0. ]\n",
      " [ 0.   9.6  0. ]\n",
      " [ 0.  11.2  0. ]\n",
      " [ 0.  12.8  0. ]\n",
      " [ 0.  14.4  0. ]\n",
      " [ 0.  16.   0. ]]\n"
     ]
    }
   ],
   "source": [
    "# Generate an array with the location of the nodes\n",
    "node_r = np.zeros((num_node, 3))\n",
    "node_r[:,1] = np.linspace(0, chord*aspect_ratio, num_node)"
   ]
  },
  {
   "cell_type": "code",
   "execution_count": 43,
   "metadata": {},
   "outputs": [],
   "source": [
    "wing.StructuralInformation.generate_uniform_beam(node_r,\n",
    "                    mass_per_unit_length,\n",
    "                    mass_iner_x,\n",
    "                    mass_iner_y,\n",
    "                    mass_iner_z,\n",
    "                    pos_cg_B,\n",
    "                    EA,\n",
    "                    GAy,\n",
    "                    GAz,\n",
    "                    GJ,\n",
    "                    EIy,\n",
    "                    EIz,\n",
    "                    num_node_elem = wing.StructuralInformation.num_node_elem,\n",
    "                    y_BFoR = 'x_AFoR',\n",
    "                    num_lumped_mass=0)"
   ]
  },
  {
   "cell_type": "code",
   "execution_count": 44,
   "metadata": {},
   "outputs": [
    {
     "name": "stdout",
     "output_type": "stream",
     "text": [
      "[[ 0  2  1]\n",
      " [ 2  4  3]\n",
      " [ 4  6  5]\n",
      " [ 6  8  7]\n",
      " [ 8 10  9]]\n"
     ]
    }
   ],
   "source": [
    "# print(wing.StructuralInformation.connectivities)"
   ]
  },
  {
   "cell_type": "code",
   "execution_count": 45,
   "metadata": {},
   "outputs": [],
   "source": [
    "wing.StructuralInformation.boundary_conditions[0] = 1\n",
    "wing.StructuralInformation.boundary_conditions[-1] = -1"
   ]
  },
  {
   "cell_type": "code",
   "execution_count": 46,
   "metadata": {},
   "outputs": [],
   "source": [
    "# Compute the number of panels in the wake (streamwise direction) based on the previous paramete\n",
    "wake_panels = int(wake_length*chord/dt)\n",
    "\n",
    "# Define the coordinates of the camber line of the wing\n",
    "wing_camber = np.zeros((1, num_points_camber, 2))\n",
    "wing_camber[0, :, 0] = np.linspace(0, 1, num_points_camber)\n",
    "\n"
   ]
  },
  {
   "cell_type": "code",
   "execution_count": 47,
   "metadata": {},
   "outputs": [],
   "source": [
    "# Generate blade aerodynamics\n",
    "wing.AerodynamicInformation.create_one_uniform_aerodynamics(wing.StructuralInformation,\n",
    "                                 chord = chord,\n",
    "                                 twist = 0.,\n",
    "                                 sweep = 0.,\n",
    "                                 num_chord_panels = num_chord_panels,\n",
    "                                 m_distribution = 'uniform',\n",
    "                                 elastic_axis = 0.5,\n",
    "                                 num_points_camber = num_points_camber,\n",
    "                                 airfoil = wing_camber)"
   ]
  },
  {
   "cell_type": "code",
   "execution_count": 48,
   "metadata": {},
   "outputs": [
    {
     "name": "stdout",
     "output_type": "stream",
     "text": [
      "_BaseStructural\n",
      "AerogridLoader\n",
      "BeamLoader\n",
      "DynamicCoupled\n",
      "DynamicUVLM\n",
      "LinDynamicSim\n",
      "LinearAssembler\n",
      "Modal\n",
      "NoAero\n",
      "NonLinearDynamic\n",
      "NonLinearDynamicCoupledStep\n",
      "NonLinearDynamicMultibody\n",
      "NonLinearDynamicPrescribedStep\n",
      "NonLinearStatic\n",
      "PrescribedUvlm\n",
      "RigidDynamicCoupledStep\n",
      "RigidDynamicPrescribedStep\n",
      "StaticCoupled\n",
      "StaticCoupledRBM\n",
      "StaticTrim\n",
      "StaticUvlm\n",
      "StepLinearUVLM\n",
      "StepUvlm\n",
      "_BaseTimeIntegrator\n",
      "NewmarkBeta\n",
      "GeneralisedAlpha\n",
      "Trim\n",
      "UDPout\n",
      "SHARPy\n",
      "SaveData\n",
      "StabilityDerivatives\n",
      "Cleanup\n",
      "FrequencyResponse\n",
      "LiftDistribution\n",
      "PickleData\n",
      "WriteVariablesTime\n",
      "BeamLoads\n",
      "AsymptoticStability\n",
      "AeroForcesCalculator\n",
      "AerogridPlot\n",
      "StallCheck\n",
      "PlotFlowField\n",
      "BeamPlot\n",
      "SaveParametricCase\n",
      "HelicoidalWake\n",
      "TurbVelocityFieldBts\n",
      "TrajectoryGenerator\n",
      "FloatingForces\n",
      "TurbVelocityField\n",
      "ShearVelocityField\n",
      "StraightWake\n",
      "ModifyStructure\n",
      "DynamicControlSurface\n",
      "SteadyVelocityField\n",
      "GridBox\n",
      "GustVelocityField\n",
      "BumpVelocityField\n",
      "PolarCorrection\n",
      "EfficiencyCorrection\n"
     ]
    }
   ],
   "source": [
    "# Gather data about available solvers\n",
    "SimInfo = gc.SimulationInformation() # Initialises the SimulationInformation class\n",
    "SimInfo.set_default_values()         # Assigns the default values to all the solvers\n",
    "\n",
    "# Print the available solvers and postprocessors\n",
    "# for key in SimInfo.solvers.keys():\n",
    "#     print(key)\n",
    "\n"
   ]
  },
  {
   "cell_type": "code",
   "execution_count": 49,
   "metadata": {},
   "outputs": [
    {
     "data": {
      "text/plain": [
       "{'unsteady': True, 'orientation': [1.0, 0, 0, 0], 'for_pos': [0.0, 0, 0]}"
      ]
     },
     "execution_count": 49,
     "metadata": {},
     "output_type": "execute_result"
    }
   ],
   "source": [
    "SimInfo.solvers['BeamLoader']\n",
    "\n"
   ]
  },
  {
   "cell_type": "code",
   "execution_count": 50,
   "metadata": {},
   "outputs": [],
   "source": [
    "SimInfo.solvers['SHARPy']['flow'] = ['BeamLoader',\n",
    "                        'AerogridLoader']\n",
    "\n",
    "SimInfo.solvers['SHARPy']['case'] = 'plot'\n",
    "SimInfo.solvers['SHARPy']['route'] = './'\n",
    "SimInfo.solvers['SHARPy']['write_screen'] = 'off'\n",
    "\n"
   ]
  },
  {
   "cell_type": "code",
   "execution_count": 51,
   "metadata": {},
   "outputs": [],
   "source": [
    "SimInfo.solvers['AerogridLoader']['unsteady'] = 'on'\n",
    "SimInfo.solvers['AerogridLoader']['mstar'] = wake_panels\n",
    "SimInfo.solvers['AerogridLoader']['freestream_dir'] = np.array([1.,0.,0.])\n",
    "SimInfo.solvers['AerogridLoader']['wake_shape_generator'] = 'StraightWake'\n",
    "SimInfo.solvers['AerogridLoader']['wake_shape_generator_input'] = {'u_inf': WSP,\n",
    "                                                                   'u_inf_direction' : np.array(\n",
    "                                                                                         [np.cos(aoa_ini_deg*deg2rad),\n",
    "                                                                                         0.,\n",
    "                                                                                         np.sin(aoa_ini_deg*deg2rad)]),\n",
    "                                                                   'dt': dt}\n",
    "\n"
   ]
  },
  {
   "cell_type": "code",
   "execution_count": 52,
   "metadata": {},
   "outputs": [],
   "source": [
    "gc.clean_test_files(SimInfo.solvers['SHARPy']['route'], SimInfo.solvers['SHARPy']['case'])\n",
    "wing.generate_h5_files(SimInfo.solvers['SHARPy']['route'], SimInfo.solvers['SHARPy']['case'])\n",
    "SimInfo.generate_solver_file()"
   ]
  },
  {
   "cell_type": "code",
   "execution_count": 53,
   "metadata": {},
   "outputs": [
    {
     "name": "stderr",
     "output_type": "stream",
     "text": [
      "fatal: not a git repository (or any of the parent directories): .git\n"
     ]
    }
   ],
   "source": [
    "sharpy_output = sharpy.sharpy_main.main(['',\n",
    "                                         SimInfo.solvers['SHARPy']['route'] +\n",
    "                                         SimInfo.solvers['SHARPy']['case'] +\n",
    "                                         '.sharpy'])\n",
    "\n"
   ]
  },
  {
   "cell_type": "code",
   "execution_count": 54,
   "metadata": {},
   "outputs": [],
   "source": [
    "#pu.plot_timestep(sharpy_output, tstep=-1, minus_mstar=(wake_panels - 6), plotly=True)"
   ]
  },
  {
   "cell_type": "code",
   "execution_count": 55,
   "metadata": {},
   "outputs": [],
   "source": [
    "# Define the simulation\n",
    "SimInfo.solvers['SHARPy']['flow'] = ['BeamLoader',\n",
    "                        'AerogridLoader',\n",
    "                        'StaticCoupled']\n",
    "\n",
    "SimInfo.set_variable_all_dicts('rho', air_density)\n",
    "\n",
    "SimInfo.solvers['SHARPy']['case'] = 'static'\n",
    "SimInfo.solvers['SHARPy']['write_screen'] = 'on'\n",
    "\n",
    "SimInfo.solvers['NonLinearStatic']['gravity_on'] = False\n",
    "\n",
    "SimInfo.solvers['StaticUvlm']['horseshoe'] = True\n",
    "SimInfo.solvers['StaticUvlm']['n_rollup'] = 0\n",
    "SimInfo.solvers['StaticUvlm']['velocity_field_generator'] = 'SteadyVelocityField'\n",
    "SimInfo.solvers['StaticUvlm']['velocity_field_input'] = {'u_inf' : WSP,\n",
    "                                                         'u_inf_direction' : np.array(\n",
    "                                                                                [np.cos(aoa_ini_deg*deg2rad),\n",
    "                                                                                 0.,\n",
    "                                                                                 np.sin(aoa_ini_deg*deg2rad)])}\n",
    "\n",
    "SimInfo.solvers['StaticCoupled']['structural_solver'] = 'NonLinearStatic'\n",
    "SimInfo.solvers['StaticCoupled']['structural_solver_settings'] = SimInfo.solvers['NonLinearStatic']\n",
    "SimInfo.solvers['StaticCoupled']['aero_solver'] = 'StaticUvlm'\n",
    "SimInfo.solvers['StaticCoupled']['aero_solver_settings'] = SimInfo.solvers['StaticUvlm']\n",
    "SimInfo.solvers['StaticCoupled']['n_load_steps'] = 0\n"
   ]
  },
  {
   "cell_type": "code",
   "execution_count": 56,
   "metadata": {},
   "outputs": [],
   "source": [
    "gc.clean_test_files(SimInfo.solvers['SHARPy']['route'], SimInfo.solvers['SHARPy']['case'])\n",
    "SimInfo.generate_solver_file()\n",
    "wing.generate_h5_files(SimInfo.solvers['SHARPy']['route'], SimInfo.solvers['SHARPy']['case'])"
   ]
  },
  {
   "cell_type": "code",
   "execution_count": 57,
   "metadata": {},
   "outputs": [
    {
     "name": "stdout",
     "output_type": "stream",
     "text": [
      "--------------------------------------------------------------------------------\u001b[0m\n",
      "            ######  ##     ##    ###    ########  ########  ##    ##\u001b[0m\n",
      "           ##    ## ##     ##   ## ##   ##     ## ##     ##  ##  ##\u001b[0m\n",
      "           ##       ##     ##  ##   ##  ##     ## ##     ##   ####\u001b[0m\n",
      "            ######  ######### ##     ## ########  ########     ##\u001b[0m\n",
      "                 ## ##     ## ######### ##   ##   ##           ##\u001b[0m\n",
      "           ##    ## ##     ## ##     ## ##    ##  ##           ##\u001b[0m\n",
      "            ######  ##     ## ##     ## ##     ## ##           ##\u001b[0m\n",
      "--------------------------------------------------------------------------------\u001b[0m\n",
      "Aeroelastics Lab, Aeronautics Department.\u001b[0m\n",
      "    Copyright (c), Imperial College London.\u001b[0m\n",
      "    All rights reserved.\u001b[0m\n",
      "    License available at https://github.com/imperialcollegelondon/sharpy\u001b[0m\n",
      "\u001b[36mRunning SHARPy from /home/jesusgp/sharpy/docs/source/content/example_notebooks/HALE_wing\u001b[0m\n",
      "\u001b[36mSHARPy being run is in /home/jesusgp/anaconda3/envs/sharpy_env/lib/python3.7/site-packages\u001b[0m\n",
      "SHARPy output folder set\u001b[0m\n",
      "\u001b[34m\t./output//static/\u001b[0m\n",
      "\u001b[36mGenerating an instance of BeamLoader\u001b[0m\n",
      "\u001b[36mGenerating an instance of AerogridLoader\u001b[0m\n",
      "Variable dx1 has no assigned value in the settings file.\u001b[0m\n",
      "\u001b[34m    will default to the value: -1.0\u001b[0m\n",
      "Variable ndx1 has no assigned value in the settings file.\u001b[0m\n",
      "\u001b[34m    will default to the value: 1\u001b[0m\n",
      "Variable r has no assigned value in the settings file.\u001b[0m\n",
      "\u001b[34m    will default to the value: 1.0\u001b[0m\n",
      "Variable dxmax has no assigned value in the settings file.\u001b[0m\n",
      "\u001b[34m    will default to the value: -1.0\u001b[0m\n",
      "\u001b[34mThe aerodynamic grid contains 1 surfaces\u001b[0m\n",
      "\u001b[34m  Surface 0, M=2, N=10\u001b[0m\n",
      "     Wake 0, M=5000, N=10\u001b[0m\n",
      "  In total: 20 bound panels\u001b[0m\n",
      "  In total: 50000 wake panels\u001b[0m\n",
      "  Total number of panels = 50020\u001b[0m\n"
     ]
    },
    {
     "name": "stderr",
     "output_type": "stream",
     "text": [
      "fatal: not a git repository (or any of the parent directories): .git\n"
     ]
    },
    {
     "name": "stdout",
     "output_type": "stream",
     "text": [
      "\u001b[36mGenerating an instance of StaticCoupled\u001b[0m\n",
      "\u001b[36mGenerating an instance of NonLinearStatic\u001b[0m\n",
      "\u001b[36mGenerating an instance of StaticUvlm\u001b[0m\n",
      "\u001b[0m\n",
      "\u001b[0m\n",
      "\u001b[0m\n",
      "|=====|=====|============|==========|==========|==========|==========|==========|==========|\u001b[0m\n",
      "|iter |step | log10(res) |    Fx    |    Fy    |    Fz    |    Mx    |    My    |    Mz    |\u001b[0m\n",
      "|=====|=====|============|==========|==========|==========|==========|==========|==========|\u001b[0m\n",
      "                      DeltaF      DeltaX         Res      ResRel      ResFrc   ResRelFrc      ResMmt   ResRelMmt         ErX       ErPos       ErPsi\n",
      "LoadStep Subiter      DeltaF     DeltaX          Res      ResRel      ResFrc   ResRelFrc      ResMmt   ResRelMmt         ErX       ErPos       ErPsi\n",
      "|  0  |  0  |  0.00000   |-153.0779 |-496.2513 |3016.7163 |24413.4593| 599.2958 |1259.4229 |\u001b[0m\n",
      "                      DeltaF      DeltaX         Res      ResRel      ResFrc   ResRelFrc      ResMmt   ResRelMmt         ErX       ErPos       ErPsi\n",
      "LoadStep Subiter      DeltaF     DeltaX          Res      ResRel      ResFrc   ResRelFrc      ResMmt   ResRelMmt         ErX       ErPos       ErPsi\n",
      "|  1  |  0  |  -3.08438  |-209.0456 |-715.3252 |3483.5011 |29217.3994| 590.8753 |1834.0510 |\u001b[0m\n",
      "                      DeltaF      DeltaX         Res      ResRel      ResFrc   ResRelFrc      ResMmt   ResRelMmt         ErX       ErPos       ErPsi\n",
      "LoadStep Subiter      DeltaF     DeltaX          Res      ResRel      ResFrc   ResRelFrc      ResMmt   ResRelMmt         ErX       ErPos       ErPsi\n",
      "|  2  |  0  |  -4.02248  |-214.7861 |-739.8573 |3524.9940 |29693.8643| 585.3775 |1899.1520 |\u001b[0m\n",
      "                      DeltaF      DeltaX         Res      ResRel      ResFrc   ResRelFrc      ResMmt   ResRelMmt         ErX       ErPos       ErPsi\n",
      "LoadStep Subiter      DeltaF     DeltaX          Res      ResRel      ResFrc   ResRelFrc      ResMmt   ResRelMmt         ErX       ErPos       ErPsi\n",
      "|  3  |  0  |  -5.18321  |-215.1227 |-741.5024 |3527.3351 |29724.6633| 584.8688 |1903.4883 |\u001b[0m\n",
      "\u001b[36mFINISHED - Elapsed time = 3.3618946 seconds\u001b[0m\n",
      "\u001b[36mFINISHED - CPU process time = 6.6236966 seconds\u001b[0m\n"
     ]
    }
   ],
   "source": [
    "# Running SHARPy again inside jupyter\n",
    "sharpy_output = sharpy.sharpy_main.main(['',\n",
    "                                         SimInfo.solvers['SHARPy']['route'] +\n",
    "                                         SimInfo.solvers['SHARPy']['case'] +\n",
    "                                         '.sharpy'])"
   ]
  },
  {
   "cell_type": "code",
   "execution_count": 58,
   "metadata": {},
   "outputs": [
    {
     "data": {
      "application/vnd.plotly.v1+json": {
       "config": {
        "plotlyServerURL": "https://plot.ly"
       },
       "data": [
        {
         "line": {
          "color": "grey"
         },
         "mode": "lines",
         "name": "Aero surface",
         "surfaceaxis": 2,
         "type": "scatter3d",
         "x": [
          -0.3750000000000001,
          0.12500000000000003,
          0.12471291254908567,
          -0.3752819073914405,
          -0.3750000000000001
         ],
         "y": [
          -6.108137611629605e-18,
          2.0360458705432016e-18,
          1.5987447917692126,
          1.5970447666771168,
          -6.108137611629605e-18
         ],
         "z": [
          -3.2473352108830995e-17,
          1.0824450702943665e-17,
          0.06442754442094556,
          0.06594080161228966,
          -3.2473352108830995e-17
         ]
        },
        {
         "line": {
          "color": "grey"
         },
         "mode": "lines",
         "showlegend": false,
         "surfaceaxis": 2,
         "type": "scatter3d",
         "x": [
          -0.3752819073914405,
          0.12471291254908567,
          0.12475049239138303,
          -0.3752280198324346,
          -0.3752819073914405
         ],
         "y": [
          1.5970447666771168,
          1.5987447917692126,
          3.1900228830000694,
          3.18642526416462,
          1.5970447666771168
         ],
         "z": [
          0.06594080161228966,
          0.06442754442094556,
          0.23223110603798675,
          0.2351541957000681,
          0.06594080161228966
         ]
        },
        {
         "line": {
          "color": "grey"
         },
         "mode": "lines",
         "showlegend": false,
         "surfaceaxis": 2,
         "type": "scatter3d",
         "x": [
          -0.3752280198324346,
          0.12475049239138303,
          0.12533464640421535,
          -0.374618558865596,
          -0.3752280198324346
         ],
         "y": [
          3.18642526416462,
          3.1900228830000694,
          4.770866585406132,
          4.76540585592968,
          3.18642526416462
         ],
         "z": [
          0.2351541957000681,
          0.23223110603798675,
          0.48088401727152985,
          0.4850038442129048,
          0.2351541957000681
         ]
        },
        {
         "line": {
          "color": "grey"
         },
         "mode": "lines",
         "showlegend": false,
         "surfaceaxis": 2,
         "type": "scatter3d",
         "x": [
          -0.374618558865596,
          0.12533464640421535,
          0.12656032220828992,
          -0.37336017886562084,
          -0.374618558865596
         ],
         "y": [
          4.76540585592968,
          4.770866585406132,
          6.3407159799241075,
          6.333450935876906,
          4.76540585592968
         ],
         "z": [
          0.4850038442129048,
          0.48088401727152985,
          0.7914430165727047,
          0.7966113568287424,
          0.4850038442129048
         ]
        },
        {
         "line": {
          "color": "grey"
         },
         "mode": "lines",
         "showlegend": false,
         "surfaceaxis": 2,
         "type": "scatter3d",
         "x": [
          -0.37336017886562084,
          0.12656032220828992,
          0.12840469430268917,
          -0.37148163106278376,
          -0.37336017886562084
         ],
         "y": [
          6.333450935876906,
          6.3407159799241075,
          7.901167557776862,
          7.892355990265397,
          6.333450935876906
         ],
         "z": [
          0.7966113568287424,
          0.7914430165727047,
          1.1463269192471,
          1.152328418276135,
          0.7966113568287424
         ]
        },
        {
         "line": {
          "color": "grey"
         },
         "mode": "lines",
         "showlegend": false,
         "surfaceaxis": 2,
         "type": "scatter3d",
         "x": [
          -0.37148163106278376,
          0.12840469430268917,
          0.13077463389585856,
          -0.36907670457522335,
          -0.37148163106278376
         ],
         "y": [
          7.892355990265397,
          7.901167557776862,
          9.454239923242124,
          9.444064647345416,
          7.892355990265397
         ],
         "z": [
          1.152328418276135,
          1.1463269192471,
          1.5320667323559114,
          1.5387826231452006,
          1.152328418276135
         ]
        },
        {
         "line": {
          "color": "grey"
         },
         "mode": "lines",
         "showlegend": false,
         "surfaceaxis": 2,
         "type": "scatter3d",
         "x": [
          -0.36907670457522335,
          0.13077463389585856,
          0.1335424186352248,
          -0.36628029097933656,
          -0.36907670457522335
         ],
         "y": [
          9.444064647345416,
          9.454239923242124,
          11.002481755280268,
          10.991303470013644,
          9.444064647345416
         ],
         "z": [
          1.5387826231452006,
          1.5320667323559114,
          1.9365476338306338,
          1.9437798459442173,
          1.5387826231452006
         ]
        },
        {
         "line": {
          "color": "grey"
         },
         "mode": "lines",
         "showlegend": false,
         "surfaceaxis": 2,
         "type": "scatter3d",
         "x": [
          -0.36628029097933656,
          0.1335424186352248,
          0.13656440316197452,
          -0.3632342499282475,
          -0.36628029097933656
         ],
         "y": [
          10.991303470013644,
          11.002481755280268,
          12.547820339033269,
          12.535865779769741,
          10.991303470013644
         ],
         "z": [
          1.9437798459442173,
          1.9365476338306338,
          2.3517947612794794,
          2.3594364156824703,
          1.9437798459442173
         ]
        },
        {
         "line": {
          "color": "grey"
         },
         "mode": "lines",
         "showlegend": false,
         "surfaceaxis": 2,
         "type": "scatter3d",
         "x": [
          -0.3632342499282475,
          0.13656440316197452,
          0.13973398074458,
          -0.3600519227259521,
          -0.3632342499282475
         ],
         "y": [
          12.535865779769741,
          12.547820339033269,
          14.091985227144356,
          14.07963960251206,
          12.535865779769741
         ],
         "z": [
          2.3594364156824703,
          2.3517947612794794,
          2.771089893404402,
          2.778940768806704,
          2.3594364156824703
         ]
        },
        {
         "line": {
          "color": "grey"
         },
         "mode": "lines",
         "showlegend": false,
         "surfaceaxis": 2,
         "type": "scatter3d",
         "x": [
          -0.3600519227259521,
          0.13973398074458,
          0.14296499496162673,
          -0.3568150611678447,
          -0.3600519227259521
         ],
         "y": [
          14.07963960251206,
          14.091985227144356,
          15.635752894334065,
          15.623233589757982,
          14.07963960251206
         ],
         "z": [
          2.778940768806704,
          2.771089893404402,
          3.191672843951623,
          3.1996203283431535,
          2.778940768806704
         ]
        },
        {
         "line": {
          "color": "grey"
         },
         "mode": "lines",
         "showlegend": false,
         "surfaceaxis": 2,
         "type": "scatter3d",
         "x": [
          0.12500000000000003,
          0.6250000000000001,
          0.6247077324896119,
          0.12471291254908567,
          0.12500000000000003
         ],
         "y": [
          2.0360458705432016e-18,
          1.0180229352716008e-17,
          1.6004448168613084,
          1.5987447917692126,
          2.0360458705432016e-18
         ],
         "z": [
          1.0824450702943665e-17,
          5.412225351471832e-17,
          0.06291428722960146,
          0.06442754442094556,
          1.0824450702943665e-17
         ]
        },
        {
         "line": {
          "color": "grey"
         },
         "mode": "lines",
         "showlegend": false,
         "surfaceaxis": 2,
         "type": "scatter3d",
         "x": [
          0.12471291254908567,
          0.6247077324896119,
          0.6247290046152008,
          0.12475049239138303,
          0.12471291254908567
         ],
         "y": [
          1.5987447917692126,
          1.6004448168613084,
          3.193620501835519,
          3.1900228830000694,
          1.5987447917692126
         ],
         "z": [
          0.06442754442094556,
          0.06291428722960146,
          0.2293080163759054,
          0.23223110603798675,
          0.06442754442094556
         ]
        },
        {
         "line": {
          "color": "grey"
         },
         "mode": "lines",
         "showlegend": false,
         "surfaceaxis": 2,
         "type": "scatter3d",
         "x": [
          0.12475049239138303,
          0.6247290046152008,
          0.6252878516740267,
          0.12533464640421535,
          0.12475049239138303
         ],
         "y": [
          3.1900228830000694,
          3.193620501835519,
          4.776327314882584,
          4.770866585406132,
          3.1900228830000694
         ],
         "z": [
          0.23223110603798675,
          0.2293080163759054,
          0.4767641903301549,
          0.48088401727152985,
          0.23223110603798675
         ]
        },
        {
         "line": {
          "color": "grey"
         },
         "mode": "lines",
         "showlegend": false,
         "surfaceaxis": 2,
         "type": "scatter3d",
         "x": [
          0.12533464640421535,
          0.6252878516740267,
          0.6264808232822007,
          0.12656032220828992,
          0.12533464640421535
         ],
         "y": [
          4.770866585406132,
          4.776327314882584,
          6.347981023971309,
          6.3407159799241075,
          4.770866585406132
         ],
         "z": [
          0.48088401727152985,
          0.4767641903301549,
          0.7862746763166669,
          0.7914430165727047,
          0.48088401727152985
         ]
        },
        {
         "line": {
          "color": "grey"
         },
         "mode": "lines",
         "showlegend": false,
         "surfaceaxis": 2,
         "type": "scatter3d",
         "x": [
          0.12656032220828992,
          0.6264808232822007,
          0.628291019668162,
          0.12840469430268917,
          0.12656032220828992
         ],
         "y": [
          6.3407159799241075,
          6.347981023971309,
          7.909979125288327,
          7.901167557776862,
          6.3407159799241075
         ],
         "z": [
          0.7914430165727047,
          0.7862746763166669,
          1.1403254202180648,
          1.1463269192471,
          0.7914430165727047
         ]
        },
        {
         "line": {
          "color": "grey"
         },
         "mode": "lines",
         "showlegend": false,
         "surfaceaxis": 2,
         "type": "scatter3d",
         "x": [
          0.12840469430268917,
          0.628291019668162,
          0.6306259723669405,
          0.13077463389585856,
          0.12840469430268917
         ],
         "y": [
          7.901167557776862,
          7.909979125288327,
          9.464415199138832,
          9.454239923242124,
          7.901167557776862
         ],
         "z": [
          1.1463269192471,
          1.1403254202180648,
          1.5253508415666222,
          1.5320667323559114,
          1.1463269192471
         ]
        },
        {
         "line": {
          "color": "grey"
         },
         "mode": "lines",
         "showlegend": false,
         "surfaceaxis": 2,
         "type": "scatter3d",
         "x": [
          0.13077463389585856,
          0.6306259723669405,
          0.6333651282497862,
          0.1335424186352248,
          0.13077463389585856
         ],
         "y": [
          9.454239923242124,
          9.464415199138832,
          11.013660040546892,
          11.002481755280268,
          9.454239923242124
         ],
         "z": [
          1.5320667323559114,
          1.5253508415666222,
          1.9293154217170503,
          1.9365476338306338,
          1.5320667323559114
         ]
        },
        {
         "line": {
          "color": "grey"
         },
         "mode": "lines",
         "showlegend": false,
         "surfaceaxis": 2,
         "type": "scatter3d",
         "x": [
          0.1335424186352248,
          0.6333651282497862,
          0.6363630562521966,
          0.13656440316197452,
          0.1335424186352248
         ],
         "y": [
          11.002481755280268,
          11.013660040546892,
          12.559774898296796,
          12.547820339033269,
          11.002481755280268
         ],
         "z": [
          1.9365476338306338,
          1.9293154217170503,
          2.3441531068764885,
          2.3517947612794794,
          1.9365476338306338
         ]
        },
        {
         "line": {
          "color": "grey"
         },
         "mode": "lines",
         "showlegend": false,
         "surfaceaxis": 2,
         "type": "scatter3d",
         "x": [
          0.13656440316197452,
          0.6363630562521966,
          0.6395198842151122,
          0.13973398074458,
          0.13656440316197452
         ],
         "y": [
          12.547820339033269,
          12.559774898296796,
          14.104330851776652,
          14.091985227144356,
          12.547820339033269
         ],
         "z": [
          2.3517947612794794,
          2.3441531068764885,
          2.7632390180021,
          2.771089893404402,
          2.3517947612794794
         ]
        },
        {
         "line": {
          "color": "grey"
         },
         "mode": "lines",
         "showlegend": false,
         "surfaceaxis": 2,
         "type": "scatter3d",
         "x": [
          0.13973398074458,
          0.6395198842151122,
          0.6427450510910983,
          0.14296499496162673,
          0.13973398074458
         ],
         "y": [
          14.091985227144356,
          14.104330851776652,
          15.648272198910147,
          15.635752894334065,
          14.091985227144356
         ],
         "z": [
          2.771089893404402,
          2.7632390180021,
          3.1837253595600923,
          3.191672843951623,
          2.771089893404402
         ]
        },
        {
         "line": {
          "color": "black"
         },
         "mode": "lines",
         "showlegend": false,
         "type": "scatter3d",
         "x": [
          -0.3750000000000001,
          -0.3752819073914405,
          -0.3752280198324346,
          -0.374618558865596,
          -0.37336017886562084,
          -0.37148163106278376,
          -0.36907670457522335,
          -0.36628029097933656,
          -0.3632342499282475,
          -0.3600519227259521,
          -0.3568150611678447
         ],
         "y": [
          -6.108137611629605e-18,
          1.5970447666771168,
          3.18642526416462,
          4.76540585592968,
          6.333450935876906,
          7.892355990265397,
          9.444064647345416,
          10.991303470013644,
          12.535865779769741,
          14.07963960251206,
          15.623233589757982
         ],
         "z": [
          -3.2473352108830995e-17,
          0.06594080161228966,
          0.2351541957000681,
          0.4850038442129048,
          0.7966113568287424,
          1.152328418276135,
          1.5387826231452006,
          1.9437798459442173,
          2.3594364156824703,
          2.778940768806704,
          3.1996203283431535
         ]
        },
        {
         "line": {
          "color": "black"
         },
         "mode": "lines",
         "showlegend": false,
         "type": "scatter3d",
         "x": [
          0.12500000000000003,
          0.12471291254908567,
          0.12475049239138303,
          0.12533464640421535,
          0.12656032220828992,
          0.12840469430268917,
          0.13077463389585856,
          0.1335424186352248,
          0.13656440316197452,
          0.13973398074458,
          0.14296499496162673
         ],
         "y": [
          2.0360458705432016e-18,
          1.5987447917692126,
          3.1900228830000694,
          4.770866585406132,
          6.3407159799241075,
          7.901167557776862,
          9.454239923242124,
          11.002481755280268,
          12.547820339033269,
          14.091985227144356,
          15.635752894334065
         ],
         "z": [
          1.0824450702943665e-17,
          0.06442754442094556,
          0.23223110603798675,
          0.48088401727152985,
          0.7914430165727047,
          1.1463269192471,
          1.5320667323559114,
          1.9365476338306338,
          2.3517947612794794,
          2.771089893404402,
          3.191672843951623
         ]
        },
        {
         "line": {
          "color": "black"
         },
         "mode": "lines",
         "showlegend": false,
         "type": "scatter3d",
         "x": [
          0.6250000000000001,
          0.6247077324896119,
          0.6247290046152008,
          0.6252878516740267,
          0.6264808232822007,
          0.628291019668162,
          0.6306259723669405,
          0.6333651282497862,
          0.6363630562521966,
          0.6395198842151122,
          0.6427450510910983
         ],
         "y": [
          1.0180229352716008e-17,
          1.6004448168613084,
          3.193620501835519,
          4.776327314882584,
          6.347981023971309,
          7.909979125288327,
          9.464415199138832,
          11.013660040546892,
          12.559774898296796,
          14.104330851776652,
          15.648272198910147
         ],
         "z": [
          5.412225351471832e-17,
          0.06291428722960146,
          0.2293080163759054,
          0.4767641903301549,
          0.7862746763166669,
          1.1403254202180648,
          1.5253508415666222,
          1.9293154217170503,
          2.3441531068764885,
          2.7632390180021,
          3.1837253595600923
         ]
        },
        {
         "line": {
          "color": "black"
         },
         "mode": "lines",
         "showlegend": false,
         "type": "scatter3d",
         "x": [
          -0.3750000000000001,
          0.12500000000000003,
          0.6250000000000001
         ],
         "y": [
          -6.108137611629605e-18,
          2.0360458705432016e-18,
          1.0180229352716008e-17
         ],
         "z": [
          -3.2473352108830995e-17,
          1.0824450702943665e-17,
          5.412225351471832e-17
         ]
        },
        {
         "line": {
          "color": "black"
         },
         "mode": "lines",
         "showlegend": false,
         "type": "scatter3d",
         "x": [
          -0.3752819073914405,
          0.12471291254908567,
          0.6247077324896119
         ],
         "y": [
          1.5970447666771168,
          1.5987447917692126,
          1.6004448168613084
         ],
         "z": [
          0.06594080161228966,
          0.06442754442094556,
          0.06291428722960146
         ]
        },
        {
         "line": {
          "color": "black"
         },
         "mode": "lines",
         "showlegend": false,
         "type": "scatter3d",
         "x": [
          -0.3752280198324346,
          0.12475049239138303,
          0.6247290046152008
         ],
         "y": [
          3.18642526416462,
          3.1900228830000694,
          3.193620501835519
         ],
         "z": [
          0.2351541957000681,
          0.23223110603798675,
          0.2293080163759054
         ]
        },
        {
         "line": {
          "color": "black"
         },
         "mode": "lines",
         "showlegend": false,
         "type": "scatter3d",
         "x": [
          -0.374618558865596,
          0.12533464640421535,
          0.6252878516740267
         ],
         "y": [
          4.76540585592968,
          4.770866585406132,
          4.776327314882584
         ],
         "z": [
          0.4850038442129048,
          0.48088401727152985,
          0.4767641903301549
         ]
        },
        {
         "line": {
          "color": "black"
         },
         "mode": "lines",
         "showlegend": false,
         "type": "scatter3d",
         "x": [
          -0.37336017886562084,
          0.12656032220828992,
          0.6264808232822007
         ],
         "y": [
          6.333450935876906,
          6.3407159799241075,
          6.347981023971309
         ],
         "z": [
          0.7966113568287424,
          0.7914430165727047,
          0.7862746763166669
         ]
        },
        {
         "line": {
          "color": "black"
         },
         "mode": "lines",
         "showlegend": false,
         "type": "scatter3d",
         "x": [
          -0.37148163106278376,
          0.12840469430268917,
          0.628291019668162
         ],
         "y": [
          7.892355990265397,
          7.901167557776862,
          7.909979125288327
         ],
         "z": [
          1.152328418276135,
          1.1463269192471,
          1.1403254202180648
         ]
        },
        {
         "line": {
          "color": "black"
         },
         "mode": "lines",
         "showlegend": false,
         "type": "scatter3d",
         "x": [
          -0.36907670457522335,
          0.13077463389585856,
          0.6306259723669405
         ],
         "y": [
          9.444064647345416,
          9.454239923242124,
          9.464415199138832
         ],
         "z": [
          1.5387826231452006,
          1.5320667323559114,
          1.5253508415666222
         ]
        },
        {
         "line": {
          "color": "black"
         },
         "mode": "lines",
         "showlegend": false,
         "type": "scatter3d",
         "x": [
          -0.36628029097933656,
          0.1335424186352248,
          0.6333651282497862
         ],
         "y": [
          10.991303470013644,
          11.002481755280268,
          11.013660040546892
         ],
         "z": [
          1.9437798459442173,
          1.9365476338306338,
          1.9293154217170503
         ]
        },
        {
         "line": {
          "color": "black"
         },
         "mode": "lines",
         "showlegend": false,
         "type": "scatter3d",
         "x": [
          -0.3632342499282475,
          0.13656440316197452,
          0.6363630562521966
         ],
         "y": [
          12.535865779769741,
          12.547820339033269,
          12.559774898296796
         ],
         "z": [
          2.3594364156824703,
          2.3517947612794794,
          2.3441531068764885
         ]
        },
        {
         "line": {
          "color": "black"
         },
         "mode": "lines",
         "showlegend": false,
         "type": "scatter3d",
         "x": [
          -0.3600519227259521,
          0.13973398074458,
          0.6395198842151122
         ],
         "y": [
          14.07963960251206,
          14.091985227144356,
          14.104330851776652
         ],
         "z": [
          2.778940768806704,
          2.771089893404402,
          2.7632390180021
         ]
        },
        {
         "line": {
          "color": "black"
         },
         "mode": "lines",
         "showlegend": false,
         "type": "scatter3d",
         "x": [
          -0.3568150611678447,
          0.14296499496162673,
          0.6427450510910983
         ],
         "y": [
          15.623233589757982,
          15.635752894334065,
          15.648272198910147
         ],
         "z": [
          3.1996203283431535,
          3.191672843951623,
          3.1837253595600923
         ]
        },
        {
         "line": {
          "color": "lightskyblue"
         },
         "mode": "lines",
         "name": "Aero wake",
         "surfaceaxis": 2,
         "type": "scatter3d",
         "x": [
          0.6250000000000001,
          1.1237820250000001,
          1.1234903019578533,
          0.6247082769578531,
          0.6250000000000001
         ],
         "y": [
          1.0180229352716008e-17,
          1.0180229352716008e-17,
          1.6004491739305713,
          1.6004491739305713,
          1.0180229352716008e-17
         ],
         "z": [
          5.412225351471832e-17,
          0.034878235000000056,
          0.09772476626293475,
          0.06284653126293474,
          5.412225351471832e-17
         ]
        },
        {
         "line": {
          "color": "lightskyblue"
         },
         "mode": "lines",
         "showlegend": false,
         "surfaceaxis": 2,
         "type": "scatter3d",
         "x": [
          0.6247082769578531,
          1.1234903019578533,
          1.1235119555669009,
          0.624729930566901,
          0.6247082769578531
         ],
         "y": [
          1.6004491739305713,
          1.6004491739305713,
          3.193644198216304,
          3.193644198216304,
          1.6004491739305713
         ],
         "z": [
          0.06284653126293474,
          0.09772476626293475,
          0.263937691787479,
          0.22905945678747902,
          0.06284653126293474
         ]
        },
        {
         "line": {
          "color": "lightskyblue"
         },
         "mode": "lines",
         "showlegend": false,
         "surfaceaxis": 2,
         "type": "scatter3d",
         "x": [
          0.624729930566901,
          1.1235119555669009,
          1.1240707248795339,
          0.625288699879534,
          0.624729930566901
         ],
         "y": [
          3.193644198216304,
          3.193644198216304,
          4.776393179361209,
          4.776393179361209,
          3.193644198216304
         ],
         "z": [
          0.22905945678747902,
          0.263937691787479,
          0.5111186403929551,
          0.4762404053929551,
          0.22905945678747902
         ]
        },
        {
         "line": {
          "color": "lightskyblue"
         },
         "mode": "lines",
         "showlegend": false,
         "surfaceaxis": 2,
         "type": "scatter3d",
         "x": [
          0.625288699879534,
          1.1240707248795339,
          1.1252628235062359,
          0.626480798506236,
          0.625288699879534
         ],
         "y": [
          4.776393179361209,
          4.776393179361209,
          6.3481145817053655,
          6.3481145817053655,
          4.776393179361209
         ],
         "z": [
          0.4762404053929551,
          0.5111186403929551,
          0.8202783139365032,
          0.7854000789365032,
          0.4762404053929551
         ]
        },
        {
         "line": {
          "color": "lightskyblue"
         },
         "mode": "lines",
         "showlegend": false,
         "surfaceaxis": 2,
         "type": "scatter3d",
         "x": [
          0.626480798506236,
          1.1252628235062359,
          1.1270712570078865,
          0.6282892320078866,
          0.626480798506236
         ],
         "y": [
          6.3481145817053655,
          6.3481145817053655,
          7.9102033615882466,
          7.9102033615882466,
          6.3481145817053655
         ],
         "z": [
          0.7854000789365032,
          0.8202783139365032,
          1.17392092896718,
          1.1390426939671798,
          0.7854000789365032
         ]
        },
        {
         "line": {
          "color": "lightskyblue"
         },
         "mode": "lines",
         "showlegend": false,
         "surfaceaxis": 2,
         "type": "scatter3d",
         "x": [
          0.6282892320078866,
          1.1270712570078865,
          1.1294035385593049,
          0.6306215135593048,
          0.6282892320078866
         ],
         "y": [
          7.9102033615882466,
          7.9102033615882466,
          9.46474886410969,
          9.46474886410969,
          7.9102033615882466
         ],
         "z": [
          1.1390426939671798,
          1.17392092896718,
          1.5584971288067608,
          1.5236188938067607,
          1.1390426939671798
         ]
        },
        {
         "line": {
          "color": "lightskyblue"
         },
         "mode": "lines",
         "showlegend": false,
         "surfaceaxis": 2,
         "type": "scatter3d",
         "x": [
          0.6306215135593048,
          1.1294035385593049,
          1.1321392562611383,
          0.6333572312611383,
          0.6306215135593048
         ],
         "y": [
          9.46474886410969,
          9.46474886410969,
          11.01411605945133,
          11.01411605945133,
          9.46474886410969
         ],
         "z": [
          1.5236188938067607,
          1.5584971288067608,
          1.9619862728828148,
          1.9271080378828147,
          1.5236188938067607
         ]
        },
        {
         "line": {
          "color": "lightskyblue"
         },
         "mode": "lines",
         "showlegend": false,
         "surfaceaxis": 2,
         "type": "scatter3d",
         "x": [
          0.6333572312611383,
          1.1321392562611383,
          1.1351332029556027,
          0.6363511779556026,
          0.6333572312611383
         ],
         "y": [
          11.01411605945133,
          11.01411605945133,
          12.560361233610715,
          12.560361233610715,
          11.01411605945133
         ],
         "z": [
          1.9271080378828147,
          1.9619862728828148,
          2.3763333009382626,
          2.3414550659382627,
          1.9271080378828147
         ]
        },
        {
         "line": {
          "color": "lightskyblue"
         },
         "mode": "lines",
         "showlegend": false,
         "surfaceaxis": 2,
         "type": "scatter3d",
         "x": [
          0.6363511779556026,
          1.1351332029556027,
          1.1382856683911151,
          0.6395036433911152,
          0.6363511779556026
         ],
         "y": [
          12.560361233610715,
          12.560361233610715,
          14.10505116979784,
          14.10505116979784,
          12.560361233610715
         ],
         "z": [
          2.3414550659382627,
          2.3763333009382626,
          2.7949226049726024,
          2.7600443699726025,
          2.3414550659382627
         ]
        },
        {
         "line": {
          "color": "lightskyblue"
         },
         "mode": "lines",
         "showlegend": false,
         "surfaceaxis": 2,
         "type": "scatter3d",
         "x": [
          0.6395036433911152,
          1.1382856683911151,
          1.1415062921982644,
          0.6427242671982645,
          0.6395036433911152
         ],
         "y": [
          14.10505116979784,
          14.10505116979784,
          15.649127880706057,
          15.649127880706057,
          14.10505116979784
         ],
         "z": [
          2.7600443699726025,
          2.7949226049726024,
          3.2149104780715874,
          3.1800322430715875,
          2.7600443699726025
         ]
        },
        {
         "line": {
          "color": "lightskyblue"
         },
         "mode": "lines",
         "showlegend": false,
         "surfaceaxis": 2,
         "type": "scatter3d",
         "x": [
          1.1237820250000001,
          1.6225640500000003,
          1.6222723269578534,
          1.1234903019578533,
          1.1237820250000001
         ],
         "y": [
          1.0180229352716008e-17,
          1.0180229352716008e-17,
          1.6004491739305713,
          1.6004491739305713,
          1.0180229352716008e-17
         ],
         "z": [
          0.034878235000000056,
          0.06975647000000006,
          0.13260300126293476,
          0.09772476626293475,
          0.034878235000000056
         ]
        },
        {
         "line": {
          "color": "lightskyblue"
         },
         "mode": "lines",
         "showlegend": false,
         "surfaceaxis": 2,
         "type": "scatter3d",
         "x": [
          1.1234903019578533,
          1.6222723269578534,
          1.622293980566901,
          1.1235119555669009,
          1.1234903019578533
         ],
         "y": [
          1.6004491739305713,
          1.6004491739305713,
          3.193644198216304,
          3.193644198216304,
          1.6004491739305713
         ],
         "z": [
          0.09772476626293475,
          0.13260300126293476,
          0.298815926787479,
          0.263937691787479,
          0.09772476626293475
         ]
        },
        {
         "line": {
          "color": "lightskyblue"
         },
         "mode": "lines",
         "showlegend": false,
         "surfaceaxis": 2,
         "type": "scatter3d",
         "x": [
          1.1235119555669009,
          1.622293980566901,
          1.622852749879534,
          1.1240707248795339,
          1.1235119555669009
         ],
         "y": [
          3.193644198216304,
          3.193644198216304,
          4.776393179361209,
          4.776393179361209,
          3.193644198216304
         ],
         "z": [
          0.263937691787479,
          0.298815926787479,
          0.545996875392955,
          0.5111186403929551,
          0.263937691787479
         ]
        },
        {
         "line": {
          "color": "lightskyblue"
         },
         "mode": "lines",
         "showlegend": false,
         "surfaceaxis": 2,
         "type": "scatter3d",
         "x": [
          1.1240707248795339,
          1.622852749879534,
          1.624044848506236,
          1.1252628235062359,
          1.1240707248795339
         ],
         "y": [
          4.776393179361209,
          4.776393179361209,
          6.3481145817053655,
          6.3481145817053655,
          4.776393179361209
         ],
         "z": [
          0.5111186403929551,
          0.545996875392955,
          0.8551565489365032,
          0.8202783139365032,
          0.5111186403929551
         ]
        },
        {
         "line": {
          "color": "lightskyblue"
         },
         "mode": "lines",
         "showlegend": false,
         "surfaceaxis": 2,
         "type": "scatter3d",
         "x": [
          1.1252628235062359,
          1.624044848506236,
          1.6258532820078866,
          1.1270712570078865,
          1.1252628235062359
         ],
         "y": [
          6.3481145817053655,
          6.3481145817053655,
          7.9102033615882466,
          7.9102033615882466,
          6.3481145817053655
         ],
         "z": [
          0.8202783139365032,
          0.8551565489365032,
          1.20879916396718,
          1.17392092896718,
          0.8202783139365032
         ]
        },
        {
         "line": {
          "color": "lightskyblue"
         },
         "mode": "lines",
         "showlegend": false,
         "surfaceaxis": 2,
         "type": "scatter3d",
         "x": [
          1.1270712570078865,
          1.6258532820078866,
          1.6281855635593048,
          1.1294035385593049,
          1.1270712570078865
         ],
         "y": [
          7.9102033615882466,
          7.9102033615882466,
          9.46474886410969,
          9.46474886410969,
          7.9102033615882466
         ],
         "z": [
          1.17392092896718,
          1.20879916396718,
          1.593375363806761,
          1.5584971288067608,
          1.17392092896718
         ]
        },
        {
         "line": {
          "color": "lightskyblue"
         },
         "mode": "lines",
         "showlegend": false,
         "surfaceaxis": 2,
         "type": "scatter3d",
         "x": [
          1.1294035385593049,
          1.6281855635593048,
          1.6309212812611382,
          1.1321392562611383,
          1.1294035385593049
         ],
         "y": [
          9.46474886410969,
          9.46474886410969,
          11.01411605945133,
          11.01411605945133,
          9.46474886410969
         ],
         "z": [
          1.5584971288067608,
          1.593375363806761,
          1.9968645078828149,
          1.9619862728828148,
          1.5584971288067608
         ]
        },
        {
         "line": {
          "color": "lightskyblue"
         },
         "mode": "lines",
         "showlegend": false,
         "surfaceaxis": 2,
         "type": "scatter3d",
         "x": [
          1.1321392562611383,
          1.6309212812611382,
          1.6339152279556028,
          1.1351332029556027,
          1.1321392562611383
         ],
         "y": [
          11.01411605945133,
          11.01411605945133,
          12.560361233610715,
          12.560361233610715,
          11.01411605945133
         ],
         "z": [
          1.9619862728828148,
          1.9968645078828149,
          2.4112115359382624,
          2.3763333009382626,
          1.9619862728828148
         ]
        },
        {
         "line": {
          "color": "lightskyblue"
         },
         "mode": "lines",
         "showlegend": false,
         "surfaceaxis": 2,
         "type": "scatter3d",
         "x": [
          1.1351332029556027,
          1.6339152279556028,
          1.6370676933911152,
          1.1382856683911151,
          1.1351332029556027
         ],
         "y": [
          12.560361233610715,
          12.560361233610715,
          14.10505116979784,
          14.10505116979784,
          12.560361233610715
         ],
         "z": [
          2.3763333009382626,
          2.4112115359382624,
          2.8298008399726022,
          2.7949226049726024,
          2.3763333009382626
         ]
        },
        {
         "line": {
          "color": "lightskyblue"
         },
         "mode": "lines",
         "showlegend": false,
         "surfaceaxis": 2,
         "type": "scatter3d",
         "x": [
          1.1382856683911151,
          1.6370676933911152,
          1.6402883171982645,
          1.1415062921982644,
          1.1382856683911151
         ],
         "y": [
          14.10505116979784,
          14.10505116979784,
          15.649127880706057,
          15.649127880706057,
          14.10505116979784
         ],
         "z": [
          2.7949226049726024,
          2.8298008399726022,
          3.2497887130715872,
          3.2149104780715874,
          2.7949226049726024
         ]
        },
        {
         "line": {
          "color": "lightskyblue"
         },
         "mode": "lines",
         "showlegend": false,
         "surfaceaxis": 2,
         "type": "scatter3d",
         "x": [
          1.6225640500000003,
          2.1213460750000004,
          2.1210543519578535,
          1.6222723269578534,
          1.6225640500000003
         ],
         "y": [
          1.0180229352716008e-17,
          1.0180229352716008e-17,
          1.6004491739305713,
          1.6004491739305713,
          1.0180229352716008e-17
         ],
         "z": [
          0.06975647000000006,
          0.10463470500000005,
          0.16748123626293476,
          0.13260300126293476,
          0.06975647000000006
         ]
        },
        {
         "line": {
          "color": "lightskyblue"
         },
         "mode": "lines",
         "showlegend": false,
         "surfaceaxis": 2,
         "type": "scatter3d",
         "x": [
          1.6222723269578534,
          2.1210543519578535,
          2.121076005566901,
          1.622293980566901,
          1.6222723269578534
         ],
         "y": [
          1.6004491739305713,
          1.6004491739305713,
          3.193644198216304,
          3.193644198216304,
          1.6004491739305713
         ],
         "z": [
          0.13260300126293476,
          0.16748123626293476,
          0.33369416178747896,
          0.298815926787479,
          0.13260300126293476
         ]
        },
        {
         "line": {
          "color": "lightskyblue"
         },
         "mode": "lines",
         "showlegend": false,
         "surfaceaxis": 2,
         "type": "scatter3d",
         "x": [
          1.622293980566901,
          2.121076005566901,
          2.121634774879534,
          1.622852749879534,
          1.622293980566901
         ],
         "y": [
          3.193644198216304,
          3.193644198216304,
          4.776393179361209,
          4.776393179361209,
          3.193644198216304
         ],
         "z": [
          0.298815926787479,
          0.33369416178747896,
          0.580875110392955,
          0.545996875392955,
          0.298815926787479
         ]
        },
        {
         "line": {
          "color": "lightskyblue"
         },
         "mode": "lines",
         "showlegend": false,
         "surfaceaxis": 2,
         "type": "scatter3d",
         "x": [
          1.622852749879534,
          2.121634774879534,
          2.122826873506236,
          1.624044848506236,
          1.622852749879534
         ],
         "y": [
          4.776393179361209,
          4.776393179361209,
          6.3481145817053655,
          6.3481145817053655,
          4.776393179361209
         ],
         "z": [
          0.545996875392955,
          0.580875110392955,
          0.8900347839365031,
          0.8551565489365032,
          0.545996875392955
         ]
        },
        {
         "line": {
          "color": "lightskyblue"
         },
         "mode": "lines",
         "showlegend": false,
         "surfaceaxis": 2,
         "type": "scatter3d",
         "x": [
          1.624044848506236,
          2.122826873506236,
          2.1246353070078867,
          1.6258532820078866,
          1.624044848506236
         ],
         "y": [
          6.3481145817053655,
          6.3481145817053655,
          7.9102033615882466,
          7.9102033615882466,
          6.3481145817053655
         ],
         "z": [
          0.8551565489365032,
          0.8900347839365031,
          1.24367739896718,
          1.20879916396718,
          0.8551565489365032
         ]
        },
        {
         "line": {
          "color": "lightskyblue"
         },
         "mode": "lines",
         "showlegend": false,
         "surfaceaxis": 2,
         "type": "scatter3d",
         "x": [
          1.6258532820078866,
          2.1246353070078867,
          2.126967588559305,
          1.6281855635593048,
          1.6258532820078866
         ],
         "y": [
          7.9102033615882466,
          7.9102033615882466,
          9.46474886410969,
          9.46474886410969,
          7.9102033615882466
         ],
         "z": [
          1.20879916396718,
          1.24367739896718,
          1.628253598806761,
          1.593375363806761,
          1.20879916396718
         ]
        },
        {
         "line": {
          "color": "lightskyblue"
         },
         "mode": "lines",
         "showlegend": false,
         "surfaceaxis": 2,
         "type": "scatter3d",
         "x": [
          1.6281855635593048,
          2.126967588559305,
          2.1297033062611384,
          1.6309212812611382,
          1.6281855635593048
         ],
         "y": [
          9.46474886410969,
          9.46474886410969,
          11.01411605945133,
          11.01411605945133,
          9.46474886410969
         ],
         "z": [
          1.593375363806761,
          1.628253598806761,
          2.0317427428828148,
          1.9968645078828149,
          1.593375363806761
         ]
        },
        {
         "line": {
          "color": "lightskyblue"
         },
         "mode": "lines",
         "showlegend": false,
         "surfaceaxis": 2,
         "type": "scatter3d",
         "x": [
          1.6309212812611382,
          2.1297033062611384,
          2.132697252955603,
          1.6339152279556028,
          1.6309212812611382
         ],
         "y": [
          11.01411605945133,
          11.01411605945133,
          12.560361233610715,
          12.560361233610715,
          11.01411605945133
         ],
         "z": [
          1.9968645078828149,
          2.0317427428828148,
          2.4460897709382623,
          2.4112115359382624,
          1.9968645078828149
         ]
        },
        {
         "line": {
          "color": "lightskyblue"
         },
         "mode": "lines",
         "showlegend": false,
         "surfaceaxis": 2,
         "type": "scatter3d",
         "x": [
          1.6339152279556028,
          2.132697252955603,
          2.1358497183911154,
          1.6370676933911152,
          1.6339152279556028
         ],
         "y": [
          12.560361233610715,
          12.560361233610715,
          14.10505116979784,
          14.10505116979784,
          12.560361233610715
         ],
         "z": [
          2.4112115359382624,
          2.4460897709382623,
          2.864679074972602,
          2.8298008399726022,
          2.4112115359382624
         ]
        },
        {
         "line": {
          "color": "lightskyblue"
         },
         "mode": "lines",
         "showlegend": false,
         "surfaceaxis": 2,
         "type": "scatter3d",
         "x": [
          1.6370676933911152,
          2.1358497183911154,
          2.1390703421982646,
          1.6402883171982645,
          1.6370676933911152
         ],
         "y": [
          14.10505116979784,
          14.10505116979784,
          15.649127880706057,
          15.649127880706057,
          14.10505116979784
         ],
         "z": [
          2.8298008399726022,
          2.864679074972602,
          3.284666948071587,
          3.2497887130715872,
          2.8298008399726022
         ]
        },
        {
         "line": {
          "color": "lightskyblue"
         },
         "mode": "lines",
         "showlegend": false,
         "surfaceaxis": 2,
         "type": "scatter3d",
         "x": [
          2.1213460750000004,
          2.6201281000000005,
          2.6198363769578537,
          2.1210543519578535,
          2.1213460750000004
         ],
         "y": [
          1.0180229352716008e-17,
          1.0180229352716008e-17,
          1.6004491739305713,
          1.6004491739305713,
          1.0180229352716008e-17
         ],
         "z": [
          0.10463470500000005,
          0.13951294000000006,
          0.20235947126293477,
          0.16748123626293476,
          0.10463470500000005
         ]
        },
        {
         "line": {
          "color": "lightskyblue"
         },
         "mode": "lines",
         "showlegend": false,
         "surfaceaxis": 2,
         "type": "scatter3d",
         "x": [
          2.1210543519578535,
          2.6198363769578537,
          2.6198580305669013,
          2.121076005566901,
          2.1210543519578535
         ],
         "y": [
          1.6004491739305713,
          1.6004491739305713,
          3.193644198216304,
          3.193644198216304,
          1.6004491739305713
         ],
         "z": [
          0.16748123626293476,
          0.20235947126293477,
          0.36857239678747894,
          0.33369416178747896,
          0.16748123626293476
         ]
        },
        {
         "line": {
          "color": "lightskyblue"
         },
         "mode": "lines",
         "showlegend": false,
         "surfaceaxis": 2,
         "type": "scatter3d",
         "x": [
          2.121076005566901,
          2.6198580305669013,
          2.6204167998795342,
          2.121634774879534,
          2.121076005566901
         ],
         "y": [
          3.193644198216304,
          3.193644198216304,
          4.776393179361209,
          4.776393179361209,
          3.193644198216304
         ],
         "z": [
          0.33369416178747896,
          0.36857239678747894,
          0.615753345392955,
          0.580875110392955,
          0.33369416178747896
         ]
        },
        {
         "line": {
          "color": "lightskyblue"
         },
         "mode": "lines",
         "showlegend": false,
         "surfaceaxis": 2,
         "type": "scatter3d",
         "x": [
          2.121634774879534,
          2.6204167998795342,
          2.6216088985062362,
          2.122826873506236,
          2.121634774879534
         ],
         "y": [
          4.776393179361209,
          4.776393179361209,
          6.3481145817053655,
          6.3481145817053655,
          4.776393179361209
         ],
         "z": [
          0.580875110392955,
          0.615753345392955,
          0.9249130189365031,
          0.8900347839365031,
          0.580875110392955
         ]
        },
        {
         "line": {
          "color": "lightskyblue"
         },
         "mode": "lines",
         "showlegend": false,
         "surfaceaxis": 2,
         "type": "scatter3d",
         "x": [
          2.122826873506236,
          2.6216088985062362,
          2.623417332007887,
          2.1246353070078867,
          2.122826873506236
         ],
         "y": [
          6.3481145817053655,
          6.3481145817053655,
          7.9102033615882466,
          7.9102033615882466,
          6.3481145817053655
         ],
         "z": [
          0.8900347839365031,
          0.9249130189365031,
          1.2785556339671802,
          1.24367739896718,
          0.8900347839365031
         ]
        },
        {
         "line": {
          "color": "lightskyblue"
         },
         "mode": "lines",
         "showlegend": false,
         "surfaceaxis": 2,
         "type": "scatter3d",
         "x": [
          2.1246353070078867,
          2.623417332007887,
          2.625749613559305,
          2.126967588559305,
          2.1246353070078867
         ],
         "y": [
          7.9102033615882466,
          7.9102033615882466,
          9.46474886410969,
          9.46474886410969,
          7.9102033615882466
         ],
         "z": [
          1.24367739896718,
          1.2785556339671802,
          1.663131833806761,
          1.628253598806761,
          1.24367739896718
         ]
        },
        {
         "line": {
          "color": "lightskyblue"
         },
         "mode": "lines",
         "showlegend": false,
         "surfaceaxis": 2,
         "type": "scatter3d",
         "x": [
          2.126967588559305,
          2.625749613559305,
          2.6284853312611385,
          2.1297033062611384,
          2.126967588559305
         ],
         "y": [
          9.46474886410969,
          9.46474886410969,
          11.01411605945133,
          11.01411605945133,
          9.46474886410969
         ],
         "z": [
          1.628253598806761,
          1.663131833806761,
          2.0666209778828146,
          2.0317427428828148,
          1.628253598806761
         ]
        },
        {
         "line": {
          "color": "lightskyblue"
         },
         "mode": "lines",
         "showlegend": false,
         "surfaceaxis": 2,
         "type": "scatter3d",
         "x": [
          2.1297033062611384,
          2.6284853312611385,
          2.631479277955603,
          2.132697252955603,
          2.1297033062611384
         ],
         "y": [
          11.01411605945133,
          11.01411605945133,
          12.560361233610715,
          12.560361233610715,
          11.01411605945133
         ],
         "z": [
          2.0317427428828148,
          2.0666209778828146,
          2.480968005938262,
          2.4460897709382623,
          2.0317427428828148
         ]
        },
        {
         "line": {
          "color": "lightskyblue"
         },
         "mode": "lines",
         "showlegend": false,
         "surfaceaxis": 2,
         "type": "scatter3d",
         "x": [
          2.132697252955603,
          2.631479277955603,
          2.6346317433911155,
          2.1358497183911154,
          2.132697252955603
         ],
         "y": [
          12.560361233610715,
          12.560361233610715,
          14.10505116979784,
          14.10505116979784,
          12.560361233610715
         ],
         "z": [
          2.4460897709382623,
          2.480968005938262,
          2.899557309972602,
          2.864679074972602,
          2.4460897709382623
         ]
        },
        {
         "line": {
          "color": "lightskyblue"
         },
         "mode": "lines",
         "showlegend": false,
         "surfaceaxis": 2,
         "type": "scatter3d",
         "x": [
          2.1358497183911154,
          2.6346317433911155,
          2.6378523671982648,
          2.1390703421982646,
          2.1358497183911154
         ],
         "y": [
          14.10505116979784,
          14.10505116979784,
          15.649127880706057,
          15.649127880706057,
          14.10505116979784
         ],
         "z": [
          2.864679074972602,
          2.899557309972602,
          3.319545183071587,
          3.284666948071587,
          2.864679074972602
         ]
        },
        {
         "line": {
          "color": "lightskyblue"
         },
         "mode": "lines",
         "showlegend": false,
         "surfaceaxis": 2,
         "type": "scatter3d",
         "x": [
          2.6201281000000005,
          3.1189101250000006,
          3.118618401957854,
          2.6198363769578537,
          2.6201281000000005
         ],
         "y": [
          1.0180229352716008e-17,
          1.0180229352716008e-17,
          1.6004491739305713,
          1.6004491739305713,
          1.0180229352716008e-17
         ],
         "z": [
          0.13951294000000006,
          0.17439117500000006,
          0.23723770626293478,
          0.20235947126293477,
          0.13951294000000006
         ]
        },
        {
         "line": {
          "color": "lightskyblue"
         },
         "mode": "lines",
         "showlegend": false,
         "surfaceaxis": 2,
         "type": "scatter3d",
         "x": [
          2.6198363769578537,
          3.118618401957854,
          3.1186400555669014,
          2.6198580305669013,
          2.6198363769578537
         ],
         "y": [
          1.6004491739305713,
          1.6004491739305713,
          3.193644198216304,
          3.193644198216304,
          1.6004491739305713
         ],
         "z": [
          0.20235947126293477,
          0.23723770626293478,
          0.4034506317874789,
          0.36857239678747894,
          0.20235947126293477
         ]
        },
        {
         "line": {
          "color": "lightskyblue"
         },
         "mode": "lines",
         "showlegend": false,
         "surfaceaxis": 2,
         "type": "scatter3d",
         "x": [
          2.6198580305669013,
          3.1186400555669014,
          3.1191988248795344,
          2.6204167998795342,
          2.6198580305669013
         ],
         "y": [
          3.193644198216304,
          3.193644198216304,
          4.776393179361209,
          4.776393179361209,
          3.193644198216304
         ],
         "z": [
          0.36857239678747894,
          0.4034506317874789,
          0.650631580392955,
          0.615753345392955,
          0.36857239678747894
         ]
        },
        {
         "line": {
          "color": "lightskyblue"
         },
         "mode": "lines",
         "showlegend": false,
         "surfaceaxis": 2,
         "type": "scatter3d",
         "x": [
          2.6204167998795342,
          3.1191988248795344,
          3.1203909235062364,
          2.6216088985062362,
          2.6204167998795342
         ],
         "y": [
          4.776393179361209,
          4.776393179361209,
          6.3481145817053655,
          6.3481145817053655,
          4.776393179361209
         ],
         "z": [
          0.615753345392955,
          0.650631580392955,
          0.9597912539365031,
          0.9249130189365031,
          0.615753345392955
         ]
        },
        {
         "line": {
          "color": "lightskyblue"
         },
         "mode": "lines",
         "showlegend": false,
         "surfaceaxis": 2,
         "type": "scatter3d",
         "x": [
          2.6216088985062362,
          3.1203909235062364,
          3.122199357007887,
          2.623417332007887,
          2.6216088985062362
         ],
         "y": [
          6.3481145817053655,
          6.3481145817053655,
          7.9102033615882466,
          7.9102033615882466,
          6.3481145817053655
         ],
         "z": [
          0.9249130189365031,
          0.9597912539365031,
          1.3134338689671803,
          1.2785556339671802,
          0.9249130189365031
         ]
        },
        {
         "line": {
          "color": "lightskyblue"
         },
         "mode": "lines",
         "showlegend": false,
         "surfaceaxis": 2,
         "type": "scatter3d",
         "x": [
          2.623417332007887,
          3.122199357007887,
          3.124531638559305,
          2.625749613559305,
          2.623417332007887
         ],
         "y": [
          7.9102033615882466,
          7.9102033615882466,
          9.46474886410969,
          9.46474886410969,
          7.9102033615882466
         ],
         "z": [
          1.2785556339671802,
          1.3134338689671803,
          1.6980100688067612,
          1.663131833806761,
          1.2785556339671802
         ]
        },
        {
         "line": {
          "color": "lightskyblue"
         },
         "mode": "lines",
         "showlegend": false,
         "surfaceaxis": 2,
         "type": "scatter3d",
         "x": [
          2.625749613559305,
          3.124531638559305,
          3.1272673562611386,
          2.6284853312611385,
          2.625749613559305
         ],
         "y": [
          9.46474886410969,
          9.46474886410969,
          11.01411605945133,
          11.01411605945133,
          9.46474886410969
         ],
         "z": [
          1.663131833806761,
          1.6980100688067612,
          2.1014992128828145,
          2.0666209778828146,
          1.663131833806761
         ]
        },
        {
         "line": {
          "color": "lightskyblue"
         },
         "mode": "lines",
         "showlegend": false,
         "surfaceaxis": 2,
         "type": "scatter3d",
         "x": [
          2.6284853312611385,
          3.1272673562611386,
          3.1302613029556032,
          2.631479277955603,
          2.6284853312611385
         ],
         "y": [
          11.01411605945133,
          11.01411605945133,
          12.560361233610715,
          12.560361233610715,
          11.01411605945133
         ],
         "z": [
          2.0666209778828146,
          2.1014992128828145,
          2.515846240938262,
          2.480968005938262,
          2.0666209778828146
         ]
        },
        {
         "line": {
          "color": "lightskyblue"
         },
         "mode": "lines",
         "showlegend": false,
         "surfaceaxis": 2,
         "type": "scatter3d",
         "x": [
          2.631479277955603,
          3.1302613029556032,
          3.1334137683911156,
          2.6346317433911155,
          2.631479277955603
         ],
         "y": [
          12.560361233610715,
          12.560361233610715,
          14.10505116979784,
          14.10505116979784,
          12.560361233610715
         ],
         "z": [
          2.480968005938262,
          2.515846240938262,
          2.934435544972602,
          2.899557309972602,
          2.480968005938262
         ]
        },
        {
         "line": {
          "color": "lightskyblue"
         },
         "mode": "lines",
         "showlegend": false,
         "surfaceaxis": 2,
         "type": "scatter3d",
         "x": [
          2.6346317433911155,
          3.1334137683911156,
          3.136634392198265,
          2.6378523671982648,
          2.6346317433911155
         ],
         "y": [
          14.10505116979784,
          14.10505116979784,
          15.649127880706057,
          15.649127880706057,
          14.10505116979784
         ],
         "z": [
          2.899557309972602,
          2.934435544972602,
          3.354423418071587,
          3.319545183071587,
          2.899557309972602
         ]
        },
        {
         "line": {
          "color": "lightskyblue"
         },
         "mode": "lines",
         "showlegend": false,
         "surfaceaxis": 2,
         "type": "scatter3d",
         "x": [
          3.1189101250000006,
          3.6176921500000008,
          3.617400426957854,
          3.118618401957854,
          3.1189101250000006
         ],
         "y": [
          1.0180229352716008e-17,
          1.0180229352716008e-17,
          1.6004491739305713,
          1.6004491739305713,
          1.0180229352716008e-17
         ],
         "z": [
          0.17439117500000006,
          0.20926941000000007,
          0.27211594126293476,
          0.23723770626293478,
          0.17439117500000006
         ]
        },
        {
         "line": {
          "color": "lightskyblue"
         },
         "mode": "lines",
         "showlegend": false,
         "surfaceaxis": 2,
         "type": "scatter3d",
         "x": [
          3.118618401957854,
          3.617400426957854,
          3.6174220805669015,
          3.1186400555669014,
          3.118618401957854
         ],
         "y": [
          1.6004491739305713,
          1.6004491739305713,
          3.193644198216304,
          3.193644198216304,
          1.6004491739305713
         ],
         "z": [
          0.23723770626293478,
          0.27211594126293476,
          0.4383288667874789,
          0.4034506317874789,
          0.23723770626293478
         ]
        },
        {
         "line": {
          "color": "lightskyblue"
         },
         "mode": "lines",
         "showlegend": false,
         "surfaceaxis": 2,
         "type": "scatter3d",
         "x": [
          3.1186400555669014,
          3.6174220805669015,
          3.6179808498795345,
          3.1191988248795344,
          3.1186400555669014
         ],
         "y": [
          3.193644198216304,
          3.193644198216304,
          4.776393179361209,
          4.776393179361209,
          3.193644198216304
         ],
         "z": [
          0.4034506317874789,
          0.4383288667874789,
          0.685509815392955,
          0.650631580392955,
          0.4034506317874789
         ]
        },
        {
         "line": {
          "color": "lightskyblue"
         },
         "mode": "lines",
         "showlegend": false,
         "surfaceaxis": 2,
         "type": "scatter3d",
         "x": [
          3.1191988248795344,
          3.6179808498795345,
          3.6191729485062365,
          3.1203909235062364,
          3.1191988248795344
         ],
         "y": [
          4.776393179361209,
          4.776393179361209,
          6.3481145817053655,
          6.3481145817053655,
          4.776393179361209
         ],
         "z": [
          0.650631580392955,
          0.685509815392955,
          0.9946694889365031,
          0.9597912539365031,
          0.650631580392955
         ]
        },
        {
         "line": {
          "color": "lightskyblue"
         },
         "mode": "lines",
         "showlegend": false,
         "surfaceaxis": 2,
         "type": "scatter3d",
         "x": [
          3.1203909235062364,
          3.6191729485062365,
          3.620981382007887,
          3.122199357007887,
          3.1203909235062364
         ],
         "y": [
          6.3481145817053655,
          6.3481145817053655,
          7.9102033615882466,
          7.9102033615882466,
          6.3481145817053655
         ],
         "z": [
          0.9597912539365031,
          0.9946694889365031,
          1.3483121039671804,
          1.3134338689671803,
          0.9597912539365031
         ]
        },
        {
         "line": {
          "color": "lightskyblue"
         },
         "mode": "lines",
         "showlegend": false,
         "surfaceaxis": 2,
         "type": "scatter3d",
         "x": [
          3.122199357007887,
          3.620981382007887,
          3.6233136635593053,
          3.124531638559305,
          3.122199357007887
         ],
         "y": [
          7.9102033615882466,
          7.9102033615882466,
          9.46474886410969,
          9.46474886410969,
          7.9102033615882466
         ],
         "z": [
          1.3134338689671803,
          1.3483121039671804,
          1.7328883038067613,
          1.6980100688067612,
          1.3134338689671803
         ]
        },
        {
         "line": {
          "color": "lightskyblue"
         },
         "mode": "lines",
         "showlegend": false,
         "surfaceaxis": 2,
         "type": "scatter3d",
         "x": [
          3.124531638559305,
          3.6233136635593053,
          3.6260493812611387,
          3.1272673562611386,
          3.124531638559305
         ],
         "y": [
          9.46474886410969,
          9.46474886410969,
          11.01411605945133,
          11.01411605945133,
          9.46474886410969
         ],
         "z": [
          1.6980100688067612,
          1.7328883038067613,
          2.1363774478828144,
          2.1014992128828145,
          1.6980100688067612
         ]
        },
        {
         "line": {
          "color": "lightskyblue"
         },
         "mode": "lines",
         "showlegend": false,
         "surfaceaxis": 2,
         "type": "scatter3d",
         "x": [
          3.1272673562611386,
          3.6260493812611387,
          3.6290433279556034,
          3.1302613029556032,
          3.1272673562611386
         ],
         "y": [
          11.01411605945133,
          11.01411605945133,
          12.560361233610715,
          12.560361233610715,
          11.01411605945133
         ],
         "z": [
          2.1014992128828145,
          2.1363774478828144,
          2.550724475938262,
          2.515846240938262,
          2.1014992128828145
         ]
        },
        {
         "line": {
          "color": "lightskyblue"
         },
         "mode": "lines",
         "showlegend": false,
         "surfaceaxis": 2,
         "type": "scatter3d",
         "x": [
          3.1302613029556032,
          3.6290433279556034,
          3.6321957933911158,
          3.1334137683911156,
          3.1302613029556032
         ],
         "y": [
          12.560361233610715,
          12.560361233610715,
          14.10505116979784,
          14.10505116979784,
          12.560361233610715
         ],
         "z": [
          2.515846240938262,
          2.550724475938262,
          2.9693137799726017,
          2.934435544972602,
          2.515846240938262
         ]
        },
        {
         "line": {
          "color": "lightskyblue"
         },
         "mode": "lines",
         "showlegend": false,
         "surfaceaxis": 2,
         "type": "scatter3d",
         "x": [
          3.1334137683911156,
          3.6321957933911158,
          3.635416417198265,
          3.136634392198265,
          3.1334137683911156
         ],
         "y": [
          14.10505116979784,
          14.10505116979784,
          15.649127880706057,
          15.649127880706057,
          14.10505116979784
         ],
         "z": [
          2.934435544972602,
          2.9693137799726017,
          3.3893016530715867,
          3.354423418071587,
          2.934435544972602
         ]
        },
        {
         "line": {
          "color": "grey"
         },
         "mode": "lines",
         "showlegend": false,
         "type": "scatter3d",
         "x": [
          0.6250000000000001,
          0.6247082769578531,
          0.624729930566901,
          0.625288699879534,
          0.626480798506236,
          0.6282892320078866,
          0.6306215135593048,
          0.6333572312611383,
          0.6363511779556026,
          0.6395036433911152,
          0.6427242671982645
         ],
         "y": [
          1.0180229352716008e-17,
          1.6004491739305713,
          3.193644198216304,
          4.776393179361209,
          6.3481145817053655,
          7.9102033615882466,
          9.46474886410969,
          11.01411605945133,
          12.560361233610715,
          14.10505116979784,
          15.649127880706057
         ],
         "z": [
          5.412225351471832e-17,
          0.06284653126293474,
          0.22905945678747902,
          0.4762404053929551,
          0.7854000789365032,
          1.1390426939671798,
          1.5236188938067607,
          1.9271080378828147,
          2.3414550659382627,
          2.7600443699726025,
          3.1800322430715875
         ]
        },
        {
         "line": {
          "color": "grey"
         },
         "mode": "lines",
         "showlegend": false,
         "type": "scatter3d",
         "x": [
          1.1237820250000001,
          1.1234903019578533,
          1.1235119555669009,
          1.1240707248795339,
          1.1252628235062359,
          1.1270712570078865,
          1.1294035385593049,
          1.1321392562611383,
          1.1351332029556027,
          1.1382856683911151,
          1.1415062921982644
         ],
         "y": [
          1.0180229352716008e-17,
          1.6004491739305713,
          3.193644198216304,
          4.776393179361209,
          6.3481145817053655,
          7.9102033615882466,
          9.46474886410969,
          11.01411605945133,
          12.560361233610715,
          14.10505116979784,
          15.649127880706057
         ],
         "z": [
          0.034878235000000056,
          0.09772476626293475,
          0.263937691787479,
          0.5111186403929551,
          0.8202783139365032,
          1.17392092896718,
          1.5584971288067608,
          1.9619862728828148,
          2.3763333009382626,
          2.7949226049726024,
          3.2149104780715874
         ]
        },
        {
         "line": {
          "color": "grey"
         },
         "mode": "lines",
         "showlegend": false,
         "type": "scatter3d",
         "x": [
          1.6225640500000003,
          1.6222723269578534,
          1.622293980566901,
          1.622852749879534,
          1.624044848506236,
          1.6258532820078866,
          1.6281855635593048,
          1.6309212812611382,
          1.6339152279556028,
          1.6370676933911152,
          1.6402883171982645
         ],
         "y": [
          1.0180229352716008e-17,
          1.6004491739305713,
          3.193644198216304,
          4.776393179361209,
          6.3481145817053655,
          7.9102033615882466,
          9.46474886410969,
          11.01411605945133,
          12.560361233610715,
          14.10505116979784,
          15.649127880706057
         ],
         "z": [
          0.06975647000000006,
          0.13260300126293476,
          0.298815926787479,
          0.545996875392955,
          0.8551565489365032,
          1.20879916396718,
          1.593375363806761,
          1.9968645078828149,
          2.4112115359382624,
          2.8298008399726022,
          3.2497887130715872
         ]
        },
        {
         "line": {
          "color": "grey"
         },
         "mode": "lines",
         "showlegend": false,
         "type": "scatter3d",
         "x": [
          2.1213460750000004,
          2.1210543519578535,
          2.121076005566901,
          2.121634774879534,
          2.122826873506236,
          2.1246353070078867,
          2.126967588559305,
          2.1297033062611384,
          2.132697252955603,
          2.1358497183911154,
          2.1390703421982646
         ],
         "y": [
          1.0180229352716008e-17,
          1.6004491739305713,
          3.193644198216304,
          4.776393179361209,
          6.3481145817053655,
          7.9102033615882466,
          9.46474886410969,
          11.01411605945133,
          12.560361233610715,
          14.10505116979784,
          15.649127880706057
         ],
         "z": [
          0.10463470500000005,
          0.16748123626293476,
          0.33369416178747896,
          0.580875110392955,
          0.8900347839365031,
          1.24367739896718,
          1.628253598806761,
          2.0317427428828148,
          2.4460897709382623,
          2.864679074972602,
          3.284666948071587
         ]
        },
        {
         "line": {
          "color": "grey"
         },
         "mode": "lines",
         "showlegend": false,
         "type": "scatter3d",
         "x": [
          2.6201281000000005,
          2.6198363769578537,
          2.6198580305669013,
          2.6204167998795342,
          2.6216088985062362,
          2.623417332007887,
          2.625749613559305,
          2.6284853312611385,
          2.631479277955603,
          2.6346317433911155,
          2.6378523671982648
         ],
         "y": [
          1.0180229352716008e-17,
          1.6004491739305713,
          3.193644198216304,
          4.776393179361209,
          6.3481145817053655,
          7.9102033615882466,
          9.46474886410969,
          11.01411605945133,
          12.560361233610715,
          14.10505116979784,
          15.649127880706057
         ],
         "z": [
          0.13951294000000006,
          0.20235947126293477,
          0.36857239678747894,
          0.615753345392955,
          0.9249130189365031,
          1.2785556339671802,
          1.663131833806761,
          2.0666209778828146,
          2.480968005938262,
          2.899557309972602,
          3.319545183071587
         ]
        },
        {
         "line": {
          "color": "grey"
         },
         "mode": "lines",
         "showlegend": false,
         "type": "scatter3d",
         "x": [
          3.1189101250000006,
          3.118618401957854,
          3.1186400555669014,
          3.1191988248795344,
          3.1203909235062364,
          3.122199357007887,
          3.124531638559305,
          3.1272673562611386,
          3.1302613029556032,
          3.1334137683911156,
          3.136634392198265
         ],
         "y": [
          1.0180229352716008e-17,
          1.6004491739305713,
          3.193644198216304,
          4.776393179361209,
          6.3481145817053655,
          7.9102033615882466,
          9.46474886410969,
          11.01411605945133,
          12.560361233610715,
          14.10505116979784,
          15.649127880706057
         ],
         "z": [
          0.17439117500000006,
          0.23723770626293478,
          0.4034506317874789,
          0.650631580392955,
          0.9597912539365031,
          1.3134338689671803,
          1.6980100688067612,
          2.1014992128828145,
          2.515846240938262,
          2.934435544972602,
          3.354423418071587
         ]
        },
        {
         "line": {
          "color": "grey"
         },
         "mode": "lines",
         "showlegend": false,
         "type": "scatter3d",
         "x": [
          3.6176921500000008,
          3.617400426957854,
          3.6174220805669015,
          3.6179808498795345,
          3.6191729485062365,
          3.620981382007887,
          3.6233136635593053,
          3.6260493812611387,
          3.6290433279556034,
          3.6321957933911158,
          3.635416417198265
         ],
         "y": [
          1.0180229352716008e-17,
          1.6004491739305713,
          3.193644198216304,
          4.776393179361209,
          6.3481145817053655,
          7.9102033615882466,
          9.46474886410969,
          11.01411605945133,
          12.560361233610715,
          14.10505116979784,
          15.649127880706057
         ],
         "z": [
          0.20926941000000007,
          0.27211594126293476,
          0.4383288667874789,
          0.685509815392955,
          0.9946694889365031,
          1.3483121039671804,
          1.7328883038067613,
          2.1363774478828144,
          2.550724475938262,
          2.9693137799726017,
          3.3893016530715867
         ]
        },
        {
         "line": {
          "color": "grey"
         },
         "mode": "lines",
         "showlegend": false,
         "type": "scatter3d",
         "x": [
          0.6250000000000001,
          1.1237820250000001,
          1.6225640500000003,
          2.1213460750000004,
          2.6201281000000005,
          3.1189101250000006,
          3.6176921500000008
         ],
         "y": [
          1.0180229352716008e-17,
          1.0180229352716008e-17,
          1.0180229352716008e-17,
          1.0180229352716008e-17,
          1.0180229352716008e-17,
          1.0180229352716008e-17,
          1.0180229352716008e-17
         ],
         "z": [
          5.412225351471832e-17,
          0.034878235000000056,
          0.06975647000000006,
          0.10463470500000005,
          0.13951294000000006,
          0.17439117500000006,
          0.20926941000000007
         ]
        },
        {
         "line": {
          "color": "grey"
         },
         "mode": "lines",
         "showlegend": false,
         "type": "scatter3d",
         "x": [
          0.6247082769578531,
          1.1234903019578533,
          1.6222723269578534,
          2.1210543519578535,
          2.6198363769578537,
          3.118618401957854,
          3.617400426957854
         ],
         "y": [
          1.6004491739305713,
          1.6004491739305713,
          1.6004491739305713,
          1.6004491739305713,
          1.6004491739305713,
          1.6004491739305713,
          1.6004491739305713
         ],
         "z": [
          0.06284653126293474,
          0.09772476626293475,
          0.13260300126293476,
          0.16748123626293476,
          0.20235947126293477,
          0.23723770626293478,
          0.27211594126293476
         ]
        },
        {
         "line": {
          "color": "grey"
         },
         "mode": "lines",
         "showlegend": false,
         "type": "scatter3d",
         "x": [
          0.624729930566901,
          1.1235119555669009,
          1.622293980566901,
          2.121076005566901,
          2.6198580305669013,
          3.1186400555669014,
          3.6174220805669015
         ],
         "y": [
          3.193644198216304,
          3.193644198216304,
          3.193644198216304,
          3.193644198216304,
          3.193644198216304,
          3.193644198216304,
          3.193644198216304
         ],
         "z": [
          0.22905945678747902,
          0.263937691787479,
          0.298815926787479,
          0.33369416178747896,
          0.36857239678747894,
          0.4034506317874789,
          0.4383288667874789
         ]
        },
        {
         "line": {
          "color": "grey"
         },
         "mode": "lines",
         "showlegend": false,
         "type": "scatter3d",
         "x": [
          0.625288699879534,
          1.1240707248795339,
          1.622852749879534,
          2.121634774879534,
          2.6204167998795342,
          3.1191988248795344,
          3.6179808498795345
         ],
         "y": [
          4.776393179361209,
          4.776393179361209,
          4.776393179361209,
          4.776393179361209,
          4.776393179361209,
          4.776393179361209,
          4.776393179361209
         ],
         "z": [
          0.4762404053929551,
          0.5111186403929551,
          0.545996875392955,
          0.580875110392955,
          0.615753345392955,
          0.650631580392955,
          0.685509815392955
         ]
        },
        {
         "line": {
          "color": "grey"
         },
         "mode": "lines",
         "showlegend": false,
         "type": "scatter3d",
         "x": [
          0.626480798506236,
          1.1252628235062359,
          1.624044848506236,
          2.122826873506236,
          2.6216088985062362,
          3.1203909235062364,
          3.6191729485062365
         ],
         "y": [
          6.3481145817053655,
          6.3481145817053655,
          6.3481145817053655,
          6.3481145817053655,
          6.3481145817053655,
          6.3481145817053655,
          6.3481145817053655
         ],
         "z": [
          0.7854000789365032,
          0.8202783139365032,
          0.8551565489365032,
          0.8900347839365031,
          0.9249130189365031,
          0.9597912539365031,
          0.9946694889365031
         ]
        },
        {
         "line": {
          "color": "grey"
         },
         "mode": "lines",
         "showlegend": false,
         "type": "scatter3d",
         "x": [
          0.6282892320078866,
          1.1270712570078865,
          1.6258532820078866,
          2.1246353070078867,
          2.623417332007887,
          3.122199357007887,
          3.620981382007887
         ],
         "y": [
          7.9102033615882466,
          7.9102033615882466,
          7.9102033615882466,
          7.9102033615882466,
          7.9102033615882466,
          7.9102033615882466,
          7.9102033615882466
         ],
         "z": [
          1.1390426939671798,
          1.17392092896718,
          1.20879916396718,
          1.24367739896718,
          1.2785556339671802,
          1.3134338689671803,
          1.3483121039671804
         ]
        },
        {
         "line": {
          "color": "grey"
         },
         "mode": "lines",
         "showlegend": false,
         "type": "scatter3d",
         "x": [
          0.6306215135593048,
          1.1294035385593049,
          1.6281855635593048,
          2.126967588559305,
          2.625749613559305,
          3.124531638559305,
          3.6233136635593053
         ],
         "y": [
          9.46474886410969,
          9.46474886410969,
          9.46474886410969,
          9.46474886410969,
          9.46474886410969,
          9.46474886410969,
          9.46474886410969
         ],
         "z": [
          1.5236188938067607,
          1.5584971288067608,
          1.593375363806761,
          1.628253598806761,
          1.663131833806761,
          1.6980100688067612,
          1.7328883038067613
         ]
        },
        {
         "line": {
          "color": "grey"
         },
         "mode": "lines",
         "showlegend": false,
         "type": "scatter3d",
         "x": [
          0.6333572312611383,
          1.1321392562611383,
          1.6309212812611382,
          2.1297033062611384,
          2.6284853312611385,
          3.1272673562611386,
          3.6260493812611387
         ],
         "y": [
          11.01411605945133,
          11.01411605945133,
          11.01411605945133,
          11.01411605945133,
          11.01411605945133,
          11.01411605945133,
          11.01411605945133
         ],
         "z": [
          1.9271080378828147,
          1.9619862728828148,
          1.9968645078828149,
          2.0317427428828148,
          2.0666209778828146,
          2.1014992128828145,
          2.1363774478828144
         ]
        },
        {
         "line": {
          "color": "grey"
         },
         "mode": "lines",
         "showlegend": false,
         "type": "scatter3d",
         "x": [
          0.6363511779556026,
          1.1351332029556027,
          1.6339152279556028,
          2.132697252955603,
          2.631479277955603,
          3.1302613029556032,
          3.6290433279556034
         ],
         "y": [
          12.560361233610715,
          12.560361233610715,
          12.560361233610715,
          12.560361233610715,
          12.560361233610715,
          12.560361233610715,
          12.560361233610715
         ],
         "z": [
          2.3414550659382627,
          2.3763333009382626,
          2.4112115359382624,
          2.4460897709382623,
          2.480968005938262,
          2.515846240938262,
          2.550724475938262
         ]
        },
        {
         "line": {
          "color": "grey"
         },
         "mode": "lines",
         "showlegend": false,
         "type": "scatter3d",
         "x": [
          0.6395036433911152,
          1.1382856683911151,
          1.6370676933911152,
          2.1358497183911154,
          2.6346317433911155,
          3.1334137683911156,
          3.6321957933911158
         ],
         "y": [
          14.10505116979784,
          14.10505116979784,
          14.10505116979784,
          14.10505116979784,
          14.10505116979784,
          14.10505116979784,
          14.10505116979784
         ],
         "z": [
          2.7600443699726025,
          2.7949226049726024,
          2.8298008399726022,
          2.864679074972602,
          2.899557309972602,
          2.934435544972602,
          2.9693137799726017
         ]
        },
        {
         "line": {
          "color": "grey"
         },
         "mode": "lines",
         "showlegend": false,
         "type": "scatter3d",
         "x": [
          0.6427242671982645,
          1.1415062921982644,
          1.6402883171982645,
          2.1390703421982646,
          2.6378523671982648,
          3.136634392198265,
          3.635416417198265
         ],
         "y": [
          15.649127880706057,
          15.649127880706057,
          15.649127880706057,
          15.649127880706057,
          15.649127880706057,
          15.649127880706057,
          15.649127880706057
         ],
         "z": [
          3.1800322430715875,
          3.2149104780715874,
          3.2497887130715872,
          3.284666948071587,
          3.319545183071587,
          3.354423418071587,
          3.3893016530715867
         ]
        },
        {
         "line": {
          "color": "blue",
          "width": 4
         },
         "marker": {
          "color": "blue",
          "size": 2
         },
         "name": "Beam nodes",
         "type": "scatter3d",
         "x": [
          0,
          -0.00028579243604587903,
          -0.00024413566457136965
         ],
         "y": [
          0,
          1.5983197854961886,
          3.189123478291207
         ],
         "z": [
          0,
          0.06480585871878158,
          0.23296187845350708
         ]
        },
        {
         "line": {
          "color": "blue",
          "width": 4
         },
         "marker": {
          "color": "blue",
          "size": 2
         },
         "showlegend": false,
         "type": "scatter3d",
         "x": [
          -0.00024413566457136965,
          0.00034634508676253543,
          0.0015801969398122396
         ],
         "y": [
          3.189123478291207,
          4.76950140303702,
          6.338899718912307
         ],
         "z": [
          0.23296187845350708,
          0.4819139740068736,
          0.7927351016367141
         ]
        },
        {
         "line": {
          "color": "blue",
          "width": 4
         },
         "marker": {
          "color": "blue",
          "size": 2
         },
         "showlegend": false,
         "type": "scatter3d",
         "x": [
          0.0015801969398122396,
          0.0034331129613209446,
          0.005811799278088071
         ],
         "y": [
          6.338899718912307,
          7.898964665898996,
          9.451696104267947
         ],
         "z": [
          0.7927351016367141,
          1.1478272940043588,
          1.5337457050532337
         ]
        },
        {
         "line": {
          "color": "blue",
          "width": 4
         },
         "marker": {
          "color": "blue",
          "size": 2
         },
         "showlegend": false,
         "type": "scatter3d",
         "x": [
          0.005811799278088071,
          0.008586741231584469,
          0.011614739889419034
         ],
         "y": [
          9.451696104267947,
          10.999687183963612,
          12.544831699217387
         ],
         "z": [
          1.5337457050532337,
          1.9383556868590297,
          2.353705174880227
         ]
        },
        {
         "line": {
          "color": "blue",
          "width": 4
         },
         "marker": {
          "color": "blue",
          "size": 2
         },
         "showlegend": false,
         "type": "scatter3d",
         "x": [
          0.011614739889419034,
          0.014787504876946973,
          0.018019980929258876
         ],
         "y": [
          12.544831699217387,
          14.088898820986282,
          15.632623068190044
         ],
         "z": [
          2.353705174880227,
          2.7730526122549777,
          3.1936597150495056
         ]
        }
       ],
       "layout": {
        "template": {
         "data": {
          "bar": [
           {
            "error_x": {
             "color": "#2a3f5f"
            },
            "error_y": {
             "color": "#2a3f5f"
            },
            "marker": {
             "line": {
              "color": "#E5ECF6",
              "width": 0.5
             },
             "pattern": {
              "fillmode": "overlay",
              "size": 10,
              "solidity": 0.2
             }
            },
            "type": "bar"
           }
          ],
          "barpolar": [
           {
            "marker": {
             "line": {
              "color": "#E5ECF6",
              "width": 0.5
             },
             "pattern": {
              "fillmode": "overlay",
              "size": 10,
              "solidity": 0.2
             }
            },
            "type": "barpolar"
           }
          ],
          "carpet": [
           {
            "aaxis": {
             "endlinecolor": "#2a3f5f",
             "gridcolor": "white",
             "linecolor": "white",
             "minorgridcolor": "white",
             "startlinecolor": "#2a3f5f"
            },
            "baxis": {
             "endlinecolor": "#2a3f5f",
             "gridcolor": "white",
             "linecolor": "white",
             "minorgridcolor": "white",
             "startlinecolor": "#2a3f5f"
            },
            "type": "carpet"
           }
          ],
          "choropleth": [
           {
            "colorbar": {
             "outlinewidth": 0,
             "ticks": ""
            },
            "type": "choropleth"
           }
          ],
          "contour": [
           {
            "colorbar": {
             "outlinewidth": 0,
             "ticks": ""
            },
            "colorscale": [
             [
              0,
              "#0d0887"
             ],
             [
              0.1111111111111111,
              "#46039f"
             ],
             [
              0.2222222222222222,
              "#7201a8"
             ],
             [
              0.3333333333333333,
              "#9c179e"
             ],
             [
              0.4444444444444444,
              "#bd3786"
             ],
             [
              0.5555555555555556,
              "#d8576b"
             ],
             [
              0.6666666666666666,
              "#ed7953"
             ],
             [
              0.7777777777777778,
              "#fb9f3a"
             ],
             [
              0.8888888888888888,
              "#fdca26"
             ],
             [
              1,
              "#f0f921"
             ]
            ],
            "type": "contour"
           }
          ],
          "contourcarpet": [
           {
            "colorbar": {
             "outlinewidth": 0,
             "ticks": ""
            },
            "type": "contourcarpet"
           }
          ],
          "heatmap": [
           {
            "colorbar": {
             "outlinewidth": 0,
             "ticks": ""
            },
            "colorscale": [
             [
              0,
              "#0d0887"
             ],
             [
              0.1111111111111111,
              "#46039f"
             ],
             [
              0.2222222222222222,
              "#7201a8"
             ],
             [
              0.3333333333333333,
              "#9c179e"
             ],
             [
              0.4444444444444444,
              "#bd3786"
             ],
             [
              0.5555555555555556,
              "#d8576b"
             ],
             [
              0.6666666666666666,
              "#ed7953"
             ],
             [
              0.7777777777777778,
              "#fb9f3a"
             ],
             [
              0.8888888888888888,
              "#fdca26"
             ],
             [
              1,
              "#f0f921"
             ]
            ],
            "type": "heatmap"
           }
          ],
          "heatmapgl": [
           {
            "colorbar": {
             "outlinewidth": 0,
             "ticks": ""
            },
            "colorscale": [
             [
              0,
              "#0d0887"
             ],
             [
              0.1111111111111111,
              "#46039f"
             ],
             [
              0.2222222222222222,
              "#7201a8"
             ],
             [
              0.3333333333333333,
              "#9c179e"
             ],
             [
              0.4444444444444444,
              "#bd3786"
             ],
             [
              0.5555555555555556,
              "#d8576b"
             ],
             [
              0.6666666666666666,
              "#ed7953"
             ],
             [
              0.7777777777777778,
              "#fb9f3a"
             ],
             [
              0.8888888888888888,
              "#fdca26"
             ],
             [
              1,
              "#f0f921"
             ]
            ],
            "type": "heatmapgl"
           }
          ],
          "histogram": [
           {
            "marker": {
             "pattern": {
              "fillmode": "overlay",
              "size": 10,
              "solidity": 0.2
             }
            },
            "type": "histogram"
           }
          ],
          "histogram2d": [
           {
            "colorbar": {
             "outlinewidth": 0,
             "ticks": ""
            },
            "colorscale": [
             [
              0,
              "#0d0887"
             ],
             [
              0.1111111111111111,
              "#46039f"
             ],
             [
              0.2222222222222222,
              "#7201a8"
             ],
             [
              0.3333333333333333,
              "#9c179e"
             ],
             [
              0.4444444444444444,
              "#bd3786"
             ],
             [
              0.5555555555555556,
              "#d8576b"
             ],
             [
              0.6666666666666666,
              "#ed7953"
             ],
             [
              0.7777777777777778,
              "#fb9f3a"
             ],
             [
              0.8888888888888888,
              "#fdca26"
             ],
             [
              1,
              "#f0f921"
             ]
            ],
            "type": "histogram2d"
           }
          ],
          "histogram2dcontour": [
           {
            "colorbar": {
             "outlinewidth": 0,
             "ticks": ""
            },
            "colorscale": [
             [
              0,
              "#0d0887"
             ],
             [
              0.1111111111111111,
              "#46039f"
             ],
             [
              0.2222222222222222,
              "#7201a8"
             ],
             [
              0.3333333333333333,
              "#9c179e"
             ],
             [
              0.4444444444444444,
              "#bd3786"
             ],
             [
              0.5555555555555556,
              "#d8576b"
             ],
             [
              0.6666666666666666,
              "#ed7953"
             ],
             [
              0.7777777777777778,
              "#fb9f3a"
             ],
             [
              0.8888888888888888,
              "#fdca26"
             ],
             [
              1,
              "#f0f921"
             ]
            ],
            "type": "histogram2dcontour"
           }
          ],
          "mesh3d": [
           {
            "colorbar": {
             "outlinewidth": 0,
             "ticks": ""
            },
            "type": "mesh3d"
           }
          ],
          "parcoords": [
           {
            "line": {
             "colorbar": {
              "outlinewidth": 0,
              "ticks": ""
             }
            },
            "type": "parcoords"
           }
          ],
          "pie": [
           {
            "automargin": true,
            "type": "pie"
           }
          ],
          "scatter": [
           {
            "fillpattern": {
             "fillmode": "overlay",
             "size": 10,
             "solidity": 0.2
            },
            "type": "scatter"
           }
          ],
          "scatter3d": [
           {
            "line": {
             "colorbar": {
              "outlinewidth": 0,
              "ticks": ""
             }
            },
            "marker": {
             "colorbar": {
              "outlinewidth": 0,
              "ticks": ""
             }
            },
            "type": "scatter3d"
           }
          ],
          "scattercarpet": [
           {
            "marker": {
             "colorbar": {
              "outlinewidth": 0,
              "ticks": ""
             }
            },
            "type": "scattercarpet"
           }
          ],
          "scattergeo": [
           {
            "marker": {
             "colorbar": {
              "outlinewidth": 0,
              "ticks": ""
             }
            },
            "type": "scattergeo"
           }
          ],
          "scattergl": [
           {
            "marker": {
             "colorbar": {
              "outlinewidth": 0,
              "ticks": ""
             }
            },
            "type": "scattergl"
           }
          ],
          "scattermapbox": [
           {
            "marker": {
             "colorbar": {
              "outlinewidth": 0,
              "ticks": ""
             }
            },
            "type": "scattermapbox"
           }
          ],
          "scatterpolar": [
           {
            "marker": {
             "colorbar": {
              "outlinewidth": 0,
              "ticks": ""
             }
            },
            "type": "scatterpolar"
           }
          ],
          "scatterpolargl": [
           {
            "marker": {
             "colorbar": {
              "outlinewidth": 0,
              "ticks": ""
             }
            },
            "type": "scatterpolargl"
           }
          ],
          "scatterternary": [
           {
            "marker": {
             "colorbar": {
              "outlinewidth": 0,
              "ticks": ""
             }
            },
            "type": "scatterternary"
           }
          ],
          "surface": [
           {
            "colorbar": {
             "outlinewidth": 0,
             "ticks": ""
            },
            "colorscale": [
             [
              0,
              "#0d0887"
             ],
             [
              0.1111111111111111,
              "#46039f"
             ],
             [
              0.2222222222222222,
              "#7201a8"
             ],
             [
              0.3333333333333333,
              "#9c179e"
             ],
             [
              0.4444444444444444,
              "#bd3786"
             ],
             [
              0.5555555555555556,
              "#d8576b"
             ],
             [
              0.6666666666666666,
              "#ed7953"
             ],
             [
              0.7777777777777778,
              "#fb9f3a"
             ],
             [
              0.8888888888888888,
              "#fdca26"
             ],
             [
              1,
              "#f0f921"
             ]
            ],
            "type": "surface"
           }
          ],
          "table": [
           {
            "cells": {
             "fill": {
              "color": "#EBF0F8"
             },
             "line": {
              "color": "white"
             }
            },
            "header": {
             "fill": {
              "color": "#C8D4E3"
             },
             "line": {
              "color": "white"
             }
            },
            "type": "table"
           }
          ]
         },
         "layout": {
          "annotationdefaults": {
           "arrowcolor": "#2a3f5f",
           "arrowhead": 0,
           "arrowwidth": 1
          },
          "autotypenumbers": "strict",
          "coloraxis": {
           "colorbar": {
            "outlinewidth": 0,
            "ticks": ""
           }
          },
          "colorscale": {
           "diverging": [
            [
             0,
             "#8e0152"
            ],
            [
             0.1,
             "#c51b7d"
            ],
            [
             0.2,
             "#de77ae"
            ],
            [
             0.3,
             "#f1b6da"
            ],
            [
             0.4,
             "#fde0ef"
            ],
            [
             0.5,
             "#f7f7f7"
            ],
            [
             0.6,
             "#e6f5d0"
            ],
            [
             0.7,
             "#b8e186"
            ],
            [
             0.8,
             "#7fbc41"
            ],
            [
             0.9,
             "#4d9221"
            ],
            [
             1,
             "#276419"
            ]
           ],
           "sequential": [
            [
             0,
             "#0d0887"
            ],
            [
             0.1111111111111111,
             "#46039f"
            ],
            [
             0.2222222222222222,
             "#7201a8"
            ],
            [
             0.3333333333333333,
             "#9c179e"
            ],
            [
             0.4444444444444444,
             "#bd3786"
            ],
            [
             0.5555555555555556,
             "#d8576b"
            ],
            [
             0.6666666666666666,
             "#ed7953"
            ],
            [
             0.7777777777777778,
             "#fb9f3a"
            ],
            [
             0.8888888888888888,
             "#fdca26"
            ],
            [
             1,
             "#f0f921"
            ]
           ],
           "sequentialminus": [
            [
             0,
             "#0d0887"
            ],
            [
             0.1111111111111111,
             "#46039f"
            ],
            [
             0.2222222222222222,
             "#7201a8"
            ],
            [
             0.3333333333333333,
             "#9c179e"
            ],
            [
             0.4444444444444444,
             "#bd3786"
            ],
            [
             0.5555555555555556,
             "#d8576b"
            ],
            [
             0.6666666666666666,
             "#ed7953"
            ],
            [
             0.7777777777777778,
             "#fb9f3a"
            ],
            [
             0.8888888888888888,
             "#fdca26"
            ],
            [
             1,
             "#f0f921"
            ]
           ]
          },
          "colorway": [
           "#636efa",
           "#EF553B",
           "#00cc96",
           "#ab63fa",
           "#FFA15A",
           "#19d3f3",
           "#FF6692",
           "#B6E880",
           "#FF97FF",
           "#FECB52"
          ],
          "font": {
           "color": "#2a3f5f"
          },
          "geo": {
           "bgcolor": "white",
           "lakecolor": "white",
           "landcolor": "#E5ECF6",
           "showlakes": true,
           "showland": true,
           "subunitcolor": "white"
          },
          "hoverlabel": {
           "align": "left"
          },
          "hovermode": "closest",
          "mapbox": {
           "style": "light"
          },
          "paper_bgcolor": "white",
          "plot_bgcolor": "#E5ECF6",
          "polar": {
           "angularaxis": {
            "gridcolor": "white",
            "linecolor": "white",
            "ticks": ""
           },
           "bgcolor": "#E5ECF6",
           "radialaxis": {
            "gridcolor": "white",
            "linecolor": "white",
            "ticks": ""
           }
          },
          "scene": {
           "xaxis": {
            "backgroundcolor": "#E5ECF6",
            "gridcolor": "white",
            "gridwidth": 2,
            "linecolor": "white",
            "showbackground": true,
            "ticks": "",
            "zerolinecolor": "white"
           },
           "yaxis": {
            "backgroundcolor": "#E5ECF6",
            "gridcolor": "white",
            "gridwidth": 2,
            "linecolor": "white",
            "showbackground": true,
            "ticks": "",
            "zerolinecolor": "white"
           },
           "zaxis": {
            "backgroundcolor": "#E5ECF6",
            "gridcolor": "white",
            "gridwidth": 2,
            "linecolor": "white",
            "showbackground": true,
            "ticks": "",
            "zerolinecolor": "white"
           }
          },
          "shapedefaults": {
           "line": {
            "color": "#2a3f5f"
           }
          },
          "ternary": {
           "aaxis": {
            "gridcolor": "white",
            "linecolor": "white",
            "ticks": ""
           },
           "baxis": {
            "gridcolor": "white",
            "linecolor": "white",
            "ticks": ""
           },
           "bgcolor": "#E5ECF6",
           "caxis": {
            "gridcolor": "white",
            "linecolor": "white",
            "ticks": ""
           }
          },
          "title": {
           "x": 0.05
          },
          "xaxis": {
           "automargin": true,
           "gridcolor": "white",
           "linecolor": "white",
           "ticks": "",
           "title": {
            "standoff": 15
           },
           "zerolinecolor": "white",
           "zerolinewidth": 2
          },
          "yaxis": {
           "automargin": true,
           "gridcolor": "white",
           "linecolor": "white",
           "ticks": "",
           "title": {
            "standoff": 15
           },
           "zerolinecolor": "white",
           "zerolinewidth": 2
          }
         }
        }
       }
      },
      "text/html": [
       "<div>                            <div id=\"0589978f-57b6-4237-add4-03124860283d\" class=\"plotly-graph-div\" style=\"height:525px; width:100%;\"></div>            <script type=\"text/javascript\">                require([\"plotly\"], function(Plotly) {                    window.PLOTLYENV=window.PLOTLYENV || {};                                    if (document.getElementById(\"0589978f-57b6-4237-add4-03124860283d\")) {                    Plotly.newPlot(                        \"0589978f-57b6-4237-add4-03124860283d\",                        [{\"line\":{\"color\":\"grey\"},\"mode\":\"lines\",\"name\":\"Aero surface\",\"surfaceaxis\":2,\"x\":[-0.3750000000000001,0.12500000000000003,0.12471291254908567,-0.3752819073914405,-0.3750000000000001],\"y\":[-6.108137611629605e-18,2.0360458705432016e-18,1.5987447917692126,1.5970447666771168,-6.108137611629605e-18],\"z\":[-3.2473352108830995e-17,1.0824450702943665e-17,0.06442754442094556,0.06594080161228966,-3.2473352108830995e-17],\"type\":\"scatter3d\"},{\"line\":{\"color\":\"grey\"},\"mode\":\"lines\",\"showlegend\":false,\"surfaceaxis\":2,\"x\":[-0.3752819073914405,0.12471291254908567,0.12475049239138303,-0.3752280198324346,-0.3752819073914405],\"y\":[1.5970447666771168,1.5987447917692126,3.1900228830000694,3.18642526416462,1.5970447666771168],\"z\":[0.06594080161228966,0.06442754442094556,0.23223110603798675,0.2351541957000681,0.06594080161228966],\"type\":\"scatter3d\"},{\"line\":{\"color\":\"grey\"},\"mode\":\"lines\",\"showlegend\":false,\"surfaceaxis\":2,\"x\":[-0.3752280198324346,0.12475049239138303,0.12533464640421535,-0.374618558865596,-0.3752280198324346],\"y\":[3.18642526416462,3.1900228830000694,4.770866585406132,4.76540585592968,3.18642526416462],\"z\":[0.2351541957000681,0.23223110603798675,0.48088401727152985,0.4850038442129048,0.2351541957000681],\"type\":\"scatter3d\"},{\"line\":{\"color\":\"grey\"},\"mode\":\"lines\",\"showlegend\":false,\"surfaceaxis\":2,\"x\":[-0.374618558865596,0.12533464640421535,0.12656032220828992,-0.37336017886562084,-0.374618558865596],\"y\":[4.76540585592968,4.770866585406132,6.3407159799241075,6.333450935876906,4.76540585592968],\"z\":[0.4850038442129048,0.48088401727152985,0.7914430165727047,0.7966113568287424,0.4850038442129048],\"type\":\"scatter3d\"},{\"line\":{\"color\":\"grey\"},\"mode\":\"lines\",\"showlegend\":false,\"surfaceaxis\":2,\"x\":[-0.37336017886562084,0.12656032220828992,0.12840469430268917,-0.37148163106278376,-0.37336017886562084],\"y\":[6.333450935876906,6.3407159799241075,7.901167557776862,7.892355990265397,6.333450935876906],\"z\":[0.7966113568287424,0.7914430165727047,1.1463269192471,1.152328418276135,0.7966113568287424],\"type\":\"scatter3d\"},{\"line\":{\"color\":\"grey\"},\"mode\":\"lines\",\"showlegend\":false,\"surfaceaxis\":2,\"x\":[-0.37148163106278376,0.12840469430268917,0.13077463389585856,-0.36907670457522335,-0.37148163106278376],\"y\":[7.892355990265397,7.901167557776862,9.454239923242124,9.444064647345416,7.892355990265397],\"z\":[1.152328418276135,1.1463269192471,1.5320667323559114,1.5387826231452006,1.152328418276135],\"type\":\"scatter3d\"},{\"line\":{\"color\":\"grey\"},\"mode\":\"lines\",\"showlegend\":false,\"surfaceaxis\":2,\"x\":[-0.36907670457522335,0.13077463389585856,0.1335424186352248,-0.36628029097933656,-0.36907670457522335],\"y\":[9.444064647345416,9.454239923242124,11.002481755280268,10.991303470013644,9.444064647345416],\"z\":[1.5387826231452006,1.5320667323559114,1.9365476338306338,1.9437798459442173,1.5387826231452006],\"type\":\"scatter3d\"},{\"line\":{\"color\":\"grey\"},\"mode\":\"lines\",\"showlegend\":false,\"surfaceaxis\":2,\"x\":[-0.36628029097933656,0.1335424186352248,0.13656440316197452,-0.3632342499282475,-0.36628029097933656],\"y\":[10.991303470013644,11.002481755280268,12.547820339033269,12.535865779769741,10.991303470013644],\"z\":[1.9437798459442173,1.9365476338306338,2.3517947612794794,2.3594364156824703,1.9437798459442173],\"type\":\"scatter3d\"},{\"line\":{\"color\":\"grey\"},\"mode\":\"lines\",\"showlegend\":false,\"surfaceaxis\":2,\"x\":[-0.3632342499282475,0.13656440316197452,0.13973398074458,-0.3600519227259521,-0.3632342499282475],\"y\":[12.535865779769741,12.547820339033269,14.091985227144356,14.07963960251206,12.535865779769741],\"z\":[2.3594364156824703,2.3517947612794794,2.771089893404402,2.778940768806704,2.3594364156824703],\"type\":\"scatter3d\"},{\"line\":{\"color\":\"grey\"},\"mode\":\"lines\",\"showlegend\":false,\"surfaceaxis\":2,\"x\":[-0.3600519227259521,0.13973398074458,0.14296499496162673,-0.3568150611678447,-0.3600519227259521],\"y\":[14.07963960251206,14.091985227144356,15.635752894334065,15.623233589757982,14.07963960251206],\"z\":[2.778940768806704,2.771089893404402,3.191672843951623,3.1996203283431535,2.778940768806704],\"type\":\"scatter3d\"},{\"line\":{\"color\":\"grey\"},\"mode\":\"lines\",\"showlegend\":false,\"surfaceaxis\":2,\"x\":[0.12500000000000003,0.6250000000000001,0.6247077324896119,0.12471291254908567,0.12500000000000003],\"y\":[2.0360458705432016e-18,1.0180229352716008e-17,1.6004448168613084,1.5987447917692126,2.0360458705432016e-18],\"z\":[1.0824450702943665e-17,5.412225351471832e-17,0.06291428722960146,0.06442754442094556,1.0824450702943665e-17],\"type\":\"scatter3d\"},{\"line\":{\"color\":\"grey\"},\"mode\":\"lines\",\"showlegend\":false,\"surfaceaxis\":2,\"x\":[0.12471291254908567,0.6247077324896119,0.6247290046152008,0.12475049239138303,0.12471291254908567],\"y\":[1.5987447917692126,1.6004448168613084,3.193620501835519,3.1900228830000694,1.5987447917692126],\"z\":[0.06442754442094556,0.06291428722960146,0.2293080163759054,0.23223110603798675,0.06442754442094556],\"type\":\"scatter3d\"},{\"line\":{\"color\":\"grey\"},\"mode\":\"lines\",\"showlegend\":false,\"surfaceaxis\":2,\"x\":[0.12475049239138303,0.6247290046152008,0.6252878516740267,0.12533464640421535,0.12475049239138303],\"y\":[3.1900228830000694,3.193620501835519,4.776327314882584,4.770866585406132,3.1900228830000694],\"z\":[0.23223110603798675,0.2293080163759054,0.4767641903301549,0.48088401727152985,0.23223110603798675],\"type\":\"scatter3d\"},{\"line\":{\"color\":\"grey\"},\"mode\":\"lines\",\"showlegend\":false,\"surfaceaxis\":2,\"x\":[0.12533464640421535,0.6252878516740267,0.6264808232822007,0.12656032220828992,0.12533464640421535],\"y\":[4.770866585406132,4.776327314882584,6.347981023971309,6.3407159799241075,4.770866585406132],\"z\":[0.48088401727152985,0.4767641903301549,0.7862746763166669,0.7914430165727047,0.48088401727152985],\"type\":\"scatter3d\"},{\"line\":{\"color\":\"grey\"},\"mode\":\"lines\",\"showlegend\":false,\"surfaceaxis\":2,\"x\":[0.12656032220828992,0.6264808232822007,0.628291019668162,0.12840469430268917,0.12656032220828992],\"y\":[6.3407159799241075,6.347981023971309,7.909979125288327,7.901167557776862,6.3407159799241075],\"z\":[0.7914430165727047,0.7862746763166669,1.1403254202180648,1.1463269192471,0.7914430165727047],\"type\":\"scatter3d\"},{\"line\":{\"color\":\"grey\"},\"mode\":\"lines\",\"showlegend\":false,\"surfaceaxis\":2,\"x\":[0.12840469430268917,0.628291019668162,0.6306259723669405,0.13077463389585856,0.12840469430268917],\"y\":[7.901167557776862,7.909979125288327,9.464415199138832,9.454239923242124,7.901167557776862],\"z\":[1.1463269192471,1.1403254202180648,1.5253508415666222,1.5320667323559114,1.1463269192471],\"type\":\"scatter3d\"},{\"line\":{\"color\":\"grey\"},\"mode\":\"lines\",\"showlegend\":false,\"surfaceaxis\":2,\"x\":[0.13077463389585856,0.6306259723669405,0.6333651282497862,0.1335424186352248,0.13077463389585856],\"y\":[9.454239923242124,9.464415199138832,11.013660040546892,11.002481755280268,9.454239923242124],\"z\":[1.5320667323559114,1.5253508415666222,1.9293154217170503,1.9365476338306338,1.5320667323559114],\"type\":\"scatter3d\"},{\"line\":{\"color\":\"grey\"},\"mode\":\"lines\",\"showlegend\":false,\"surfaceaxis\":2,\"x\":[0.1335424186352248,0.6333651282497862,0.6363630562521966,0.13656440316197452,0.1335424186352248],\"y\":[11.002481755280268,11.013660040546892,12.559774898296796,12.547820339033269,11.002481755280268],\"z\":[1.9365476338306338,1.9293154217170503,2.3441531068764885,2.3517947612794794,1.9365476338306338],\"type\":\"scatter3d\"},{\"line\":{\"color\":\"grey\"},\"mode\":\"lines\",\"showlegend\":false,\"surfaceaxis\":2,\"x\":[0.13656440316197452,0.6363630562521966,0.6395198842151122,0.13973398074458,0.13656440316197452],\"y\":[12.547820339033269,12.559774898296796,14.104330851776652,14.091985227144356,12.547820339033269],\"z\":[2.3517947612794794,2.3441531068764885,2.7632390180021,2.771089893404402,2.3517947612794794],\"type\":\"scatter3d\"},{\"line\":{\"color\":\"grey\"},\"mode\":\"lines\",\"showlegend\":false,\"surfaceaxis\":2,\"x\":[0.13973398074458,0.6395198842151122,0.6427450510910983,0.14296499496162673,0.13973398074458],\"y\":[14.091985227144356,14.104330851776652,15.648272198910147,15.635752894334065,14.091985227144356],\"z\":[2.771089893404402,2.7632390180021,3.1837253595600923,3.191672843951623,2.771089893404402],\"type\":\"scatter3d\"},{\"line\":{\"color\":\"black\"},\"mode\":\"lines\",\"showlegend\":false,\"x\":[-0.3750000000000001,-0.3752819073914405,-0.3752280198324346,-0.374618558865596,-0.37336017886562084,-0.37148163106278376,-0.36907670457522335,-0.36628029097933656,-0.3632342499282475,-0.3600519227259521,-0.3568150611678447],\"y\":[-6.108137611629605e-18,1.5970447666771168,3.18642526416462,4.76540585592968,6.333450935876906,7.892355990265397,9.444064647345416,10.991303470013644,12.535865779769741,14.07963960251206,15.623233589757982],\"z\":[-3.2473352108830995e-17,0.06594080161228966,0.2351541957000681,0.4850038442129048,0.7966113568287424,1.152328418276135,1.5387826231452006,1.9437798459442173,2.3594364156824703,2.778940768806704,3.1996203283431535],\"type\":\"scatter3d\"},{\"line\":{\"color\":\"black\"},\"mode\":\"lines\",\"showlegend\":false,\"x\":[0.12500000000000003,0.12471291254908567,0.12475049239138303,0.12533464640421535,0.12656032220828992,0.12840469430268917,0.13077463389585856,0.1335424186352248,0.13656440316197452,0.13973398074458,0.14296499496162673],\"y\":[2.0360458705432016e-18,1.5987447917692126,3.1900228830000694,4.770866585406132,6.3407159799241075,7.901167557776862,9.454239923242124,11.002481755280268,12.547820339033269,14.091985227144356,15.635752894334065],\"z\":[1.0824450702943665e-17,0.06442754442094556,0.23223110603798675,0.48088401727152985,0.7914430165727047,1.1463269192471,1.5320667323559114,1.9365476338306338,2.3517947612794794,2.771089893404402,3.191672843951623],\"type\":\"scatter3d\"},{\"line\":{\"color\":\"black\"},\"mode\":\"lines\",\"showlegend\":false,\"x\":[0.6250000000000001,0.6247077324896119,0.6247290046152008,0.6252878516740267,0.6264808232822007,0.628291019668162,0.6306259723669405,0.6333651282497862,0.6363630562521966,0.6395198842151122,0.6427450510910983],\"y\":[1.0180229352716008e-17,1.6004448168613084,3.193620501835519,4.776327314882584,6.347981023971309,7.909979125288327,9.464415199138832,11.013660040546892,12.559774898296796,14.104330851776652,15.648272198910147],\"z\":[5.412225351471832e-17,0.06291428722960146,0.2293080163759054,0.4767641903301549,0.7862746763166669,1.1403254202180648,1.5253508415666222,1.9293154217170503,2.3441531068764885,2.7632390180021,3.1837253595600923],\"type\":\"scatter3d\"},{\"line\":{\"color\":\"black\"},\"mode\":\"lines\",\"showlegend\":false,\"x\":[-0.3750000000000001,0.12500000000000003,0.6250000000000001],\"y\":[-6.108137611629605e-18,2.0360458705432016e-18,1.0180229352716008e-17],\"z\":[-3.2473352108830995e-17,1.0824450702943665e-17,5.412225351471832e-17],\"type\":\"scatter3d\"},{\"line\":{\"color\":\"black\"},\"mode\":\"lines\",\"showlegend\":false,\"x\":[-0.3752819073914405,0.12471291254908567,0.6247077324896119],\"y\":[1.5970447666771168,1.5987447917692126,1.6004448168613084],\"z\":[0.06594080161228966,0.06442754442094556,0.06291428722960146],\"type\":\"scatter3d\"},{\"line\":{\"color\":\"black\"},\"mode\":\"lines\",\"showlegend\":false,\"x\":[-0.3752280198324346,0.12475049239138303,0.6247290046152008],\"y\":[3.18642526416462,3.1900228830000694,3.193620501835519],\"z\":[0.2351541957000681,0.23223110603798675,0.2293080163759054],\"type\":\"scatter3d\"},{\"line\":{\"color\":\"black\"},\"mode\":\"lines\",\"showlegend\":false,\"x\":[-0.374618558865596,0.12533464640421535,0.6252878516740267],\"y\":[4.76540585592968,4.770866585406132,4.776327314882584],\"z\":[0.4850038442129048,0.48088401727152985,0.4767641903301549],\"type\":\"scatter3d\"},{\"line\":{\"color\":\"black\"},\"mode\":\"lines\",\"showlegend\":false,\"x\":[-0.37336017886562084,0.12656032220828992,0.6264808232822007],\"y\":[6.333450935876906,6.3407159799241075,6.347981023971309],\"z\":[0.7966113568287424,0.7914430165727047,0.7862746763166669],\"type\":\"scatter3d\"},{\"line\":{\"color\":\"black\"},\"mode\":\"lines\",\"showlegend\":false,\"x\":[-0.37148163106278376,0.12840469430268917,0.628291019668162],\"y\":[7.892355990265397,7.901167557776862,7.909979125288327],\"z\":[1.152328418276135,1.1463269192471,1.1403254202180648],\"type\":\"scatter3d\"},{\"line\":{\"color\":\"black\"},\"mode\":\"lines\",\"showlegend\":false,\"x\":[-0.36907670457522335,0.13077463389585856,0.6306259723669405],\"y\":[9.444064647345416,9.454239923242124,9.464415199138832],\"z\":[1.5387826231452006,1.5320667323559114,1.5253508415666222],\"type\":\"scatter3d\"},{\"line\":{\"color\":\"black\"},\"mode\":\"lines\",\"showlegend\":false,\"x\":[-0.36628029097933656,0.1335424186352248,0.6333651282497862],\"y\":[10.991303470013644,11.002481755280268,11.013660040546892],\"z\":[1.9437798459442173,1.9365476338306338,1.9293154217170503],\"type\":\"scatter3d\"},{\"line\":{\"color\":\"black\"},\"mode\":\"lines\",\"showlegend\":false,\"x\":[-0.3632342499282475,0.13656440316197452,0.6363630562521966],\"y\":[12.535865779769741,12.547820339033269,12.559774898296796],\"z\":[2.3594364156824703,2.3517947612794794,2.3441531068764885],\"type\":\"scatter3d\"},{\"line\":{\"color\":\"black\"},\"mode\":\"lines\",\"showlegend\":false,\"x\":[-0.3600519227259521,0.13973398074458,0.6395198842151122],\"y\":[14.07963960251206,14.091985227144356,14.104330851776652],\"z\":[2.778940768806704,2.771089893404402,2.7632390180021],\"type\":\"scatter3d\"},{\"line\":{\"color\":\"black\"},\"mode\":\"lines\",\"showlegend\":false,\"x\":[-0.3568150611678447,0.14296499496162673,0.6427450510910983],\"y\":[15.623233589757982,15.635752894334065,15.648272198910147],\"z\":[3.1996203283431535,3.191672843951623,3.1837253595600923],\"type\":\"scatter3d\"},{\"line\":{\"color\":\"lightskyblue\"},\"mode\":\"lines\",\"name\":\"Aero wake\",\"surfaceaxis\":2,\"x\":[0.6250000000000001,1.1237820250000001,1.1234903019578533,0.6247082769578531,0.6250000000000001],\"y\":[1.0180229352716008e-17,1.0180229352716008e-17,1.6004491739305713,1.6004491739305713,1.0180229352716008e-17],\"z\":[5.412225351471832e-17,0.034878235000000056,0.09772476626293475,0.06284653126293474,5.412225351471832e-17],\"type\":\"scatter3d\"},{\"line\":{\"color\":\"lightskyblue\"},\"mode\":\"lines\",\"showlegend\":false,\"surfaceaxis\":2,\"x\":[0.6247082769578531,1.1234903019578533,1.1235119555669009,0.624729930566901,0.6247082769578531],\"y\":[1.6004491739305713,1.6004491739305713,3.193644198216304,3.193644198216304,1.6004491739305713],\"z\":[0.06284653126293474,0.09772476626293475,0.263937691787479,0.22905945678747902,0.06284653126293474],\"type\":\"scatter3d\"},{\"line\":{\"color\":\"lightskyblue\"},\"mode\":\"lines\",\"showlegend\":false,\"surfaceaxis\":2,\"x\":[0.624729930566901,1.1235119555669009,1.1240707248795339,0.625288699879534,0.624729930566901],\"y\":[3.193644198216304,3.193644198216304,4.776393179361209,4.776393179361209,3.193644198216304],\"z\":[0.22905945678747902,0.263937691787479,0.5111186403929551,0.4762404053929551,0.22905945678747902],\"type\":\"scatter3d\"},{\"line\":{\"color\":\"lightskyblue\"},\"mode\":\"lines\",\"showlegend\":false,\"surfaceaxis\":2,\"x\":[0.625288699879534,1.1240707248795339,1.1252628235062359,0.626480798506236,0.625288699879534],\"y\":[4.776393179361209,4.776393179361209,6.3481145817053655,6.3481145817053655,4.776393179361209],\"z\":[0.4762404053929551,0.5111186403929551,0.8202783139365032,0.7854000789365032,0.4762404053929551],\"type\":\"scatter3d\"},{\"line\":{\"color\":\"lightskyblue\"},\"mode\":\"lines\",\"showlegend\":false,\"surfaceaxis\":2,\"x\":[0.626480798506236,1.1252628235062359,1.1270712570078865,0.6282892320078866,0.626480798506236],\"y\":[6.3481145817053655,6.3481145817053655,7.9102033615882466,7.9102033615882466,6.3481145817053655],\"z\":[0.7854000789365032,0.8202783139365032,1.17392092896718,1.1390426939671798,0.7854000789365032],\"type\":\"scatter3d\"},{\"line\":{\"color\":\"lightskyblue\"},\"mode\":\"lines\",\"showlegend\":false,\"surfaceaxis\":2,\"x\":[0.6282892320078866,1.1270712570078865,1.1294035385593049,0.6306215135593048,0.6282892320078866],\"y\":[7.9102033615882466,7.9102033615882466,9.46474886410969,9.46474886410969,7.9102033615882466],\"z\":[1.1390426939671798,1.17392092896718,1.5584971288067608,1.5236188938067607,1.1390426939671798],\"type\":\"scatter3d\"},{\"line\":{\"color\":\"lightskyblue\"},\"mode\":\"lines\",\"showlegend\":false,\"surfaceaxis\":2,\"x\":[0.6306215135593048,1.1294035385593049,1.1321392562611383,0.6333572312611383,0.6306215135593048],\"y\":[9.46474886410969,9.46474886410969,11.01411605945133,11.01411605945133,9.46474886410969],\"z\":[1.5236188938067607,1.5584971288067608,1.9619862728828148,1.9271080378828147,1.5236188938067607],\"type\":\"scatter3d\"},{\"line\":{\"color\":\"lightskyblue\"},\"mode\":\"lines\",\"showlegend\":false,\"surfaceaxis\":2,\"x\":[0.6333572312611383,1.1321392562611383,1.1351332029556027,0.6363511779556026,0.6333572312611383],\"y\":[11.01411605945133,11.01411605945133,12.560361233610715,12.560361233610715,11.01411605945133],\"z\":[1.9271080378828147,1.9619862728828148,2.3763333009382626,2.3414550659382627,1.9271080378828147],\"type\":\"scatter3d\"},{\"line\":{\"color\":\"lightskyblue\"},\"mode\":\"lines\",\"showlegend\":false,\"surfaceaxis\":2,\"x\":[0.6363511779556026,1.1351332029556027,1.1382856683911151,0.6395036433911152,0.6363511779556026],\"y\":[12.560361233610715,12.560361233610715,14.10505116979784,14.10505116979784,12.560361233610715],\"z\":[2.3414550659382627,2.3763333009382626,2.7949226049726024,2.7600443699726025,2.3414550659382627],\"type\":\"scatter3d\"},{\"line\":{\"color\":\"lightskyblue\"},\"mode\":\"lines\",\"showlegend\":false,\"surfaceaxis\":2,\"x\":[0.6395036433911152,1.1382856683911151,1.1415062921982644,0.6427242671982645,0.6395036433911152],\"y\":[14.10505116979784,14.10505116979784,15.649127880706057,15.649127880706057,14.10505116979784],\"z\":[2.7600443699726025,2.7949226049726024,3.2149104780715874,3.1800322430715875,2.7600443699726025],\"type\":\"scatter3d\"},{\"line\":{\"color\":\"lightskyblue\"},\"mode\":\"lines\",\"showlegend\":false,\"surfaceaxis\":2,\"x\":[1.1237820250000001,1.6225640500000003,1.6222723269578534,1.1234903019578533,1.1237820250000001],\"y\":[1.0180229352716008e-17,1.0180229352716008e-17,1.6004491739305713,1.6004491739305713,1.0180229352716008e-17],\"z\":[0.034878235000000056,0.06975647000000006,0.13260300126293476,0.09772476626293475,0.034878235000000056],\"type\":\"scatter3d\"},{\"line\":{\"color\":\"lightskyblue\"},\"mode\":\"lines\",\"showlegend\":false,\"surfaceaxis\":2,\"x\":[1.1234903019578533,1.6222723269578534,1.622293980566901,1.1235119555669009,1.1234903019578533],\"y\":[1.6004491739305713,1.6004491739305713,3.193644198216304,3.193644198216304,1.6004491739305713],\"z\":[0.09772476626293475,0.13260300126293476,0.298815926787479,0.263937691787479,0.09772476626293475],\"type\":\"scatter3d\"},{\"line\":{\"color\":\"lightskyblue\"},\"mode\":\"lines\",\"showlegend\":false,\"surfaceaxis\":2,\"x\":[1.1235119555669009,1.622293980566901,1.622852749879534,1.1240707248795339,1.1235119555669009],\"y\":[3.193644198216304,3.193644198216304,4.776393179361209,4.776393179361209,3.193644198216304],\"z\":[0.263937691787479,0.298815926787479,0.545996875392955,0.5111186403929551,0.263937691787479],\"type\":\"scatter3d\"},{\"line\":{\"color\":\"lightskyblue\"},\"mode\":\"lines\",\"showlegend\":false,\"surfaceaxis\":2,\"x\":[1.1240707248795339,1.622852749879534,1.624044848506236,1.1252628235062359,1.1240707248795339],\"y\":[4.776393179361209,4.776393179361209,6.3481145817053655,6.3481145817053655,4.776393179361209],\"z\":[0.5111186403929551,0.545996875392955,0.8551565489365032,0.8202783139365032,0.5111186403929551],\"type\":\"scatter3d\"},{\"line\":{\"color\":\"lightskyblue\"},\"mode\":\"lines\",\"showlegend\":false,\"surfaceaxis\":2,\"x\":[1.1252628235062359,1.624044848506236,1.6258532820078866,1.1270712570078865,1.1252628235062359],\"y\":[6.3481145817053655,6.3481145817053655,7.9102033615882466,7.9102033615882466,6.3481145817053655],\"z\":[0.8202783139365032,0.8551565489365032,1.20879916396718,1.17392092896718,0.8202783139365032],\"type\":\"scatter3d\"},{\"line\":{\"color\":\"lightskyblue\"},\"mode\":\"lines\",\"showlegend\":false,\"surfaceaxis\":2,\"x\":[1.1270712570078865,1.6258532820078866,1.6281855635593048,1.1294035385593049,1.1270712570078865],\"y\":[7.9102033615882466,7.9102033615882466,9.46474886410969,9.46474886410969,7.9102033615882466],\"z\":[1.17392092896718,1.20879916396718,1.593375363806761,1.5584971288067608,1.17392092896718],\"type\":\"scatter3d\"},{\"line\":{\"color\":\"lightskyblue\"},\"mode\":\"lines\",\"showlegend\":false,\"surfaceaxis\":2,\"x\":[1.1294035385593049,1.6281855635593048,1.6309212812611382,1.1321392562611383,1.1294035385593049],\"y\":[9.46474886410969,9.46474886410969,11.01411605945133,11.01411605945133,9.46474886410969],\"z\":[1.5584971288067608,1.593375363806761,1.9968645078828149,1.9619862728828148,1.5584971288067608],\"type\":\"scatter3d\"},{\"line\":{\"color\":\"lightskyblue\"},\"mode\":\"lines\",\"showlegend\":false,\"surfaceaxis\":2,\"x\":[1.1321392562611383,1.6309212812611382,1.6339152279556028,1.1351332029556027,1.1321392562611383],\"y\":[11.01411605945133,11.01411605945133,12.560361233610715,12.560361233610715,11.01411605945133],\"z\":[1.9619862728828148,1.9968645078828149,2.4112115359382624,2.3763333009382626,1.9619862728828148],\"type\":\"scatter3d\"},{\"line\":{\"color\":\"lightskyblue\"},\"mode\":\"lines\",\"showlegend\":false,\"surfaceaxis\":2,\"x\":[1.1351332029556027,1.6339152279556028,1.6370676933911152,1.1382856683911151,1.1351332029556027],\"y\":[12.560361233610715,12.560361233610715,14.10505116979784,14.10505116979784,12.560361233610715],\"z\":[2.3763333009382626,2.4112115359382624,2.8298008399726022,2.7949226049726024,2.3763333009382626],\"type\":\"scatter3d\"},{\"line\":{\"color\":\"lightskyblue\"},\"mode\":\"lines\",\"showlegend\":false,\"surfaceaxis\":2,\"x\":[1.1382856683911151,1.6370676933911152,1.6402883171982645,1.1415062921982644,1.1382856683911151],\"y\":[14.10505116979784,14.10505116979784,15.649127880706057,15.649127880706057,14.10505116979784],\"z\":[2.7949226049726024,2.8298008399726022,3.2497887130715872,3.2149104780715874,2.7949226049726024],\"type\":\"scatter3d\"},{\"line\":{\"color\":\"lightskyblue\"},\"mode\":\"lines\",\"showlegend\":false,\"surfaceaxis\":2,\"x\":[1.6225640500000003,2.1213460750000004,2.1210543519578535,1.6222723269578534,1.6225640500000003],\"y\":[1.0180229352716008e-17,1.0180229352716008e-17,1.6004491739305713,1.6004491739305713,1.0180229352716008e-17],\"z\":[0.06975647000000006,0.10463470500000005,0.16748123626293476,0.13260300126293476,0.06975647000000006],\"type\":\"scatter3d\"},{\"line\":{\"color\":\"lightskyblue\"},\"mode\":\"lines\",\"showlegend\":false,\"surfaceaxis\":2,\"x\":[1.6222723269578534,2.1210543519578535,2.121076005566901,1.622293980566901,1.6222723269578534],\"y\":[1.6004491739305713,1.6004491739305713,3.193644198216304,3.193644198216304,1.6004491739305713],\"z\":[0.13260300126293476,0.16748123626293476,0.33369416178747896,0.298815926787479,0.13260300126293476],\"type\":\"scatter3d\"},{\"line\":{\"color\":\"lightskyblue\"},\"mode\":\"lines\",\"showlegend\":false,\"surfaceaxis\":2,\"x\":[1.622293980566901,2.121076005566901,2.121634774879534,1.622852749879534,1.622293980566901],\"y\":[3.193644198216304,3.193644198216304,4.776393179361209,4.776393179361209,3.193644198216304],\"z\":[0.298815926787479,0.33369416178747896,0.580875110392955,0.545996875392955,0.298815926787479],\"type\":\"scatter3d\"},{\"line\":{\"color\":\"lightskyblue\"},\"mode\":\"lines\",\"showlegend\":false,\"surfaceaxis\":2,\"x\":[1.622852749879534,2.121634774879534,2.122826873506236,1.624044848506236,1.622852749879534],\"y\":[4.776393179361209,4.776393179361209,6.3481145817053655,6.3481145817053655,4.776393179361209],\"z\":[0.545996875392955,0.580875110392955,0.8900347839365031,0.8551565489365032,0.545996875392955],\"type\":\"scatter3d\"},{\"line\":{\"color\":\"lightskyblue\"},\"mode\":\"lines\",\"showlegend\":false,\"surfaceaxis\":2,\"x\":[1.624044848506236,2.122826873506236,2.1246353070078867,1.6258532820078866,1.624044848506236],\"y\":[6.3481145817053655,6.3481145817053655,7.9102033615882466,7.9102033615882466,6.3481145817053655],\"z\":[0.8551565489365032,0.8900347839365031,1.24367739896718,1.20879916396718,0.8551565489365032],\"type\":\"scatter3d\"},{\"line\":{\"color\":\"lightskyblue\"},\"mode\":\"lines\",\"showlegend\":false,\"surfaceaxis\":2,\"x\":[1.6258532820078866,2.1246353070078867,2.126967588559305,1.6281855635593048,1.6258532820078866],\"y\":[7.9102033615882466,7.9102033615882466,9.46474886410969,9.46474886410969,7.9102033615882466],\"z\":[1.20879916396718,1.24367739896718,1.628253598806761,1.593375363806761,1.20879916396718],\"type\":\"scatter3d\"},{\"line\":{\"color\":\"lightskyblue\"},\"mode\":\"lines\",\"showlegend\":false,\"surfaceaxis\":2,\"x\":[1.6281855635593048,2.126967588559305,2.1297033062611384,1.6309212812611382,1.6281855635593048],\"y\":[9.46474886410969,9.46474886410969,11.01411605945133,11.01411605945133,9.46474886410969],\"z\":[1.593375363806761,1.628253598806761,2.0317427428828148,1.9968645078828149,1.593375363806761],\"type\":\"scatter3d\"},{\"line\":{\"color\":\"lightskyblue\"},\"mode\":\"lines\",\"showlegend\":false,\"surfaceaxis\":2,\"x\":[1.6309212812611382,2.1297033062611384,2.132697252955603,1.6339152279556028,1.6309212812611382],\"y\":[11.01411605945133,11.01411605945133,12.560361233610715,12.560361233610715,11.01411605945133],\"z\":[1.9968645078828149,2.0317427428828148,2.4460897709382623,2.4112115359382624,1.9968645078828149],\"type\":\"scatter3d\"},{\"line\":{\"color\":\"lightskyblue\"},\"mode\":\"lines\",\"showlegend\":false,\"surfaceaxis\":2,\"x\":[1.6339152279556028,2.132697252955603,2.1358497183911154,1.6370676933911152,1.6339152279556028],\"y\":[12.560361233610715,12.560361233610715,14.10505116979784,14.10505116979784,12.560361233610715],\"z\":[2.4112115359382624,2.4460897709382623,2.864679074972602,2.8298008399726022,2.4112115359382624],\"type\":\"scatter3d\"},{\"line\":{\"color\":\"lightskyblue\"},\"mode\":\"lines\",\"showlegend\":false,\"surfaceaxis\":2,\"x\":[1.6370676933911152,2.1358497183911154,2.1390703421982646,1.6402883171982645,1.6370676933911152],\"y\":[14.10505116979784,14.10505116979784,15.649127880706057,15.649127880706057,14.10505116979784],\"z\":[2.8298008399726022,2.864679074972602,3.284666948071587,3.2497887130715872,2.8298008399726022],\"type\":\"scatter3d\"},{\"line\":{\"color\":\"lightskyblue\"},\"mode\":\"lines\",\"showlegend\":false,\"surfaceaxis\":2,\"x\":[2.1213460750000004,2.6201281000000005,2.6198363769578537,2.1210543519578535,2.1213460750000004],\"y\":[1.0180229352716008e-17,1.0180229352716008e-17,1.6004491739305713,1.6004491739305713,1.0180229352716008e-17],\"z\":[0.10463470500000005,0.13951294000000006,0.20235947126293477,0.16748123626293476,0.10463470500000005],\"type\":\"scatter3d\"},{\"line\":{\"color\":\"lightskyblue\"},\"mode\":\"lines\",\"showlegend\":false,\"surfaceaxis\":2,\"x\":[2.1210543519578535,2.6198363769578537,2.6198580305669013,2.121076005566901,2.1210543519578535],\"y\":[1.6004491739305713,1.6004491739305713,3.193644198216304,3.193644198216304,1.6004491739305713],\"z\":[0.16748123626293476,0.20235947126293477,0.36857239678747894,0.33369416178747896,0.16748123626293476],\"type\":\"scatter3d\"},{\"line\":{\"color\":\"lightskyblue\"},\"mode\":\"lines\",\"showlegend\":false,\"surfaceaxis\":2,\"x\":[2.121076005566901,2.6198580305669013,2.6204167998795342,2.121634774879534,2.121076005566901],\"y\":[3.193644198216304,3.193644198216304,4.776393179361209,4.776393179361209,3.193644198216304],\"z\":[0.33369416178747896,0.36857239678747894,0.615753345392955,0.580875110392955,0.33369416178747896],\"type\":\"scatter3d\"},{\"line\":{\"color\":\"lightskyblue\"},\"mode\":\"lines\",\"showlegend\":false,\"surfaceaxis\":2,\"x\":[2.121634774879534,2.6204167998795342,2.6216088985062362,2.122826873506236,2.121634774879534],\"y\":[4.776393179361209,4.776393179361209,6.3481145817053655,6.3481145817053655,4.776393179361209],\"z\":[0.580875110392955,0.615753345392955,0.9249130189365031,0.8900347839365031,0.580875110392955],\"type\":\"scatter3d\"},{\"line\":{\"color\":\"lightskyblue\"},\"mode\":\"lines\",\"showlegend\":false,\"surfaceaxis\":2,\"x\":[2.122826873506236,2.6216088985062362,2.623417332007887,2.1246353070078867,2.122826873506236],\"y\":[6.3481145817053655,6.3481145817053655,7.9102033615882466,7.9102033615882466,6.3481145817053655],\"z\":[0.8900347839365031,0.9249130189365031,1.2785556339671802,1.24367739896718,0.8900347839365031],\"type\":\"scatter3d\"},{\"line\":{\"color\":\"lightskyblue\"},\"mode\":\"lines\",\"showlegend\":false,\"surfaceaxis\":2,\"x\":[2.1246353070078867,2.623417332007887,2.625749613559305,2.126967588559305,2.1246353070078867],\"y\":[7.9102033615882466,7.9102033615882466,9.46474886410969,9.46474886410969,7.9102033615882466],\"z\":[1.24367739896718,1.2785556339671802,1.663131833806761,1.628253598806761,1.24367739896718],\"type\":\"scatter3d\"},{\"line\":{\"color\":\"lightskyblue\"},\"mode\":\"lines\",\"showlegend\":false,\"surfaceaxis\":2,\"x\":[2.126967588559305,2.625749613559305,2.6284853312611385,2.1297033062611384,2.126967588559305],\"y\":[9.46474886410969,9.46474886410969,11.01411605945133,11.01411605945133,9.46474886410969],\"z\":[1.628253598806761,1.663131833806761,2.0666209778828146,2.0317427428828148,1.628253598806761],\"type\":\"scatter3d\"},{\"line\":{\"color\":\"lightskyblue\"},\"mode\":\"lines\",\"showlegend\":false,\"surfaceaxis\":2,\"x\":[2.1297033062611384,2.6284853312611385,2.631479277955603,2.132697252955603,2.1297033062611384],\"y\":[11.01411605945133,11.01411605945133,12.560361233610715,12.560361233610715,11.01411605945133],\"z\":[2.0317427428828148,2.0666209778828146,2.480968005938262,2.4460897709382623,2.0317427428828148],\"type\":\"scatter3d\"},{\"line\":{\"color\":\"lightskyblue\"},\"mode\":\"lines\",\"showlegend\":false,\"surfaceaxis\":2,\"x\":[2.132697252955603,2.631479277955603,2.6346317433911155,2.1358497183911154,2.132697252955603],\"y\":[12.560361233610715,12.560361233610715,14.10505116979784,14.10505116979784,12.560361233610715],\"z\":[2.4460897709382623,2.480968005938262,2.899557309972602,2.864679074972602,2.4460897709382623],\"type\":\"scatter3d\"},{\"line\":{\"color\":\"lightskyblue\"},\"mode\":\"lines\",\"showlegend\":false,\"surfaceaxis\":2,\"x\":[2.1358497183911154,2.6346317433911155,2.6378523671982648,2.1390703421982646,2.1358497183911154],\"y\":[14.10505116979784,14.10505116979784,15.649127880706057,15.649127880706057,14.10505116979784],\"z\":[2.864679074972602,2.899557309972602,3.319545183071587,3.284666948071587,2.864679074972602],\"type\":\"scatter3d\"},{\"line\":{\"color\":\"lightskyblue\"},\"mode\":\"lines\",\"showlegend\":false,\"surfaceaxis\":2,\"x\":[2.6201281000000005,3.1189101250000006,3.118618401957854,2.6198363769578537,2.6201281000000005],\"y\":[1.0180229352716008e-17,1.0180229352716008e-17,1.6004491739305713,1.6004491739305713,1.0180229352716008e-17],\"z\":[0.13951294000000006,0.17439117500000006,0.23723770626293478,0.20235947126293477,0.13951294000000006],\"type\":\"scatter3d\"},{\"line\":{\"color\":\"lightskyblue\"},\"mode\":\"lines\",\"showlegend\":false,\"surfaceaxis\":2,\"x\":[2.6198363769578537,3.118618401957854,3.1186400555669014,2.6198580305669013,2.6198363769578537],\"y\":[1.6004491739305713,1.6004491739305713,3.193644198216304,3.193644198216304,1.6004491739305713],\"z\":[0.20235947126293477,0.23723770626293478,0.4034506317874789,0.36857239678747894,0.20235947126293477],\"type\":\"scatter3d\"},{\"line\":{\"color\":\"lightskyblue\"},\"mode\":\"lines\",\"showlegend\":false,\"surfaceaxis\":2,\"x\":[2.6198580305669013,3.1186400555669014,3.1191988248795344,2.6204167998795342,2.6198580305669013],\"y\":[3.193644198216304,3.193644198216304,4.776393179361209,4.776393179361209,3.193644198216304],\"z\":[0.36857239678747894,0.4034506317874789,0.650631580392955,0.615753345392955,0.36857239678747894],\"type\":\"scatter3d\"},{\"line\":{\"color\":\"lightskyblue\"},\"mode\":\"lines\",\"showlegend\":false,\"surfaceaxis\":2,\"x\":[2.6204167998795342,3.1191988248795344,3.1203909235062364,2.6216088985062362,2.6204167998795342],\"y\":[4.776393179361209,4.776393179361209,6.3481145817053655,6.3481145817053655,4.776393179361209],\"z\":[0.615753345392955,0.650631580392955,0.9597912539365031,0.9249130189365031,0.615753345392955],\"type\":\"scatter3d\"},{\"line\":{\"color\":\"lightskyblue\"},\"mode\":\"lines\",\"showlegend\":false,\"surfaceaxis\":2,\"x\":[2.6216088985062362,3.1203909235062364,3.122199357007887,2.623417332007887,2.6216088985062362],\"y\":[6.3481145817053655,6.3481145817053655,7.9102033615882466,7.9102033615882466,6.3481145817053655],\"z\":[0.9249130189365031,0.9597912539365031,1.3134338689671803,1.2785556339671802,0.9249130189365031],\"type\":\"scatter3d\"},{\"line\":{\"color\":\"lightskyblue\"},\"mode\":\"lines\",\"showlegend\":false,\"surfaceaxis\":2,\"x\":[2.623417332007887,3.122199357007887,3.124531638559305,2.625749613559305,2.623417332007887],\"y\":[7.9102033615882466,7.9102033615882466,9.46474886410969,9.46474886410969,7.9102033615882466],\"z\":[1.2785556339671802,1.3134338689671803,1.6980100688067612,1.663131833806761,1.2785556339671802],\"type\":\"scatter3d\"},{\"line\":{\"color\":\"lightskyblue\"},\"mode\":\"lines\",\"showlegend\":false,\"surfaceaxis\":2,\"x\":[2.625749613559305,3.124531638559305,3.1272673562611386,2.6284853312611385,2.625749613559305],\"y\":[9.46474886410969,9.46474886410969,11.01411605945133,11.01411605945133,9.46474886410969],\"z\":[1.663131833806761,1.6980100688067612,2.1014992128828145,2.0666209778828146,1.663131833806761],\"type\":\"scatter3d\"},{\"line\":{\"color\":\"lightskyblue\"},\"mode\":\"lines\",\"showlegend\":false,\"surfaceaxis\":2,\"x\":[2.6284853312611385,3.1272673562611386,3.1302613029556032,2.631479277955603,2.6284853312611385],\"y\":[11.01411605945133,11.01411605945133,12.560361233610715,12.560361233610715,11.01411605945133],\"z\":[2.0666209778828146,2.1014992128828145,2.515846240938262,2.480968005938262,2.0666209778828146],\"type\":\"scatter3d\"},{\"line\":{\"color\":\"lightskyblue\"},\"mode\":\"lines\",\"showlegend\":false,\"surfaceaxis\":2,\"x\":[2.631479277955603,3.1302613029556032,3.1334137683911156,2.6346317433911155,2.631479277955603],\"y\":[12.560361233610715,12.560361233610715,14.10505116979784,14.10505116979784,12.560361233610715],\"z\":[2.480968005938262,2.515846240938262,2.934435544972602,2.899557309972602,2.480968005938262],\"type\":\"scatter3d\"},{\"line\":{\"color\":\"lightskyblue\"},\"mode\":\"lines\",\"showlegend\":false,\"surfaceaxis\":2,\"x\":[2.6346317433911155,3.1334137683911156,3.136634392198265,2.6378523671982648,2.6346317433911155],\"y\":[14.10505116979784,14.10505116979784,15.649127880706057,15.649127880706057,14.10505116979784],\"z\":[2.899557309972602,2.934435544972602,3.354423418071587,3.319545183071587,2.899557309972602],\"type\":\"scatter3d\"},{\"line\":{\"color\":\"lightskyblue\"},\"mode\":\"lines\",\"showlegend\":false,\"surfaceaxis\":2,\"x\":[3.1189101250000006,3.6176921500000008,3.617400426957854,3.118618401957854,3.1189101250000006],\"y\":[1.0180229352716008e-17,1.0180229352716008e-17,1.6004491739305713,1.6004491739305713,1.0180229352716008e-17],\"z\":[0.17439117500000006,0.20926941000000007,0.27211594126293476,0.23723770626293478,0.17439117500000006],\"type\":\"scatter3d\"},{\"line\":{\"color\":\"lightskyblue\"},\"mode\":\"lines\",\"showlegend\":false,\"surfaceaxis\":2,\"x\":[3.118618401957854,3.617400426957854,3.6174220805669015,3.1186400555669014,3.118618401957854],\"y\":[1.6004491739305713,1.6004491739305713,3.193644198216304,3.193644198216304,1.6004491739305713],\"z\":[0.23723770626293478,0.27211594126293476,0.4383288667874789,0.4034506317874789,0.23723770626293478],\"type\":\"scatter3d\"},{\"line\":{\"color\":\"lightskyblue\"},\"mode\":\"lines\",\"showlegend\":false,\"surfaceaxis\":2,\"x\":[3.1186400555669014,3.6174220805669015,3.6179808498795345,3.1191988248795344,3.1186400555669014],\"y\":[3.193644198216304,3.193644198216304,4.776393179361209,4.776393179361209,3.193644198216304],\"z\":[0.4034506317874789,0.4383288667874789,0.685509815392955,0.650631580392955,0.4034506317874789],\"type\":\"scatter3d\"},{\"line\":{\"color\":\"lightskyblue\"},\"mode\":\"lines\",\"showlegend\":false,\"surfaceaxis\":2,\"x\":[3.1191988248795344,3.6179808498795345,3.6191729485062365,3.1203909235062364,3.1191988248795344],\"y\":[4.776393179361209,4.776393179361209,6.3481145817053655,6.3481145817053655,4.776393179361209],\"z\":[0.650631580392955,0.685509815392955,0.9946694889365031,0.9597912539365031,0.650631580392955],\"type\":\"scatter3d\"},{\"line\":{\"color\":\"lightskyblue\"},\"mode\":\"lines\",\"showlegend\":false,\"surfaceaxis\":2,\"x\":[3.1203909235062364,3.6191729485062365,3.620981382007887,3.122199357007887,3.1203909235062364],\"y\":[6.3481145817053655,6.3481145817053655,7.9102033615882466,7.9102033615882466,6.3481145817053655],\"z\":[0.9597912539365031,0.9946694889365031,1.3483121039671804,1.3134338689671803,0.9597912539365031],\"type\":\"scatter3d\"},{\"line\":{\"color\":\"lightskyblue\"},\"mode\":\"lines\",\"showlegend\":false,\"surfaceaxis\":2,\"x\":[3.122199357007887,3.620981382007887,3.6233136635593053,3.124531638559305,3.122199357007887],\"y\":[7.9102033615882466,7.9102033615882466,9.46474886410969,9.46474886410969,7.9102033615882466],\"z\":[1.3134338689671803,1.3483121039671804,1.7328883038067613,1.6980100688067612,1.3134338689671803],\"type\":\"scatter3d\"},{\"line\":{\"color\":\"lightskyblue\"},\"mode\":\"lines\",\"showlegend\":false,\"surfaceaxis\":2,\"x\":[3.124531638559305,3.6233136635593053,3.6260493812611387,3.1272673562611386,3.124531638559305],\"y\":[9.46474886410969,9.46474886410969,11.01411605945133,11.01411605945133,9.46474886410969],\"z\":[1.6980100688067612,1.7328883038067613,2.1363774478828144,2.1014992128828145,1.6980100688067612],\"type\":\"scatter3d\"},{\"line\":{\"color\":\"lightskyblue\"},\"mode\":\"lines\",\"showlegend\":false,\"surfaceaxis\":2,\"x\":[3.1272673562611386,3.6260493812611387,3.6290433279556034,3.1302613029556032,3.1272673562611386],\"y\":[11.01411605945133,11.01411605945133,12.560361233610715,12.560361233610715,11.01411605945133],\"z\":[2.1014992128828145,2.1363774478828144,2.550724475938262,2.515846240938262,2.1014992128828145],\"type\":\"scatter3d\"},{\"line\":{\"color\":\"lightskyblue\"},\"mode\":\"lines\",\"showlegend\":false,\"surfaceaxis\":2,\"x\":[3.1302613029556032,3.6290433279556034,3.6321957933911158,3.1334137683911156,3.1302613029556032],\"y\":[12.560361233610715,12.560361233610715,14.10505116979784,14.10505116979784,12.560361233610715],\"z\":[2.515846240938262,2.550724475938262,2.9693137799726017,2.934435544972602,2.515846240938262],\"type\":\"scatter3d\"},{\"line\":{\"color\":\"lightskyblue\"},\"mode\":\"lines\",\"showlegend\":false,\"surfaceaxis\":2,\"x\":[3.1334137683911156,3.6321957933911158,3.635416417198265,3.136634392198265,3.1334137683911156],\"y\":[14.10505116979784,14.10505116979784,15.649127880706057,15.649127880706057,14.10505116979784],\"z\":[2.934435544972602,2.9693137799726017,3.3893016530715867,3.354423418071587,2.934435544972602],\"type\":\"scatter3d\"},{\"line\":{\"color\":\"grey\"},\"mode\":\"lines\",\"showlegend\":false,\"x\":[0.6250000000000001,0.6247082769578531,0.624729930566901,0.625288699879534,0.626480798506236,0.6282892320078866,0.6306215135593048,0.6333572312611383,0.6363511779556026,0.6395036433911152,0.6427242671982645],\"y\":[1.0180229352716008e-17,1.6004491739305713,3.193644198216304,4.776393179361209,6.3481145817053655,7.9102033615882466,9.46474886410969,11.01411605945133,12.560361233610715,14.10505116979784,15.649127880706057],\"z\":[5.412225351471832e-17,0.06284653126293474,0.22905945678747902,0.4762404053929551,0.7854000789365032,1.1390426939671798,1.5236188938067607,1.9271080378828147,2.3414550659382627,2.7600443699726025,3.1800322430715875],\"type\":\"scatter3d\"},{\"line\":{\"color\":\"grey\"},\"mode\":\"lines\",\"showlegend\":false,\"x\":[1.1237820250000001,1.1234903019578533,1.1235119555669009,1.1240707248795339,1.1252628235062359,1.1270712570078865,1.1294035385593049,1.1321392562611383,1.1351332029556027,1.1382856683911151,1.1415062921982644],\"y\":[1.0180229352716008e-17,1.6004491739305713,3.193644198216304,4.776393179361209,6.3481145817053655,7.9102033615882466,9.46474886410969,11.01411605945133,12.560361233610715,14.10505116979784,15.649127880706057],\"z\":[0.034878235000000056,0.09772476626293475,0.263937691787479,0.5111186403929551,0.8202783139365032,1.17392092896718,1.5584971288067608,1.9619862728828148,2.3763333009382626,2.7949226049726024,3.2149104780715874],\"type\":\"scatter3d\"},{\"line\":{\"color\":\"grey\"},\"mode\":\"lines\",\"showlegend\":false,\"x\":[1.6225640500000003,1.6222723269578534,1.622293980566901,1.622852749879534,1.624044848506236,1.6258532820078866,1.6281855635593048,1.6309212812611382,1.6339152279556028,1.6370676933911152,1.6402883171982645],\"y\":[1.0180229352716008e-17,1.6004491739305713,3.193644198216304,4.776393179361209,6.3481145817053655,7.9102033615882466,9.46474886410969,11.01411605945133,12.560361233610715,14.10505116979784,15.649127880706057],\"z\":[0.06975647000000006,0.13260300126293476,0.298815926787479,0.545996875392955,0.8551565489365032,1.20879916396718,1.593375363806761,1.9968645078828149,2.4112115359382624,2.8298008399726022,3.2497887130715872],\"type\":\"scatter3d\"},{\"line\":{\"color\":\"grey\"},\"mode\":\"lines\",\"showlegend\":false,\"x\":[2.1213460750000004,2.1210543519578535,2.121076005566901,2.121634774879534,2.122826873506236,2.1246353070078867,2.126967588559305,2.1297033062611384,2.132697252955603,2.1358497183911154,2.1390703421982646],\"y\":[1.0180229352716008e-17,1.6004491739305713,3.193644198216304,4.776393179361209,6.3481145817053655,7.9102033615882466,9.46474886410969,11.01411605945133,12.560361233610715,14.10505116979784,15.649127880706057],\"z\":[0.10463470500000005,0.16748123626293476,0.33369416178747896,0.580875110392955,0.8900347839365031,1.24367739896718,1.628253598806761,2.0317427428828148,2.4460897709382623,2.864679074972602,3.284666948071587],\"type\":\"scatter3d\"},{\"line\":{\"color\":\"grey\"},\"mode\":\"lines\",\"showlegend\":false,\"x\":[2.6201281000000005,2.6198363769578537,2.6198580305669013,2.6204167998795342,2.6216088985062362,2.623417332007887,2.625749613559305,2.6284853312611385,2.631479277955603,2.6346317433911155,2.6378523671982648],\"y\":[1.0180229352716008e-17,1.6004491739305713,3.193644198216304,4.776393179361209,6.3481145817053655,7.9102033615882466,9.46474886410969,11.01411605945133,12.560361233610715,14.10505116979784,15.649127880706057],\"z\":[0.13951294000000006,0.20235947126293477,0.36857239678747894,0.615753345392955,0.9249130189365031,1.2785556339671802,1.663131833806761,2.0666209778828146,2.480968005938262,2.899557309972602,3.319545183071587],\"type\":\"scatter3d\"},{\"line\":{\"color\":\"grey\"},\"mode\":\"lines\",\"showlegend\":false,\"x\":[3.1189101250000006,3.118618401957854,3.1186400555669014,3.1191988248795344,3.1203909235062364,3.122199357007887,3.124531638559305,3.1272673562611386,3.1302613029556032,3.1334137683911156,3.136634392198265],\"y\":[1.0180229352716008e-17,1.6004491739305713,3.193644198216304,4.776393179361209,6.3481145817053655,7.9102033615882466,9.46474886410969,11.01411605945133,12.560361233610715,14.10505116979784,15.649127880706057],\"z\":[0.17439117500000006,0.23723770626293478,0.4034506317874789,0.650631580392955,0.9597912539365031,1.3134338689671803,1.6980100688067612,2.1014992128828145,2.515846240938262,2.934435544972602,3.354423418071587],\"type\":\"scatter3d\"},{\"line\":{\"color\":\"grey\"},\"mode\":\"lines\",\"showlegend\":false,\"x\":[3.6176921500000008,3.617400426957854,3.6174220805669015,3.6179808498795345,3.6191729485062365,3.620981382007887,3.6233136635593053,3.6260493812611387,3.6290433279556034,3.6321957933911158,3.635416417198265],\"y\":[1.0180229352716008e-17,1.6004491739305713,3.193644198216304,4.776393179361209,6.3481145817053655,7.9102033615882466,9.46474886410969,11.01411605945133,12.560361233610715,14.10505116979784,15.649127880706057],\"z\":[0.20926941000000007,0.27211594126293476,0.4383288667874789,0.685509815392955,0.9946694889365031,1.3483121039671804,1.7328883038067613,2.1363774478828144,2.550724475938262,2.9693137799726017,3.3893016530715867],\"type\":\"scatter3d\"},{\"line\":{\"color\":\"grey\"},\"mode\":\"lines\",\"showlegend\":false,\"x\":[0.6250000000000001,1.1237820250000001,1.6225640500000003,2.1213460750000004,2.6201281000000005,3.1189101250000006,3.6176921500000008],\"y\":[1.0180229352716008e-17,1.0180229352716008e-17,1.0180229352716008e-17,1.0180229352716008e-17,1.0180229352716008e-17,1.0180229352716008e-17,1.0180229352716008e-17],\"z\":[5.412225351471832e-17,0.034878235000000056,0.06975647000000006,0.10463470500000005,0.13951294000000006,0.17439117500000006,0.20926941000000007],\"type\":\"scatter3d\"},{\"line\":{\"color\":\"grey\"},\"mode\":\"lines\",\"showlegend\":false,\"x\":[0.6247082769578531,1.1234903019578533,1.6222723269578534,2.1210543519578535,2.6198363769578537,3.118618401957854,3.617400426957854],\"y\":[1.6004491739305713,1.6004491739305713,1.6004491739305713,1.6004491739305713,1.6004491739305713,1.6004491739305713,1.6004491739305713],\"z\":[0.06284653126293474,0.09772476626293475,0.13260300126293476,0.16748123626293476,0.20235947126293477,0.23723770626293478,0.27211594126293476],\"type\":\"scatter3d\"},{\"line\":{\"color\":\"grey\"},\"mode\":\"lines\",\"showlegend\":false,\"x\":[0.624729930566901,1.1235119555669009,1.622293980566901,2.121076005566901,2.6198580305669013,3.1186400555669014,3.6174220805669015],\"y\":[3.193644198216304,3.193644198216304,3.193644198216304,3.193644198216304,3.193644198216304,3.193644198216304,3.193644198216304],\"z\":[0.22905945678747902,0.263937691787479,0.298815926787479,0.33369416178747896,0.36857239678747894,0.4034506317874789,0.4383288667874789],\"type\":\"scatter3d\"},{\"line\":{\"color\":\"grey\"},\"mode\":\"lines\",\"showlegend\":false,\"x\":[0.625288699879534,1.1240707248795339,1.622852749879534,2.121634774879534,2.6204167998795342,3.1191988248795344,3.6179808498795345],\"y\":[4.776393179361209,4.776393179361209,4.776393179361209,4.776393179361209,4.776393179361209,4.776393179361209,4.776393179361209],\"z\":[0.4762404053929551,0.5111186403929551,0.545996875392955,0.580875110392955,0.615753345392955,0.650631580392955,0.685509815392955],\"type\":\"scatter3d\"},{\"line\":{\"color\":\"grey\"},\"mode\":\"lines\",\"showlegend\":false,\"x\":[0.626480798506236,1.1252628235062359,1.624044848506236,2.122826873506236,2.6216088985062362,3.1203909235062364,3.6191729485062365],\"y\":[6.3481145817053655,6.3481145817053655,6.3481145817053655,6.3481145817053655,6.3481145817053655,6.3481145817053655,6.3481145817053655],\"z\":[0.7854000789365032,0.8202783139365032,0.8551565489365032,0.8900347839365031,0.9249130189365031,0.9597912539365031,0.9946694889365031],\"type\":\"scatter3d\"},{\"line\":{\"color\":\"grey\"},\"mode\":\"lines\",\"showlegend\":false,\"x\":[0.6282892320078866,1.1270712570078865,1.6258532820078866,2.1246353070078867,2.623417332007887,3.122199357007887,3.620981382007887],\"y\":[7.9102033615882466,7.9102033615882466,7.9102033615882466,7.9102033615882466,7.9102033615882466,7.9102033615882466,7.9102033615882466],\"z\":[1.1390426939671798,1.17392092896718,1.20879916396718,1.24367739896718,1.2785556339671802,1.3134338689671803,1.3483121039671804],\"type\":\"scatter3d\"},{\"line\":{\"color\":\"grey\"},\"mode\":\"lines\",\"showlegend\":false,\"x\":[0.6306215135593048,1.1294035385593049,1.6281855635593048,2.126967588559305,2.625749613559305,3.124531638559305,3.6233136635593053],\"y\":[9.46474886410969,9.46474886410969,9.46474886410969,9.46474886410969,9.46474886410969,9.46474886410969,9.46474886410969],\"z\":[1.5236188938067607,1.5584971288067608,1.593375363806761,1.628253598806761,1.663131833806761,1.6980100688067612,1.7328883038067613],\"type\":\"scatter3d\"},{\"line\":{\"color\":\"grey\"},\"mode\":\"lines\",\"showlegend\":false,\"x\":[0.6333572312611383,1.1321392562611383,1.6309212812611382,2.1297033062611384,2.6284853312611385,3.1272673562611386,3.6260493812611387],\"y\":[11.01411605945133,11.01411605945133,11.01411605945133,11.01411605945133,11.01411605945133,11.01411605945133,11.01411605945133],\"z\":[1.9271080378828147,1.9619862728828148,1.9968645078828149,2.0317427428828148,2.0666209778828146,2.1014992128828145,2.1363774478828144],\"type\":\"scatter3d\"},{\"line\":{\"color\":\"grey\"},\"mode\":\"lines\",\"showlegend\":false,\"x\":[0.6363511779556026,1.1351332029556027,1.6339152279556028,2.132697252955603,2.631479277955603,3.1302613029556032,3.6290433279556034],\"y\":[12.560361233610715,12.560361233610715,12.560361233610715,12.560361233610715,12.560361233610715,12.560361233610715,12.560361233610715],\"z\":[2.3414550659382627,2.3763333009382626,2.4112115359382624,2.4460897709382623,2.480968005938262,2.515846240938262,2.550724475938262],\"type\":\"scatter3d\"},{\"line\":{\"color\":\"grey\"},\"mode\":\"lines\",\"showlegend\":false,\"x\":[0.6395036433911152,1.1382856683911151,1.6370676933911152,2.1358497183911154,2.6346317433911155,3.1334137683911156,3.6321957933911158],\"y\":[14.10505116979784,14.10505116979784,14.10505116979784,14.10505116979784,14.10505116979784,14.10505116979784,14.10505116979784],\"z\":[2.7600443699726025,2.7949226049726024,2.8298008399726022,2.864679074972602,2.899557309972602,2.934435544972602,2.9693137799726017],\"type\":\"scatter3d\"},{\"line\":{\"color\":\"grey\"},\"mode\":\"lines\",\"showlegend\":false,\"x\":[0.6427242671982645,1.1415062921982644,1.6402883171982645,2.1390703421982646,2.6378523671982648,3.136634392198265,3.635416417198265],\"y\":[15.649127880706057,15.649127880706057,15.649127880706057,15.649127880706057,15.649127880706057,15.649127880706057,15.649127880706057],\"z\":[3.1800322430715875,3.2149104780715874,3.2497887130715872,3.284666948071587,3.319545183071587,3.354423418071587,3.3893016530715867],\"type\":\"scatter3d\"},{\"line\":{\"color\":\"blue\",\"width\":4},\"marker\":{\"color\":\"blue\",\"size\":2},\"name\":\"Beam nodes\",\"x\":[0.0,-0.00028579243604587903,-0.00024413566457136965],\"y\":[0.0,1.5983197854961886,3.189123478291207],\"z\":[0.0,0.06480585871878158,0.23296187845350708],\"type\":\"scatter3d\"},{\"line\":{\"color\":\"blue\",\"width\":4},\"marker\":{\"color\":\"blue\",\"size\":2},\"showlegend\":false,\"x\":[-0.00024413566457136965,0.00034634508676253543,0.0015801969398122396],\"y\":[3.189123478291207,4.76950140303702,6.338899718912307],\"z\":[0.23296187845350708,0.4819139740068736,0.7927351016367141],\"type\":\"scatter3d\"},{\"line\":{\"color\":\"blue\",\"width\":4},\"marker\":{\"color\":\"blue\",\"size\":2},\"showlegend\":false,\"x\":[0.0015801969398122396,0.0034331129613209446,0.005811799278088071],\"y\":[6.338899718912307,7.898964665898996,9.451696104267947],\"z\":[0.7927351016367141,1.1478272940043588,1.5337457050532337],\"type\":\"scatter3d\"},{\"line\":{\"color\":\"blue\",\"width\":4},\"marker\":{\"color\":\"blue\",\"size\":2},\"showlegend\":false,\"x\":[0.005811799278088071,0.008586741231584469,0.011614739889419034],\"y\":[9.451696104267947,10.999687183963612,12.544831699217387],\"z\":[1.5337457050532337,1.9383556868590297,2.353705174880227],\"type\":\"scatter3d\"},{\"line\":{\"color\":\"blue\",\"width\":4},\"marker\":{\"color\":\"blue\",\"size\":2},\"showlegend\":false,\"x\":[0.011614739889419034,0.014787504876946973,0.018019980929258876],\"y\":[12.544831699217387,14.088898820986282,15.632623068190044],\"z\":[2.353705174880227,2.7730526122549777,3.1936597150495056],\"type\":\"scatter3d\"}],                        {\"template\":{\"data\":{\"histogram2dcontour\":[{\"type\":\"histogram2dcontour\",\"colorbar\":{\"outlinewidth\":0,\"ticks\":\"\"},\"colorscale\":[[0.0,\"#0d0887\"],[0.1111111111111111,\"#46039f\"],[0.2222222222222222,\"#7201a8\"],[0.3333333333333333,\"#9c179e\"],[0.4444444444444444,\"#bd3786\"],[0.5555555555555556,\"#d8576b\"],[0.6666666666666666,\"#ed7953\"],[0.7777777777777778,\"#fb9f3a\"],[0.8888888888888888,\"#fdca26\"],[1.0,\"#f0f921\"]]}],\"choropleth\":[{\"type\":\"choropleth\",\"colorbar\":{\"outlinewidth\":0,\"ticks\":\"\"}}],\"histogram2d\":[{\"type\":\"histogram2d\",\"colorbar\":{\"outlinewidth\":0,\"ticks\":\"\"},\"colorscale\":[[0.0,\"#0d0887\"],[0.1111111111111111,\"#46039f\"],[0.2222222222222222,\"#7201a8\"],[0.3333333333333333,\"#9c179e\"],[0.4444444444444444,\"#bd3786\"],[0.5555555555555556,\"#d8576b\"],[0.6666666666666666,\"#ed7953\"],[0.7777777777777778,\"#fb9f3a\"],[0.8888888888888888,\"#fdca26\"],[1.0,\"#f0f921\"]]}],\"heatmap\":[{\"type\":\"heatmap\",\"colorbar\":{\"outlinewidth\":0,\"ticks\":\"\"},\"colorscale\":[[0.0,\"#0d0887\"],[0.1111111111111111,\"#46039f\"],[0.2222222222222222,\"#7201a8\"],[0.3333333333333333,\"#9c179e\"],[0.4444444444444444,\"#bd3786\"],[0.5555555555555556,\"#d8576b\"],[0.6666666666666666,\"#ed7953\"],[0.7777777777777778,\"#fb9f3a\"],[0.8888888888888888,\"#fdca26\"],[1.0,\"#f0f921\"]]}],\"heatmapgl\":[{\"type\":\"heatmapgl\",\"colorbar\":{\"outlinewidth\":0,\"ticks\":\"\"},\"colorscale\":[[0.0,\"#0d0887\"],[0.1111111111111111,\"#46039f\"],[0.2222222222222222,\"#7201a8\"],[0.3333333333333333,\"#9c179e\"],[0.4444444444444444,\"#bd3786\"],[0.5555555555555556,\"#d8576b\"],[0.6666666666666666,\"#ed7953\"],[0.7777777777777778,\"#fb9f3a\"],[0.8888888888888888,\"#fdca26\"],[1.0,\"#f0f921\"]]}],\"contourcarpet\":[{\"type\":\"contourcarpet\",\"colorbar\":{\"outlinewidth\":0,\"ticks\":\"\"}}],\"contour\":[{\"type\":\"contour\",\"colorbar\":{\"outlinewidth\":0,\"ticks\":\"\"},\"colorscale\":[[0.0,\"#0d0887\"],[0.1111111111111111,\"#46039f\"],[0.2222222222222222,\"#7201a8\"],[0.3333333333333333,\"#9c179e\"],[0.4444444444444444,\"#bd3786\"],[0.5555555555555556,\"#d8576b\"],[0.6666666666666666,\"#ed7953\"],[0.7777777777777778,\"#fb9f3a\"],[0.8888888888888888,\"#fdca26\"],[1.0,\"#f0f921\"]]}],\"surface\":[{\"type\":\"surface\",\"colorbar\":{\"outlinewidth\":0,\"ticks\":\"\"},\"colorscale\":[[0.0,\"#0d0887\"],[0.1111111111111111,\"#46039f\"],[0.2222222222222222,\"#7201a8\"],[0.3333333333333333,\"#9c179e\"],[0.4444444444444444,\"#bd3786\"],[0.5555555555555556,\"#d8576b\"],[0.6666666666666666,\"#ed7953\"],[0.7777777777777778,\"#fb9f3a\"],[0.8888888888888888,\"#fdca26\"],[1.0,\"#f0f921\"]]}],\"mesh3d\":[{\"type\":\"mesh3d\",\"colorbar\":{\"outlinewidth\":0,\"ticks\":\"\"}}],\"scatter\":[{\"fillpattern\":{\"fillmode\":\"overlay\",\"size\":10,\"solidity\":0.2},\"type\":\"scatter\"}],\"parcoords\":[{\"type\":\"parcoords\",\"line\":{\"colorbar\":{\"outlinewidth\":0,\"ticks\":\"\"}}}],\"scatterpolargl\":[{\"type\":\"scatterpolargl\",\"marker\":{\"colorbar\":{\"outlinewidth\":0,\"ticks\":\"\"}}}],\"bar\":[{\"error_x\":{\"color\":\"#2a3f5f\"},\"error_y\":{\"color\":\"#2a3f5f\"},\"marker\":{\"line\":{\"color\":\"#E5ECF6\",\"width\":0.5},\"pattern\":{\"fillmode\":\"overlay\",\"size\":10,\"solidity\":0.2}},\"type\":\"bar\"}],\"scattergeo\":[{\"type\":\"scattergeo\",\"marker\":{\"colorbar\":{\"outlinewidth\":0,\"ticks\":\"\"}}}],\"scatterpolar\":[{\"type\":\"scatterpolar\",\"marker\":{\"colorbar\":{\"outlinewidth\":0,\"ticks\":\"\"}}}],\"histogram\":[{\"marker\":{\"pattern\":{\"fillmode\":\"overlay\",\"size\":10,\"solidity\":0.2}},\"type\":\"histogram\"}],\"scattergl\":[{\"type\":\"scattergl\",\"marker\":{\"colorbar\":{\"outlinewidth\":0,\"ticks\":\"\"}}}],\"scatter3d\":[{\"type\":\"scatter3d\",\"line\":{\"colorbar\":{\"outlinewidth\":0,\"ticks\":\"\"}},\"marker\":{\"colorbar\":{\"outlinewidth\":0,\"ticks\":\"\"}}}],\"scattermapbox\":[{\"type\":\"scattermapbox\",\"marker\":{\"colorbar\":{\"outlinewidth\":0,\"ticks\":\"\"}}}],\"scatterternary\":[{\"type\":\"scatterternary\",\"marker\":{\"colorbar\":{\"outlinewidth\":0,\"ticks\":\"\"}}}],\"scattercarpet\":[{\"type\":\"scattercarpet\",\"marker\":{\"colorbar\":{\"outlinewidth\":0,\"ticks\":\"\"}}}],\"carpet\":[{\"aaxis\":{\"endlinecolor\":\"#2a3f5f\",\"gridcolor\":\"white\",\"linecolor\":\"white\",\"minorgridcolor\":\"white\",\"startlinecolor\":\"#2a3f5f\"},\"baxis\":{\"endlinecolor\":\"#2a3f5f\",\"gridcolor\":\"white\",\"linecolor\":\"white\",\"minorgridcolor\":\"white\",\"startlinecolor\":\"#2a3f5f\"},\"type\":\"carpet\"}],\"table\":[{\"cells\":{\"fill\":{\"color\":\"#EBF0F8\"},\"line\":{\"color\":\"white\"}},\"header\":{\"fill\":{\"color\":\"#C8D4E3\"},\"line\":{\"color\":\"white\"}},\"type\":\"table\"}],\"barpolar\":[{\"marker\":{\"line\":{\"color\":\"#E5ECF6\",\"width\":0.5},\"pattern\":{\"fillmode\":\"overlay\",\"size\":10,\"solidity\":0.2}},\"type\":\"barpolar\"}],\"pie\":[{\"automargin\":true,\"type\":\"pie\"}]},\"layout\":{\"autotypenumbers\":\"strict\",\"colorway\":[\"#636efa\",\"#EF553B\",\"#00cc96\",\"#ab63fa\",\"#FFA15A\",\"#19d3f3\",\"#FF6692\",\"#B6E880\",\"#FF97FF\",\"#FECB52\"],\"font\":{\"color\":\"#2a3f5f\"},\"hovermode\":\"closest\",\"hoverlabel\":{\"align\":\"left\"},\"paper_bgcolor\":\"white\",\"plot_bgcolor\":\"#E5ECF6\",\"polar\":{\"bgcolor\":\"#E5ECF6\",\"angularaxis\":{\"gridcolor\":\"white\",\"linecolor\":\"white\",\"ticks\":\"\"},\"radialaxis\":{\"gridcolor\":\"white\",\"linecolor\":\"white\",\"ticks\":\"\"}},\"ternary\":{\"bgcolor\":\"#E5ECF6\",\"aaxis\":{\"gridcolor\":\"white\",\"linecolor\":\"white\",\"ticks\":\"\"},\"baxis\":{\"gridcolor\":\"white\",\"linecolor\":\"white\",\"ticks\":\"\"},\"caxis\":{\"gridcolor\":\"white\",\"linecolor\":\"white\",\"ticks\":\"\"}},\"coloraxis\":{\"colorbar\":{\"outlinewidth\":0,\"ticks\":\"\"}},\"colorscale\":{\"sequential\":[[0.0,\"#0d0887\"],[0.1111111111111111,\"#46039f\"],[0.2222222222222222,\"#7201a8\"],[0.3333333333333333,\"#9c179e\"],[0.4444444444444444,\"#bd3786\"],[0.5555555555555556,\"#d8576b\"],[0.6666666666666666,\"#ed7953\"],[0.7777777777777778,\"#fb9f3a\"],[0.8888888888888888,\"#fdca26\"],[1.0,\"#f0f921\"]],\"sequentialminus\":[[0.0,\"#0d0887\"],[0.1111111111111111,\"#46039f\"],[0.2222222222222222,\"#7201a8\"],[0.3333333333333333,\"#9c179e\"],[0.4444444444444444,\"#bd3786\"],[0.5555555555555556,\"#d8576b\"],[0.6666666666666666,\"#ed7953\"],[0.7777777777777778,\"#fb9f3a\"],[0.8888888888888888,\"#fdca26\"],[1.0,\"#f0f921\"]],\"diverging\":[[0,\"#8e0152\"],[0.1,\"#c51b7d\"],[0.2,\"#de77ae\"],[0.3,\"#f1b6da\"],[0.4,\"#fde0ef\"],[0.5,\"#f7f7f7\"],[0.6,\"#e6f5d0\"],[0.7,\"#b8e186\"],[0.8,\"#7fbc41\"],[0.9,\"#4d9221\"],[1,\"#276419\"]]},\"xaxis\":{\"gridcolor\":\"white\",\"linecolor\":\"white\",\"ticks\":\"\",\"title\":{\"standoff\":15},\"zerolinecolor\":\"white\",\"automargin\":true,\"zerolinewidth\":2},\"yaxis\":{\"gridcolor\":\"white\",\"linecolor\":\"white\",\"ticks\":\"\",\"title\":{\"standoff\":15},\"zerolinecolor\":\"white\",\"automargin\":true,\"zerolinewidth\":2},\"scene\":{\"xaxis\":{\"backgroundcolor\":\"#E5ECF6\",\"gridcolor\":\"white\",\"linecolor\":\"white\",\"showbackground\":true,\"ticks\":\"\",\"zerolinecolor\":\"white\",\"gridwidth\":2},\"yaxis\":{\"backgroundcolor\":\"#E5ECF6\",\"gridcolor\":\"white\",\"linecolor\":\"white\",\"showbackground\":true,\"ticks\":\"\",\"zerolinecolor\":\"white\",\"gridwidth\":2},\"zaxis\":{\"backgroundcolor\":\"#E5ECF6\",\"gridcolor\":\"white\",\"linecolor\":\"white\",\"showbackground\":true,\"ticks\":\"\",\"zerolinecolor\":\"white\",\"gridwidth\":2}},\"shapedefaults\":{\"line\":{\"color\":\"#2a3f5f\"}},\"annotationdefaults\":{\"arrowcolor\":\"#2a3f5f\",\"arrowhead\":0,\"arrowwidth\":1},\"geo\":{\"bgcolor\":\"white\",\"landcolor\":\"#E5ECF6\",\"subunitcolor\":\"white\",\"showland\":true,\"showlakes\":true,\"lakecolor\":\"white\"},\"title\":{\"x\":0.05},\"mapbox\":{\"style\":\"light\"}}}},                        {\"responsive\": true}                    ).then(function(){\n",
       "                            \n",
       "var gd = document.getElementById('0589978f-57b6-4237-add4-03124860283d');\n",
       "var x = new MutationObserver(function (mutations, observer) {{\n",
       "        var display = window.getComputedStyle(gd).display;\n",
       "        if (!display || display === 'none') {{\n",
       "            console.log([gd, 'removed!']);\n",
       "            Plotly.purge(gd);\n",
       "            observer.disconnect();\n",
       "        }}\n",
       "}});\n",
       "\n",
       "// Listen for the removal of the full notebook cells\n",
       "var notebookContainer = gd.closest('#notebook-container');\n",
       "if (notebookContainer) {{\n",
       "    x.observe(notebookContainer, {childList: true});\n",
       "}}\n",
       "\n",
       "// Listen for the clearing of the current output cell\n",
       "var outputEl = gd.closest('.output');\n",
       "if (outputEl) {{\n",
       "    x.observe(outputEl, {childList: true});\n",
       "}}\n",
       "\n",
       "                        })                };                });            </script>        </div>"
      ]
     },
     "metadata": {},
     "output_type": "display_data"
    }
   ],
   "source": [
    "# pu.plot_timestep(sharpy_output, tstep=-1, minus_mstar=(wake_panels-6), plotly=True)\n"
   ]
  },
  {
   "cell_type": "code",
   "execution_count": 59,
   "metadata": {},
   "outputs": [],
   "source": [
    "SimInfo.solvers['SHARPy']['flow'] = ['BeamLoader',\n",
    "                        'AerogridLoader',\n",
    "                        'StaticCoupled',\n",
    "                        'DynamicCoupled']\n",
    "\n",
    "SimInfo.solvers['SHARPy']['route'] = './'\n",
    "SimInfo.solvers['SHARPy']['case'] = 'dynamic'"
   ]
  },
  {
   "cell_type": "code",
   "execution_count": 60,
   "metadata": {},
   "outputs": [],
   "source": [
    "# Compute the number of time steps needed based on the previous parameters\n",
    "time_steps = int(end_time/dt)\n",
    "\n",
    "# Define the time step and the number of time steps in every solver that requires them as input\n",
    "SimInfo.set_variable_all_dicts('dt', dt)\n",
    "SimInfo.define_num_steps(time_steps)"
   ]
  },
  {
   "cell_type": "code",
   "execution_count": 61,
   "metadata": {},
   "outputs": [],
   "source": [
    "SimInfo.solvers['StepUvlm']['convection_scheme'] = 2\n",
    "SimInfo.solvers['StaticUvlm']['velocity_field_generator'] = 'SteadyVelocityField'\n",
    "SimInfo.solvers['StepUvlm']['velocity_field_input'] = {'u_inf' : WSP,\n",
    "                                                       'u_inf_direction' : np.array(\n",
    "                                                                              [np.cos(aoa_end_deg*deg2rad),\n",
    "                                                                               0.,\n",
    "                                                                               np.sin(aoa_end_deg*deg2rad)])}\n",
    "\n",
    "SimInfo.solvers['NonLinearDynamicPrescribedStep']['gravity_on'] = False\n",
    "\n",
    "SimInfo.solvers['DynamicCoupled']['structural_solver'] = 'NonLinearDynamicPrescribedStep'\n",
    "SimInfo.solvers['DynamicCoupled']['structural_solver_settings'] = SimInfo.solvers['NonLinearDynamicPrescribedStep']\n",
    "SimInfo.solvers['DynamicCoupled']['aero_solver'] = 'StepUvlm'\n",
    "SimInfo.solvers['DynamicCoupled']['aero_solver_settings'] = SimInfo.solvers['StepUvlm']\n",
    "SimInfo.solvers['DynamicCoupled']['postprocessors'] = ['BeamPlot', 'AerogridPlot']\n",
    "SimInfo.solvers['DynamicCoupled']['postprocessors_settings'] = {'BeamPlot': SimInfo.solvers['BeamPlot'],\n",
    "                                                             'AerogridPlot': SimInfo.solvers['AerogridPlot']}\n"
   ]
  },
  {
   "cell_type": "code",
   "execution_count": 62,
   "metadata": {},
   "outputs": [],
   "source": [
    "SimInfo.with_forced_vel = True\n",
    "SimInfo.for_vel = np.zeros((time_steps,6), dtype=float)\n",
    "SimInfo.for_acc = np.zeros((time_steps,6), dtype=float)\n",
    "SimInfo.with_dynamic_forces = True\n",
    "SimInfo.dynamic_forces = np.zeros((time_steps,wing.StructuralInformation.num_node,6),\n",
    "                                  dtype=float)\n",
    "\n"
   ]
  },
  {
   "cell_type": "code",
   "execution_count": 63,
   "metadata": {},
   "outputs": [],
   "source": [
    "gc.clean_test_files(SimInfo.solvers['SHARPy']['route'], SimInfo.solvers['SHARPy']['case'])\n",
    "wing.generate_h5_files(SimInfo.solvers['SHARPy']['route'], SimInfo.solvers['SHARPy']['case'])\n",
    "SimInfo.generate_solver_file()\n",
    "SimInfo.generate_dyn_file(time_steps)"
   ]
  },
  {
   "cell_type": "code",
   "execution_count": 32,
   "metadata": {},
   "outputs": [
    {
     "name": "stdout",
     "output_type": "stream",
     "text": [
      "--------------------------------------------------------------------------------\u001b[0m\n",
      "            ######  ##     ##    ###    ########  ########  ##    ##\u001b[0m\n",
      "           ##    ## ##     ##   ## ##   ##     ## ##     ##  ##  ##\u001b[0m\n",
      "           ##       ##     ##  ##   ##  ##     ## ##     ##   ####\u001b[0m\n",
      "            ######  ######### ##     ## ########  ########     ##\u001b[0m\n",
      "                 ## ##     ## ######### ##   ##   ##           ##\u001b[0m\n",
      "           ##    ## ##     ## ##     ## ##    ##  ##           ##\u001b[0m\n",
      "            ######  ##     ## ##     ## ##     ## ##           ##\u001b[0m\n",
      "--------------------------------------------------------------------------------\u001b[0m\n",
      "Aeroelastics Lab, Aeronautics Department.\u001b[0m\n",
      "    Copyright (c), Imperial College London.\u001b[0m\n",
      "    All rights reserved.\u001b[0m\n",
      "    License available at https://github.com/imperialcollegelondon/sharpy\u001b[0m\n",
      "\u001b[36mRunning SHARPy from /home/jesusgp/sharpy/docs/source/content/example_notebooks/HALE_wing\u001b[0m\n",
      "\u001b[36mSHARPy being run is in /home/jesusgp/anaconda3/envs/sharpy_env/lib/python3.7/site-packages\u001b[0m\n",
      "SHARPy output folder set\u001b[0m\n",
      "\u001b[34m\t./output//dynamic/\u001b[0m\n",
      "\u001b[36mGenerating an instance of BeamLoader\u001b[0m\n",
      "\u001b[36mGenerating an instance of AerogridLoader\u001b[0m\n",
      "Variable dx1 has no assigned value in the settings file.\u001b[0m\n",
      "\u001b[34m    will default to the value: -1.0\u001b[0m\n",
      "Variable ndx1 has no assigned value in the settings file.\u001b[0m\n",
      "\u001b[34m    will default to the value: 1\u001b[0m\n",
      "Variable r has no assigned value in the settings file.\u001b[0m\n",
      "\u001b[34m    will default to the value: 1.0\u001b[0m\n",
      "Variable dxmax has no assigned value in the settings file.\u001b[0m\n",
      "\u001b[34m    will default to the value: -1.0\u001b[0m\n",
      "\u001b[34mThe aerodynamic grid contains 1 surfaces\u001b[0m\n",
      "\u001b[34m  Surface 0, M=2, N=10\u001b[0m\n",
      "     Wake 0, M=5000, N=10\u001b[0m\n",
      "  In total: 20 bound panels\u001b[0m\n",
      "  In total: 50000 wake panels\u001b[0m\n",
      "  Total number of panels = 50020\u001b[0m\n"
     ]
    },
    {
     "name": "stderr",
     "output_type": "stream",
     "text": [
      "fatal: not a git repository (or any of the parent directories): .git\n"
     ]
    },
    {
     "name": "stdout",
     "output_type": "stream",
     "text": [
      "\u001b[36mGenerating an instance of StaticCoupled\u001b[0m\n",
      "\u001b[36mGenerating an instance of NonLinearStatic\u001b[0m\n",
      "\u001b[36mGenerating an instance of StaticUvlm\u001b[0m\n",
      "\u001b[0m\n",
      "\u001b[0m\n",
      "\u001b[0m\n",
      "|=====|=====|============|==========|==========|==========|==========|==========|==========|\u001b[0m\n",
      "|iter |step | log10(res) |    Fx    |    Fy    |    Fz    |    Mx    |    My    |    Mz    |\u001b[0m\n",
      "|=====|=====|============|==========|==========|==========|==========|==========|==========|\u001b[0m\n",
      "                      DeltaF      DeltaX         Res      ResRel      ResFrc   ResRelFrc      ResMmt   ResRelMmt         ErX       ErPos       ErPsi\n",
      "LoadStep Subiter      DeltaF     DeltaX          Res      ResRel      ResFrc   ResRelFrc      ResMmt   ResRelMmt         ErX       ErPos       ErPsi\n",
      "|  0  |  0  |  0.00000   |-153.0779 |-496.2513 |3016.7163 |24413.4593| 599.2958 |1259.4229 |\u001b[0m\n",
      "                      DeltaF      DeltaX         Res      ResRel      ResFrc   ResRelFrc      ResMmt   ResRelMmt         ErX       ErPos       ErPsi\n",
      "LoadStep Subiter      DeltaF     DeltaX          Res      ResRel      ResFrc   ResRelFrc      ResMmt   ResRelMmt         ErX       ErPos       ErPsi\n",
      "|  1  |  0  |  -3.08438  |-209.0456 |-715.3252 |3483.5011 |29217.3994| 590.8753 |1834.0510 |\u001b[0m\n",
      "                      DeltaF      DeltaX         Res      ResRel      ResFrc   ResRelFrc      ResMmt   ResRelMmt         ErX       ErPos       ErPsi\n",
      "LoadStep Subiter      DeltaF     DeltaX          Res      ResRel      ResFrc   ResRelFrc      ResMmt   ResRelMmt         ErX       ErPos       ErPsi\n",
      "|  2  |  0  |  -4.02248  |-214.7861 |-739.8573 |3524.9940 |29693.8643| 585.3775 |1899.1520 |\u001b[0m\n",
      "                      DeltaF      DeltaX         Res      ResRel      ResFrc   ResRelFrc      ResMmt   ResRelMmt         ErX       ErPos       ErPsi\n",
      "LoadStep Subiter      DeltaF     DeltaX          Res      ResRel      ResFrc   ResRelFrc      ResMmt   ResRelMmt         ErX       ErPos       ErPsi\n",
      "|  3  |  0  |  -5.18321  |-215.1227 |-741.5024 |3527.3351 |29724.6633| 584.8688 |1903.4883 |\u001b[0m\n",
      "\u001b[36mGenerating an instance of DynamicCoupled\u001b[0m\n",
      "\u001b[36mGenerating an instance of NonLinearDynamicPrescribedStep\u001b[0m\n",
      "\u001b[36mGenerating an instance of StepUvlm\u001b[0m\n",
      "\u001b[36mGenerating an instance of BeamPlot\u001b[0m\n",
      "\u001b[36mGenerating an instance of AerogridPlot\u001b[0m\n",
      "\u001b[0m\n",
      "\u001b[0m\n",
      "\u001b[0m\n",
      "|=======|========|======|==============|==============|==============|==============|==============|\u001b[0m\n",
      "|  ts   |   t    | iter | struc ratio  |  iter time   | residual vel |  FoR_vel(x)  |  FoR_vel(z)  |\u001b[0m\n",
      "|=======|========|======|==============|==============|==============|==============|==============|\u001b[0m\n",
      "|   1   | 0.0050 |  7   |   0.023646   |   2.546727   |  -5.603266   | 0.000000e+00 | 0.000000e+00 |\u001b[0m\n",
      "|   2   | 0.0100 |  6   |   0.019813   |   2.117364   |  -5.247924   | 0.000000e+00 | 0.000000e+00 |\u001b[0m\n",
      "|   3   | 0.0150 |  5   |   0.020523   |   1.838730   |  -5.184645   | 0.000000e+00 | 0.000000e+00 |\u001b[0m\n",
      "|   4   | 0.0200 |  5   |   0.020040   |   1.836013   |  -5.136508   | 0.000000e+00 | 0.000000e+00 |\u001b[0m\n",
      "|   5   | 0.0250 |  6   |   0.020580   |   2.143395   |  -5.677016   | 0.000000e+00 | 0.000000e+00 |\u001b[0m\n",
      "|   6   | 0.0300 |  6   |   0.020052   |   2.162018   |  -5.542304   | 0.000000e+00 | 0.000000e+00 |\u001b[0m\n",
      "|   7   | 0.0350 |  6   |   0.020208   |   2.109230   |  -5.536659   | 0.000000e+00 | 0.000000e+00 |\u001b[0m\n",
      "|   8   | 0.0400 |  6   |   0.020463   |   2.101334   |  -5.678771   | 0.000000e+00 | 0.000000e+00 |\u001b[0m\n",
      "|   9   | 0.0450 |  5   |   0.020799   |   1.808117   |  -5.218376   | 0.000000e+00 | 0.000000e+00 |\u001b[0m\n",
      "|  10   | 0.0500 |  5   |   0.019932   |   1.814303   |  -5.487118   | 0.000000e+00 | 0.000000e+00 |\u001b[0m\n",
      "|  11   | 0.0550 |  5   |   0.064246   |   1.868782   |  -5.362814   | 0.000000e+00 | 0.000000e+00 |\u001b[0m\n",
      "|  12   | 0.0600 |  5   |   0.020171   |   1.817403   |  -5.470459   | 0.000000e+00 | 0.000000e+00 |\u001b[0m\n",
      "|  13   | 0.0650 |  5   |   0.019904   |   1.839649   |  -5.389889   | 0.000000e+00 | 0.000000e+00 |\u001b[0m\n",
      "|  14   | 0.0700 |  5   |   0.020029   |   1.812325   |  -5.166063   | 0.000000e+00 | 0.000000e+00 |\u001b[0m\n",
      "|  15   | 0.0750 |  5   |   0.020267   |   1.829520   |  -5.166755   | 0.000000e+00 | 0.000000e+00 |\u001b[0m\n",
      "|  16   | 0.0800 |  5   |   0.020439   |   1.829200   |  -5.477860   | 0.000000e+00 | 0.000000e+00 |\u001b[0m\n",
      "|  17   | 0.0850 |  5   |   0.020166   |   1.802522   |  -5.459647   | 0.000000e+00 | 0.000000e+00 |\u001b[0m\n",
      "|  18   | 0.0900 |  5   |   0.020489   |   1.815956   |  -5.216211   | 0.000000e+00 | 0.000000e+00 |\u001b[0m\n",
      "|  19   | 0.0950 |  5   |   0.020259   |   1.799965   |  -5.351042   | 0.000000e+00 | 0.000000e+00 |\u001b[0m\n",
      "|  20   | 0.1000 |  5   |   0.062995   |   1.887234   |  -5.651738   | 0.000000e+00 | 0.000000e+00 |\u001b[0m\n",
      "|  21   | 0.1050 |  5   |   0.020070   |   1.795868   |  -5.385583   | 0.000000e+00 | 0.000000e+00 |\u001b[0m\n",
      "|  22   | 0.1100 |  5   |   0.019961   |   1.805879   |  -5.419558   | 0.000000e+00 | 0.000000e+00 |\u001b[0m\n",
      "|  23   | 0.1150 |  5   |   0.019847   |   1.808164   |  -5.653146   | 0.000000e+00 | 0.000000e+00 |\u001b[0m\n",
      "|  24   | 0.1200 |  5   |   0.019992   |   1.821264   |  -5.214656   | 0.000000e+00 | 0.000000e+00 |\u001b[0m\n",
      "|  25   | 0.1250 |  5   |   0.020089   |   1.805464   |  -5.044889   | 0.000000e+00 | 0.000000e+00 |\u001b[0m\n",
      "|  26   | 0.1300 |  5   |   0.020292   |   1.823551   |  -5.051219   | 0.000000e+00 | 0.000000e+00 |\u001b[0m\n",
      "|  27   | 0.1350 |  5   |   0.020261   |   1.822666   |  -5.264373   | 0.000000e+00 | 0.000000e+00 |\u001b[0m\n",
      "|  28   | 0.1400 |  4   |   0.020031   |   1.515210   |  -5.145819   | 0.000000e+00 | 0.000000e+00 |\u001b[0m\n",
      "|  29   | 0.1450 |  5   |   0.020005   |   1.811318   |  -5.441666   | 0.000000e+00 | 0.000000e+00 |\u001b[0m\n",
      "|  30   | 0.1500 |  5   |   0.020360   |   1.822719   |  -5.511496   | 0.000000e+00 | 0.000000e+00 |\u001b[0m\n",
      "|  31   | 0.1550 |  5   |   0.019664   |   1.803785   |  -5.400968   | 0.000000e+00 | 0.000000e+00 |\u001b[0m\n",
      "|  32   | 0.1600 |  5   |   0.019944   |   1.784122   |  -5.105230   | 0.000000e+00 | 0.000000e+00 |\u001b[0m\n",
      "|  33   | 0.1650 |  5   |   0.020046   |   1.825498   |  -5.103173   | 0.000000e+00 | 0.000000e+00 |\u001b[0m\n",
      "|  34   | 0.1700 |  5   |   0.020439   |   1.793420   |  -5.460382   | 0.000000e+00 | 0.000000e+00 |\u001b[0m\n",
      "|  35   | 0.1750 |  5   |   0.019963   |   1.818520   |  -5.453629   | 0.000000e+00 | 0.000000e+00 |\u001b[0m\n",
      "|  36   | 0.1800 |  5   |   0.019733   |   1.814634   |  -5.225631   | 0.000000e+00 | 0.000000e+00 |\u001b[0m\n",
      "|  37   | 0.1850 |  5   |   0.020210   |   1.831367   |  -5.309179   | 0.000000e+00 | 0.000000e+00 |\u001b[0m\n",
      "|  38   | 0.1900 |  5   |   0.019994   |   1.822615   |  -5.641403   | 0.000000e+00 | 0.000000e+00 |\u001b[0m\n",
      "|  39   | 0.1950 |  5   |   0.019829   |   1.826987   |  -5.284796   | 0.000000e+00 | 0.000000e+00 |\u001b[0m\n",
      "|  40   | 0.2000 |  5   |   0.020465   |   1.804550   |  -5.076112   | 0.000000e+00 | 0.000000e+00 |\u001b[0m\n",
      "|  41   | 0.2050 |  5   |   0.020514   |   1.809809   |  -5.118664   | 0.000000e+00 | 0.000000e+00 |\u001b[0m\n",
      "|  42   | 0.2100 |  5   |   0.020063   |   1.807693   |  -5.423599   | 0.000000e+00 | 0.000000e+00 |\u001b[0m\n",
      "|  43   | 0.2150 |  5   |   0.020034   |   1.791831   |  -5.688797   | 0.000000e+00 | 0.000000e+00 |\u001b[0m\n",
      "|  44   | 0.2200 |  5   |   0.019700   |   1.803876   |  -5.374725   | 0.000000e+00 | 0.000000e+00 |\u001b[0m\n",
      "|  45   | 0.2250 |  5   |   0.019929   |   1.788621   |  -5.507723   | 0.000000e+00 | 0.000000e+00 |\u001b[0m\n",
      "|  46   | 0.2300 |  5   |   0.019340   |   1.848167   |  -5.186773   | 0.000000e+00 | 0.000000e+00 |\u001b[0m\n",
      "|  47   | 0.2350 |  6   |   0.019856   |   2.134924   |  -5.766647   | 0.000000e+00 | 0.000000e+00 |\u001b[0m\n",
      "|  48   | 0.2400 |  5   |   0.020244   |   1.848072   |  -5.024666   | 0.000000e+00 | 0.000000e+00 |\u001b[0m\n",
      "|  49   | 0.2450 |  5   |   0.019950   |   1.833138   |  -5.384282   | 0.000000e+00 | 0.000000e+00 |\u001b[0m\n",
      "|  50   | 0.2500 |  5   |   0.020491   |   1.839034   |  -5.529591   | 0.000000e+00 | 0.000000e+00 |\u001b[0m\n",
      "|  51   | 0.2550 |  5   |   0.020414   |   1.799854   |  -5.230750   | 0.000000e+00 | 0.000000e+00 |\u001b[0m\n",
      "|  52   | 0.2600 |  5   |   0.020015   |   1.826880   |  -5.257053   | 0.000000e+00 | 0.000000e+00 |\u001b[0m\n",
      "|  53   | 0.2650 |  5   |   0.019815   |   1.819645   |  -5.615426   | 0.000000e+00 | 0.000000e+00 |\u001b[0m\n",
      "|  54   | 0.2700 |  5   |   0.020166   |   1.809224   |  -5.466470   | 0.000000e+00 | 0.000000e+00 |\u001b[0m\n",
      "|  55   | 0.2750 |  5   |   0.020271   |   1.806744   |  -5.173357   | 0.000000e+00 | 0.000000e+00 |\u001b[0m\n",
      "|  56   | 0.2800 |  5   |   0.020315   |   1.807894   |  -5.189912   | 0.000000e+00 | 0.000000e+00 |\u001b[0m\n",
      "|  57   | 0.2850 |  5   |   0.019031   |   1.807302   |  -5.575349   | 0.000000e+00 | 0.000000e+00 |\u001b[0m\n",
      "|  58   | 0.2900 |  5   |   0.019301   |   1.798975   |  -5.448451   | 0.000000e+00 | 0.000000e+00 |\u001b[0m\n",
      "|  59   | 0.2950 |  5   |   0.019983   |   1.845483   |  -5.269536   | 0.000000e+00 | 0.000000e+00 |\u001b[0m\n",
      "|  60   | 0.3000 |  5   |   0.020018   |   1.812765   |  -5.479092   | 0.000000e+00 | 0.000000e+00 |\u001b[0m\n",
      "|  61   | 0.3050 |  5   |   0.019997   |   1.808942   |  -5.175736   | 0.000000e+00 | 0.000000e+00 |\u001b[0m\n",
      "|  62   | 0.3100 |  6   |   0.020088   |   2.103369   |  -5.742282   | 0.000000e+00 | 0.000000e+00 |\u001b[0m\n",
      "|  63   | 0.3150 |  6   |   0.019917   |   2.107500   |  -5.729949   | 0.000000e+00 | 0.000000e+00 |\u001b[0m\n",
      "|  64   | 0.3200 |  5   |   0.019406   |   1.810334   |  -5.185401   | 0.000000e+00 | 0.000000e+00 |\u001b[0m\n",
      "|  65   | 0.3250 |  4   |   0.019879   |   1.508066   |  -5.089899   | 0.000000e+00 | 0.000000e+00 |\u001b[0m\n",
      "|  66   | 0.3300 |  5   |   0.019908   |   1.797832   |  -5.410542   | 0.000000e+00 | 0.000000e+00 |\u001b[0m\n",
      "|  67   | 0.3350 |  5   |   0.019636   |   1.817820   |  -5.237938   | 0.000000e+00 | 0.000000e+00 |\u001b[0m\n",
      "|  68   | 0.3400 |  5   |   0.020182   |   1.796091   |  -5.400504   | 0.000000e+00 | 0.000000e+00 |\u001b[0m\n",
      "|  69   | 0.3450 |  5   |   0.020263   |   1.810896   |  -5.680109   | 0.000000e+00 | 0.000000e+00 |\u001b[0m\n",
      "|  70   | 0.3500 |  5   |   0.019967   |   1.799013   |  -5.249988   | 0.000000e+00 | 0.000000e+00 |\u001b[0m\n",
      "|  71   | 0.3550 |  5   |   0.020091   |   1.818211   |  -5.210248   | 0.000000e+00 | 0.000000e+00 |\u001b[0m\n",
      "|  72   | 0.3600 |  5   |   0.019836   |   1.814162   |  -5.576134   | 0.000000e+00 | 0.000000e+00 |\u001b[0m\n",
      "|  73   | 0.3650 |  5   |   0.020223   |   1.825668   |  -5.424423   | 0.000000e+00 | 0.000000e+00 |\u001b[0m\n",
      "|  74   | 0.3700 |  5   |   0.019492   |   1.815536   |  -5.210467   | 0.000000e+00 | 0.000000e+00 |\u001b[0m\n",
      "|  75   | 0.3750 |  5   |   0.019293   |   1.815104   |  -5.432265   | 0.000000e+00 | 0.000000e+00 |\u001b[0m\n",
      "|  76   | 0.3800 |  5   |   0.020137   |   1.804013   |  -5.294275   | 0.000000e+00 | 0.000000e+00 |\u001b[0m\n",
      "|  77   | 0.3850 |  5   |   0.019834   |   1.802264   |  -5.002416   | 0.000000e+00 | 0.000000e+00 |\u001b[0m\n",
      "|  78   | 0.3900 |  6   |   0.019640   |   2.120685   |  -5.727841   | 0.000000e+00 | 0.000000e+00 |\u001b[0m\n",
      "|  79   | 0.3950 |  6   |   0.019666   |   2.108886   |  -5.764055   | 0.000000e+00 | 0.000000e+00 |\u001b[0m\n",
      "|  80   | 0.4000 |  5   |   0.019365   |   1.815111   |  -5.288658   | 0.000000e+00 | 0.000000e+00 |\u001b[0m\n",
      "|  81   | 0.4050 |  5   |   0.020082   |   1.848981   |  -5.635085   | 0.000000e+00 | 0.000000e+00 |\u001b[0m\n",
      "|  82   | 0.4100 |  5   |   0.020038   |   1.827778   |  -5.263444   | 0.000000e+00 | 0.000000e+00 |\u001b[0m\n",
      "|  83   | 0.4150 |  5   |   0.019946   |   1.804249   |  -5.214154   | 0.000000e+00 | 0.000000e+00 |\u001b[0m\n",
      "|  84   | 0.4200 |  5   |   0.020201   |   1.818530   |  -5.600270   | 0.000000e+00 | 0.000000e+00 |\u001b[0m\n",
      "|  85   | 0.4250 |  5   |   0.020186   |   1.815468   |  -5.402822   | 0.000000e+00 | 0.000000e+00 |\u001b[0m\n",
      "|  86   | 0.4300 |  5   |   0.020259   |   1.835633   |  -5.244612   | 0.000000e+00 | 0.000000e+00 |\u001b[0m\n",
      "|  87   | 0.4350 |  5   |   0.019991   |   1.813549   |  -5.558280   | 0.000000e+00 | 0.000000e+00 |\u001b[0m\n",
      "|  88   | 0.4400 |  5   |   0.020299   |   1.805133   |  -5.541076   | 0.000000e+00 | 0.000000e+00 |\u001b[0m\n",
      "|  89   | 0.4450 |  5   |   0.020162   |   1.803929   |  -5.317960   | 0.000000e+00 | 0.000000e+00 |\u001b[0m\n",
      "|  90   | 0.4500 |  5   |   0.064250   |   1.908887   |  -5.420988   | 0.000000e+00 | 0.000000e+00 |\u001b[0m\n",
      "|  91   | 0.4550 |  5   |   0.020093   |   1.809847   |  -5.507096   | 0.000000e+00 | 0.000000e+00 |\u001b[0m\n",
      "|  92   | 0.4600 |  5   |   0.019625   |   1.818584   |  -5.148520   | 0.000000e+00 | 0.000000e+00 |\u001b[0m\n",
      "|  93   | 0.4650 |  6   |   0.019960   |   2.098704   |  -5.755302   | 0.000000e+00 | 0.000000e+00 |\u001b[0m\n",
      "|  94   | 0.4700 |  6   |   0.019852   |   2.098132   |  -5.679513   | 0.000000e+00 | 0.000000e+00 |\u001b[0m\n",
      "|  95   | 0.4750 |  6   |   0.019939   |   2.116490   |  -5.735253   | 0.000000e+00 | 0.000000e+00 |\u001b[0m\n",
      "|  96   | 0.4800 |  5   |   0.019997   |   1.815437   |  -5.465583   | 0.000000e+00 | 0.000000e+00 |\u001b[0m\n",
      "|  97   | 0.4850 |  5   |   0.020111   |   1.813199   |  -5.317621   | 0.000000e+00 | 0.000000e+00 |\u001b[0m\n",
      "|  98   | 0.4900 |  5   |   0.019652   |   1.819996   |  -5.133423   | 0.000000e+00 | 0.000000e+00 |\u001b[0m\n",
      "|  99   | 0.4950 |  5   |   0.019849   |   1.825364   |  -5.307603   | 0.000000e+00 | 0.000000e+00 |\u001b[0m\n",
      "|  100  | 0.5000 |  4   |   0.019621   |   1.490172   |  -5.253317   | 0.000000e+00 | 0.000000e+00 |\u001b[0m\n",
      "|  101  | 0.5050 |  5   |   0.019667   |   1.792839   |  -5.547885   | 0.000000e+00 | 0.000000e+00 |\u001b[0m\n",
      "|  102  | 0.5100 |  5   |   0.019792   |   1.801568   |  -5.539238   | 0.000000e+00 | 0.000000e+00 |\u001b[0m\n",
      "|  103  | 0.5150 |  4   |   0.019705   |   1.500696   |  -5.097878   | 0.000000e+00 | 0.000000e+00 |\u001b[0m\n",
      "|  104  | 0.5200 |  5   |   0.019552   |   1.815974   |  -5.728751   | 0.000000e+00 | 0.000000e+00 |\u001b[0m\n",
      "|  105  | 0.5250 |  5   |   0.019875   |   1.812073   |  -5.568884   | 0.000000e+00 | 0.000000e+00 |\u001b[0m\n",
      "|  106  | 0.5300 |  5   |   0.020077   |   1.821988   |  -5.630572   | 0.000000e+00 | 0.000000e+00 |\u001b[0m\n",
      "|  107  | 0.5350 |  5   |   0.019635   |   1.816077   |  -5.358147   | 0.000000e+00 | 0.000000e+00 |\u001b[0m\n",
      "|  108  | 0.5400 |  5   |   0.019548   |   1.810878   |  -5.019594   | 0.000000e+00 | 0.000000e+00 |\u001b[0m\n",
      "|  109  | 0.5450 |  6   |   0.019329   |   2.084072   |  -5.645561   | 0.000000e+00 | 0.000000e+00 |\u001b[0m\n",
      "|  110  | 0.5500 |  6   |   0.019351   |   2.092649   |  -5.630481   | 0.000000e+00 | 0.000000e+00 |\u001b[0m\n",
      "|  111  | 0.5550 |  5   |   0.018845   |   1.784205   |  -5.141094   | 0.000000e+00 | 0.000000e+00 |\u001b[0m\n",
      "|  112  | 0.5600 |  5   |   0.020096   |   1.809846   |  -5.541202   | 0.000000e+00 | 0.000000e+00 |\u001b[0m\n",
      "|  113  | 0.5650 |  5   |   0.019326   |   1.792330   |  -5.166199   | 0.000000e+00 | 0.000000e+00 |\u001b[0m\n",
      "|  114  | 0.5700 |  5   |   0.019376   |   1.799308   |  -5.117945   | 0.000000e+00 | 0.000000e+00 |\u001b[0m\n",
      "|  115  | 0.5750 |  5   |   0.019454   |   1.770256   |  -5.330787   | 0.000000e+00 | 0.000000e+00 |\u001b[0m\n",
      "|  116  | 0.5800 |  5   |   0.018905   |   1.793466   |  -5.546134   | 0.000000e+00 | 0.000000e+00 |\u001b[0m\n",
      "|  117  | 0.5850 |  4   |   0.019131   |   1.474334   |  -5.250384   | 0.000000e+00 | 0.000000e+00 |\u001b[0m\n",
      "|  118  | 0.5900 |  5   |   0.019037   |   1.797129   |  -5.642101   | 0.000000e+00 | 0.000000e+00 |\u001b[0m\n",
      "|  119  | 0.5950 |  5   |   0.018953   |   1.758914   |  -5.474834   | 0.000000e+00 | 0.000000e+00 |\u001b[0m\n",
      "|  120  | 0.6000 |  4   |   0.019485   |   1.505576   |  -5.041449   | 0.000000e+00 | 0.000000e+00 |\u001b[0m\n",
      "|  121  | 0.6050 |  4   |   0.019049   |   1.482798   |  -5.127772   | 0.000000e+00 | 0.000000e+00 |\u001b[0m\n",
      "|  122  | 0.6100 |  5   |   0.019879   |   1.835056   |  -5.467721   | 0.000000e+00 | 0.000000e+00 |\u001b[0m\n",
      "|  123  | 0.6150 |  5   |   0.019203   |   1.770004   |  -5.116194   | 0.000000e+00 | 0.000000e+00 |\u001b[0m\n",
      "|  124  | 0.6200 |  6   |   0.019637   |   2.168285   |  -5.697408   | 0.000000e+00 | 0.000000e+00 |\u001b[0m\n",
      "|  125  | 0.6250 |  6   |   0.019488   |   2.077359   |  -5.644850   | 0.000000e+00 | 0.000000e+00 |\u001b[0m\n",
      "|  126  | 0.6300 |  5   |   0.020159   |   1.796833   |  -5.030990   | 0.000000e+00 | 0.000000e+00 |\u001b[0m\n",
      "|  127  | 0.6350 |  5   |   0.019887   |   1.788769   |  -5.633704   | 0.000000e+00 | 0.000000e+00 |\u001b[0m\n",
      "|  128  | 0.6400 |  5   |   0.020103   |   1.798820   |  -5.298658   | 0.000000e+00 | 0.000000e+00 |\u001b[0m\n",
      "|  129  | 0.6450 |  5   |   0.019479   |   1.769661   |  -5.095699   | 0.000000e+00 | 0.000000e+00 |\u001b[0m\n",
      "|  130  | 0.6500 |  5   |   0.020013   |   1.792038   |  -5.037742   | 0.000000e+00 | 0.000000e+00 |\u001b[0m\n",
      "|  131  | 0.6550 |  5   |   0.019287   |   1.783220   |  -5.072564   | 0.000000e+00 | 0.000000e+00 |\u001b[0m\n",
      "|  132  | 0.6600 |  5   |   0.020317   |   1.803029   |  -5.419498   | 0.000000e+00 | 0.000000e+00 |\u001b[0m\n",
      "|  133  | 0.6650 |  5   |   0.019883   |   1.775901   |  -5.443726   | 0.000000e+00 | 0.000000e+00 |\u001b[0m\n",
      "|  134  | 0.6700 |  5   |   0.019567   |   1.793640   |  -5.163672   | 0.000000e+00 | 0.000000e+00 |\u001b[0m\n",
      "|  135  | 0.6750 |  5   |   0.019174   |   1.799495   |  -5.191318   | 0.000000e+00 | 0.000000e+00 |\u001b[0m\n",
      "|  136  | 0.6800 |  5   |   0.019441   |   1.803751   |  -5.424581   | 0.000000e+00 | 0.000000e+00 |\u001b[0m\n",
      "|  137  | 0.6850 |  5   |   0.019553   |   1.778393   |  -5.368291   | 0.000000e+00 | 0.000000e+00 |\u001b[0m\n",
      "|  138  | 0.6900 |  5   |   0.019866   |   1.804492   |  -5.158008   | 0.000000e+00 | 0.000000e+00 |\u001b[0m\n",
      "|  139  | 0.6950 |  6   |   0.019800   |   2.090063   |  -5.798870   | 0.000000e+00 | 0.000000e+00 |\u001b[0m\n",
      "|  140  | 0.7000 |  5   |   0.019693   |   1.821573   |  -5.005358   | 0.000000e+00 | 0.000000e+00 |\u001b[0m\n",
      "|  141  | 0.7050 |  5   |   0.019375   |   1.796176   |  -5.182711   | 0.000000e+00 | 0.000000e+00 |\u001b[0m\n",
      "|  142  | 0.7100 |  5   |   0.019711   |   1.801487   |  -5.460556   | 0.000000e+00 | 0.000000e+00 |\u001b[0m\n",
      "|  143  | 0.7150 |  5   |   0.019756   |   1.811887   |  -5.460456   | 0.000000e+00 | 0.000000e+00 |\u001b[0m\n",
      "|  144  | 0.7200 |  5   |   0.020015   |   1.793901   |  -5.133628   | 0.000000e+00 | 0.000000e+00 |\u001b[0m\n",
      "|  145  | 0.7250 |  6   |   0.019567   |   2.086372   |  -5.761209   | 0.000000e+00 | 0.000000e+00 |\u001b[0m\n",
      "|  146  | 0.7300 |  6   |   0.019390   |   2.109341   |  -5.691250   | 0.000000e+00 | 0.000000e+00 |\u001b[0m\n",
      "|  147  | 0.7350 |  5   |   0.019346   |   1.869453   |  -5.132316   | 0.000000e+00 | 0.000000e+00 |\u001b[0m\n",
      "|  148  | 0.7400 |  5   |   0.019194   |   1.814546   |  -5.510376   | 0.000000e+00 | 0.000000e+00 |\u001b[0m\n",
      "|  149  | 0.7450 |  5   |   0.019761   |   1.796369   |  -5.052617   | 0.000000e+00 | 0.000000e+00 |\u001b[0m\n",
      "|  150  | 0.7500 |  5   |   0.019936   |   1.778865   |  -5.011430   | 0.000000e+00 | 0.000000e+00 |\u001b[0m\n",
      "|  151  | 0.7550 |  5   |   0.020033   |   1.836727   |  -5.031033   | 0.000000e+00 | 0.000000e+00 |\u001b[0m\n",
      "|  152  | 0.7600 |  5   |   0.020042   |   1.803930   |  -5.053531   | 0.000000e+00 | 0.000000e+00 |\u001b[0m\n",
      "|  153  | 0.7650 |  5   |   0.019446   |   1.813332   |  -5.043531   | 0.000000e+00 | 0.000000e+00 |\u001b[0m\n",
      "|  154  | 0.7700 |  5   |   0.018929   |   1.813244   |  -5.209170   | 0.000000e+00 | 0.000000e+00 |\u001b[0m\n",
      "|  155  | 0.7750 |  5   |   0.019947   |   1.820349   |  -5.396933   | 0.000000e+00 | 0.000000e+00 |\u001b[0m\n",
      "|  156  | 0.7800 |  5   |   0.019726   |   1.827357   |  -5.690050   | 0.000000e+00 | 0.000000e+00 |\u001b[0m\n",
      "|  157  | 0.7850 |  4   |   0.071056   |   1.601368   |  -5.052563   | 0.000000e+00 | 0.000000e+00 |\u001b[0m\n",
      "|  158  | 0.7900 |  5   |   0.019274   |   1.829546   |  -5.465751   | 0.000000e+00 | 0.000000e+00 |\u001b[0m\n",
      "|  159  | 0.7950 |  5   |   0.019524   |   1.810643   |  -5.172078   | 0.000000e+00 | 0.000000e+00 |\u001b[0m\n",
      "|  160  | 0.8000 |  6   |   0.019879   |   2.152678   |  -5.774116   | 0.000000e+00 | 0.000000e+00 |\u001b[0m\n",
      "|  161  | 0.8050 |  6   |   0.019538   |   2.201730   |  -5.687931   | 0.000000e+00 | 0.000000e+00 |\u001b[0m\n",
      "|  162  | 0.8100 |  5   |   0.020880   |   1.815188   |  -5.170765   | 0.000000e+00 | 0.000000e+00 |\u001b[0m\n",
      "|  163  | 0.8150 |  5   |   0.020001   |   1.793522   |  -5.531385   | 0.000000e+00 | 0.000000e+00 |\u001b[0m\n",
      "|  164  | 0.8200 |  5   |   0.020971   |   1.801792   |  -5.081288   | 0.000000e+00 | 0.000000e+00 |\u001b[0m\n",
      "|  165  | 0.8250 |  6   |   0.020503   |   2.082974   |  -5.794443   | 0.000000e+00 | 0.000000e+00 |\u001b[0m\n",
      "|  166  | 0.8300 |  6   |   0.020719   |   2.117316   |  -5.680071   | 0.000000e+00 | 0.000000e+00 |\u001b[0m\n"
     ]
    },
    {
     "ename": "KeyboardInterrupt",
     "evalue": "",
     "output_type": "error",
     "traceback": [
      "\u001b[0;31m---------------------------------------------------------------------------\u001b[0m",
      "\u001b[0;31mKeyboardInterrupt\u001b[0m                         Traceback (most recent call last)",
      "\u001b[0;32m/tmp/ipykernel_18342/1377537065.py\u001b[0m in \u001b[0;36m<module>\u001b[0;34m\u001b[0m\n\u001b[1;32m      2\u001b[0m                                          \u001b[0mSimInfo\u001b[0m\u001b[0;34m.\u001b[0m\u001b[0msolvers\u001b[0m\u001b[0;34m[\u001b[0m\u001b[0;34m'SHARPy'\u001b[0m\u001b[0;34m]\u001b[0m\u001b[0;34m[\u001b[0m\u001b[0;34m'route'\u001b[0m\u001b[0;34m]\u001b[0m \u001b[0;34m+\u001b[0m\u001b[0;34m\u001b[0m\u001b[0;34m\u001b[0m\u001b[0m\n\u001b[1;32m      3\u001b[0m                                          \u001b[0mSimInfo\u001b[0m\u001b[0;34m.\u001b[0m\u001b[0msolvers\u001b[0m\u001b[0;34m[\u001b[0m\u001b[0;34m'SHARPy'\u001b[0m\u001b[0;34m]\u001b[0m\u001b[0;34m[\u001b[0m\u001b[0;34m'case'\u001b[0m\u001b[0;34m]\u001b[0m \u001b[0;34m+\u001b[0m\u001b[0;34m\u001b[0m\u001b[0;34m\u001b[0m\u001b[0m\n\u001b[0;32m----> 4\u001b[0;31m                                          '.sharpy'])\n\u001b[0m",
      "\u001b[0;32m~/anaconda3/envs/sharpy_env/lib/python3.7/site-packages/sharpy/sharpy_main.py\u001b[0m in \u001b[0;36mmain\u001b[0;34m(args, sharpy_input_dict)\u001b[0m\n\u001b[1;32m    113\u001b[0m             \u001b[0msolver\u001b[0m \u001b[0;34m=\u001b[0m \u001b[0msolver_interface\u001b[0m\u001b[0;34m.\u001b[0m\u001b[0minitialise_solver\u001b[0m\u001b[0;34m(\u001b[0m\u001b[0msolver_name\u001b[0m\u001b[0;34m)\u001b[0m\u001b[0;34m\u001b[0m\u001b[0;34m\u001b[0m\u001b[0m\n\u001b[1;32m    114\u001b[0m             \u001b[0msolver\u001b[0m\u001b[0;34m.\u001b[0m\u001b[0minitialise\u001b[0m\u001b[0;34m(\u001b[0m\u001b[0mdata\u001b[0m\u001b[0;34m)\u001b[0m\u001b[0;34m\u001b[0m\u001b[0;34m\u001b[0m\u001b[0m\n\u001b[0;32m--> 115\u001b[0;31m             \u001b[0mdata\u001b[0m \u001b[0;34m=\u001b[0m \u001b[0msolver\u001b[0m\u001b[0;34m.\u001b[0m\u001b[0mrun\u001b[0m\u001b[0;34m(\u001b[0m\u001b[0;34m)\u001b[0m\u001b[0;34m\u001b[0m\u001b[0;34m\u001b[0m\u001b[0m\n\u001b[0m\u001b[1;32m    116\u001b[0m \u001b[0;34m\u001b[0m\u001b[0m\n\u001b[1;32m    117\u001b[0m         \u001b[0mcpu_time\u001b[0m \u001b[0;34m=\u001b[0m \u001b[0mtime\u001b[0m\u001b[0;34m.\u001b[0m\u001b[0mprocess_time\u001b[0m\u001b[0;34m(\u001b[0m\u001b[0;34m)\u001b[0m \u001b[0;34m-\u001b[0m \u001b[0mt\u001b[0m\u001b[0;34m\u001b[0m\u001b[0;34m\u001b[0m\u001b[0m\n",
      "\u001b[0;32m~/anaconda3/envs/sharpy_env/lib/python3.7/site-packages/sharpy/solvers/dynamiccoupled.py\u001b[0m in \u001b[0;36mrun\u001b[0;34m(self)\u001b[0m\n\u001b[1;32m    429\u001b[0m \u001b[0;34m\u001b[0m\u001b[0m\n\u001b[1;32m    430\u001b[0m         \u001b[0;32melse\u001b[0m\u001b[0;34m:\u001b[0m\u001b[0;34m\u001b[0m\u001b[0;34m\u001b[0m\u001b[0m\n\u001b[0;32m--> 431\u001b[0;31m             \u001b[0mself\u001b[0m\u001b[0;34m.\u001b[0m\u001b[0mtime_loop\u001b[0m\u001b[0;34m(\u001b[0m\u001b[0;34m)\u001b[0m\u001b[0;34m\u001b[0m\u001b[0;34m\u001b[0m\u001b[0m\n\u001b[0m\u001b[1;32m    432\u001b[0m \u001b[0;34m\u001b[0m\u001b[0m\n\u001b[1;32m    433\u001b[0m         \u001b[0;32mif\u001b[0m \u001b[0mself\u001b[0m\u001b[0;34m.\u001b[0m\u001b[0mprint_info\u001b[0m\u001b[0;34m:\u001b[0m\u001b[0;34m\u001b[0m\u001b[0;34m\u001b[0m\u001b[0m\n",
      "\u001b[0;32m~/anaconda3/envs/sharpy_env/lib/python3.7/site-packages/sharpy/solvers/dynamiccoupled.py\u001b[0m in \u001b[0;36mtime_loop\u001b[0;34m(self, in_queue, out_queue, finish_event)\u001b[0m\n\u001b[1;32m    579\u001b[0m                                                  \u001b[0mstructural_kstep\u001b[0m\u001b[0;34m,\u001b[0m\u001b[0;34m\u001b[0m\u001b[0;34m\u001b[0m\u001b[0m\n\u001b[1;32m    580\u001b[0m                                                  \u001b[0mconvect_wake\u001b[0m\u001b[0;34m=\u001b[0m\u001b[0;32mTrue\u001b[0m\u001b[0;34m,\u001b[0m\u001b[0;34m\u001b[0m\u001b[0;34m\u001b[0m\u001b[0m\n\u001b[0;32m--> 581\u001b[0;31m                                                  unsteady_contribution=unsteady_contribution)\n\u001b[0m\u001b[1;32m    582\u001b[0m                 \u001b[0mself\u001b[0m\u001b[0;34m.\u001b[0m\u001b[0mtime_aero\u001b[0m \u001b[0;34m+=\u001b[0m \u001b[0mtime\u001b[0m\u001b[0;34m.\u001b[0m\u001b[0mperf_counter\u001b[0m\u001b[0;34m(\u001b[0m\u001b[0;34m)\u001b[0m \u001b[0;34m-\u001b[0m \u001b[0mini_time_aero\u001b[0m\u001b[0;34m\u001b[0m\u001b[0;34m\u001b[0m\u001b[0m\n\u001b[1;32m    583\u001b[0m \u001b[0;34m\u001b[0m\u001b[0m\n",
      "\u001b[0;32m~/anaconda3/envs/sharpy_env/lib/python3.7/site-packages/sharpy/solvers/stepuvlm.py\u001b[0m in \u001b[0;36mrun\u001b[0;34m(self, aero_tstep, structure_tstep, convect_wake, dt, t, unsteady_contribution)\u001b[0m\n\u001b[1;32m    233\u001b[0m                             \u001b[0mself\u001b[0m\u001b[0;34m.\u001b[0m\u001b[0msettings\u001b[0m\u001b[0;34m,\u001b[0m\u001b[0;34m\u001b[0m\u001b[0;34m\u001b[0m\u001b[0m\n\u001b[1;32m    234\u001b[0m                             \u001b[0mconvect_wake\u001b[0m\u001b[0;34m=\u001b[0m\u001b[0mconvect_wake\u001b[0m\u001b[0;34m,\u001b[0m\u001b[0;34m\u001b[0m\u001b[0;34m\u001b[0m\u001b[0m\n\u001b[0;32m--> 235\u001b[0;31m                             dt=dt)\n\u001b[0m\u001b[1;32m    236\u001b[0m \u001b[0;34m\u001b[0m\u001b[0m\n\u001b[1;32m    237\u001b[0m         \u001b[0;32mif\u001b[0m \u001b[0munsteady_contribution\u001b[0m \u001b[0;32mand\u001b[0m \u001b[0;32mnot\u001b[0m \u001b[0mself\u001b[0m\u001b[0;34m.\u001b[0m\u001b[0msettings\u001b[0m\u001b[0;34m[\u001b[0m\u001b[0;34m'quasi_steady'\u001b[0m\u001b[0;34m]\u001b[0m\u001b[0;34m:\u001b[0m\u001b[0;34m\u001b[0m\u001b[0;34m\u001b[0m\u001b[0m\n",
      "\u001b[0;32m~/anaconda3/envs/sharpy_env/lib/python3.7/site-packages/sharpy/aero/utils/uvlmlib.py\u001b[0m in \u001b[0;36muvlm_solver\u001b[0;34m(i_iter, ts_info, struct_ts_info, options, convect_wake, dt)\u001b[0m\n\u001b[1;32m    297\u001b[0m              \u001b[0mts_info\u001b[0m\u001b[0;34m.\u001b[0m\u001b[0mct_p_normals\u001b[0m\u001b[0;34m,\u001b[0m\u001b[0;34m\u001b[0m\u001b[0;34m\u001b[0m\u001b[0m\n\u001b[1;32m    298\u001b[0m              \u001b[0mts_info\u001b[0m\u001b[0;34m.\u001b[0m\u001b[0mct_p_forces\u001b[0m\u001b[0;34m,\u001b[0m\u001b[0;34m\u001b[0m\u001b[0;34m\u001b[0m\u001b[0m\n\u001b[0;32m--> 299\u001b[0;31m              ts_info.ct_p_dynamic_forces)\n\u001b[0m\u001b[1;32m    300\u001b[0m     \u001b[0mts_info\u001b[0m\u001b[0;34m.\u001b[0m\u001b[0mremove_ctypes_pointers\u001b[0m\u001b[0;34m(\u001b[0m\u001b[0;34m)\u001b[0m\u001b[0;34m\u001b[0m\u001b[0;34m\u001b[0m\u001b[0m\n\u001b[1;32m    301\u001b[0m     \u001b[0;31m# previous_ts_info.remove_ctypes_pointers()\u001b[0m\u001b[0;34m\u001b[0m\u001b[0;34m\u001b[0m\u001b[0;34m\u001b[0m\u001b[0m\n",
      "\u001b[0;31mKeyboardInterrupt\u001b[0m: "
     ]
    }
   ],
   "source": [
    "sharpy_output = sharpy.sharpy_main.main(['',\n",
    "                                         SimInfo.solvers['SHARPy']['route'] +\n",
    "                                         SimInfo.solvers['SHARPy']['case'] +\n",
    "                                         '.sharpy'])"
   ]
  },
  {
   "cell_type": "code",
   "execution_count": null,
   "metadata": {},
   "outputs": [
    {
     "data": {
      "application/vnd.plotly.v1+json": {
       "config": {
        "plotlyServerURL": "https://plot.ly"
       },
       "data": [
        {
         "line": {
          "color": "grey"
         },
         "mode": "lines",
         "name": "Aero surface",
         "surfaceaxis": 2,
         "type": "scatter3d",
         "x": [
          -0.3750000000000001,
          0.12500000000000003,
          0.1250086400972277,
          -0.37499092048349614,
          -0.3750000000000001
         ],
         "y": [
          -6.108137611629605e-18,
          2.0360458705432016e-18,
          1.6000456710689852,
          1.5995715605084495,
          -6.108137611629605e-18
         ],
         "z": [
          -3.2473352108830995e-17,
          1.0824450702943665e-17,
          0.01328959652688973,
          0.01375288721243833,
          -3.2473352108830995e-17
         ]
        },
        {
         "line": {
          "color": "grey"
         },
         "mode": "lines",
         "showlegend": false,
         "surfaceaxis": 2,
         "type": "scatter3d",
         "x": [
          -0.37499092048349614,
          0.1250086400972277,
          0.1250348761559673,
          -0.37496349000448936,
          -0.37499092048349614
         ],
         "y": [
          1.5995715605084495,
          1.6000456710689852,
          3.19976455606571,
          3.198842143579963,
          1.5995715605084495
         ],
         "z": [
          0.01375288721243833,
          0.01328959652688973,
          0.047959733525626214,
          0.0488446019226188,
          0.01375288721243833
         ]
        },
        {
         "line": {
          "color": "grey"
         },
         "mode": "lines",
         "showlegend": false,
         "surfaceaxis": 2,
         "type": "scatter3d",
         "x": [
          -0.37496349000448936,
          0.1250348761559673,
          0.12508546392033348,
          -0.37491125942075093,
          -0.37496349000448936
         ],
         "y": [
          3.198842143579963,
          3.19976455606571,
          4.799025421707558,
          4.797710067535274,
          3.198842143579963
         ],
         "z": [
          0.0488446019226188,
          0.047959733525626214,
          0.09942312842486231,
          0.1006667085712647,
          0.0488446019226188
         ]
        },
        {
         "line": {
          "color": "grey"
         },
         "mode": "lines",
         "showlegend": false,
         "surfaceaxis": 2,
         "type": "scatter3d",
         "x": [
          -0.37491125942075093,
          0.12508546392033348,
          0.1251619368424156,
          -0.3748328372866993,
          -0.37491125942075093
         ],
         "y": [
          4.797710067535274,
          4.799025421707558,
          6.397808653985086,
          6.396138667278057,
          4.797710067535274
         ],
         "z": [
          0.1006667085712647,
          0.09942312842486231,
          0.16381887974787573,
          0.1653799652591735,
          0.1006667085712647
         ]
        },
        {
         "line": {
          "color": "grey"
         },
         "mode": "lines",
         "showlegend": false,
         "surfaceaxis": 2,
         "type": "scatter3d",
         "x": [
          -0.3748328372866993,
          0.1251619368424156,
          0.12526274936880624,
          -0.3747300898535064,
          -0.3748328372866993
         ],
         "y": [
          6.396138667278057,
          6.397808653985086,
          7.996177544006095,
          7.994215184718664,
          6.396138667278057
         ],
         "z": [
          0.1653799652591735,
          0.16381887974787573,
          0.2375380120338348,
          0.23935731751602188,
          0.1653799652591735
         ]
        },
        {
         "line": {
          "color": "grey"
         },
         "mode": "lines",
         "showlegend": false,
         "surfaceaxis": 2,
         "type": "scatter3d",
         "x": [
          -0.3747300898535064,
          0.12526274936880624,
          0.12538562556645885,
          -0.37460528665540777,
          -0.3747300898535064
         ],
         "y": [
          7.994215184718664,
          7.996177544006095,
          9.594223447448554,
          9.592006733729832,
          7.994215184718664
         ],
         "z": [
          0.23935731751602188,
          0.2375380120338348,
          0.31777587430825327,
          0.31981888087577925,
          0.23935731751602188
         ]
        },
        {
         "line": {
          "color": "grey"
         },
         "mode": "lines",
         "showlegend": false,
         "surfaceaxis": 2,
         "type": "scatter3d",
         "x": [
          -0.37460528665540777,
          0.12538562556645885,
          0.12552704824515515,
          -0.3744622987298031,
          -0.37460528665540777
         ],
         "y": [
          9.592006733729832,
          9.594223447448554,
          11.19204995108218,
          11.189645805870207,
          9.592006733729832
         ],
         "z": [
          0.31981888087577925,
          0.31777587430825327,
          0.4019878963378088,
          0.40419538299791213,
          0.31981888087577925
         ]
        },
        {
         "line": {
          "color": "grey"
         },
         "mode": "lines",
         "showlegend": false,
         "surfaceaxis": 2,
         "type": "scatter3d",
         "x": [
          -0.3744622987298031,
          0.12552704824515515,
          0.12568370213308666,
          -0.37430437106465325,
          -0.3744622987298031
         ],
         "y": [
          11.189645805870207,
          11.19204995108218,
          12.789743469381184,
          12.78719705048271,
          11.189645805870207
         ],
         "z": [
          0.40419538299791213,
          0.4019878963378088,
          0.48849023749702414,
          0.4908231350097686,
          0.40419538299791213
         ]
        },
        {
         "line": {
          "color": "grey"
         },
         "mode": "lines",
         "showlegend": false,
         "surfaceaxis": 2,
         "type": "scatter3d",
         "x": [
          -0.37430437106465325,
          0.12568370213308666,
          0.1258498588826339,
          -0.374137551200886,
          -0.37430437106465325
         ],
         "y": [
          12.78719705048271,
          12.789743469381184,
          14.387372697615312,
          14.384755308410433,
          12.78719705048271
         ],
         "z": [
          0.4908231350097686,
          0.48849023749702414,
          0.5758667325517072,
          0.5782623601781011,
          0.4908231350097686
         ]
        },
        {
         "line": {
          "color": "grey"
         },
         "mode": "lines",
         "showlegend": false,
         "surfaceaxis": 2,
         "type": "scatter3d",
         "x": [
          -0.374137551200886,
          0.1258498588826339,
          0.12602097274969093,
          -0.3739661529304538,
          -0.374137551200886
         ],
         "y": [
          14.384755308410433,
          14.387372697615312,
          15.984976902115449,
          15.98232974533595,
          14.384755308410433
         ],
         "z": [
          0.5782623601781011,
          0.5758667325517072,
          0.6635226030805041,
          0.66594473336022,
          0.5782623601781011
         ]
        },
        {
         "line": {
          "color": "grey"
         },
         "mode": "lines",
         "showlegend": false,
         "surfaceaxis": 2,
         "type": "scatter3d",
         "x": [
          0.12500000000000003,
          0.6250000000000001,
          0.6250082006779516,
          0.1250086400972277,
          0.12500000000000003
         ],
         "y": [
          2.0360458705432016e-18,
          1.0180229352716008e-17,
          1.600519781629521,
          1.6000456710689852,
          2.0360458705432016e-18
         ],
         "z": [
          1.0824450702943665e-17,
          5.412225351471832e-17,
          0.012826305841341132,
          0.01328959652688973,
          1.0824450702943665e-17
         ]
        },
        {
         "line": {
          "color": "grey"
         },
         "mode": "lines",
         "showlegend": false,
         "surfaceaxis": 2,
         "type": "scatter3d",
         "x": [
          0.1250086400972277,
          0.6250082006779516,
          0.625033242316424,
          0.1250348761559673,
          0.1250086400972277
         ],
         "y": [
          1.6000456710689852,
          1.600519781629521,
          3.200686968551457,
          3.19976455606571,
          1.6000456710689852
         ],
         "z": [
          0.01328959652688973,
          0.012826305841341132,
          0.047074865128633625,
          0.047959733525626214,
          0.01328959652688973
         ]
        },
        {
         "line": {
          "color": "grey"
         },
         "mode": "lines",
         "showlegend": false,
         "surfaceaxis": 2,
         "type": "scatter3d",
         "x": [
          0.1250348761559673,
          0.625033242316424,
          0.6250821872614178,
          0.12508546392033348,
          0.1250348761559673
         ],
         "y": [
          3.19976455606571,
          3.200686968551457,
          4.800340775879842,
          4.799025421707558,
          3.19976455606571
         ],
         "z": [
          0.047959733525626214,
          0.047074865128633625,
          0.09817954827845993,
          0.09942312842486231,
          0.047959733525626214
         ]
        },
        {
         "line": {
          "color": "grey"
         },
         "mode": "lines",
         "showlegend": false,
         "surfaceaxis": 2,
         "type": "scatter3d",
         "x": [
          0.12508546392033348,
          0.6250821872614178,
          0.6251567109715306,
          0.1251619368424156,
          0.12508546392033348
         ],
         "y": [
          4.799025421707558,
          4.800340775879842,
          6.399478640692115,
          6.397808653985086,
          4.799025421707558
         ],
         "z": [
          0.09942312842486231,
          0.09817954827845993,
          0.16225779423657796,
          0.16381887974787573,
          0.09942312842486231
         ]
        },
        {
         "line": {
          "color": "grey"
         },
         "mode": "lines",
         "showlegend": false,
         "surfaceaxis": 2,
         "type": "scatter3d",
         "x": [
          0.1251619368424156,
          0.6251567109715306,
          0.625255588591119,
          0.12526274936880624,
          0.1251619368424156
         ],
         "y": [
          6.397808653985086,
          6.399478640692115,
          7.998139903293525,
          7.996177544006095,
          6.397808653985086
         ],
         "z": [
          0.16381887974787573,
          0.16225779423657796,
          0.2357187065516477,
          0.2375380120338348,
          0.16381887974787573
         ]
        },
        {
         "line": {
          "color": "grey"
         },
         "mode": "lines",
         "showlegend": false,
         "surfaceaxis": 2,
         "type": "scatter3d",
         "x": [
          0.12526274936880624,
          0.625255588591119,
          0.6253765377883256,
          0.12538562556645885,
          0.12526274936880624
         ],
         "y": [
          7.996177544006095,
          7.998139903293525,
          9.596440161167276,
          9.594223447448554,
          7.996177544006095
         ],
         "z": [
          0.2375380120338348,
          0.2357187065516477,
          0.3157328677407273,
          0.31777587430825327,
          0.2375380120338348
         ]
        },
        {
         "line": {
          "color": "grey"
         },
         "mode": "lines",
         "showlegend": false,
         "surfaceaxis": 2,
         "type": "scatter3d",
         "x": [
          0.12538562556645885,
          0.6253765377883256,
          0.6255163952201134,
          0.12552704824515515,
          0.12538562556645885
         ],
         "y": [
          9.594223447448554,
          9.596440161167276,
          11.194454096294152,
          11.19204995108218,
          9.594223447448554
         ],
         "z": [
          0.31777587430825327,
          0.3157328677407273,
          0.39978040967770545,
          0.4019878963378088,
          0.31777587430825327
         ]
        },
        {
         "line": {
          "color": "grey"
         },
         "mode": "lines",
         "showlegend": false,
         "surfaceaxis": 2,
         "type": "scatter3d",
         "x": [
          0.12552704824515515,
          0.6255163952201134,
          0.6256717753308266,
          0.12568370213308666,
          0.12552704824515515
         ],
         "y": [
          11.19204995108218,
          11.194454096294152,
          12.792289888279658,
          12.789743469381184,
          11.19204995108218
         ],
         "z": [
          0.4019878963378088,
          0.39978040967770545,
          0.4861573399842797,
          0.48849023749702414,
          0.4019878963378088
         ]
        },
        {
         "line": {
          "color": "grey"
         },
         "mode": "lines",
         "showlegend": false,
         "surfaceaxis": 2,
         "type": "scatter3d",
         "x": [
          0.12568370213308666,
          0.6256717753308266,
          0.6258372689661538,
          0.1258498588826339,
          0.12568370213308666
         ],
         "y": [
          12.789743469381184,
          12.792289888279658,
          14.389990086820191,
          14.387372697615312,
          12.789743469381184
         ],
         "z": [
          0.48849023749702414,
          0.4861573399842797,
          0.5734711049253133,
          0.5758667325517072,
          0.48849023749702414
         ]
        },
        {
         "line": {
          "color": "grey"
         },
         "mode": "lines",
         "showlegend": false,
         "surfaceaxis": 2,
         "type": "scatter3d",
         "x": [
          0.1258498588826339,
          0.6258372689661538,
          0.6260080984298357,
          0.12602097274969093,
          0.1258498588826339
         ],
         "y": [
          14.387372697615312,
          14.389990086820191,
          15.987624058894948,
          15.984976902115449,
          14.387372697615312
         ],
         "z": [
          0.5758667325517072,
          0.5734711049253133,
          0.6611004728007883,
          0.6635226030805041,
          0.5758667325517072
         ]
        },
        {
         "line": {
          "color": "black"
         },
         "mode": "lines",
         "showlegend": false,
         "type": "scatter3d",
         "x": [
          -0.3750000000000001,
          -0.37499092048349614,
          -0.37496349000448936,
          -0.37491125942075093,
          -0.3748328372866993,
          -0.3747300898535064,
          -0.37460528665540777,
          -0.3744622987298031,
          -0.37430437106465325,
          -0.374137551200886,
          -0.3739661529304538
         ],
         "y": [
          -6.108137611629605e-18,
          1.5995715605084495,
          3.198842143579963,
          4.797710067535274,
          6.396138667278057,
          7.994215184718664,
          9.592006733729832,
          11.189645805870207,
          12.78719705048271,
          14.384755308410433,
          15.98232974533595
         ],
         "z": [
          -3.2473352108830995e-17,
          0.01375288721243833,
          0.0488446019226188,
          0.1006667085712647,
          0.1653799652591735,
          0.23935731751602188,
          0.31981888087577925,
          0.40419538299791213,
          0.4908231350097686,
          0.5782623601781011,
          0.66594473336022
         ]
        },
        {
         "line": {
          "color": "black"
         },
         "mode": "lines",
         "showlegend": false,
         "type": "scatter3d",
         "x": [
          0.12500000000000003,
          0.1250086400972277,
          0.1250348761559673,
          0.12508546392033348,
          0.1251619368424156,
          0.12526274936880624,
          0.12538562556645885,
          0.12552704824515515,
          0.12568370213308666,
          0.1258498588826339,
          0.12602097274969093
         ],
         "y": [
          2.0360458705432016e-18,
          1.6000456710689852,
          3.19976455606571,
          4.799025421707558,
          6.397808653985086,
          7.996177544006095,
          9.594223447448554,
          11.19204995108218,
          12.789743469381184,
          14.387372697615312,
          15.984976902115449
         ],
         "z": [
          1.0824450702943665e-17,
          0.01328959652688973,
          0.047959733525626214,
          0.09942312842486231,
          0.16381887974787573,
          0.2375380120338348,
          0.31777587430825327,
          0.4019878963378088,
          0.48849023749702414,
          0.5758667325517072,
          0.6635226030805041
         ]
        },
        {
         "line": {
          "color": "black"
         },
         "mode": "lines",
         "showlegend": false,
         "type": "scatter3d",
         "x": [
          0.6250000000000001,
          0.6250082006779516,
          0.625033242316424,
          0.6250821872614178,
          0.6251567109715306,
          0.625255588591119,
          0.6253765377883256,
          0.6255163952201134,
          0.6256717753308266,
          0.6258372689661538,
          0.6260080984298357
         ],
         "y": [
          1.0180229352716008e-17,
          1.600519781629521,
          3.200686968551457,
          4.800340775879842,
          6.399478640692115,
          7.998139903293525,
          9.596440161167276,
          11.194454096294152,
          12.792289888279658,
          14.389990086820191,
          15.987624058894948
         ],
         "z": [
          5.412225351471832e-17,
          0.012826305841341132,
          0.047074865128633625,
          0.09817954827845993,
          0.16225779423657796,
          0.2357187065516477,
          0.3157328677407273,
          0.39978040967770545,
          0.4861573399842797,
          0.5734711049253133,
          0.6611004728007883
         ]
        },
        {
         "line": {
          "color": "black"
         },
         "mode": "lines",
         "showlegend": false,
         "type": "scatter3d",
         "x": [
          -0.3750000000000001,
          0.12500000000000003,
          0.6250000000000001
         ],
         "y": [
          -6.108137611629605e-18,
          2.0360458705432016e-18,
          1.0180229352716008e-17
         ],
         "z": [
          -3.2473352108830995e-17,
          1.0824450702943665e-17,
          5.412225351471832e-17
         ]
        },
        {
         "line": {
          "color": "black"
         },
         "mode": "lines",
         "showlegend": false,
         "type": "scatter3d",
         "x": [
          -0.37499092048349614,
          0.1250086400972277,
          0.6250082006779516
         ],
         "y": [
          1.5995715605084495,
          1.6000456710689852,
          1.600519781629521
         ],
         "z": [
          0.01375288721243833,
          0.01328959652688973,
          0.012826305841341132
         ]
        },
        {
         "line": {
          "color": "black"
         },
         "mode": "lines",
         "showlegend": false,
         "type": "scatter3d",
         "x": [
          -0.37496349000448936,
          0.1250348761559673,
          0.625033242316424
         ],
         "y": [
          3.198842143579963,
          3.19976455606571,
          3.200686968551457
         ],
         "z": [
          0.0488446019226188,
          0.047959733525626214,
          0.047074865128633625
         ]
        },
        {
         "line": {
          "color": "black"
         },
         "mode": "lines",
         "showlegend": false,
         "type": "scatter3d",
         "x": [
          -0.37491125942075093,
          0.12508546392033348,
          0.6250821872614178
         ],
         "y": [
          4.797710067535274,
          4.799025421707558,
          4.800340775879842
         ],
         "z": [
          0.1006667085712647,
          0.09942312842486231,
          0.09817954827845993
         ]
        },
        {
         "line": {
          "color": "black"
         },
         "mode": "lines",
         "showlegend": false,
         "type": "scatter3d",
         "x": [
          -0.3748328372866993,
          0.1251619368424156,
          0.6251567109715306
         ],
         "y": [
          6.396138667278057,
          6.397808653985086,
          6.399478640692115
         ],
         "z": [
          0.1653799652591735,
          0.16381887974787573,
          0.16225779423657796
         ]
        },
        {
         "line": {
          "color": "black"
         },
         "mode": "lines",
         "showlegend": false,
         "type": "scatter3d",
         "x": [
          -0.3747300898535064,
          0.12526274936880624,
          0.625255588591119
         ],
         "y": [
          7.994215184718664,
          7.996177544006095,
          7.998139903293525
         ],
         "z": [
          0.23935731751602188,
          0.2375380120338348,
          0.2357187065516477
         ]
        },
        {
         "line": {
          "color": "black"
         },
         "mode": "lines",
         "showlegend": false,
         "type": "scatter3d",
         "x": [
          -0.37460528665540777,
          0.12538562556645885,
          0.6253765377883256
         ],
         "y": [
          9.592006733729832,
          9.594223447448554,
          9.596440161167276
         ],
         "z": [
          0.31981888087577925,
          0.31777587430825327,
          0.3157328677407273
         ]
        },
        {
         "line": {
          "color": "black"
         },
         "mode": "lines",
         "showlegend": false,
         "type": "scatter3d",
         "x": [
          -0.3744622987298031,
          0.12552704824515515,
          0.6255163952201134
         ],
         "y": [
          11.189645805870207,
          11.19204995108218,
          11.194454096294152
         ],
         "z": [
          0.40419538299791213,
          0.4019878963378088,
          0.39978040967770545
         ]
        },
        {
         "line": {
          "color": "black"
         },
         "mode": "lines",
         "showlegend": false,
         "type": "scatter3d",
         "x": [
          -0.37430437106465325,
          0.12568370213308666,
          0.6256717753308266
         ],
         "y": [
          12.78719705048271,
          12.789743469381184,
          12.792289888279658
         ],
         "z": [
          0.4908231350097686,
          0.48849023749702414,
          0.4861573399842797
         ]
        },
        {
         "line": {
          "color": "black"
         },
         "mode": "lines",
         "showlegend": false,
         "type": "scatter3d",
         "x": [
          -0.374137551200886,
          0.1258498588826339,
          0.6258372689661538
         ],
         "y": [
          14.384755308410433,
          14.387372697615312,
          14.389990086820191
         ],
         "z": [
          0.5782623601781011,
          0.5758667325517072,
          0.5734711049253133
         ]
        },
        {
         "line": {
          "color": "black"
         },
         "mode": "lines",
         "showlegend": false,
         "type": "scatter3d",
         "x": [
          -0.3739661529304538,
          0.12602097274969093,
          0.6260080984298357
         ],
         "y": [
          15.98232974533595,
          15.984976902115449,
          15.987624058894948
         ],
         "z": [
          0.66594473336022,
          0.6635226030805041,
          0.6611004728007883
         ]
        },
        {
         "line": {
          "color": "lightskyblue"
         },
         "mode": "lines",
         "name": "Aero wake",
         "surfaceaxis": 2,
         "type": "scatter3d",
         "x": [
          0.6250000000000001,
          1.12492385,
          1.1248050873202082,
          0.6250082006813212,
          0.6250000000000001
         ],
         "y": [
          1.0180229352716008e-17,
          1.0180229352716008e-17,
          1.5994272497963131,
          1.6005197808762799,
          1.0180229352716008e-17
         ],
         "z": [
          5.412225351471832e-17,
          0.008726205000000055,
          0.02162856633909943,
          0.012826305810186988,
          5.412225351471832e-17
         ]
        },
        {
         "line": {
          "color": "lightskyblue"
         },
         "mode": "lines",
         "showlegend": false,
         "surfaceaxis": 2,
         "type": "scatter3d",
         "x": [
          0.6250082006813212,
          1.1248050873202082,
          1.1246948750055756,
          0.625033242311391,
          0.6250082006813212
         ],
         "y": [
          1.6005197808762799,
          1.5994272497963131,
          3.200562169286804,
          3.2006869671115536,
          1.6005197808762799
         ],
         "z": [
          0.012826305810186988,
          0.02162856633909943,
          0.055973574267848214,
          0.047074864506165055,
          0.012826305810186988
         ]
        },
        {
         "line": {
          "color": "lightskyblue"
         },
         "mode": "lines",
         "showlegend": false,
         "surfaceaxis": 2,
         "type": "scatter3d",
         "x": [
          0.625033242311391,
          1.1246948750055756,
          1.1246083132911007,
          0.625082187232479,
          0.625033242311391
         ],
         "y": [
          3.2006869671115536,
          3.200562169286804,
          4.800180580875889,
          4.800340774008901,
          3.2006869671115536
         ],
         "z": [
          0.047074864506165055,
          0.055973574267848214,
          0.10714470936825811,
          0.0981795472210285,
          0.047074864506165055
         ]
        },
        {
         "line": {
          "color": "lightskyblue"
         },
         "mode": "lines",
         "showlegend": false,
         "surfaceaxis": 2,
         "type": "scatter3d",
         "x": [
          0.625082187232479,
          1.1246083132911007,
          1.124553857758295,
          0.6251567108986613,
          0.625082187232479
         ],
         "y": [
          4.800340774008901,
          4.800180580875889,
          6.399297347020429,
          6.399478638425464,
          4.800340774008901
         ],
         "z": [
          0.0981795472210285,
          0.10714470936825811,
          0.1712792123647841,
          0.16225779278117985,
          0.0981795472210285
         ]
        },
        {
         "line": {
          "color": "lightskyblue"
         },
         "mode": "lines",
         "showlegend": false,
         "surfaceaxis": 2,
         "type": "scatter3d",
         "x": [
          0.6251567108986613,
          1.124553857758295,
          1.124542068285944,
          0.6252555884791595,
          0.6251567108986613
         ],
         "y": [
          6.399478638425464,
          6.399297347020429,
          7.997938108852912,
          7.998139900728205,
          6.399478638425464
         ],
         "z": [
          0.16225779278117985,
          0.1712792123647841,
          0.24477413873974713,
          0.23571870496091418,
          0.16225779278117985
         ]
        },
        {
         "line": {
          "color": "lightskyblue"
         },
         "mode": "lines",
         "showlegend": false,
         "surfaceaxis": 2,
         "type": "scatter3d",
         "x": [
          0.6252555884791595,
          1.124542068285944,
          1.1245761245165684,
          0.6253765376227447,
          0.6252555884791595
         ],
         "y": [
          7.998139900728205,
          7.997938108852912,
          9.596216313976829,
          9.596440158242828,
          7.998139900728205
         ],
         "z": [
          0.23571870496091418,
          0.24477413873974713,
          0.32481140279804177,
          0.31573286592967864,
          0.23571870496091418
         ]
        },
        {
         "line": {
          "color": "lightskyblue"
         },
         "mode": "lines",
         "showlegend": false,
         "surfaceaxis": 2,
         "type": "scatter3d",
         "x": [
          0.6253765376227447,
          1.1245761245165684,
          1.1246534487416113,
          0.6255163950077758,
          0.6253765376227447
         ],
         "y": [
          9.596440158242828,
          9.596216313976829,
          11.194204861729494,
          11.194454093153007,
          9.596440158242828
         ],
         "z": [
          0.31573286592967864,
          0.32481140279804177,
          0.40886966985057693,
          0.3997804079308429,
          0.31573286592967864
         ]
        },
        {
         "line": {
          "color": "lightskyblue"
         },
         "mode": "lines",
         "showlegend": false,
         "surfaceaxis": 2,
         "type": "scatter3d",
         "x": [
          0.6255163950077758,
          1.1246534487416113,
          1.1247585785984255,
          0.6256717750465146,
          0.6255163950077758
         ],
         "y": [
          11.194454093153007,
          11.194204861729494,
          12.792025076633314,
          12.792289884914894,
          11.194454093153007
         ],
         "z": [
          0.3997804079308429,
          0.40886966985057693,
          0.4952373565747191,
          0.48615733812538203,
          0.3997804079308429
         ]
        },
        {
         "line": {
          "color": "lightskyblue"
         },
         "mode": "lines",
         "showlegend": false,
         "surfaceaxis": 2,
         "type": "scatter3d",
         "x": [
          0.6256717750465146,
          1.1247585785984255,
          1.124878538617141,
          0.6258372686016829,
          0.6256717750465146
         ],
         "y": [
          12.792289884914894,
          12.792025076633314,
          14.389717875260931,
          14.38999008345555,
          12.792289884914894
         ],
         "z": [
          0.48615733812538203,
          0.4952373565747191,
          0.5825128172229536,
          0.5734711030310573,
          0.48615733812538203
         ]
        },
        {
         "line": {
          "color": "lightskyblue"
         },
         "mode": "lines",
         "showlegend": false,
         "surfaceaxis": 2,
         "type": "scatter3d",
         "x": [
          0.6258372686016829,
          1.124878538617141,
          1.1250017660288254,
          0.6260080979292544,
          0.6258372686016829
         ],
         "y": [
          14.38999008345555,
          14.389717875260931,
          15.987354618750501,
          15.987624055514882,
          14.38999008345555
         ],
         "z": [
          0.5734711030310573,
          0.5825128172229536,
          0.6700885171839005,
          0.6611004702906497,
          0.5734711030310573
         ]
        },
        {
         "line": {
          "color": "lightskyblue"
         },
         "mode": "lines",
         "showlegend": false,
         "surfaceaxis": 2,
         "type": "scatter3d",
         "x": [
          1.12492385,
          1.6248477000000001,
          1.6246367603908007,
          1.1248050873202082,
          1.12492385
         ],
         "y": [
          1.0180229352716008e-17,
          1.0180229352716008e-17,
          1.5994900186560428,
          1.5994272497963131,
          1.0180229352716008e-17
         ],
         "z": [
          0.008726205000000055,
          0.017452410000000057,
          0.03042772623379729,
          0.02162856633909943,
          0.008726205000000055
         ]
        },
        {
         "line": {
          "color": "lightskyblue"
         },
         "mode": "lines",
         "showlegend": false,
         "surfaceaxis": 2,
         "type": "scatter3d",
         "x": [
          1.1248050873202082,
          1.6246367603908007,
          1.6244353166325611,
          1.1246948750055756,
          1.1248050873202082
         ],
         "y": [
          1.5994272497963131,
          1.5994900186560428,
          3.1986581010966217,
          3.200562169286804,
          1.5994272497963131
         ],
         "z": [
          0.02162856633909943,
          0.03042772623379729,
          0.06478035769241625,
          0.055973574267848214,
          0.02162856633909943
         ]
        },
        {
         "line": {
          "color": "lightskyblue"
         },
         "mode": "lines",
         "showlegend": false,
         "surfaceaxis": 2,
         "type": "scatter3d",
         "x": [
          1.1246948750055756,
          1.6244353166325611,
          1.6242673189950327,
          1.1246083132911007,
          1.1246948750055756
         ],
         "y": [
          3.200562169286804,
          3.1986581010966217,
          4.800059220664356,
          4.800180580875889,
          3.200562169286804
         ],
         "z": [
          0.055973574267848214,
          0.06478035769241625,
          0.11605254417483034,
          0.10714470936825811,
          0.055973574267848214
         ]
        },
        {
         "line": {
          "color": "lightskyblue"
         },
         "mode": "lines",
         "showlegend": false,
         "surfaceaxis": 2,
         "type": "scatter3d",
         "x": [
          1.1246083132911007,
          1.6242673189950327,
          1.6241455163041496,
          1.124553857758295,
          1.1246083132911007
         ],
         "y": [
          4.800180580875889,
          4.800059220664356,
          6.399153752788273,
          6.399297347020429,
          4.800180580875889
         ],
         "z": [
          0.10714470936825811,
          0.11605254417483034,
          0.1802260995273387,
          0.1712792123647841,
          0.10714470936825811
         ]
        },
        {
         "line": {
          "color": "lightskyblue"
         },
         "mode": "lines",
         "showlegend": false,
         "surfaceaxis": 2,
         "type": "scatter3d",
         "x": [
          1.124553857758295,
          1.6241455163041496,
          1.6240671049260214,
          1.124542068285944,
          1.124553857758295
         ],
         "y": [
          6.399297347020429,
          6.399153752788273,
          7.9977810592845575,
          7.997938108852912,
          6.399297347020429
         ],
         "z": [
          0.1712792123647841,
          0.1802260995273387,
          0.253748471894078,
          0.24477413873974713,
          0.1712792123647841
         ]
        },
        {
         "line": {
          "color": "lightskyblue"
         },
         "mode": "lines",
         "showlegend": false,
         "surfaceaxis": 2,
         "type": "scatter3d",
         "x": [
          1.124542068285944,
          1.6240671049260214,
          1.6240212859793313,
          1.1245761245165684,
          1.124542068285944
         ],
         "y": [
          7.997938108852912,
          7.9977810592845575,
          9.596051429109606,
          9.596216313976829,
          7.997938108852912
         ],
         "z": [
          0.24477413873974713,
          0.253748471894078,
          0.33379080242168657,
          0.32481140279804177,
          0.24477413873974713
         ]
        },
        {
         "line": {
          "color": "lightskyblue"
         },
         "mode": "lines",
         "showlegend": false,
         "surfaceaxis": 2,
         "type": "scatter3d",
         "x": [
          1.1245761245165684,
          1.6240212859793313,
          1.6240001619106788,
          1.1246534487416113,
          1.1245761245165684
         ],
         "y": [
          9.596216313976829,
          9.596051429109606,
          11.194040643878706,
          11.194204861729494,
          9.596216313976829
         ],
         "z": [
          0.32481140279804177,
          0.33379080242168657,
          0.4178377135359716,
          0.40886966985057693,
          0.32481140279804177
         ]
        },
        {
         "line": {
          "color": "lightskyblue"
         },
         "mode": "lines",
         "showlegend": false,
         "surfaceaxis": 2,
         "type": "scatter3d",
         "x": [
          1.1246534487416113,
          1.6240001619106788,
          1.6240041802120455,
          1.1247585785984255,
          1.1246534487416113
         ],
         "y": [
          11.194204861729494,
          11.194040643878706,
          12.79185901782479,
          12.792025076633314,
          11.194204861729494
         ],
         "z": [
          0.40886966985057693,
          0.4178377135359716,
          0.5041802006166938,
          0.4952373565747191,
          0.40886966985057693
         ]
        },
        {
         "line": {
          "color": "lightskyblue"
         },
         "mode": "lines",
         "showlegend": false,
         "surfaceaxis": 2,
         "type": "scatter3d",
         "x": [
          1.1247585785984255,
          1.6240041802120455,
          1.6240369106007018,
          1.124878538617141,
          1.1247585785984255
         ],
         "y": [
          12.792025076633314,
          12.79185901782479,
          14.389552740201767,
          14.389717875260931,
          12.792025076633314
         ],
         "z": [
          0.4952373565747191,
          0.5041802006166938,
          0.5914282818330514,
          0.5825128172229536,
          0.4952373565747191
         ]
        },
        {
         "line": {
          "color": "lightskyblue"
         },
         "mode": "lines",
         "showlegend": false,
         "surfaceaxis": 2,
         "type": "scatter3d",
         "x": [
          1.124878538617141,
          1.6240369106007018,
          1.624100209403329,
          1.1250017660288254,
          1.124878538617141
         ],
         "y": [
          14.389717875260931,
          14.389552740201767,
          15.987187673605456,
          15.987354618750501,
          14.389717875260931
         ],
         "z": [
          0.5825128172229536,
          0.5914282818330514,
          0.6789753130827693,
          0.6700885171839005,
          0.5825128172229536
         ]
        },
        {
         "line": {
          "color": "lightskyblue"
         },
         "mode": "lines",
         "showlegend": false,
         "surfaceaxis": 2,
         "type": "scatter3d",
         "x": [
          1.6248477000000001,
          2.12477155,
          2.1245727263033225,
          1.6246367603908007,
          1.6248477000000001
         ],
         "y": [
          1.0180229352716008e-17,
          1.0180229352716008e-17,
          1.5995132294584984,
          1.5994900186560428,
          1.0180229352716008e-17
         ],
         "z": [
          0.017452410000000057,
          0.026178615000000058,
          0.03918079292411368,
          0.03042772623379729,
          0.017452410000000057
         ]
        },
        {
         "line": {
          "color": "lightskyblue"
         },
         "mode": "lines",
         "showlegend": false,
         "surfaceaxis": 2,
         "type": "scatter3d",
         "x": [
          1.6246367603908007,
          2.1245727263033225,
          2.1243735969337663,
          1.6244353166325611,
          1.6246367603908007
         ],
         "y": [
          1.5994900186560428,
          1.5995132294584984,
          3.1986994959095894,
          3.1986581010966217,
          1.5994900186560428
         ],
         "z": [
          0.03042772623379729,
          0.03918079292411368,
          0.07356841117612883,
          0.06478035769241625,
          0.03042772623379729
         ]
        },
        {
         "line": {
          "color": "lightskyblue"
         },
         "mode": "lines",
         "showlegend": false,
         "surfaceaxis": 2,
         "type": "scatter3d",
         "x": [
          1.6244353166325611,
          2.1243735969337663,
          2.124186298557955,
          1.6242673189950327,
          1.6244353166325611
         ],
         "y": [
          3.1986581010966217,
          3.1986994959095894,
          4.797480681374086,
          4.800059220664356,
          3.1986581010966217
         ],
         "z": [
          0.06478035769241625,
          0.07356841117612883,
          0.12476997907068736,
          0.11605254417483034,
          0.06478035769241625
         ]
        },
        {
         "line": {
          "color": "lightskyblue"
         },
         "mode": "lines",
         "showlegend": false,
         "surfaceaxis": 2,
         "type": "scatter3d",
         "x": [
          1.6242673189950327,
          2.124186298557955,
          2.124013454652801,
          1.6241455163041496,
          1.6242673189950327
         ],
         "y": [
          4.800059220664356,
          4.797480681374086,
          6.39908981275519,
          6.399153752788273,
          4.800059220664356
         ],
         "z": [
          0.11605254417483034,
          0.12476997907068736,
          0.18904706399183152,
          0.1802260995273387,
          0.11605254417483034
         ]
        },
        {
         "line": {
          "color": "lightskyblue"
         },
         "mode": "lines",
         "showlegend": false,
         "surfaceaxis": 2,
         "type": "scatter3d",
         "x": [
          1.6241455163041496,
          2.124013454652801,
          2.1238622756151266,
          1.6240671049260214,
          1.6241455163041496
         ],
         "y": [
          6.399153752788273,
          6.39908981275519,
          7.997716906761331,
          7.9977810592845575,
          6.399153752788273
         ],
         "z": [
          0.1802260995273387,
          0.18904706399183152,
          0.26256898712790244,
          0.253748471894078,
          0.1802260995273387
         ]
        },
        {
         "line": {
          "color": "lightskyblue"
         },
         "mode": "lines",
         "showlegend": false,
         "surfaceaxis": 2,
         "type": "scatter3d",
         "x": [
          1.6240671049260214,
          2.1238622756151266,
          2.1237382129283495,
          1.6240212859793313,
          1.6240671049260214
         ],
         "y": [
          7.9977810592845575,
          7.997716906761331,
          9.595994501153548,
          9.596051429109606,
          7.9977810592845575
         ],
         "z": [
          0.253748471894078,
          0.26256898712790244,
          0.3426026778788667,
          0.33379080242168657,
          0.253748471894078
         ]
        },
        {
         "line": {
          "color": "lightskyblue"
         },
         "mode": "lines",
         "showlegend": false,
         "surfaceaxis": 2,
         "type": "scatter3d",
         "x": [
          1.6240212859793313,
          2.1237382129283495,
          2.123648191870622,
          1.6240001619106788,
          1.6240212859793313
         ],
         "y": [
          9.596051429109606,
          9.595994501153548,
          11.193990894020061,
          11.194040643878706,
          9.596051429109606
         ],
         "z": [
          0.33379080242168657,
          0.3426026778788667,
          0.426625416947413,
          0.4178377135359716,
          0.33379080242168657
         ]
        },
        {
         "line": {
          "color": "lightskyblue"
         },
         "mode": "lines",
         "showlegend": false,
         "surfaceaxis": 2,
         "type": "scatter3d",
         "x": [
          1.6240001619106788,
          2.123648191870622,
          2.123592314317478,
          1.6240041802120455,
          1.6240001619106788
         ],
         "y": [
          11.194040643878706,
          11.193990894020061,
          12.791820154615829,
          12.79185901782479,
          11.194040643878706
         ],
         "z": [
          0.4178377135359716,
          0.426625416947413,
          0.5129448034428701,
          0.5041802006166938,
          0.4178377135359716
         ]
        },
        {
         "line": {
          "color": "lightskyblue"
         },
         "mode": "lines",
         "showlegend": false,
         "surfaceaxis": 2,
         "type": "scatter3d",
         "x": [
          1.6240041802120455,
          2.123592314317478,
          2.123574557498775,
          1.6240369106007018,
          1.6240041802120455
         ],
         "y": [
          12.79185901782479,
          12.791820154615829,
          14.389517925252768,
          14.389552740201767,
          12.79185901782479
         ],
         "z": [
          0.5041802006166938,
          0.5129448034428701,
          0.6001780045320203,
          0.5914282818330514,
          0.5041802006166938
         ]
        },
        {
         "line": {
          "color": "lightskyblue"
         },
         "mode": "lines",
         "showlegend": false,
         "surfaceaxis": 2,
         "type": "scatter3d",
         "x": [
          1.6240369106007018,
          2.123574557498775,
          2.123597704984597,
          1.624100209403329,
          1.6240369106007018
         ],
         "y": [
          14.389552740201767,
          14.389517925252768,
          15.98715738793984,
          15.987187673605456,
          14.389552740201767
         ],
         "z": [
          0.5914282818330514,
          0.6001780045320203,
          0.6877165177081032,
          0.6789753130827693,
          0.5914282818330514
         ]
        },
        {
         "line": {
          "color": "lightskyblue"
         },
         "mode": "lines",
         "showlegend": false,
         "surfaceaxis": 2,
         "type": "scatter3d",
         "x": [
          2.12477155,
          2.6246954000000002,
          2.6245427823877785,
          2.1245727263033225,
          2.12477155
         ],
         "y": [
          1.0180229352716008e-17,
          1.0180229352716008e-17,
          1.5995066851489441,
          1.5995132294584984,
          1.0180229352716008e-17
         ],
         "z": [
          0.026178615000000058,
          0.03490482000000006,
          0.04790219801008421,
          0.03918079292411368,
          0.026178615000000058
         ]
        },
        {
         "line": {
          "color": "lightskyblue"
         },
         "mode": "lines",
         "showlegend": false,
         "surfaceaxis": 2,
         "type": "scatter3d",
         "x": [
          2.1245727263033225,
          2.6245427823877785,
          2.624374265951388,
          2.1243735969337663,
          2.1245727263033225
         ],
         "y": [
          1.5995132294584984,
          1.5995066851489441,
          3.1986822220643014,
          3.1986994959095894,
          1.5995132294584984
         ],
         "z": [
          0.03918079292411368,
          0.04790219801008421,
          0.08226830531521764,
          0.07356841117612883,
          0.03918079292411368
         ]
        },
        {
         "line": {
          "color": "lightskyblue"
         },
         "mode": "lines",
         "showlegend": false,
         "surfaceaxis": 2,
         "type": "scatter3d",
         "x": [
          2.1243735969337663,
          2.624374265951388,
          2.6242003251346544,
          2.124186298557955,
          2.1243735969337663
         ],
         "y": [
          3.1986994959095894,
          3.1986822220643014,
          4.800033026405443,
          4.797480681374086,
          3.1986994959095894
         ],
         "z": [
          0.07356841117612883,
          0.08226830531521764,
          0.13354078873660286,
          0.12476997907068736,
          0.07356841117612883
         ]
        },
        {
         "line": {
          "color": "lightskyblue"
         },
         "mode": "lines",
         "showlegend": false,
         "surfaceaxis": 2,
         "type": "scatter3d",
         "x": [
          2.124186298557955,
          2.6242003251346544,
          2.6240346747274352,
          2.124013454652801,
          2.124186298557955
         ],
         "y": [
          4.797480681374086,
          4.800033026405443,
          6.399138264601669,
          6.39908981275519,
          4.797480681374086
         ],
         "z": [
          0.12476997907068736,
          0.13354078873660286,
          0.19770490141925,
          0.18904706399183152,
          0.12476997907068736
         ]
        },
        {
         "line": {
          "color": "lightskyblue"
         },
         "mode": "lines",
         "showlegend": false,
         "surfaceaxis": 2,
         "type": "scatter3d",
         "x": [
          2.124013454652801,
          2.6240346747274352,
          2.6238899816594627,
          2.1238622756151266,
          2.124013454652801
         ],
         "y": [
          6.39908981275519,
          6.399138264601669,
          7.997778877056729,
          7.997716906761331,
          6.39908981275519
         ],
         "z": [
          0.18904706399183152,
          0.19770490141925,
          0.27120457534777626,
          0.26256898712790244,
          0.18904706399183152
         ]
        },
        {
         "line": {
          "color": "lightskyblue"
         },
         "mode": "lines",
         "showlegend": false,
         "surfaceaxis": 2,
         "type": "scatter3d",
         "x": [
          2.1238622756151266,
          2.6238899816594627,
          2.623776788643868,
          2.1237382129283495,
          2.1238622756151266
         ],
         "y": [
          7.997716906761331,
          7.997778877056729,
          9.596060078901077,
          9.595994501153548,
          7.997716906761331
         ],
         "z": [
          0.26256898712790244,
          0.27120457534777626,
          0.3512204143848181,
          0.3426026778788667,
          0.26256898712790244
         ]
        },
        {
         "line": {
          "color": "lightskyblue"
         },
         "mode": "lines",
         "showlegend": false,
         "surfaceaxis": 2,
         "type": "scatter3d",
         "x": [
          2.1237382129283495,
          2.623776788643868,
          2.6237015735293436,
          2.123648191870622,
          2.1237382129283495
         ],
         "y": [
          9.595994501153548,
          9.596060078901077,
          11.194056742317743,
          11.193990894020061,
          9.595994501153548
         ],
         "z": [
          0.3426026778788667,
          0.3512204143848181,
          0.43524696151167724,
          0.426625416947413,
          0.3426026778788667
         ]
        },
        {
         "line": {
          "color": "lightskyblue"
         },
         "mode": "lines",
         "showlegend": false,
         "surfaceaxis": 2,
         "type": "scatter3d",
         "x": [
          2.123648191870622,
          2.6237015735293436,
          2.6236663883035902,
          2.123592314317478,
          2.123648191870622
         ],
         "y": [
          11.193990894020061,
          11.194056742317743,
          12.791881387833506,
          12.791820154615829,
          11.193990894020061
         ],
         "z": [
          0.426625416947413,
          0.43524696151167724,
          0.5215755783364908,
          0.5129448034428701,
          0.426625416947413
         ]
        },
        {
         "line": {
          "color": "lightskyblue"
         },
         "mode": "lines",
         "showlegend": false,
         "surfaceaxis": 2,
         "type": "scatter3d",
         "x": [
          2.123592314317478,
          2.6236663883035902,
          2.6236704322960067,
          2.123574557498775,
          2.123592314317478
         ],
         "y": [
          12.791820154615829,
          12.791881387833506,
          14.38958125217964,
          14.389517925252768,
          12.791820154615829
         ],
         "z": [
          0.5129448034428701,
          0.5215755783364908,
          0.6088125886549858,
          0.6001780045320203,
          0.5129448034428701
         ]
        },
        {
         "line": {
          "color": "lightskyblue"
         },
         "mode": "lines",
         "showlegend": false,
         "surfaceaxis": 2,
         "type": "scatter3d",
         "x": [
          2.123574557498775,
          2.6236704322960067,
          2.6237113562147067,
          2.123597704984597,
          2.123574557498775
         ],
         "y": [
          14.389517925252768,
          14.38958125217964,
          15.987218924296565,
          15.98715738793984,
          14.389517925252768
         ],
         "z": [
          0.6001780045320203,
          0.6088125886549858,
          0.6963530192171781,
          0.6877165177081032,
          0.6001780045320203
         ]
        },
        {
         "line": {
          "color": "lightskyblue"
         },
         "mode": "lines",
         "showlegend": false,
         "surfaceaxis": 2,
         "type": "scatter3d",
         "x": [
          2.6246954000000002,
          3.1246192500000003,
          3.1244687784113023,
          2.6245427823877785,
          2.6246954000000002
         ],
         "y": [
          1.0180229352716008e-17,
          1.0180229352716008e-17,
          1.5994386182341616,
          1.5995066851489441,
          1.0180229352716008e-17
         ],
         "z": [
          0.03490482000000006,
          0.04363102500000006,
          0.05654898258082852,
          0.04790219801008421,
          0.03490482000000006
         ]
        },
        {
         "line": {
          "color": "lightskyblue"
         },
         "mode": "lines",
         "showlegend": false,
         "surfaceaxis": 2,
         "type": "scatter3d",
         "x": [
          2.6245427823877785,
          3.1244687784113023,
          3.1243324967990436,
          2.624374265951388,
          2.6245427823877785
         ],
         "y": [
          1.5995066851489441,
          1.5994386182341616,
          3.200547262192771,
          3.1986822220643014,
          1.5995066851489441
         ],
         "z": [
          0.04790219801008421,
          0.05654898258082852,
          0.09091006819994964,
          0.08226830531521764,
          0.04790219801008421
         ]
        },
        {
         "line": {
          "color": "lightskyblue"
         },
         "mode": "lines",
         "showlegend": false,
         "surfaceaxis": 2,
         "type": "scatter3d",
         "x": [
          2.624374265951388,
          3.1243324967990436,
          3.124228862614279,
          2.6242003251346544,
          2.624374265951388
         ],
         "y": [
          3.1986822220643014,
          3.200547262192771,
          4.800161645830071,
          4.800033026405443,
          3.1986822220643014
         ],
         "z": [
          0.08226830531521764,
          0.09091006819994964,
          0.14209008646646631,
          0.13354078873660286,
          0.08226830531521764
         ]
        },
        {
         "line": {
          "color": "lightskyblue"
         },
         "mode": "lines",
         "showlegend": false,
         "surfaceaxis": 2,
         "type": "scatter3d",
         "x": [
          2.6242003251346544,
          3.124228862614279,
          3.1241637026755713,
          2.6240346747274352,
          2.6242003251346544
         ],
         "y": [
          4.800033026405443,
          4.800161645830071,
          6.399274777259682,
          6.399138264601669,
          4.800033026405443
         ],
         "z": [
          0.13354078873660286,
          0.14209008646646631,
          0.20622060945856996,
          0.19770490141925,
          0.13354078873660286
         ]
        },
        {
         "line": {
          "color": "lightskyblue"
         },
         "mode": "lines",
         "showlegend": false,
         "surfaceaxis": 2,
         "type": "scatter3d",
         "x": [
          2.6240346747274352,
          3.1241637026755713,
          3.12413618545796,
          2.6238899816594627,
          2.6240346747274352
         ],
         "y": [
          6.399138264601669,
          6.399274777259682,
          7.997917063458706,
          7.997778877056729,
          6.399138264601669
         ],
         "z": [
          0.19770490141925,
          0.20622060945856996,
          0.2797036911708081,
          0.27120457534777626,
          0.19770490141925
         ]
        },
        {
         "line": {
          "color": "lightskyblue"
         },
         "mode": "lines",
         "showlegend": false,
         "surfaceaxis": 2,
         "type": "scatter3d",
         "x": [
          2.6238899816594627,
          3.12413618545796,
          3.1241368759840564,
          2.623776788643868,
          2.6238899816594627
         ],
         "y": [
          7.997778877056729,
          7.997917063458706,
          9.596204762304351,
          9.596060078901077,
          7.997778877056729
         ],
         "z": [
          0.27120457534777626,
          0.2797036911708081,
          0.35971877262821805,
          0.3512204143848181,
          0.27120457534777626
         ]
        },
        {
         "line": {
          "color": "lightskyblue"
         },
         "mode": "lines",
         "showlegend": false,
         "surfaceaxis": 2,
         "type": "scatter3d",
         "x": [
          2.623776788643868,
          3.1241368759840564,
          3.124161212980173,
          2.6237015735293436,
          2.623776788643868
         ],
         "y": [
          9.596060078901077,
          9.596204762304351,
          11.194206478560547,
          11.194056742317743,
          9.596060078901077
         ],
         "z": [
          0.3512204143848181,
          0.35971877262821805,
          0.44374669260171395,
          0.43524696151167724,
          0.3512204143848181
         ]
        },
        {
         "line": {
          "color": "lightskyblue"
         },
         "mode": "lines",
         "showlegend": false,
         "surfaceaxis": 2,
         "type": "scatter3d",
         "x": [
          2.6237015735293436,
          3.124161212980173,
          3.124206423570652,
          2.6236663883035902,
          2.6237015735293436
         ],
         "y": [
          11.194056742317743,
          11.194206478560547,
          12.79203654424027,
          12.791881387833506,
          11.194056742317743
         ],
         "z": [
          0.43524696151167724,
          0.44374669260171395,
          0.5300874043552533,
          0.5215755783364908,
          0.43524696151167724
         ]
        },
        {
         "line": {
          "color": "lightskyblue"
         },
         "mode": "lines",
         "showlegend": false,
         "surfaceaxis": 2,
         "type": "scatter3d",
         "x": [
          2.6236663883035902,
          3.124206423570652,
          3.124275247703224,
          2.6236704322960067,
          2.6236663883035902
         ],
         "y": [
          12.791881387833506,
          12.79203654424027,
          14.389731336286712,
          14.38958125217964,
          12.791881387833506
         ],
         "z": [
          0.5215755783364908,
          0.5300874043552533,
          0.6173471756536763,
          0.6088125886549858,
          0.5215755783364908
         ]
        },
        {
         "line": {
          "color": "lightskyblue"
         },
         "mode": "lines",
         "showlegend": false,
         "surfaceaxis": 2,
         "type": "scatter3d",
         "x": [
          2.6236704322960067,
          3.124275247703224,
          3.1243669535363985,
          2.6237113562147067,
          2.6236704322960067
         ],
         "y": [
          14.38958125217964,
          14.389731336286712,
          15.98736860004365,
          15.987218924296565,
          14.38958125217964
         ],
         "z": [
          0.6088125886549858,
          0.6173471756536763,
          0.7049103419466002,
          0.6963530192171781,
          0.6088125886549858
         ]
        },
        {
         "line": {
          "color": "lightskyblue"
         },
         "mode": "lines",
         "showlegend": false,
         "surfaceaxis": 2,
         "type": "scatter3d",
         "x": [
          3.1246192500000003,
          3.6245431000000004,
          3.62446758833385,
          3.1244687784113023,
          3.1246192500000003
         ],
         "y": [
          1.0180229352716008e-17,
          1.0180229352716008e-17,
          1.6005101163929771,
          1.5994386182341616,
          1.0180229352716008e-17
         ],
         "z": [
          0.04363102500000006,
          0.05235723000000006,
          0.06520397575192591,
          0.05654898258082852,
          0.04363102500000006
         ]
        },
        {
         "line": {
          "color": "lightskyblue"
         },
         "mode": "lines",
         "showlegend": false,
         "surfaceaxis": 2,
         "type": "scatter3d",
         "x": [
          3.1244687784113023,
          3.62446758833385,
          3.6244201418679083,
          3.1243324967990436,
          3.1244687784113023
         ],
         "y": [
          1.5994386182341616,
          1.6005101163929771,
          3.200672407922749,
          3.200547262192771,
          1.5994386182341616
         ],
         "z": [
          0.05654898258082852,
          0.06520397575192591,
          0.09946471916548587,
          0.09091006819994964,
          0.05654898258082852
         ]
        },
        {
         "line": {
          "color": "lightskyblue"
         },
         "mode": "lines",
         "showlegend": false,
         "surfaceaxis": 2,
         "type": "scatter3d",
         "x": [
          3.1243324967990436,
          3.6244201418679083,
          3.624418617994041,
          3.124228862614279,
          3.1243324967990436
         ],
         "y": [
          3.200547262192771,
          3.200672407922749,
          4.80032440906162,
          4.800161645830071,
          3.200547262192771
         ],
         "z": [
          0.09091006819994964,
          0.09946471916548587,
          0.15057247537421004,
          0.14209008646646631,
          0.09091006819994964
         ]
        },
        {
         "line": {
          "color": "lightskyblue"
         },
         "mode": "lines",
         "showlegend": false,
         "surfaceaxis": 2,
         "type": "scatter3d",
         "x": [
          3.124228862614279,
          3.624418617994041,
          3.6244645988569637,
          3.1241637026755713,
          3.124228862614279
         ],
         "y": [
          4.800161645830071,
          4.80032440906162,
          6.399463094952219,
          6.399274777259682,
          4.800161645830071
         ],
         "z": [
          0.14209008646646631,
          0.15057247537421004,
          0.21464943228908945,
          0.20622060945856996,
          0.14209008646646631
         ]
        },
        {
         "line": {
          "color": "lightskyblue"
         },
         "mode": "lines",
         "showlegend": false,
         "surfaceaxis": 2,
         "type": "scatter3d",
         "x": [
          3.1241637026755713,
          3.6244645988569637,
          3.624553879703099,
          3.12413618545796,
          3.1241637026755713
         ],
         "y": [
          6.399274777259682,
          6.399463094952219,
          7.998122144016918,
          7.997917063458706,
          6.399274777259682
         ],
         "z": [
          0.20622060945856996,
          0.21464943228908945,
          0.2881028647533587,
          0.2797036911708081,
          0.20622060945856996
         ]
        },
        {
         "line": {
          "color": "lightskyblue"
         },
         "mode": "lines",
         "showlegend": false,
         "surfaceaxis": 2,
         "type": "scatter3d",
         "x": [
          3.12413618545796,
          3.624553879703099,
          3.6246796253608893,
          3.1241368759840564,
          3.12413618545796
         ],
         "y": [
          7.997917063458706,
          7.998122144016918,
          9.59641419633505,
          9.596204762304351,
          7.997917063458706
         ],
         "z": [
          0.2797036911708081,
          0.2881028647533587,
          0.36811114805410866,
          0.35971877262821805,
          0.2797036911708081
         ]
        },
        {
         "line": {
          "color": "lightskyblue"
         },
         "mode": "lines",
         "showlegend": false,
         "surfaceaxis": 2,
         "type": "scatter3d",
         "x": [
          3.1241368759840564,
          3.6246796253608893,
          3.624831598730995,
          3.124161212980173,
          3.1241368759840564
         ],
         "y": [
          9.596204762304351,
          9.59641419633505,
          11.194417941944122,
          11.194206478560547,
          9.596204762304351
         ],
         "z": [
          0.35971877262821805,
          0.36811114805410866,
          0.45215272616052316,
          0.44374669260171395,
          0.35971877262821805
         ]
        },
        {
         "line": {
          "color": "lightskyblue"
         },
         "mode": "lines",
         "showlegend": false,
         "surfaceaxis": 2,
         "type": "scatter3d",
         "x": [
          3.124161212980173,
          3.624831598730995,
          3.624996035407788,
          3.124206423570652,
          3.124161212980173
         ],
         "y": [
          11.194206478560547,
          11.194417941944122,
          12.792248639251152,
          12.79203654424027,
          11.194206478560547
         ],
         "z": [
          0.44374669260171395,
          0.45215272616052316,
          0.5385135371262515,
          0.5300874043552533,
          0.44374669260171395
         ]
        },
        {
         "line": {
          "color": "lightskyblue"
         },
         "mode": "lines",
         "showlegend": false,
         "surfaceaxis": 2,
         "type": "scatter3d",
         "x": [
          3.124206423570652,
          3.624996035407788,
          3.625163683282253,
          3.124275247703224,
          3.124206423570652
         ],
         "y": [
          12.79203654424027,
          12.792248639251152,
          14.389952120500377,
          14.389731336286712,
          12.79203654424027
         ],
         "z": [
          0.5300874043552533,
          0.5385135371262515,
          0.6257970805675817,
          0.6173471756536763,
          0.5300874043552533
         ]
        },
        {
         "line": {
          "color": "lightskyblue"
         },
         "mode": "lines",
         "showlegend": false,
         "surfaceaxis": 2,
         "type": "scatter3d",
         "x": [
          3.124275247703224,
          3.625163683282253,
          3.625331433776154,
          3.1243669535363985,
          3.124275247703224
         ],
         "y": [
          14.389731336286712,
          14.389952120500377,
          15.987589403210206,
          15.98736860004365,
          14.389731336286712
         ],
         "z": [
          0.6173471756536763,
          0.6257970805675817,
          0.7133955790082958,
          0.7049103419466002,
          0.6173471756536763
         ]
        },
        {
         "line": {
          "color": "grey"
         },
         "mode": "lines",
         "showlegend": false,
         "type": "scatter3d",
         "x": [
          0.6250000000000001,
          0.6250082006813212,
          0.625033242311391,
          0.625082187232479,
          0.6251567108986613,
          0.6252555884791595,
          0.6253765376227447,
          0.6255163950077758,
          0.6256717750465146,
          0.6258372686016829,
          0.6260080979292544
         ],
         "y": [
          1.0180229352716008e-17,
          1.6005197808762799,
          3.2006869671115536,
          4.800340774008901,
          6.399478638425464,
          7.998139900728205,
          9.596440158242828,
          11.194454093153007,
          12.792289884914894,
          14.38999008345555,
          15.987624055514882
         ],
         "z": [
          5.412225351471832e-17,
          0.012826305810186988,
          0.047074864506165055,
          0.0981795472210285,
          0.16225779278117985,
          0.23571870496091418,
          0.31573286592967864,
          0.3997804079308429,
          0.48615733812538203,
          0.5734711030310573,
          0.6611004702906497
         ]
        },
        {
         "line": {
          "color": "grey"
         },
         "mode": "lines",
         "showlegend": false,
         "type": "scatter3d",
         "x": [
          1.12492385,
          1.1248050873202082,
          1.1246948750055756,
          1.1246083132911007,
          1.124553857758295,
          1.124542068285944,
          1.1245761245165684,
          1.1246534487416113,
          1.1247585785984255,
          1.124878538617141,
          1.1250017660288254
         ],
         "y": [
          1.0180229352716008e-17,
          1.5994272497963131,
          3.200562169286804,
          4.800180580875889,
          6.399297347020429,
          7.997938108852912,
          9.596216313976829,
          11.194204861729494,
          12.792025076633314,
          14.389717875260931,
          15.987354618750501
         ],
         "z": [
          0.008726205000000055,
          0.02162856633909943,
          0.055973574267848214,
          0.10714470936825811,
          0.1712792123647841,
          0.24477413873974713,
          0.32481140279804177,
          0.40886966985057693,
          0.4952373565747191,
          0.5825128172229536,
          0.6700885171839005
         ]
        },
        {
         "line": {
          "color": "grey"
         },
         "mode": "lines",
         "showlegend": false,
         "type": "scatter3d",
         "x": [
          1.6248477000000001,
          1.6246367603908007,
          1.6244353166325611,
          1.6242673189950327,
          1.6241455163041496,
          1.6240671049260214,
          1.6240212859793313,
          1.6240001619106788,
          1.6240041802120455,
          1.6240369106007018,
          1.624100209403329
         ],
         "y": [
          1.0180229352716008e-17,
          1.5994900186560428,
          3.1986581010966217,
          4.800059220664356,
          6.399153752788273,
          7.9977810592845575,
          9.596051429109606,
          11.194040643878706,
          12.79185901782479,
          14.389552740201767,
          15.987187673605456
         ],
         "z": [
          0.017452410000000057,
          0.03042772623379729,
          0.06478035769241625,
          0.11605254417483034,
          0.1802260995273387,
          0.253748471894078,
          0.33379080242168657,
          0.4178377135359716,
          0.5041802006166938,
          0.5914282818330514,
          0.6789753130827693
         ]
        },
        {
         "line": {
          "color": "grey"
         },
         "mode": "lines",
         "showlegend": false,
         "type": "scatter3d",
         "x": [
          2.12477155,
          2.1245727263033225,
          2.1243735969337663,
          2.124186298557955,
          2.124013454652801,
          2.1238622756151266,
          2.1237382129283495,
          2.123648191870622,
          2.123592314317478,
          2.123574557498775,
          2.123597704984597
         ],
         "y": [
          1.0180229352716008e-17,
          1.5995132294584984,
          3.1986994959095894,
          4.797480681374086,
          6.39908981275519,
          7.997716906761331,
          9.595994501153548,
          11.193990894020061,
          12.791820154615829,
          14.389517925252768,
          15.98715738793984
         ],
         "z": [
          0.026178615000000058,
          0.03918079292411368,
          0.07356841117612883,
          0.12476997907068736,
          0.18904706399183152,
          0.26256898712790244,
          0.3426026778788667,
          0.426625416947413,
          0.5129448034428701,
          0.6001780045320203,
          0.6877165177081032
         ]
        },
        {
         "line": {
          "color": "grey"
         },
         "mode": "lines",
         "showlegend": false,
         "type": "scatter3d",
         "x": [
          2.6246954000000002,
          2.6245427823877785,
          2.624374265951388,
          2.6242003251346544,
          2.6240346747274352,
          2.6238899816594627,
          2.623776788643868,
          2.6237015735293436,
          2.6236663883035902,
          2.6236704322960067,
          2.6237113562147067
         ],
         "y": [
          1.0180229352716008e-17,
          1.5995066851489441,
          3.1986822220643014,
          4.800033026405443,
          6.399138264601669,
          7.997778877056729,
          9.596060078901077,
          11.194056742317743,
          12.791881387833506,
          14.38958125217964,
          15.987218924296565
         ],
         "z": [
          0.03490482000000006,
          0.04790219801008421,
          0.08226830531521764,
          0.13354078873660286,
          0.19770490141925,
          0.27120457534777626,
          0.3512204143848181,
          0.43524696151167724,
          0.5215755783364908,
          0.6088125886549858,
          0.6963530192171781
         ]
        },
        {
         "line": {
          "color": "grey"
         },
         "mode": "lines",
         "showlegend": false,
         "type": "scatter3d",
         "x": [
          3.1246192500000003,
          3.1244687784113023,
          3.1243324967990436,
          3.124228862614279,
          3.1241637026755713,
          3.12413618545796,
          3.1241368759840564,
          3.124161212980173,
          3.124206423570652,
          3.124275247703224,
          3.1243669535363985
         ],
         "y": [
          1.0180229352716008e-17,
          1.5994386182341616,
          3.200547262192771,
          4.800161645830071,
          6.399274777259682,
          7.997917063458706,
          9.596204762304351,
          11.194206478560547,
          12.79203654424027,
          14.389731336286712,
          15.98736860004365
         ],
         "z": [
          0.04363102500000006,
          0.05654898258082852,
          0.09091006819994964,
          0.14209008646646631,
          0.20622060945856996,
          0.2797036911708081,
          0.35971877262821805,
          0.44374669260171395,
          0.5300874043552533,
          0.6173471756536763,
          0.7049103419466002
         ]
        },
        {
         "line": {
          "color": "grey"
         },
         "mode": "lines",
         "showlegend": false,
         "type": "scatter3d",
         "x": [
          3.6245431000000004,
          3.62446758833385,
          3.6244201418679083,
          3.624418617994041,
          3.6244645988569637,
          3.624553879703099,
          3.6246796253608893,
          3.624831598730995,
          3.624996035407788,
          3.625163683282253,
          3.625331433776154
         ],
         "y": [
          1.0180229352716008e-17,
          1.6005101163929771,
          3.200672407922749,
          4.80032440906162,
          6.399463094952219,
          7.998122144016918,
          9.59641419633505,
          11.194417941944122,
          12.792248639251152,
          14.389952120500377,
          15.987589403210206
         ],
         "z": [
          0.05235723000000006,
          0.06520397575192591,
          0.09946471916548587,
          0.15057247537421004,
          0.21464943228908945,
          0.2881028647533587,
          0.36811114805410866,
          0.45215272616052316,
          0.5385135371262515,
          0.6257970805675817,
          0.7133955790082958
         ]
        },
        {
         "line": {
          "color": "grey"
         },
         "mode": "lines",
         "showlegend": false,
         "type": "scatter3d",
         "x": [
          0.6250000000000001,
          1.12492385,
          1.6248477000000001,
          2.12477155,
          2.6246954000000002,
          3.1246192500000003,
          3.6245431000000004
         ],
         "y": [
          1.0180229352716008e-17,
          1.0180229352716008e-17,
          1.0180229352716008e-17,
          1.0180229352716008e-17,
          1.0180229352716008e-17,
          1.0180229352716008e-17,
          1.0180229352716008e-17
         ],
         "z": [
          5.412225351471832e-17,
          0.008726205000000055,
          0.017452410000000057,
          0.026178615000000058,
          0.03490482000000006,
          0.04363102500000006,
          0.05235723000000006
         ]
        },
        {
         "line": {
          "color": "grey"
         },
         "mode": "lines",
         "showlegend": false,
         "type": "scatter3d",
         "x": [
          0.6250082006813212,
          1.1248050873202082,
          1.6246367603908007,
          2.1245727263033225,
          2.6245427823877785,
          3.1244687784113023,
          3.62446758833385
         ],
         "y": [
          1.6005197808762799,
          1.5994272497963131,
          1.5994900186560428,
          1.5995132294584984,
          1.5995066851489441,
          1.5994386182341616,
          1.6005101163929771
         ],
         "z": [
          0.012826305810186988,
          0.02162856633909943,
          0.03042772623379729,
          0.03918079292411368,
          0.04790219801008421,
          0.05654898258082852,
          0.06520397575192591
         ]
        },
        {
         "line": {
          "color": "grey"
         },
         "mode": "lines",
         "showlegend": false,
         "type": "scatter3d",
         "x": [
          0.625033242311391,
          1.1246948750055756,
          1.6244353166325611,
          2.1243735969337663,
          2.624374265951388,
          3.1243324967990436,
          3.6244201418679083
         ],
         "y": [
          3.2006869671115536,
          3.200562169286804,
          3.1986581010966217,
          3.1986994959095894,
          3.1986822220643014,
          3.200547262192771,
          3.200672407922749
         ],
         "z": [
          0.047074864506165055,
          0.055973574267848214,
          0.06478035769241625,
          0.07356841117612883,
          0.08226830531521764,
          0.09091006819994964,
          0.09946471916548587
         ]
        },
        {
         "line": {
          "color": "grey"
         },
         "mode": "lines",
         "showlegend": false,
         "type": "scatter3d",
         "x": [
          0.625082187232479,
          1.1246083132911007,
          1.6242673189950327,
          2.124186298557955,
          2.6242003251346544,
          3.124228862614279,
          3.624418617994041
         ],
         "y": [
          4.800340774008901,
          4.800180580875889,
          4.800059220664356,
          4.797480681374086,
          4.800033026405443,
          4.800161645830071,
          4.80032440906162
         ],
         "z": [
          0.0981795472210285,
          0.10714470936825811,
          0.11605254417483034,
          0.12476997907068736,
          0.13354078873660286,
          0.14209008646646631,
          0.15057247537421004
         ]
        },
        {
         "line": {
          "color": "grey"
         },
         "mode": "lines",
         "showlegend": false,
         "type": "scatter3d",
         "x": [
          0.6251567108986613,
          1.124553857758295,
          1.6241455163041496,
          2.124013454652801,
          2.6240346747274352,
          3.1241637026755713,
          3.6244645988569637
         ],
         "y": [
          6.399478638425464,
          6.399297347020429,
          6.399153752788273,
          6.39908981275519,
          6.399138264601669,
          6.399274777259682,
          6.399463094952219
         ],
         "z": [
          0.16225779278117985,
          0.1712792123647841,
          0.1802260995273387,
          0.18904706399183152,
          0.19770490141925,
          0.20622060945856996,
          0.21464943228908945
         ]
        },
        {
         "line": {
          "color": "grey"
         },
         "mode": "lines",
         "showlegend": false,
         "type": "scatter3d",
         "x": [
          0.6252555884791595,
          1.124542068285944,
          1.6240671049260214,
          2.1238622756151266,
          2.6238899816594627,
          3.12413618545796,
          3.624553879703099
         ],
         "y": [
          7.998139900728205,
          7.997938108852912,
          7.9977810592845575,
          7.997716906761331,
          7.997778877056729,
          7.997917063458706,
          7.998122144016918
         ],
         "z": [
          0.23571870496091418,
          0.24477413873974713,
          0.253748471894078,
          0.26256898712790244,
          0.27120457534777626,
          0.2797036911708081,
          0.2881028647533587
         ]
        },
        {
         "line": {
          "color": "grey"
         },
         "mode": "lines",
         "showlegend": false,
         "type": "scatter3d",
         "x": [
          0.6253765376227447,
          1.1245761245165684,
          1.6240212859793313,
          2.1237382129283495,
          2.623776788643868,
          3.1241368759840564,
          3.6246796253608893
         ],
         "y": [
          9.596440158242828,
          9.596216313976829,
          9.596051429109606,
          9.595994501153548,
          9.596060078901077,
          9.596204762304351,
          9.59641419633505
         ],
         "z": [
          0.31573286592967864,
          0.32481140279804177,
          0.33379080242168657,
          0.3426026778788667,
          0.3512204143848181,
          0.35971877262821805,
          0.36811114805410866
         ]
        },
        {
         "line": {
          "color": "grey"
         },
         "mode": "lines",
         "showlegend": false,
         "type": "scatter3d",
         "x": [
          0.6255163950077758,
          1.1246534487416113,
          1.6240001619106788,
          2.123648191870622,
          2.6237015735293436,
          3.124161212980173,
          3.624831598730995
         ],
         "y": [
          11.194454093153007,
          11.194204861729494,
          11.194040643878706,
          11.193990894020061,
          11.194056742317743,
          11.194206478560547,
          11.194417941944122
         ],
         "z": [
          0.3997804079308429,
          0.40886966985057693,
          0.4178377135359716,
          0.426625416947413,
          0.43524696151167724,
          0.44374669260171395,
          0.45215272616052316
         ]
        },
        {
         "line": {
          "color": "grey"
         },
         "mode": "lines",
         "showlegend": false,
         "type": "scatter3d",
         "x": [
          0.6256717750465146,
          1.1247585785984255,
          1.6240041802120455,
          2.123592314317478,
          2.6236663883035902,
          3.124206423570652,
          3.624996035407788
         ],
         "y": [
          12.792289884914894,
          12.792025076633314,
          12.79185901782479,
          12.791820154615829,
          12.791881387833506,
          12.79203654424027,
          12.792248639251152
         ],
         "z": [
          0.48615733812538203,
          0.4952373565747191,
          0.5041802006166938,
          0.5129448034428701,
          0.5215755783364908,
          0.5300874043552533,
          0.5385135371262515
         ]
        },
        {
         "line": {
          "color": "grey"
         },
         "mode": "lines",
         "showlegend": false,
         "type": "scatter3d",
         "x": [
          0.6258372686016829,
          1.124878538617141,
          1.6240369106007018,
          2.123574557498775,
          2.6236704322960067,
          3.124275247703224,
          3.625163683282253
         ],
         "y": [
          14.38999008345555,
          14.389717875260931,
          14.389552740201767,
          14.389517925252768,
          14.38958125217964,
          14.389731336286712,
          14.389952120500377
         ],
         "z": [
          0.5734711030310573,
          0.5825128172229536,
          0.5914282818330514,
          0.6001780045320203,
          0.6088125886549858,
          0.6173471756536763,
          0.6257970805675817
         ]
        },
        {
         "line": {
          "color": "grey"
         },
         "mode": "lines",
         "showlegend": false,
         "type": "scatter3d",
         "x": [
          0.6260080979292544,
          1.1250017660288254,
          1.624100209403329,
          2.123597704984597,
          2.6237113562147067,
          3.1243669535363985,
          3.625331433776154
         ],
         "y": [
          15.987624055514882,
          15.987354618750501,
          15.987187673605456,
          15.98715738793984,
          15.987218924296565,
          15.98736860004365,
          15.987589403210206
         ],
         "z": [
          0.6611004702906497,
          0.6700885171839005,
          0.6789753130827693,
          0.6877165177081032,
          0.6963530192171781,
          0.7049103419466002,
          0.7133955790082958
         ]
        },
        {
         "line": {
          "color": "blue",
          "width": 4
         },
         "marker": {
          "color": "blue",
          "size": 2
         },
         "name": "Beam nodes",
         "type": "scatter3d",
         "x": [
          0,
          0.000008749952046726264,
          0.00003528461585314695
         ],
         "y": [
          0,
          1.5999271434288513,
          3.199533952944273
         ],
         "z": [
          0,
          0.013405419198276881,
          0.04818095062487436
         ]
        },
        {
         "line": {
          "color": "blue",
          "width": 4
         },
         "marker": {
          "color": "blue",
          "size": 2
         },
         "showlegend": false,
         "type": "scatter3d",
         "x": [
          0.00003528461585314695,
          0.0000862830850623873,
          0.00016324331013687667
         ],
         "y": [
          3.199533952944273,
          4.798696583164487,
          6.397391157308329
         ],
         "z": [
          0.04818095062487436,
          0.09973402346146291,
          0.16420915112570017
         ]
        },
        {
         "line": {
          "color": "blue",
          "width": 4
         },
         "marker": {
          "color": "blue",
          "size": 2
         },
         "showlegend": false,
         "type": "scatter3d",
         "x": [
          0.00016324331013687667,
          0.0002645395632280679,
          0.0003878975109922007
         ],
         "y": [
          6.397391157308329,
          7.9956869541842375,
          9.593669269018873
         ],
         "z": [
          0.16420915112570017,
          0.23799283840438157,
          0.31828662595013474
         ]
        },
        {
         "line": {
          "color": "blue",
          "width": 4
         },
         "marker": {
          "color": "blue",
          "size": 2
         },
         "showlegend": false,
         "type": "scatter3d",
         "x": [
          0.0003878975109922007,
          0.0005297115014155809,
          0.0006866838336516732
         ],
         "y": [
          9.593669269018873,
          11.191448914779185,
          12.789106864656565
         ],
         "z": [
          0.31828662595013474,
          0.40253976800283464,
          0.4890734618752102
         ]
        },
        {
         "line": {
          "color": "blue",
          "width": 4
         },
         "marker": {
          "color": "blue",
          "size": 2
         },
         "showlegend": false,
         "type": "scatter3d",
         "x": [
          0.0006866838336516732,
          0.0008530063617539135,
          0.0010241913296547402
         ],
         "y": [
          12.789106864656565,
          14.386718350314093,
          15.984315112920575
         ],
         "z": [
          0.4890734618752102,
          0.5764656394583056,
          0.664128135650433
         ]
        }
       ],
       "layout": {
        "template": {
         "data": {
          "bar": [
           {
            "error_x": {
             "color": "#2a3f5f"
            },
            "error_y": {
             "color": "#2a3f5f"
            },
            "marker": {
             "line": {
              "color": "#E5ECF6",
              "width": 0.5
             },
             "pattern": {
              "fillmode": "overlay",
              "size": 10,
              "solidity": 0.2
             }
            },
            "type": "bar"
           }
          ],
          "barpolar": [
           {
            "marker": {
             "line": {
              "color": "#E5ECF6",
              "width": 0.5
             },
             "pattern": {
              "fillmode": "overlay",
              "size": 10,
              "solidity": 0.2
             }
            },
            "type": "barpolar"
           }
          ],
          "carpet": [
           {
            "aaxis": {
             "endlinecolor": "#2a3f5f",
             "gridcolor": "white",
             "linecolor": "white",
             "minorgridcolor": "white",
             "startlinecolor": "#2a3f5f"
            },
            "baxis": {
             "endlinecolor": "#2a3f5f",
             "gridcolor": "white",
             "linecolor": "white",
             "minorgridcolor": "white",
             "startlinecolor": "#2a3f5f"
            },
            "type": "carpet"
           }
          ],
          "choropleth": [
           {
            "colorbar": {
             "outlinewidth": 0,
             "ticks": ""
            },
            "type": "choropleth"
           }
          ],
          "contour": [
           {
            "colorbar": {
             "outlinewidth": 0,
             "ticks": ""
            },
            "colorscale": [
             [
              0,
              "#0d0887"
             ],
             [
              0.1111111111111111,
              "#46039f"
             ],
             [
              0.2222222222222222,
              "#7201a8"
             ],
             [
              0.3333333333333333,
              "#9c179e"
             ],
             [
              0.4444444444444444,
              "#bd3786"
             ],
             [
              0.5555555555555556,
              "#d8576b"
             ],
             [
              0.6666666666666666,
              "#ed7953"
             ],
             [
              0.7777777777777778,
              "#fb9f3a"
             ],
             [
              0.8888888888888888,
              "#fdca26"
             ],
             [
              1,
              "#f0f921"
             ]
            ],
            "type": "contour"
           }
          ],
          "contourcarpet": [
           {
            "colorbar": {
             "outlinewidth": 0,
             "ticks": ""
            },
            "type": "contourcarpet"
           }
          ],
          "heatmap": [
           {
            "colorbar": {
             "outlinewidth": 0,
             "ticks": ""
            },
            "colorscale": [
             [
              0,
              "#0d0887"
             ],
             [
              0.1111111111111111,
              "#46039f"
             ],
             [
              0.2222222222222222,
              "#7201a8"
             ],
             [
              0.3333333333333333,
              "#9c179e"
             ],
             [
              0.4444444444444444,
              "#bd3786"
             ],
             [
              0.5555555555555556,
              "#d8576b"
             ],
             [
              0.6666666666666666,
              "#ed7953"
             ],
             [
              0.7777777777777778,
              "#fb9f3a"
             ],
             [
              0.8888888888888888,
              "#fdca26"
             ],
             [
              1,
              "#f0f921"
             ]
            ],
            "type": "heatmap"
           }
          ],
          "heatmapgl": [
           {
            "colorbar": {
             "outlinewidth": 0,
             "ticks": ""
            },
            "colorscale": [
             [
              0,
              "#0d0887"
             ],
             [
              0.1111111111111111,
              "#46039f"
             ],
             [
              0.2222222222222222,
              "#7201a8"
             ],
             [
              0.3333333333333333,
              "#9c179e"
             ],
             [
              0.4444444444444444,
              "#bd3786"
             ],
             [
              0.5555555555555556,
              "#d8576b"
             ],
             [
              0.6666666666666666,
              "#ed7953"
             ],
             [
              0.7777777777777778,
              "#fb9f3a"
             ],
             [
              0.8888888888888888,
              "#fdca26"
             ],
             [
              1,
              "#f0f921"
             ]
            ],
            "type": "heatmapgl"
           }
          ],
          "histogram": [
           {
            "marker": {
             "pattern": {
              "fillmode": "overlay",
              "size": 10,
              "solidity": 0.2
             }
            },
            "type": "histogram"
           }
          ],
          "histogram2d": [
           {
            "colorbar": {
             "outlinewidth": 0,
             "ticks": ""
            },
            "colorscale": [
             [
              0,
              "#0d0887"
             ],
             [
              0.1111111111111111,
              "#46039f"
             ],
             [
              0.2222222222222222,
              "#7201a8"
             ],
             [
              0.3333333333333333,
              "#9c179e"
             ],
             [
              0.4444444444444444,
              "#bd3786"
             ],
             [
              0.5555555555555556,
              "#d8576b"
             ],
             [
              0.6666666666666666,
              "#ed7953"
             ],
             [
              0.7777777777777778,
              "#fb9f3a"
             ],
             [
              0.8888888888888888,
              "#fdca26"
             ],
             [
              1,
              "#f0f921"
             ]
            ],
            "type": "histogram2d"
           }
          ],
          "histogram2dcontour": [
           {
            "colorbar": {
             "outlinewidth": 0,
             "ticks": ""
            },
            "colorscale": [
             [
              0,
              "#0d0887"
             ],
             [
              0.1111111111111111,
              "#46039f"
             ],
             [
              0.2222222222222222,
              "#7201a8"
             ],
             [
              0.3333333333333333,
              "#9c179e"
             ],
             [
              0.4444444444444444,
              "#bd3786"
             ],
             [
              0.5555555555555556,
              "#d8576b"
             ],
             [
              0.6666666666666666,
              "#ed7953"
             ],
             [
              0.7777777777777778,
              "#fb9f3a"
             ],
             [
              0.8888888888888888,
              "#fdca26"
             ],
             [
              1,
              "#f0f921"
             ]
            ],
            "type": "histogram2dcontour"
           }
          ],
          "mesh3d": [
           {
            "colorbar": {
             "outlinewidth": 0,
             "ticks": ""
            },
            "type": "mesh3d"
           }
          ],
          "parcoords": [
           {
            "line": {
             "colorbar": {
              "outlinewidth": 0,
              "ticks": ""
             }
            },
            "type": "parcoords"
           }
          ],
          "pie": [
           {
            "automargin": true,
            "type": "pie"
           }
          ],
          "scatter": [
           {
            "fillpattern": {
             "fillmode": "overlay",
             "size": 10,
             "solidity": 0.2
            },
            "type": "scatter"
           }
          ],
          "scatter3d": [
           {
            "line": {
             "colorbar": {
              "outlinewidth": 0,
              "ticks": ""
             }
            },
            "marker": {
             "colorbar": {
              "outlinewidth": 0,
              "ticks": ""
             }
            },
            "type": "scatter3d"
           }
          ],
          "scattercarpet": [
           {
            "marker": {
             "colorbar": {
              "outlinewidth": 0,
              "ticks": ""
             }
            },
            "type": "scattercarpet"
           }
          ],
          "scattergeo": [
           {
            "marker": {
             "colorbar": {
              "outlinewidth": 0,
              "ticks": ""
             }
            },
            "type": "scattergeo"
           }
          ],
          "scattergl": [
           {
            "marker": {
             "colorbar": {
              "outlinewidth": 0,
              "ticks": ""
             }
            },
            "type": "scattergl"
           }
          ],
          "scattermapbox": [
           {
            "marker": {
             "colorbar": {
              "outlinewidth": 0,
              "ticks": ""
             }
            },
            "type": "scattermapbox"
           }
          ],
          "scatterpolar": [
           {
            "marker": {
             "colorbar": {
              "outlinewidth": 0,
              "ticks": ""
             }
            },
            "type": "scatterpolar"
           }
          ],
          "scatterpolargl": [
           {
            "marker": {
             "colorbar": {
              "outlinewidth": 0,
              "ticks": ""
             }
            },
            "type": "scatterpolargl"
           }
          ],
          "scatterternary": [
           {
            "marker": {
             "colorbar": {
              "outlinewidth": 0,
              "ticks": ""
             }
            },
            "type": "scatterternary"
           }
          ],
          "surface": [
           {
            "colorbar": {
             "outlinewidth": 0,
             "ticks": ""
            },
            "colorscale": [
             [
              0,
              "#0d0887"
             ],
             [
              0.1111111111111111,
              "#46039f"
             ],
             [
              0.2222222222222222,
              "#7201a8"
             ],
             [
              0.3333333333333333,
              "#9c179e"
             ],
             [
              0.4444444444444444,
              "#bd3786"
             ],
             [
              0.5555555555555556,
              "#d8576b"
             ],
             [
              0.6666666666666666,
              "#ed7953"
             ],
             [
              0.7777777777777778,
              "#fb9f3a"
             ],
             [
              0.8888888888888888,
              "#fdca26"
             ],
             [
              1,
              "#f0f921"
             ]
            ],
            "type": "surface"
           }
          ],
          "table": [
           {
            "cells": {
             "fill": {
              "color": "#EBF0F8"
             },
             "line": {
              "color": "white"
             }
            },
            "header": {
             "fill": {
              "color": "#C8D4E3"
             },
             "line": {
              "color": "white"
             }
            },
            "type": "table"
           }
          ]
         },
         "layout": {
          "annotationdefaults": {
           "arrowcolor": "#2a3f5f",
           "arrowhead": 0,
           "arrowwidth": 1
          },
          "autotypenumbers": "strict",
          "coloraxis": {
           "colorbar": {
            "outlinewidth": 0,
            "ticks": ""
           }
          },
          "colorscale": {
           "diverging": [
            [
             0,
             "#8e0152"
            ],
            [
             0.1,
             "#c51b7d"
            ],
            [
             0.2,
             "#de77ae"
            ],
            [
             0.3,
             "#f1b6da"
            ],
            [
             0.4,
             "#fde0ef"
            ],
            [
             0.5,
             "#f7f7f7"
            ],
            [
             0.6,
             "#e6f5d0"
            ],
            [
             0.7,
             "#b8e186"
            ],
            [
             0.8,
             "#7fbc41"
            ],
            [
             0.9,
             "#4d9221"
            ],
            [
             1,
             "#276419"
            ]
           ],
           "sequential": [
            [
             0,
             "#0d0887"
            ],
            [
             0.1111111111111111,
             "#46039f"
            ],
            [
             0.2222222222222222,
             "#7201a8"
            ],
            [
             0.3333333333333333,
             "#9c179e"
            ],
            [
             0.4444444444444444,
             "#bd3786"
            ],
            [
             0.5555555555555556,
             "#d8576b"
            ],
            [
             0.6666666666666666,
             "#ed7953"
            ],
            [
             0.7777777777777778,
             "#fb9f3a"
            ],
            [
             0.8888888888888888,
             "#fdca26"
            ],
            [
             1,
             "#f0f921"
            ]
           ],
           "sequentialminus": [
            [
             0,
             "#0d0887"
            ],
            [
             0.1111111111111111,
             "#46039f"
            ],
            [
             0.2222222222222222,
             "#7201a8"
            ],
            [
             0.3333333333333333,
             "#9c179e"
            ],
            [
             0.4444444444444444,
             "#bd3786"
            ],
            [
             0.5555555555555556,
             "#d8576b"
            ],
            [
             0.6666666666666666,
             "#ed7953"
            ],
            [
             0.7777777777777778,
             "#fb9f3a"
            ],
            [
             0.8888888888888888,
             "#fdca26"
            ],
            [
             1,
             "#f0f921"
            ]
           ]
          },
          "colorway": [
           "#636efa",
           "#EF553B",
           "#00cc96",
           "#ab63fa",
           "#FFA15A",
           "#19d3f3",
           "#FF6692",
           "#B6E880",
           "#FF97FF",
           "#FECB52"
          ],
          "font": {
           "color": "#2a3f5f"
          },
          "geo": {
           "bgcolor": "white",
           "lakecolor": "white",
           "landcolor": "#E5ECF6",
           "showlakes": true,
           "showland": true,
           "subunitcolor": "white"
          },
          "hoverlabel": {
           "align": "left"
          },
          "hovermode": "closest",
          "mapbox": {
           "style": "light"
          },
          "paper_bgcolor": "white",
          "plot_bgcolor": "#E5ECF6",
          "polar": {
           "angularaxis": {
            "gridcolor": "white",
            "linecolor": "white",
            "ticks": ""
           },
           "bgcolor": "#E5ECF6",
           "radialaxis": {
            "gridcolor": "white",
            "linecolor": "white",
            "ticks": ""
           }
          },
          "scene": {
           "xaxis": {
            "backgroundcolor": "#E5ECF6",
            "gridcolor": "white",
            "gridwidth": 2,
            "linecolor": "white",
            "showbackground": true,
            "ticks": "",
            "zerolinecolor": "white"
           },
           "yaxis": {
            "backgroundcolor": "#E5ECF6",
            "gridcolor": "white",
            "gridwidth": 2,
            "linecolor": "white",
            "showbackground": true,
            "ticks": "",
            "zerolinecolor": "white"
           },
           "zaxis": {
            "backgroundcolor": "#E5ECF6",
            "gridcolor": "white",
            "gridwidth": 2,
            "linecolor": "white",
            "showbackground": true,
            "ticks": "",
            "zerolinecolor": "white"
           }
          },
          "shapedefaults": {
           "line": {
            "color": "#2a3f5f"
           }
          },
          "ternary": {
           "aaxis": {
            "gridcolor": "white",
            "linecolor": "white",
            "ticks": ""
           },
           "baxis": {
            "gridcolor": "white",
            "linecolor": "white",
            "ticks": ""
           },
           "bgcolor": "#E5ECF6",
           "caxis": {
            "gridcolor": "white",
            "linecolor": "white",
            "ticks": ""
           }
          },
          "title": {
           "x": 0.05
          },
          "xaxis": {
           "automargin": true,
           "gridcolor": "white",
           "linecolor": "white",
           "ticks": "",
           "title": {
            "standoff": 15
           },
           "zerolinecolor": "white",
           "zerolinewidth": 2
          },
          "yaxis": {
           "automargin": true,
           "gridcolor": "white",
           "linecolor": "white",
           "ticks": "",
           "title": {
            "standoff": 15
           },
           "zerolinecolor": "white",
           "zerolinewidth": 2
          }
         }
        }
       }
      },
      "text/html": [
       "<div>                            <div id=\"1c2093d0-c504-4e99-974c-d271e26d7256\" class=\"plotly-graph-div\" style=\"height:525px; width:100%;\"></div>            <script type=\"text/javascript\">                require([\"plotly\"], function(Plotly) {                    window.PLOTLYENV=window.PLOTLYENV || {};                                    if (document.getElementById(\"1c2093d0-c504-4e99-974c-d271e26d7256\")) {                    Plotly.newPlot(                        \"1c2093d0-c504-4e99-974c-d271e26d7256\",                        [{\"line\":{\"color\":\"grey\"},\"mode\":\"lines\",\"name\":\"Aero surface\",\"surfaceaxis\":2,\"x\":[-0.3750000000000001,0.12500000000000003,0.1250086400972277,-0.37499092048349614,-0.3750000000000001],\"y\":[-6.108137611629605e-18,2.0360458705432016e-18,1.6000456710689852,1.5995715605084495,-6.108137611629605e-18],\"z\":[-3.2473352108830995e-17,1.0824450702943665e-17,0.01328959652688973,0.01375288721243833,-3.2473352108830995e-17],\"type\":\"scatter3d\"},{\"line\":{\"color\":\"grey\"},\"mode\":\"lines\",\"showlegend\":false,\"surfaceaxis\":2,\"x\":[-0.37499092048349614,0.1250086400972277,0.1250348761559673,-0.37496349000448936,-0.37499092048349614],\"y\":[1.5995715605084495,1.6000456710689852,3.19976455606571,3.198842143579963,1.5995715605084495],\"z\":[0.01375288721243833,0.01328959652688973,0.047959733525626214,0.0488446019226188,0.01375288721243833],\"type\":\"scatter3d\"},{\"line\":{\"color\":\"grey\"},\"mode\":\"lines\",\"showlegend\":false,\"surfaceaxis\":2,\"x\":[-0.37496349000448936,0.1250348761559673,0.12508546392033348,-0.37491125942075093,-0.37496349000448936],\"y\":[3.198842143579963,3.19976455606571,4.799025421707558,4.797710067535274,3.198842143579963],\"z\":[0.0488446019226188,0.047959733525626214,0.09942312842486231,0.1006667085712647,0.0488446019226188],\"type\":\"scatter3d\"},{\"line\":{\"color\":\"grey\"},\"mode\":\"lines\",\"showlegend\":false,\"surfaceaxis\":2,\"x\":[-0.37491125942075093,0.12508546392033348,0.1251619368424156,-0.3748328372866993,-0.37491125942075093],\"y\":[4.797710067535274,4.799025421707558,6.397808653985086,6.396138667278057,4.797710067535274],\"z\":[0.1006667085712647,0.09942312842486231,0.16381887974787573,0.1653799652591735,0.1006667085712647],\"type\":\"scatter3d\"},{\"line\":{\"color\":\"grey\"},\"mode\":\"lines\",\"showlegend\":false,\"surfaceaxis\":2,\"x\":[-0.3748328372866993,0.1251619368424156,0.12526274936880624,-0.3747300898535064,-0.3748328372866993],\"y\":[6.396138667278057,6.397808653985086,7.996177544006095,7.994215184718664,6.396138667278057],\"z\":[0.1653799652591735,0.16381887974787573,0.2375380120338348,0.23935731751602188,0.1653799652591735],\"type\":\"scatter3d\"},{\"line\":{\"color\":\"grey\"},\"mode\":\"lines\",\"showlegend\":false,\"surfaceaxis\":2,\"x\":[-0.3747300898535064,0.12526274936880624,0.12538562556645885,-0.37460528665540777,-0.3747300898535064],\"y\":[7.994215184718664,7.996177544006095,9.594223447448554,9.592006733729832,7.994215184718664],\"z\":[0.23935731751602188,0.2375380120338348,0.31777587430825327,0.31981888087577925,0.23935731751602188],\"type\":\"scatter3d\"},{\"line\":{\"color\":\"grey\"},\"mode\":\"lines\",\"showlegend\":false,\"surfaceaxis\":2,\"x\":[-0.37460528665540777,0.12538562556645885,0.12552704824515515,-0.3744622987298031,-0.37460528665540777],\"y\":[9.592006733729832,9.594223447448554,11.19204995108218,11.189645805870207,9.592006733729832],\"z\":[0.31981888087577925,0.31777587430825327,0.4019878963378088,0.40419538299791213,0.31981888087577925],\"type\":\"scatter3d\"},{\"line\":{\"color\":\"grey\"},\"mode\":\"lines\",\"showlegend\":false,\"surfaceaxis\":2,\"x\":[-0.3744622987298031,0.12552704824515515,0.12568370213308666,-0.37430437106465325,-0.3744622987298031],\"y\":[11.189645805870207,11.19204995108218,12.789743469381184,12.78719705048271,11.189645805870207],\"z\":[0.40419538299791213,0.4019878963378088,0.48849023749702414,0.4908231350097686,0.40419538299791213],\"type\":\"scatter3d\"},{\"line\":{\"color\":\"grey\"},\"mode\":\"lines\",\"showlegend\":false,\"surfaceaxis\":2,\"x\":[-0.37430437106465325,0.12568370213308666,0.1258498588826339,-0.374137551200886,-0.37430437106465325],\"y\":[12.78719705048271,12.789743469381184,14.387372697615312,14.384755308410433,12.78719705048271],\"z\":[0.4908231350097686,0.48849023749702414,0.5758667325517072,0.5782623601781011,0.4908231350097686],\"type\":\"scatter3d\"},{\"line\":{\"color\":\"grey\"},\"mode\":\"lines\",\"showlegend\":false,\"surfaceaxis\":2,\"x\":[-0.374137551200886,0.1258498588826339,0.12602097274969093,-0.3739661529304538,-0.374137551200886],\"y\":[14.384755308410433,14.387372697615312,15.984976902115449,15.98232974533595,14.384755308410433],\"z\":[0.5782623601781011,0.5758667325517072,0.6635226030805041,0.66594473336022,0.5782623601781011],\"type\":\"scatter3d\"},{\"line\":{\"color\":\"grey\"},\"mode\":\"lines\",\"showlegend\":false,\"surfaceaxis\":2,\"x\":[0.12500000000000003,0.6250000000000001,0.6250082006779516,0.1250086400972277,0.12500000000000003],\"y\":[2.0360458705432016e-18,1.0180229352716008e-17,1.600519781629521,1.6000456710689852,2.0360458705432016e-18],\"z\":[1.0824450702943665e-17,5.412225351471832e-17,0.012826305841341132,0.01328959652688973,1.0824450702943665e-17],\"type\":\"scatter3d\"},{\"line\":{\"color\":\"grey\"},\"mode\":\"lines\",\"showlegend\":false,\"surfaceaxis\":2,\"x\":[0.1250086400972277,0.6250082006779516,0.625033242316424,0.1250348761559673,0.1250086400972277],\"y\":[1.6000456710689852,1.600519781629521,3.200686968551457,3.19976455606571,1.6000456710689852],\"z\":[0.01328959652688973,0.012826305841341132,0.047074865128633625,0.047959733525626214,0.01328959652688973],\"type\":\"scatter3d\"},{\"line\":{\"color\":\"grey\"},\"mode\":\"lines\",\"showlegend\":false,\"surfaceaxis\":2,\"x\":[0.1250348761559673,0.625033242316424,0.6250821872614178,0.12508546392033348,0.1250348761559673],\"y\":[3.19976455606571,3.200686968551457,4.800340775879842,4.799025421707558,3.19976455606571],\"z\":[0.047959733525626214,0.047074865128633625,0.09817954827845993,0.09942312842486231,0.047959733525626214],\"type\":\"scatter3d\"},{\"line\":{\"color\":\"grey\"},\"mode\":\"lines\",\"showlegend\":false,\"surfaceaxis\":2,\"x\":[0.12508546392033348,0.6250821872614178,0.6251567109715306,0.1251619368424156,0.12508546392033348],\"y\":[4.799025421707558,4.800340775879842,6.399478640692115,6.397808653985086,4.799025421707558],\"z\":[0.09942312842486231,0.09817954827845993,0.16225779423657796,0.16381887974787573,0.09942312842486231],\"type\":\"scatter3d\"},{\"line\":{\"color\":\"grey\"},\"mode\":\"lines\",\"showlegend\":false,\"surfaceaxis\":2,\"x\":[0.1251619368424156,0.6251567109715306,0.625255588591119,0.12526274936880624,0.1251619368424156],\"y\":[6.397808653985086,6.399478640692115,7.998139903293525,7.996177544006095,6.397808653985086],\"z\":[0.16381887974787573,0.16225779423657796,0.2357187065516477,0.2375380120338348,0.16381887974787573],\"type\":\"scatter3d\"},{\"line\":{\"color\":\"grey\"},\"mode\":\"lines\",\"showlegend\":false,\"surfaceaxis\":2,\"x\":[0.12526274936880624,0.625255588591119,0.6253765377883256,0.12538562556645885,0.12526274936880624],\"y\":[7.996177544006095,7.998139903293525,9.596440161167276,9.594223447448554,7.996177544006095],\"z\":[0.2375380120338348,0.2357187065516477,0.3157328677407273,0.31777587430825327,0.2375380120338348],\"type\":\"scatter3d\"},{\"line\":{\"color\":\"grey\"},\"mode\":\"lines\",\"showlegend\":false,\"surfaceaxis\":2,\"x\":[0.12538562556645885,0.6253765377883256,0.6255163952201134,0.12552704824515515,0.12538562556645885],\"y\":[9.594223447448554,9.596440161167276,11.194454096294152,11.19204995108218,9.594223447448554],\"z\":[0.31777587430825327,0.3157328677407273,0.39978040967770545,0.4019878963378088,0.31777587430825327],\"type\":\"scatter3d\"},{\"line\":{\"color\":\"grey\"},\"mode\":\"lines\",\"showlegend\":false,\"surfaceaxis\":2,\"x\":[0.12552704824515515,0.6255163952201134,0.6256717753308266,0.12568370213308666,0.12552704824515515],\"y\":[11.19204995108218,11.194454096294152,12.792289888279658,12.789743469381184,11.19204995108218],\"z\":[0.4019878963378088,0.39978040967770545,0.4861573399842797,0.48849023749702414,0.4019878963378088],\"type\":\"scatter3d\"},{\"line\":{\"color\":\"grey\"},\"mode\":\"lines\",\"showlegend\":false,\"surfaceaxis\":2,\"x\":[0.12568370213308666,0.6256717753308266,0.6258372689661538,0.1258498588826339,0.12568370213308666],\"y\":[12.789743469381184,12.792289888279658,14.389990086820191,14.387372697615312,12.789743469381184],\"z\":[0.48849023749702414,0.4861573399842797,0.5734711049253133,0.5758667325517072,0.48849023749702414],\"type\":\"scatter3d\"},{\"line\":{\"color\":\"grey\"},\"mode\":\"lines\",\"showlegend\":false,\"surfaceaxis\":2,\"x\":[0.1258498588826339,0.6258372689661538,0.6260080984298357,0.12602097274969093,0.1258498588826339],\"y\":[14.387372697615312,14.389990086820191,15.987624058894948,15.984976902115449,14.387372697615312],\"z\":[0.5758667325517072,0.5734711049253133,0.6611004728007883,0.6635226030805041,0.5758667325517072],\"type\":\"scatter3d\"},{\"line\":{\"color\":\"black\"},\"mode\":\"lines\",\"showlegend\":false,\"x\":[-0.3750000000000001,-0.37499092048349614,-0.37496349000448936,-0.37491125942075093,-0.3748328372866993,-0.3747300898535064,-0.37460528665540777,-0.3744622987298031,-0.37430437106465325,-0.374137551200886,-0.3739661529304538],\"y\":[-6.108137611629605e-18,1.5995715605084495,3.198842143579963,4.797710067535274,6.396138667278057,7.994215184718664,9.592006733729832,11.189645805870207,12.78719705048271,14.384755308410433,15.98232974533595],\"z\":[-3.2473352108830995e-17,0.01375288721243833,0.0488446019226188,0.1006667085712647,0.1653799652591735,0.23935731751602188,0.31981888087577925,0.40419538299791213,0.4908231350097686,0.5782623601781011,0.66594473336022],\"type\":\"scatter3d\"},{\"line\":{\"color\":\"black\"},\"mode\":\"lines\",\"showlegend\":false,\"x\":[0.12500000000000003,0.1250086400972277,0.1250348761559673,0.12508546392033348,0.1251619368424156,0.12526274936880624,0.12538562556645885,0.12552704824515515,0.12568370213308666,0.1258498588826339,0.12602097274969093],\"y\":[2.0360458705432016e-18,1.6000456710689852,3.19976455606571,4.799025421707558,6.397808653985086,7.996177544006095,9.594223447448554,11.19204995108218,12.789743469381184,14.387372697615312,15.984976902115449],\"z\":[1.0824450702943665e-17,0.01328959652688973,0.047959733525626214,0.09942312842486231,0.16381887974787573,0.2375380120338348,0.31777587430825327,0.4019878963378088,0.48849023749702414,0.5758667325517072,0.6635226030805041],\"type\":\"scatter3d\"},{\"line\":{\"color\":\"black\"},\"mode\":\"lines\",\"showlegend\":false,\"x\":[0.6250000000000001,0.6250082006779516,0.625033242316424,0.6250821872614178,0.6251567109715306,0.625255588591119,0.6253765377883256,0.6255163952201134,0.6256717753308266,0.6258372689661538,0.6260080984298357],\"y\":[1.0180229352716008e-17,1.600519781629521,3.200686968551457,4.800340775879842,6.399478640692115,7.998139903293525,9.596440161167276,11.194454096294152,12.792289888279658,14.389990086820191,15.987624058894948],\"z\":[5.412225351471832e-17,0.012826305841341132,0.047074865128633625,0.09817954827845993,0.16225779423657796,0.2357187065516477,0.3157328677407273,0.39978040967770545,0.4861573399842797,0.5734711049253133,0.6611004728007883],\"type\":\"scatter3d\"},{\"line\":{\"color\":\"black\"},\"mode\":\"lines\",\"showlegend\":false,\"x\":[-0.3750000000000001,0.12500000000000003,0.6250000000000001],\"y\":[-6.108137611629605e-18,2.0360458705432016e-18,1.0180229352716008e-17],\"z\":[-3.2473352108830995e-17,1.0824450702943665e-17,5.412225351471832e-17],\"type\":\"scatter3d\"},{\"line\":{\"color\":\"black\"},\"mode\":\"lines\",\"showlegend\":false,\"x\":[-0.37499092048349614,0.1250086400972277,0.6250082006779516],\"y\":[1.5995715605084495,1.6000456710689852,1.600519781629521],\"z\":[0.01375288721243833,0.01328959652688973,0.012826305841341132],\"type\":\"scatter3d\"},{\"line\":{\"color\":\"black\"},\"mode\":\"lines\",\"showlegend\":false,\"x\":[-0.37496349000448936,0.1250348761559673,0.625033242316424],\"y\":[3.198842143579963,3.19976455606571,3.200686968551457],\"z\":[0.0488446019226188,0.047959733525626214,0.047074865128633625],\"type\":\"scatter3d\"},{\"line\":{\"color\":\"black\"},\"mode\":\"lines\",\"showlegend\":false,\"x\":[-0.37491125942075093,0.12508546392033348,0.6250821872614178],\"y\":[4.797710067535274,4.799025421707558,4.800340775879842],\"z\":[0.1006667085712647,0.09942312842486231,0.09817954827845993],\"type\":\"scatter3d\"},{\"line\":{\"color\":\"black\"},\"mode\":\"lines\",\"showlegend\":false,\"x\":[-0.3748328372866993,0.1251619368424156,0.6251567109715306],\"y\":[6.396138667278057,6.397808653985086,6.399478640692115],\"z\":[0.1653799652591735,0.16381887974787573,0.16225779423657796],\"type\":\"scatter3d\"},{\"line\":{\"color\":\"black\"},\"mode\":\"lines\",\"showlegend\":false,\"x\":[-0.3747300898535064,0.12526274936880624,0.625255588591119],\"y\":[7.994215184718664,7.996177544006095,7.998139903293525],\"z\":[0.23935731751602188,0.2375380120338348,0.2357187065516477],\"type\":\"scatter3d\"},{\"line\":{\"color\":\"black\"},\"mode\":\"lines\",\"showlegend\":false,\"x\":[-0.37460528665540777,0.12538562556645885,0.6253765377883256],\"y\":[9.592006733729832,9.594223447448554,9.596440161167276],\"z\":[0.31981888087577925,0.31777587430825327,0.3157328677407273],\"type\":\"scatter3d\"},{\"line\":{\"color\":\"black\"},\"mode\":\"lines\",\"showlegend\":false,\"x\":[-0.3744622987298031,0.12552704824515515,0.6255163952201134],\"y\":[11.189645805870207,11.19204995108218,11.194454096294152],\"z\":[0.40419538299791213,0.4019878963378088,0.39978040967770545],\"type\":\"scatter3d\"},{\"line\":{\"color\":\"black\"},\"mode\":\"lines\",\"showlegend\":false,\"x\":[-0.37430437106465325,0.12568370213308666,0.6256717753308266],\"y\":[12.78719705048271,12.789743469381184,12.792289888279658],\"z\":[0.4908231350097686,0.48849023749702414,0.4861573399842797],\"type\":\"scatter3d\"},{\"line\":{\"color\":\"black\"},\"mode\":\"lines\",\"showlegend\":false,\"x\":[-0.374137551200886,0.1258498588826339,0.6258372689661538],\"y\":[14.384755308410433,14.387372697615312,14.389990086820191],\"z\":[0.5782623601781011,0.5758667325517072,0.5734711049253133],\"type\":\"scatter3d\"},{\"line\":{\"color\":\"black\"},\"mode\":\"lines\",\"showlegend\":false,\"x\":[-0.3739661529304538,0.12602097274969093,0.6260080984298357],\"y\":[15.98232974533595,15.984976902115449,15.987624058894948],\"z\":[0.66594473336022,0.6635226030805041,0.6611004728007883],\"type\":\"scatter3d\"},{\"line\":{\"color\":\"lightskyblue\"},\"mode\":\"lines\",\"name\":\"Aero wake\",\"surfaceaxis\":2,\"x\":[0.6250000000000001,1.12492385,1.1248050873202082,0.6250082006813212,0.6250000000000001],\"y\":[1.0180229352716008e-17,1.0180229352716008e-17,1.5994272497963131,1.6005197808762799,1.0180229352716008e-17],\"z\":[5.412225351471832e-17,0.008726205000000055,0.02162856633909943,0.012826305810186988,5.412225351471832e-17],\"type\":\"scatter3d\"},{\"line\":{\"color\":\"lightskyblue\"},\"mode\":\"lines\",\"showlegend\":false,\"surfaceaxis\":2,\"x\":[0.6250082006813212,1.1248050873202082,1.1246948750055756,0.625033242311391,0.6250082006813212],\"y\":[1.6005197808762799,1.5994272497963131,3.200562169286804,3.2006869671115536,1.6005197808762799],\"z\":[0.012826305810186988,0.02162856633909943,0.055973574267848214,0.047074864506165055,0.012826305810186988],\"type\":\"scatter3d\"},{\"line\":{\"color\":\"lightskyblue\"},\"mode\":\"lines\",\"showlegend\":false,\"surfaceaxis\":2,\"x\":[0.625033242311391,1.1246948750055756,1.1246083132911007,0.625082187232479,0.625033242311391],\"y\":[3.2006869671115536,3.200562169286804,4.800180580875889,4.800340774008901,3.2006869671115536],\"z\":[0.047074864506165055,0.055973574267848214,0.10714470936825811,0.0981795472210285,0.047074864506165055],\"type\":\"scatter3d\"},{\"line\":{\"color\":\"lightskyblue\"},\"mode\":\"lines\",\"showlegend\":false,\"surfaceaxis\":2,\"x\":[0.625082187232479,1.1246083132911007,1.124553857758295,0.6251567108986613,0.625082187232479],\"y\":[4.800340774008901,4.800180580875889,6.399297347020429,6.399478638425464,4.800340774008901],\"z\":[0.0981795472210285,0.10714470936825811,0.1712792123647841,0.16225779278117985,0.0981795472210285],\"type\":\"scatter3d\"},{\"line\":{\"color\":\"lightskyblue\"},\"mode\":\"lines\",\"showlegend\":false,\"surfaceaxis\":2,\"x\":[0.6251567108986613,1.124553857758295,1.124542068285944,0.6252555884791595,0.6251567108986613],\"y\":[6.399478638425464,6.399297347020429,7.997938108852912,7.998139900728205,6.399478638425464],\"z\":[0.16225779278117985,0.1712792123647841,0.24477413873974713,0.23571870496091418,0.16225779278117985],\"type\":\"scatter3d\"},{\"line\":{\"color\":\"lightskyblue\"},\"mode\":\"lines\",\"showlegend\":false,\"surfaceaxis\":2,\"x\":[0.6252555884791595,1.124542068285944,1.1245761245165684,0.6253765376227447,0.6252555884791595],\"y\":[7.998139900728205,7.997938108852912,9.596216313976829,9.596440158242828,7.998139900728205],\"z\":[0.23571870496091418,0.24477413873974713,0.32481140279804177,0.31573286592967864,0.23571870496091418],\"type\":\"scatter3d\"},{\"line\":{\"color\":\"lightskyblue\"},\"mode\":\"lines\",\"showlegend\":false,\"surfaceaxis\":2,\"x\":[0.6253765376227447,1.1245761245165684,1.1246534487416113,0.6255163950077758,0.6253765376227447],\"y\":[9.596440158242828,9.596216313976829,11.194204861729494,11.194454093153007,9.596440158242828],\"z\":[0.31573286592967864,0.32481140279804177,0.40886966985057693,0.3997804079308429,0.31573286592967864],\"type\":\"scatter3d\"},{\"line\":{\"color\":\"lightskyblue\"},\"mode\":\"lines\",\"showlegend\":false,\"surfaceaxis\":2,\"x\":[0.6255163950077758,1.1246534487416113,1.1247585785984255,0.6256717750465146,0.6255163950077758],\"y\":[11.194454093153007,11.194204861729494,12.792025076633314,12.792289884914894,11.194454093153007],\"z\":[0.3997804079308429,0.40886966985057693,0.4952373565747191,0.48615733812538203,0.3997804079308429],\"type\":\"scatter3d\"},{\"line\":{\"color\":\"lightskyblue\"},\"mode\":\"lines\",\"showlegend\":false,\"surfaceaxis\":2,\"x\":[0.6256717750465146,1.1247585785984255,1.124878538617141,0.6258372686016829,0.6256717750465146],\"y\":[12.792289884914894,12.792025076633314,14.389717875260931,14.38999008345555,12.792289884914894],\"z\":[0.48615733812538203,0.4952373565747191,0.5825128172229536,0.5734711030310573,0.48615733812538203],\"type\":\"scatter3d\"},{\"line\":{\"color\":\"lightskyblue\"},\"mode\":\"lines\",\"showlegend\":false,\"surfaceaxis\":2,\"x\":[0.6258372686016829,1.124878538617141,1.1250017660288254,0.6260080979292544,0.6258372686016829],\"y\":[14.38999008345555,14.389717875260931,15.987354618750501,15.987624055514882,14.38999008345555],\"z\":[0.5734711030310573,0.5825128172229536,0.6700885171839005,0.6611004702906497,0.5734711030310573],\"type\":\"scatter3d\"},{\"line\":{\"color\":\"lightskyblue\"},\"mode\":\"lines\",\"showlegend\":false,\"surfaceaxis\":2,\"x\":[1.12492385,1.6248477000000001,1.6246367603908007,1.1248050873202082,1.12492385],\"y\":[1.0180229352716008e-17,1.0180229352716008e-17,1.5994900186560428,1.5994272497963131,1.0180229352716008e-17],\"z\":[0.008726205000000055,0.017452410000000057,0.03042772623379729,0.02162856633909943,0.008726205000000055],\"type\":\"scatter3d\"},{\"line\":{\"color\":\"lightskyblue\"},\"mode\":\"lines\",\"showlegend\":false,\"surfaceaxis\":2,\"x\":[1.1248050873202082,1.6246367603908007,1.6244353166325611,1.1246948750055756,1.1248050873202082],\"y\":[1.5994272497963131,1.5994900186560428,3.1986581010966217,3.200562169286804,1.5994272497963131],\"z\":[0.02162856633909943,0.03042772623379729,0.06478035769241625,0.055973574267848214,0.02162856633909943],\"type\":\"scatter3d\"},{\"line\":{\"color\":\"lightskyblue\"},\"mode\":\"lines\",\"showlegend\":false,\"surfaceaxis\":2,\"x\":[1.1246948750055756,1.6244353166325611,1.6242673189950327,1.1246083132911007,1.1246948750055756],\"y\":[3.200562169286804,3.1986581010966217,4.800059220664356,4.800180580875889,3.200562169286804],\"z\":[0.055973574267848214,0.06478035769241625,0.11605254417483034,0.10714470936825811,0.055973574267848214],\"type\":\"scatter3d\"},{\"line\":{\"color\":\"lightskyblue\"},\"mode\":\"lines\",\"showlegend\":false,\"surfaceaxis\":2,\"x\":[1.1246083132911007,1.6242673189950327,1.6241455163041496,1.124553857758295,1.1246083132911007],\"y\":[4.800180580875889,4.800059220664356,6.399153752788273,6.399297347020429,4.800180580875889],\"z\":[0.10714470936825811,0.11605254417483034,0.1802260995273387,0.1712792123647841,0.10714470936825811],\"type\":\"scatter3d\"},{\"line\":{\"color\":\"lightskyblue\"},\"mode\":\"lines\",\"showlegend\":false,\"surfaceaxis\":2,\"x\":[1.124553857758295,1.6241455163041496,1.6240671049260214,1.124542068285944,1.124553857758295],\"y\":[6.399297347020429,6.399153752788273,7.9977810592845575,7.997938108852912,6.399297347020429],\"z\":[0.1712792123647841,0.1802260995273387,0.253748471894078,0.24477413873974713,0.1712792123647841],\"type\":\"scatter3d\"},{\"line\":{\"color\":\"lightskyblue\"},\"mode\":\"lines\",\"showlegend\":false,\"surfaceaxis\":2,\"x\":[1.124542068285944,1.6240671049260214,1.6240212859793313,1.1245761245165684,1.124542068285944],\"y\":[7.997938108852912,7.9977810592845575,9.596051429109606,9.596216313976829,7.997938108852912],\"z\":[0.24477413873974713,0.253748471894078,0.33379080242168657,0.32481140279804177,0.24477413873974713],\"type\":\"scatter3d\"},{\"line\":{\"color\":\"lightskyblue\"},\"mode\":\"lines\",\"showlegend\":false,\"surfaceaxis\":2,\"x\":[1.1245761245165684,1.6240212859793313,1.6240001619106788,1.1246534487416113,1.1245761245165684],\"y\":[9.596216313976829,9.596051429109606,11.194040643878706,11.194204861729494,9.596216313976829],\"z\":[0.32481140279804177,0.33379080242168657,0.4178377135359716,0.40886966985057693,0.32481140279804177],\"type\":\"scatter3d\"},{\"line\":{\"color\":\"lightskyblue\"},\"mode\":\"lines\",\"showlegend\":false,\"surfaceaxis\":2,\"x\":[1.1246534487416113,1.6240001619106788,1.6240041802120455,1.1247585785984255,1.1246534487416113],\"y\":[11.194204861729494,11.194040643878706,12.79185901782479,12.792025076633314,11.194204861729494],\"z\":[0.40886966985057693,0.4178377135359716,0.5041802006166938,0.4952373565747191,0.40886966985057693],\"type\":\"scatter3d\"},{\"line\":{\"color\":\"lightskyblue\"},\"mode\":\"lines\",\"showlegend\":false,\"surfaceaxis\":2,\"x\":[1.1247585785984255,1.6240041802120455,1.6240369106007018,1.124878538617141,1.1247585785984255],\"y\":[12.792025076633314,12.79185901782479,14.389552740201767,14.389717875260931,12.792025076633314],\"z\":[0.4952373565747191,0.5041802006166938,0.5914282818330514,0.5825128172229536,0.4952373565747191],\"type\":\"scatter3d\"},{\"line\":{\"color\":\"lightskyblue\"},\"mode\":\"lines\",\"showlegend\":false,\"surfaceaxis\":2,\"x\":[1.124878538617141,1.6240369106007018,1.624100209403329,1.1250017660288254,1.124878538617141],\"y\":[14.389717875260931,14.389552740201767,15.987187673605456,15.987354618750501,14.389717875260931],\"z\":[0.5825128172229536,0.5914282818330514,0.6789753130827693,0.6700885171839005,0.5825128172229536],\"type\":\"scatter3d\"},{\"line\":{\"color\":\"lightskyblue\"},\"mode\":\"lines\",\"showlegend\":false,\"surfaceaxis\":2,\"x\":[1.6248477000000001,2.12477155,2.1245727263033225,1.6246367603908007,1.6248477000000001],\"y\":[1.0180229352716008e-17,1.0180229352716008e-17,1.5995132294584984,1.5994900186560428,1.0180229352716008e-17],\"z\":[0.017452410000000057,0.026178615000000058,0.03918079292411368,0.03042772623379729,0.017452410000000057],\"type\":\"scatter3d\"},{\"line\":{\"color\":\"lightskyblue\"},\"mode\":\"lines\",\"showlegend\":false,\"surfaceaxis\":2,\"x\":[1.6246367603908007,2.1245727263033225,2.1243735969337663,1.6244353166325611,1.6246367603908007],\"y\":[1.5994900186560428,1.5995132294584984,3.1986994959095894,3.1986581010966217,1.5994900186560428],\"z\":[0.03042772623379729,0.03918079292411368,0.07356841117612883,0.06478035769241625,0.03042772623379729],\"type\":\"scatter3d\"},{\"line\":{\"color\":\"lightskyblue\"},\"mode\":\"lines\",\"showlegend\":false,\"surfaceaxis\":2,\"x\":[1.6244353166325611,2.1243735969337663,2.124186298557955,1.6242673189950327,1.6244353166325611],\"y\":[3.1986581010966217,3.1986994959095894,4.797480681374086,4.800059220664356,3.1986581010966217],\"z\":[0.06478035769241625,0.07356841117612883,0.12476997907068736,0.11605254417483034,0.06478035769241625],\"type\":\"scatter3d\"},{\"line\":{\"color\":\"lightskyblue\"},\"mode\":\"lines\",\"showlegend\":false,\"surfaceaxis\":2,\"x\":[1.6242673189950327,2.124186298557955,2.124013454652801,1.6241455163041496,1.6242673189950327],\"y\":[4.800059220664356,4.797480681374086,6.39908981275519,6.399153752788273,4.800059220664356],\"z\":[0.11605254417483034,0.12476997907068736,0.18904706399183152,0.1802260995273387,0.11605254417483034],\"type\":\"scatter3d\"},{\"line\":{\"color\":\"lightskyblue\"},\"mode\":\"lines\",\"showlegend\":false,\"surfaceaxis\":2,\"x\":[1.6241455163041496,2.124013454652801,2.1238622756151266,1.6240671049260214,1.6241455163041496],\"y\":[6.399153752788273,6.39908981275519,7.997716906761331,7.9977810592845575,6.399153752788273],\"z\":[0.1802260995273387,0.18904706399183152,0.26256898712790244,0.253748471894078,0.1802260995273387],\"type\":\"scatter3d\"},{\"line\":{\"color\":\"lightskyblue\"},\"mode\":\"lines\",\"showlegend\":false,\"surfaceaxis\":2,\"x\":[1.6240671049260214,2.1238622756151266,2.1237382129283495,1.6240212859793313,1.6240671049260214],\"y\":[7.9977810592845575,7.997716906761331,9.595994501153548,9.596051429109606,7.9977810592845575],\"z\":[0.253748471894078,0.26256898712790244,0.3426026778788667,0.33379080242168657,0.253748471894078],\"type\":\"scatter3d\"},{\"line\":{\"color\":\"lightskyblue\"},\"mode\":\"lines\",\"showlegend\":false,\"surfaceaxis\":2,\"x\":[1.6240212859793313,2.1237382129283495,2.123648191870622,1.6240001619106788,1.6240212859793313],\"y\":[9.596051429109606,9.595994501153548,11.193990894020061,11.194040643878706,9.596051429109606],\"z\":[0.33379080242168657,0.3426026778788667,0.426625416947413,0.4178377135359716,0.33379080242168657],\"type\":\"scatter3d\"},{\"line\":{\"color\":\"lightskyblue\"},\"mode\":\"lines\",\"showlegend\":false,\"surfaceaxis\":2,\"x\":[1.6240001619106788,2.123648191870622,2.123592314317478,1.6240041802120455,1.6240001619106788],\"y\":[11.194040643878706,11.193990894020061,12.791820154615829,12.79185901782479,11.194040643878706],\"z\":[0.4178377135359716,0.426625416947413,0.5129448034428701,0.5041802006166938,0.4178377135359716],\"type\":\"scatter3d\"},{\"line\":{\"color\":\"lightskyblue\"},\"mode\":\"lines\",\"showlegend\":false,\"surfaceaxis\":2,\"x\":[1.6240041802120455,2.123592314317478,2.123574557498775,1.6240369106007018,1.6240041802120455],\"y\":[12.79185901782479,12.791820154615829,14.389517925252768,14.389552740201767,12.79185901782479],\"z\":[0.5041802006166938,0.5129448034428701,0.6001780045320203,0.5914282818330514,0.5041802006166938],\"type\":\"scatter3d\"},{\"line\":{\"color\":\"lightskyblue\"},\"mode\":\"lines\",\"showlegend\":false,\"surfaceaxis\":2,\"x\":[1.6240369106007018,2.123574557498775,2.123597704984597,1.624100209403329,1.6240369106007018],\"y\":[14.389552740201767,14.389517925252768,15.98715738793984,15.987187673605456,14.389552740201767],\"z\":[0.5914282818330514,0.6001780045320203,0.6877165177081032,0.6789753130827693,0.5914282818330514],\"type\":\"scatter3d\"},{\"line\":{\"color\":\"lightskyblue\"},\"mode\":\"lines\",\"showlegend\":false,\"surfaceaxis\":2,\"x\":[2.12477155,2.6246954000000002,2.6245427823877785,2.1245727263033225,2.12477155],\"y\":[1.0180229352716008e-17,1.0180229352716008e-17,1.5995066851489441,1.5995132294584984,1.0180229352716008e-17],\"z\":[0.026178615000000058,0.03490482000000006,0.04790219801008421,0.03918079292411368,0.026178615000000058],\"type\":\"scatter3d\"},{\"line\":{\"color\":\"lightskyblue\"},\"mode\":\"lines\",\"showlegend\":false,\"surfaceaxis\":2,\"x\":[2.1245727263033225,2.6245427823877785,2.624374265951388,2.1243735969337663,2.1245727263033225],\"y\":[1.5995132294584984,1.5995066851489441,3.1986822220643014,3.1986994959095894,1.5995132294584984],\"z\":[0.03918079292411368,0.04790219801008421,0.08226830531521764,0.07356841117612883,0.03918079292411368],\"type\":\"scatter3d\"},{\"line\":{\"color\":\"lightskyblue\"},\"mode\":\"lines\",\"showlegend\":false,\"surfaceaxis\":2,\"x\":[2.1243735969337663,2.624374265951388,2.6242003251346544,2.124186298557955,2.1243735969337663],\"y\":[3.1986994959095894,3.1986822220643014,4.800033026405443,4.797480681374086,3.1986994959095894],\"z\":[0.07356841117612883,0.08226830531521764,0.13354078873660286,0.12476997907068736,0.07356841117612883],\"type\":\"scatter3d\"},{\"line\":{\"color\":\"lightskyblue\"},\"mode\":\"lines\",\"showlegend\":false,\"surfaceaxis\":2,\"x\":[2.124186298557955,2.6242003251346544,2.6240346747274352,2.124013454652801,2.124186298557955],\"y\":[4.797480681374086,4.800033026405443,6.399138264601669,6.39908981275519,4.797480681374086],\"z\":[0.12476997907068736,0.13354078873660286,0.19770490141925,0.18904706399183152,0.12476997907068736],\"type\":\"scatter3d\"},{\"line\":{\"color\":\"lightskyblue\"},\"mode\":\"lines\",\"showlegend\":false,\"surfaceaxis\":2,\"x\":[2.124013454652801,2.6240346747274352,2.6238899816594627,2.1238622756151266,2.124013454652801],\"y\":[6.39908981275519,6.399138264601669,7.997778877056729,7.997716906761331,6.39908981275519],\"z\":[0.18904706399183152,0.19770490141925,0.27120457534777626,0.26256898712790244,0.18904706399183152],\"type\":\"scatter3d\"},{\"line\":{\"color\":\"lightskyblue\"},\"mode\":\"lines\",\"showlegend\":false,\"surfaceaxis\":2,\"x\":[2.1238622756151266,2.6238899816594627,2.623776788643868,2.1237382129283495,2.1238622756151266],\"y\":[7.997716906761331,7.997778877056729,9.596060078901077,9.595994501153548,7.997716906761331],\"z\":[0.26256898712790244,0.27120457534777626,0.3512204143848181,0.3426026778788667,0.26256898712790244],\"type\":\"scatter3d\"},{\"line\":{\"color\":\"lightskyblue\"},\"mode\":\"lines\",\"showlegend\":false,\"surfaceaxis\":2,\"x\":[2.1237382129283495,2.623776788643868,2.6237015735293436,2.123648191870622,2.1237382129283495],\"y\":[9.595994501153548,9.596060078901077,11.194056742317743,11.193990894020061,9.595994501153548],\"z\":[0.3426026778788667,0.3512204143848181,0.43524696151167724,0.426625416947413,0.3426026778788667],\"type\":\"scatter3d\"},{\"line\":{\"color\":\"lightskyblue\"},\"mode\":\"lines\",\"showlegend\":false,\"surfaceaxis\":2,\"x\":[2.123648191870622,2.6237015735293436,2.6236663883035902,2.123592314317478,2.123648191870622],\"y\":[11.193990894020061,11.194056742317743,12.791881387833506,12.791820154615829,11.193990894020061],\"z\":[0.426625416947413,0.43524696151167724,0.5215755783364908,0.5129448034428701,0.426625416947413],\"type\":\"scatter3d\"},{\"line\":{\"color\":\"lightskyblue\"},\"mode\":\"lines\",\"showlegend\":false,\"surfaceaxis\":2,\"x\":[2.123592314317478,2.6236663883035902,2.6236704322960067,2.123574557498775,2.123592314317478],\"y\":[12.791820154615829,12.791881387833506,14.38958125217964,14.389517925252768,12.791820154615829],\"z\":[0.5129448034428701,0.5215755783364908,0.6088125886549858,0.6001780045320203,0.5129448034428701],\"type\":\"scatter3d\"},{\"line\":{\"color\":\"lightskyblue\"},\"mode\":\"lines\",\"showlegend\":false,\"surfaceaxis\":2,\"x\":[2.123574557498775,2.6236704322960067,2.6237113562147067,2.123597704984597,2.123574557498775],\"y\":[14.389517925252768,14.38958125217964,15.987218924296565,15.98715738793984,14.389517925252768],\"z\":[0.6001780045320203,0.6088125886549858,0.6963530192171781,0.6877165177081032,0.6001780045320203],\"type\":\"scatter3d\"},{\"line\":{\"color\":\"lightskyblue\"},\"mode\":\"lines\",\"showlegend\":false,\"surfaceaxis\":2,\"x\":[2.6246954000000002,3.1246192500000003,3.1244687784113023,2.6245427823877785,2.6246954000000002],\"y\":[1.0180229352716008e-17,1.0180229352716008e-17,1.5994386182341616,1.5995066851489441,1.0180229352716008e-17],\"z\":[0.03490482000000006,0.04363102500000006,0.05654898258082852,0.04790219801008421,0.03490482000000006],\"type\":\"scatter3d\"},{\"line\":{\"color\":\"lightskyblue\"},\"mode\":\"lines\",\"showlegend\":false,\"surfaceaxis\":2,\"x\":[2.6245427823877785,3.1244687784113023,3.1243324967990436,2.624374265951388,2.6245427823877785],\"y\":[1.5995066851489441,1.5994386182341616,3.200547262192771,3.1986822220643014,1.5995066851489441],\"z\":[0.04790219801008421,0.05654898258082852,0.09091006819994964,0.08226830531521764,0.04790219801008421],\"type\":\"scatter3d\"},{\"line\":{\"color\":\"lightskyblue\"},\"mode\":\"lines\",\"showlegend\":false,\"surfaceaxis\":2,\"x\":[2.624374265951388,3.1243324967990436,3.124228862614279,2.6242003251346544,2.624374265951388],\"y\":[3.1986822220643014,3.200547262192771,4.800161645830071,4.800033026405443,3.1986822220643014],\"z\":[0.08226830531521764,0.09091006819994964,0.14209008646646631,0.13354078873660286,0.08226830531521764],\"type\":\"scatter3d\"},{\"line\":{\"color\":\"lightskyblue\"},\"mode\":\"lines\",\"showlegend\":false,\"surfaceaxis\":2,\"x\":[2.6242003251346544,3.124228862614279,3.1241637026755713,2.6240346747274352,2.6242003251346544],\"y\":[4.800033026405443,4.800161645830071,6.399274777259682,6.399138264601669,4.800033026405443],\"z\":[0.13354078873660286,0.14209008646646631,0.20622060945856996,0.19770490141925,0.13354078873660286],\"type\":\"scatter3d\"},{\"line\":{\"color\":\"lightskyblue\"},\"mode\":\"lines\",\"showlegend\":false,\"surfaceaxis\":2,\"x\":[2.6240346747274352,3.1241637026755713,3.12413618545796,2.6238899816594627,2.6240346747274352],\"y\":[6.399138264601669,6.399274777259682,7.997917063458706,7.997778877056729,6.399138264601669],\"z\":[0.19770490141925,0.20622060945856996,0.2797036911708081,0.27120457534777626,0.19770490141925],\"type\":\"scatter3d\"},{\"line\":{\"color\":\"lightskyblue\"},\"mode\":\"lines\",\"showlegend\":false,\"surfaceaxis\":2,\"x\":[2.6238899816594627,3.12413618545796,3.1241368759840564,2.623776788643868,2.6238899816594627],\"y\":[7.997778877056729,7.997917063458706,9.596204762304351,9.596060078901077,7.997778877056729],\"z\":[0.27120457534777626,0.2797036911708081,0.35971877262821805,0.3512204143848181,0.27120457534777626],\"type\":\"scatter3d\"},{\"line\":{\"color\":\"lightskyblue\"},\"mode\":\"lines\",\"showlegend\":false,\"surfaceaxis\":2,\"x\":[2.623776788643868,3.1241368759840564,3.124161212980173,2.6237015735293436,2.623776788643868],\"y\":[9.596060078901077,9.596204762304351,11.194206478560547,11.194056742317743,9.596060078901077],\"z\":[0.3512204143848181,0.35971877262821805,0.44374669260171395,0.43524696151167724,0.3512204143848181],\"type\":\"scatter3d\"},{\"line\":{\"color\":\"lightskyblue\"},\"mode\":\"lines\",\"showlegend\":false,\"surfaceaxis\":2,\"x\":[2.6237015735293436,3.124161212980173,3.124206423570652,2.6236663883035902,2.6237015735293436],\"y\":[11.194056742317743,11.194206478560547,12.79203654424027,12.791881387833506,11.194056742317743],\"z\":[0.43524696151167724,0.44374669260171395,0.5300874043552533,0.5215755783364908,0.43524696151167724],\"type\":\"scatter3d\"},{\"line\":{\"color\":\"lightskyblue\"},\"mode\":\"lines\",\"showlegend\":false,\"surfaceaxis\":2,\"x\":[2.6236663883035902,3.124206423570652,3.124275247703224,2.6236704322960067,2.6236663883035902],\"y\":[12.791881387833506,12.79203654424027,14.389731336286712,14.38958125217964,12.791881387833506],\"z\":[0.5215755783364908,0.5300874043552533,0.6173471756536763,0.6088125886549858,0.5215755783364908],\"type\":\"scatter3d\"},{\"line\":{\"color\":\"lightskyblue\"},\"mode\":\"lines\",\"showlegend\":false,\"surfaceaxis\":2,\"x\":[2.6236704322960067,3.124275247703224,3.1243669535363985,2.6237113562147067,2.6236704322960067],\"y\":[14.38958125217964,14.389731336286712,15.98736860004365,15.987218924296565,14.38958125217964],\"z\":[0.6088125886549858,0.6173471756536763,0.7049103419466002,0.6963530192171781,0.6088125886549858],\"type\":\"scatter3d\"},{\"line\":{\"color\":\"lightskyblue\"},\"mode\":\"lines\",\"showlegend\":false,\"surfaceaxis\":2,\"x\":[3.1246192500000003,3.6245431000000004,3.62446758833385,3.1244687784113023,3.1246192500000003],\"y\":[1.0180229352716008e-17,1.0180229352716008e-17,1.6005101163929771,1.5994386182341616,1.0180229352716008e-17],\"z\":[0.04363102500000006,0.05235723000000006,0.06520397575192591,0.05654898258082852,0.04363102500000006],\"type\":\"scatter3d\"},{\"line\":{\"color\":\"lightskyblue\"},\"mode\":\"lines\",\"showlegend\":false,\"surfaceaxis\":2,\"x\":[3.1244687784113023,3.62446758833385,3.6244201418679083,3.1243324967990436,3.1244687784113023],\"y\":[1.5994386182341616,1.6005101163929771,3.200672407922749,3.200547262192771,1.5994386182341616],\"z\":[0.05654898258082852,0.06520397575192591,0.09946471916548587,0.09091006819994964,0.05654898258082852],\"type\":\"scatter3d\"},{\"line\":{\"color\":\"lightskyblue\"},\"mode\":\"lines\",\"showlegend\":false,\"surfaceaxis\":2,\"x\":[3.1243324967990436,3.6244201418679083,3.624418617994041,3.124228862614279,3.1243324967990436],\"y\":[3.200547262192771,3.200672407922749,4.80032440906162,4.800161645830071,3.200547262192771],\"z\":[0.09091006819994964,0.09946471916548587,0.15057247537421004,0.14209008646646631,0.09091006819994964],\"type\":\"scatter3d\"},{\"line\":{\"color\":\"lightskyblue\"},\"mode\":\"lines\",\"showlegend\":false,\"surfaceaxis\":2,\"x\":[3.124228862614279,3.624418617994041,3.6244645988569637,3.1241637026755713,3.124228862614279],\"y\":[4.800161645830071,4.80032440906162,6.399463094952219,6.399274777259682,4.800161645830071],\"z\":[0.14209008646646631,0.15057247537421004,0.21464943228908945,0.20622060945856996,0.14209008646646631],\"type\":\"scatter3d\"},{\"line\":{\"color\":\"lightskyblue\"},\"mode\":\"lines\",\"showlegend\":false,\"surfaceaxis\":2,\"x\":[3.1241637026755713,3.6244645988569637,3.624553879703099,3.12413618545796,3.1241637026755713],\"y\":[6.399274777259682,6.399463094952219,7.998122144016918,7.997917063458706,6.399274777259682],\"z\":[0.20622060945856996,0.21464943228908945,0.2881028647533587,0.2797036911708081,0.20622060945856996],\"type\":\"scatter3d\"},{\"line\":{\"color\":\"lightskyblue\"},\"mode\":\"lines\",\"showlegend\":false,\"surfaceaxis\":2,\"x\":[3.12413618545796,3.624553879703099,3.6246796253608893,3.1241368759840564,3.12413618545796],\"y\":[7.997917063458706,7.998122144016918,9.59641419633505,9.596204762304351,7.997917063458706],\"z\":[0.2797036911708081,0.2881028647533587,0.36811114805410866,0.35971877262821805,0.2797036911708081],\"type\":\"scatter3d\"},{\"line\":{\"color\":\"lightskyblue\"},\"mode\":\"lines\",\"showlegend\":false,\"surfaceaxis\":2,\"x\":[3.1241368759840564,3.6246796253608893,3.624831598730995,3.124161212980173,3.1241368759840564],\"y\":[9.596204762304351,9.59641419633505,11.194417941944122,11.194206478560547,9.596204762304351],\"z\":[0.35971877262821805,0.36811114805410866,0.45215272616052316,0.44374669260171395,0.35971877262821805],\"type\":\"scatter3d\"},{\"line\":{\"color\":\"lightskyblue\"},\"mode\":\"lines\",\"showlegend\":false,\"surfaceaxis\":2,\"x\":[3.124161212980173,3.624831598730995,3.624996035407788,3.124206423570652,3.124161212980173],\"y\":[11.194206478560547,11.194417941944122,12.792248639251152,12.79203654424027,11.194206478560547],\"z\":[0.44374669260171395,0.45215272616052316,0.5385135371262515,0.5300874043552533,0.44374669260171395],\"type\":\"scatter3d\"},{\"line\":{\"color\":\"lightskyblue\"},\"mode\":\"lines\",\"showlegend\":false,\"surfaceaxis\":2,\"x\":[3.124206423570652,3.624996035407788,3.625163683282253,3.124275247703224,3.124206423570652],\"y\":[12.79203654424027,12.792248639251152,14.389952120500377,14.389731336286712,12.79203654424027],\"z\":[0.5300874043552533,0.5385135371262515,0.6257970805675817,0.6173471756536763,0.5300874043552533],\"type\":\"scatter3d\"},{\"line\":{\"color\":\"lightskyblue\"},\"mode\":\"lines\",\"showlegend\":false,\"surfaceaxis\":2,\"x\":[3.124275247703224,3.625163683282253,3.625331433776154,3.1243669535363985,3.124275247703224],\"y\":[14.389731336286712,14.389952120500377,15.987589403210206,15.98736860004365,14.389731336286712],\"z\":[0.6173471756536763,0.6257970805675817,0.7133955790082958,0.7049103419466002,0.6173471756536763],\"type\":\"scatter3d\"},{\"line\":{\"color\":\"grey\"},\"mode\":\"lines\",\"showlegend\":false,\"x\":[0.6250000000000001,0.6250082006813212,0.625033242311391,0.625082187232479,0.6251567108986613,0.6252555884791595,0.6253765376227447,0.6255163950077758,0.6256717750465146,0.6258372686016829,0.6260080979292544],\"y\":[1.0180229352716008e-17,1.6005197808762799,3.2006869671115536,4.800340774008901,6.399478638425464,7.998139900728205,9.596440158242828,11.194454093153007,12.792289884914894,14.38999008345555,15.987624055514882],\"z\":[5.412225351471832e-17,0.012826305810186988,0.047074864506165055,0.0981795472210285,0.16225779278117985,0.23571870496091418,0.31573286592967864,0.3997804079308429,0.48615733812538203,0.5734711030310573,0.6611004702906497],\"type\":\"scatter3d\"},{\"line\":{\"color\":\"grey\"},\"mode\":\"lines\",\"showlegend\":false,\"x\":[1.12492385,1.1248050873202082,1.1246948750055756,1.1246083132911007,1.124553857758295,1.124542068285944,1.1245761245165684,1.1246534487416113,1.1247585785984255,1.124878538617141,1.1250017660288254],\"y\":[1.0180229352716008e-17,1.5994272497963131,3.200562169286804,4.800180580875889,6.399297347020429,7.997938108852912,9.596216313976829,11.194204861729494,12.792025076633314,14.389717875260931,15.987354618750501],\"z\":[0.008726205000000055,0.02162856633909943,0.055973574267848214,0.10714470936825811,0.1712792123647841,0.24477413873974713,0.32481140279804177,0.40886966985057693,0.4952373565747191,0.5825128172229536,0.6700885171839005],\"type\":\"scatter3d\"},{\"line\":{\"color\":\"grey\"},\"mode\":\"lines\",\"showlegend\":false,\"x\":[1.6248477000000001,1.6246367603908007,1.6244353166325611,1.6242673189950327,1.6241455163041496,1.6240671049260214,1.6240212859793313,1.6240001619106788,1.6240041802120455,1.6240369106007018,1.624100209403329],\"y\":[1.0180229352716008e-17,1.5994900186560428,3.1986581010966217,4.800059220664356,6.399153752788273,7.9977810592845575,9.596051429109606,11.194040643878706,12.79185901782479,14.389552740201767,15.987187673605456],\"z\":[0.017452410000000057,0.03042772623379729,0.06478035769241625,0.11605254417483034,0.1802260995273387,0.253748471894078,0.33379080242168657,0.4178377135359716,0.5041802006166938,0.5914282818330514,0.6789753130827693],\"type\":\"scatter3d\"},{\"line\":{\"color\":\"grey\"},\"mode\":\"lines\",\"showlegend\":false,\"x\":[2.12477155,2.1245727263033225,2.1243735969337663,2.124186298557955,2.124013454652801,2.1238622756151266,2.1237382129283495,2.123648191870622,2.123592314317478,2.123574557498775,2.123597704984597],\"y\":[1.0180229352716008e-17,1.5995132294584984,3.1986994959095894,4.797480681374086,6.39908981275519,7.997716906761331,9.595994501153548,11.193990894020061,12.791820154615829,14.389517925252768,15.98715738793984],\"z\":[0.026178615000000058,0.03918079292411368,0.07356841117612883,0.12476997907068736,0.18904706399183152,0.26256898712790244,0.3426026778788667,0.426625416947413,0.5129448034428701,0.6001780045320203,0.6877165177081032],\"type\":\"scatter3d\"},{\"line\":{\"color\":\"grey\"},\"mode\":\"lines\",\"showlegend\":false,\"x\":[2.6246954000000002,2.6245427823877785,2.624374265951388,2.6242003251346544,2.6240346747274352,2.6238899816594627,2.623776788643868,2.6237015735293436,2.6236663883035902,2.6236704322960067,2.6237113562147067],\"y\":[1.0180229352716008e-17,1.5995066851489441,3.1986822220643014,4.800033026405443,6.399138264601669,7.997778877056729,9.596060078901077,11.194056742317743,12.791881387833506,14.38958125217964,15.987218924296565],\"z\":[0.03490482000000006,0.04790219801008421,0.08226830531521764,0.13354078873660286,0.19770490141925,0.27120457534777626,0.3512204143848181,0.43524696151167724,0.5215755783364908,0.6088125886549858,0.6963530192171781],\"type\":\"scatter3d\"},{\"line\":{\"color\":\"grey\"},\"mode\":\"lines\",\"showlegend\":false,\"x\":[3.1246192500000003,3.1244687784113023,3.1243324967990436,3.124228862614279,3.1241637026755713,3.12413618545796,3.1241368759840564,3.124161212980173,3.124206423570652,3.124275247703224,3.1243669535363985],\"y\":[1.0180229352716008e-17,1.5994386182341616,3.200547262192771,4.800161645830071,6.399274777259682,7.997917063458706,9.596204762304351,11.194206478560547,12.79203654424027,14.389731336286712,15.98736860004365],\"z\":[0.04363102500000006,0.05654898258082852,0.09091006819994964,0.14209008646646631,0.20622060945856996,0.2797036911708081,0.35971877262821805,0.44374669260171395,0.5300874043552533,0.6173471756536763,0.7049103419466002],\"type\":\"scatter3d\"},{\"line\":{\"color\":\"grey\"},\"mode\":\"lines\",\"showlegend\":false,\"x\":[3.6245431000000004,3.62446758833385,3.6244201418679083,3.624418617994041,3.6244645988569637,3.624553879703099,3.6246796253608893,3.624831598730995,3.624996035407788,3.625163683282253,3.625331433776154],\"y\":[1.0180229352716008e-17,1.6005101163929771,3.200672407922749,4.80032440906162,6.399463094952219,7.998122144016918,9.59641419633505,11.194417941944122,12.792248639251152,14.389952120500377,15.987589403210206],\"z\":[0.05235723000000006,0.06520397575192591,0.09946471916548587,0.15057247537421004,0.21464943228908945,0.2881028647533587,0.36811114805410866,0.45215272616052316,0.5385135371262515,0.6257970805675817,0.7133955790082958],\"type\":\"scatter3d\"},{\"line\":{\"color\":\"grey\"},\"mode\":\"lines\",\"showlegend\":false,\"x\":[0.6250000000000001,1.12492385,1.6248477000000001,2.12477155,2.6246954000000002,3.1246192500000003,3.6245431000000004],\"y\":[1.0180229352716008e-17,1.0180229352716008e-17,1.0180229352716008e-17,1.0180229352716008e-17,1.0180229352716008e-17,1.0180229352716008e-17,1.0180229352716008e-17],\"z\":[5.412225351471832e-17,0.008726205000000055,0.017452410000000057,0.026178615000000058,0.03490482000000006,0.04363102500000006,0.05235723000000006],\"type\":\"scatter3d\"},{\"line\":{\"color\":\"grey\"},\"mode\":\"lines\",\"showlegend\":false,\"x\":[0.6250082006813212,1.1248050873202082,1.6246367603908007,2.1245727263033225,2.6245427823877785,3.1244687784113023,3.62446758833385],\"y\":[1.6005197808762799,1.5994272497963131,1.5994900186560428,1.5995132294584984,1.5995066851489441,1.5994386182341616,1.6005101163929771],\"z\":[0.012826305810186988,0.02162856633909943,0.03042772623379729,0.03918079292411368,0.04790219801008421,0.05654898258082852,0.06520397575192591],\"type\":\"scatter3d\"},{\"line\":{\"color\":\"grey\"},\"mode\":\"lines\",\"showlegend\":false,\"x\":[0.625033242311391,1.1246948750055756,1.6244353166325611,2.1243735969337663,2.624374265951388,3.1243324967990436,3.6244201418679083],\"y\":[3.2006869671115536,3.200562169286804,3.1986581010966217,3.1986994959095894,3.1986822220643014,3.200547262192771,3.200672407922749],\"z\":[0.047074864506165055,0.055973574267848214,0.06478035769241625,0.07356841117612883,0.08226830531521764,0.09091006819994964,0.09946471916548587],\"type\":\"scatter3d\"},{\"line\":{\"color\":\"grey\"},\"mode\":\"lines\",\"showlegend\":false,\"x\":[0.625082187232479,1.1246083132911007,1.6242673189950327,2.124186298557955,2.6242003251346544,3.124228862614279,3.624418617994041],\"y\":[4.800340774008901,4.800180580875889,4.800059220664356,4.797480681374086,4.800033026405443,4.800161645830071,4.80032440906162],\"z\":[0.0981795472210285,0.10714470936825811,0.11605254417483034,0.12476997907068736,0.13354078873660286,0.14209008646646631,0.15057247537421004],\"type\":\"scatter3d\"},{\"line\":{\"color\":\"grey\"},\"mode\":\"lines\",\"showlegend\":false,\"x\":[0.6251567108986613,1.124553857758295,1.6241455163041496,2.124013454652801,2.6240346747274352,3.1241637026755713,3.6244645988569637],\"y\":[6.399478638425464,6.399297347020429,6.399153752788273,6.39908981275519,6.399138264601669,6.399274777259682,6.399463094952219],\"z\":[0.16225779278117985,0.1712792123647841,0.1802260995273387,0.18904706399183152,0.19770490141925,0.20622060945856996,0.21464943228908945],\"type\":\"scatter3d\"},{\"line\":{\"color\":\"grey\"},\"mode\":\"lines\",\"showlegend\":false,\"x\":[0.6252555884791595,1.124542068285944,1.6240671049260214,2.1238622756151266,2.6238899816594627,3.12413618545796,3.624553879703099],\"y\":[7.998139900728205,7.997938108852912,7.9977810592845575,7.997716906761331,7.997778877056729,7.997917063458706,7.998122144016918],\"z\":[0.23571870496091418,0.24477413873974713,0.253748471894078,0.26256898712790244,0.27120457534777626,0.2797036911708081,0.2881028647533587],\"type\":\"scatter3d\"},{\"line\":{\"color\":\"grey\"},\"mode\":\"lines\",\"showlegend\":false,\"x\":[0.6253765376227447,1.1245761245165684,1.6240212859793313,2.1237382129283495,2.623776788643868,3.1241368759840564,3.6246796253608893],\"y\":[9.596440158242828,9.596216313976829,9.596051429109606,9.595994501153548,9.596060078901077,9.596204762304351,9.59641419633505],\"z\":[0.31573286592967864,0.32481140279804177,0.33379080242168657,0.3426026778788667,0.3512204143848181,0.35971877262821805,0.36811114805410866],\"type\":\"scatter3d\"},{\"line\":{\"color\":\"grey\"},\"mode\":\"lines\",\"showlegend\":false,\"x\":[0.6255163950077758,1.1246534487416113,1.6240001619106788,2.123648191870622,2.6237015735293436,3.124161212980173,3.624831598730995],\"y\":[11.194454093153007,11.194204861729494,11.194040643878706,11.193990894020061,11.194056742317743,11.194206478560547,11.194417941944122],\"z\":[0.3997804079308429,0.40886966985057693,0.4178377135359716,0.426625416947413,0.43524696151167724,0.44374669260171395,0.45215272616052316],\"type\":\"scatter3d\"},{\"line\":{\"color\":\"grey\"},\"mode\":\"lines\",\"showlegend\":false,\"x\":[0.6256717750465146,1.1247585785984255,1.6240041802120455,2.123592314317478,2.6236663883035902,3.124206423570652,3.624996035407788],\"y\":[12.792289884914894,12.792025076633314,12.79185901782479,12.791820154615829,12.791881387833506,12.79203654424027,12.792248639251152],\"z\":[0.48615733812538203,0.4952373565747191,0.5041802006166938,0.5129448034428701,0.5215755783364908,0.5300874043552533,0.5385135371262515],\"type\":\"scatter3d\"},{\"line\":{\"color\":\"grey\"},\"mode\":\"lines\",\"showlegend\":false,\"x\":[0.6258372686016829,1.124878538617141,1.6240369106007018,2.123574557498775,2.6236704322960067,3.124275247703224,3.625163683282253],\"y\":[14.38999008345555,14.389717875260931,14.389552740201767,14.389517925252768,14.38958125217964,14.389731336286712,14.389952120500377],\"z\":[0.5734711030310573,0.5825128172229536,0.5914282818330514,0.6001780045320203,0.6088125886549858,0.6173471756536763,0.6257970805675817],\"type\":\"scatter3d\"},{\"line\":{\"color\":\"grey\"},\"mode\":\"lines\",\"showlegend\":false,\"x\":[0.6260080979292544,1.1250017660288254,1.624100209403329,2.123597704984597,2.6237113562147067,3.1243669535363985,3.625331433776154],\"y\":[15.987624055514882,15.987354618750501,15.987187673605456,15.98715738793984,15.987218924296565,15.98736860004365,15.987589403210206],\"z\":[0.6611004702906497,0.6700885171839005,0.6789753130827693,0.6877165177081032,0.6963530192171781,0.7049103419466002,0.7133955790082958],\"type\":\"scatter3d\"},{\"line\":{\"color\":\"blue\",\"width\":4},\"marker\":{\"color\":\"blue\",\"size\":2},\"name\":\"Beam nodes\",\"x\":[0.0,8.749952046726264e-06,3.528461585314695e-05],\"y\":[0.0,1.5999271434288513,3.199533952944273],\"z\":[0.0,0.013405419198276881,0.04818095062487436],\"type\":\"scatter3d\"},{\"line\":{\"color\":\"blue\",\"width\":4},\"marker\":{\"color\":\"blue\",\"size\":2},\"showlegend\":false,\"x\":[3.528461585314695e-05,8.62830850623873e-05,0.00016324331013687667],\"y\":[3.199533952944273,4.798696583164487,6.397391157308329],\"z\":[0.04818095062487436,0.09973402346146291,0.16420915112570017],\"type\":\"scatter3d\"},{\"line\":{\"color\":\"blue\",\"width\":4},\"marker\":{\"color\":\"blue\",\"size\":2},\"showlegend\":false,\"x\":[0.00016324331013687667,0.0002645395632280679,0.0003878975109922007],\"y\":[6.397391157308329,7.9956869541842375,9.593669269018873],\"z\":[0.16420915112570017,0.23799283840438157,0.31828662595013474],\"type\":\"scatter3d\"},{\"line\":{\"color\":\"blue\",\"width\":4},\"marker\":{\"color\":\"blue\",\"size\":2},\"showlegend\":false,\"x\":[0.0003878975109922007,0.0005297115014155809,0.0006866838336516732],\"y\":[9.593669269018873,11.191448914779185,12.789106864656565],\"z\":[0.31828662595013474,0.40253976800283464,0.4890734618752102],\"type\":\"scatter3d\"},{\"line\":{\"color\":\"blue\",\"width\":4},\"marker\":{\"color\":\"blue\",\"size\":2},\"showlegend\":false,\"x\":[0.0006866838336516732,0.0008530063617539135,0.0010241913296547402],\"y\":[12.789106864656565,14.386718350314093,15.984315112920575],\"z\":[0.4890734618752102,0.5764656394583056,0.664128135650433],\"type\":\"scatter3d\"}],                        {\"template\":{\"data\":{\"histogram2dcontour\":[{\"type\":\"histogram2dcontour\",\"colorbar\":{\"outlinewidth\":0,\"ticks\":\"\"},\"colorscale\":[[0.0,\"#0d0887\"],[0.1111111111111111,\"#46039f\"],[0.2222222222222222,\"#7201a8\"],[0.3333333333333333,\"#9c179e\"],[0.4444444444444444,\"#bd3786\"],[0.5555555555555556,\"#d8576b\"],[0.6666666666666666,\"#ed7953\"],[0.7777777777777778,\"#fb9f3a\"],[0.8888888888888888,\"#fdca26\"],[1.0,\"#f0f921\"]]}],\"choropleth\":[{\"type\":\"choropleth\",\"colorbar\":{\"outlinewidth\":0,\"ticks\":\"\"}}],\"histogram2d\":[{\"type\":\"histogram2d\",\"colorbar\":{\"outlinewidth\":0,\"ticks\":\"\"},\"colorscale\":[[0.0,\"#0d0887\"],[0.1111111111111111,\"#46039f\"],[0.2222222222222222,\"#7201a8\"],[0.3333333333333333,\"#9c179e\"],[0.4444444444444444,\"#bd3786\"],[0.5555555555555556,\"#d8576b\"],[0.6666666666666666,\"#ed7953\"],[0.7777777777777778,\"#fb9f3a\"],[0.8888888888888888,\"#fdca26\"],[1.0,\"#f0f921\"]]}],\"heatmap\":[{\"type\":\"heatmap\",\"colorbar\":{\"outlinewidth\":0,\"ticks\":\"\"},\"colorscale\":[[0.0,\"#0d0887\"],[0.1111111111111111,\"#46039f\"],[0.2222222222222222,\"#7201a8\"],[0.3333333333333333,\"#9c179e\"],[0.4444444444444444,\"#bd3786\"],[0.5555555555555556,\"#d8576b\"],[0.6666666666666666,\"#ed7953\"],[0.7777777777777778,\"#fb9f3a\"],[0.8888888888888888,\"#fdca26\"],[1.0,\"#f0f921\"]]}],\"heatmapgl\":[{\"type\":\"heatmapgl\",\"colorbar\":{\"outlinewidth\":0,\"ticks\":\"\"},\"colorscale\":[[0.0,\"#0d0887\"],[0.1111111111111111,\"#46039f\"],[0.2222222222222222,\"#7201a8\"],[0.3333333333333333,\"#9c179e\"],[0.4444444444444444,\"#bd3786\"],[0.5555555555555556,\"#d8576b\"],[0.6666666666666666,\"#ed7953\"],[0.7777777777777778,\"#fb9f3a\"],[0.8888888888888888,\"#fdca26\"],[1.0,\"#f0f921\"]]}],\"contourcarpet\":[{\"type\":\"contourcarpet\",\"colorbar\":{\"outlinewidth\":0,\"ticks\":\"\"}}],\"contour\":[{\"type\":\"contour\",\"colorbar\":{\"outlinewidth\":0,\"ticks\":\"\"},\"colorscale\":[[0.0,\"#0d0887\"],[0.1111111111111111,\"#46039f\"],[0.2222222222222222,\"#7201a8\"],[0.3333333333333333,\"#9c179e\"],[0.4444444444444444,\"#bd3786\"],[0.5555555555555556,\"#d8576b\"],[0.6666666666666666,\"#ed7953\"],[0.7777777777777778,\"#fb9f3a\"],[0.8888888888888888,\"#fdca26\"],[1.0,\"#f0f921\"]]}],\"surface\":[{\"type\":\"surface\",\"colorbar\":{\"outlinewidth\":0,\"ticks\":\"\"},\"colorscale\":[[0.0,\"#0d0887\"],[0.1111111111111111,\"#46039f\"],[0.2222222222222222,\"#7201a8\"],[0.3333333333333333,\"#9c179e\"],[0.4444444444444444,\"#bd3786\"],[0.5555555555555556,\"#d8576b\"],[0.6666666666666666,\"#ed7953\"],[0.7777777777777778,\"#fb9f3a\"],[0.8888888888888888,\"#fdca26\"],[1.0,\"#f0f921\"]]}],\"mesh3d\":[{\"type\":\"mesh3d\",\"colorbar\":{\"outlinewidth\":0,\"ticks\":\"\"}}],\"scatter\":[{\"fillpattern\":{\"fillmode\":\"overlay\",\"size\":10,\"solidity\":0.2},\"type\":\"scatter\"}],\"parcoords\":[{\"type\":\"parcoords\",\"line\":{\"colorbar\":{\"outlinewidth\":0,\"ticks\":\"\"}}}],\"scatterpolargl\":[{\"type\":\"scatterpolargl\",\"marker\":{\"colorbar\":{\"outlinewidth\":0,\"ticks\":\"\"}}}],\"bar\":[{\"error_x\":{\"color\":\"#2a3f5f\"},\"error_y\":{\"color\":\"#2a3f5f\"},\"marker\":{\"line\":{\"color\":\"#E5ECF6\",\"width\":0.5},\"pattern\":{\"fillmode\":\"overlay\",\"size\":10,\"solidity\":0.2}},\"type\":\"bar\"}],\"scattergeo\":[{\"type\":\"scattergeo\",\"marker\":{\"colorbar\":{\"outlinewidth\":0,\"ticks\":\"\"}}}],\"scatterpolar\":[{\"type\":\"scatterpolar\",\"marker\":{\"colorbar\":{\"outlinewidth\":0,\"ticks\":\"\"}}}],\"histogram\":[{\"marker\":{\"pattern\":{\"fillmode\":\"overlay\",\"size\":10,\"solidity\":0.2}},\"type\":\"histogram\"}],\"scattergl\":[{\"type\":\"scattergl\",\"marker\":{\"colorbar\":{\"outlinewidth\":0,\"ticks\":\"\"}}}],\"scatter3d\":[{\"type\":\"scatter3d\",\"line\":{\"colorbar\":{\"outlinewidth\":0,\"ticks\":\"\"}},\"marker\":{\"colorbar\":{\"outlinewidth\":0,\"ticks\":\"\"}}}],\"scattermapbox\":[{\"type\":\"scattermapbox\",\"marker\":{\"colorbar\":{\"outlinewidth\":0,\"ticks\":\"\"}}}],\"scatterternary\":[{\"type\":\"scatterternary\",\"marker\":{\"colorbar\":{\"outlinewidth\":0,\"ticks\":\"\"}}}],\"scattercarpet\":[{\"type\":\"scattercarpet\",\"marker\":{\"colorbar\":{\"outlinewidth\":0,\"ticks\":\"\"}}}],\"carpet\":[{\"aaxis\":{\"endlinecolor\":\"#2a3f5f\",\"gridcolor\":\"white\",\"linecolor\":\"white\",\"minorgridcolor\":\"white\",\"startlinecolor\":\"#2a3f5f\"},\"baxis\":{\"endlinecolor\":\"#2a3f5f\",\"gridcolor\":\"white\",\"linecolor\":\"white\",\"minorgridcolor\":\"white\",\"startlinecolor\":\"#2a3f5f\"},\"type\":\"carpet\"}],\"table\":[{\"cells\":{\"fill\":{\"color\":\"#EBF0F8\"},\"line\":{\"color\":\"white\"}},\"header\":{\"fill\":{\"color\":\"#C8D4E3\"},\"line\":{\"color\":\"white\"}},\"type\":\"table\"}],\"barpolar\":[{\"marker\":{\"line\":{\"color\":\"#E5ECF6\",\"width\":0.5},\"pattern\":{\"fillmode\":\"overlay\",\"size\":10,\"solidity\":0.2}},\"type\":\"barpolar\"}],\"pie\":[{\"automargin\":true,\"type\":\"pie\"}]},\"layout\":{\"autotypenumbers\":\"strict\",\"colorway\":[\"#636efa\",\"#EF553B\",\"#00cc96\",\"#ab63fa\",\"#FFA15A\",\"#19d3f3\",\"#FF6692\",\"#B6E880\",\"#FF97FF\",\"#FECB52\"],\"font\":{\"color\":\"#2a3f5f\"},\"hovermode\":\"closest\",\"hoverlabel\":{\"align\":\"left\"},\"paper_bgcolor\":\"white\",\"plot_bgcolor\":\"#E5ECF6\",\"polar\":{\"bgcolor\":\"#E5ECF6\",\"angularaxis\":{\"gridcolor\":\"white\",\"linecolor\":\"white\",\"ticks\":\"\"},\"radialaxis\":{\"gridcolor\":\"white\",\"linecolor\":\"white\",\"ticks\":\"\"}},\"ternary\":{\"bgcolor\":\"#E5ECF6\",\"aaxis\":{\"gridcolor\":\"white\",\"linecolor\":\"white\",\"ticks\":\"\"},\"baxis\":{\"gridcolor\":\"white\",\"linecolor\":\"white\",\"ticks\":\"\"},\"caxis\":{\"gridcolor\":\"white\",\"linecolor\":\"white\",\"ticks\":\"\"}},\"coloraxis\":{\"colorbar\":{\"outlinewidth\":0,\"ticks\":\"\"}},\"colorscale\":{\"sequential\":[[0.0,\"#0d0887\"],[0.1111111111111111,\"#46039f\"],[0.2222222222222222,\"#7201a8\"],[0.3333333333333333,\"#9c179e\"],[0.4444444444444444,\"#bd3786\"],[0.5555555555555556,\"#d8576b\"],[0.6666666666666666,\"#ed7953\"],[0.7777777777777778,\"#fb9f3a\"],[0.8888888888888888,\"#fdca26\"],[1.0,\"#f0f921\"]],\"sequentialminus\":[[0.0,\"#0d0887\"],[0.1111111111111111,\"#46039f\"],[0.2222222222222222,\"#7201a8\"],[0.3333333333333333,\"#9c179e\"],[0.4444444444444444,\"#bd3786\"],[0.5555555555555556,\"#d8576b\"],[0.6666666666666666,\"#ed7953\"],[0.7777777777777778,\"#fb9f3a\"],[0.8888888888888888,\"#fdca26\"],[1.0,\"#f0f921\"]],\"diverging\":[[0,\"#8e0152\"],[0.1,\"#c51b7d\"],[0.2,\"#de77ae\"],[0.3,\"#f1b6da\"],[0.4,\"#fde0ef\"],[0.5,\"#f7f7f7\"],[0.6,\"#e6f5d0\"],[0.7,\"#b8e186\"],[0.8,\"#7fbc41\"],[0.9,\"#4d9221\"],[1,\"#276419\"]]},\"xaxis\":{\"gridcolor\":\"white\",\"linecolor\":\"white\",\"ticks\":\"\",\"title\":{\"standoff\":15},\"zerolinecolor\":\"white\",\"automargin\":true,\"zerolinewidth\":2},\"yaxis\":{\"gridcolor\":\"white\",\"linecolor\":\"white\",\"ticks\":\"\",\"title\":{\"standoff\":15},\"zerolinecolor\":\"white\",\"automargin\":true,\"zerolinewidth\":2},\"scene\":{\"xaxis\":{\"backgroundcolor\":\"#E5ECF6\",\"gridcolor\":\"white\",\"linecolor\":\"white\",\"showbackground\":true,\"ticks\":\"\",\"zerolinecolor\":\"white\",\"gridwidth\":2},\"yaxis\":{\"backgroundcolor\":\"#E5ECF6\",\"gridcolor\":\"white\",\"linecolor\":\"white\",\"showbackground\":true,\"ticks\":\"\",\"zerolinecolor\":\"white\",\"gridwidth\":2},\"zaxis\":{\"backgroundcolor\":\"#E5ECF6\",\"gridcolor\":\"white\",\"linecolor\":\"white\",\"showbackground\":true,\"ticks\":\"\",\"zerolinecolor\":\"white\",\"gridwidth\":2}},\"shapedefaults\":{\"line\":{\"color\":\"#2a3f5f\"}},\"annotationdefaults\":{\"arrowcolor\":\"#2a3f5f\",\"arrowhead\":0,\"arrowwidth\":1},\"geo\":{\"bgcolor\":\"white\",\"landcolor\":\"#E5ECF6\",\"subunitcolor\":\"white\",\"showland\":true,\"showlakes\":true,\"lakecolor\":\"white\"},\"title\":{\"x\":0.05},\"mapbox\":{\"style\":\"light\"}}}},                        {\"responsive\": true}                    ).then(function(){\n",
       "                            \n",
       "var gd = document.getElementById('1c2093d0-c504-4e99-974c-d271e26d7256');\n",
       "var x = new MutationObserver(function (mutations, observer) {{\n",
       "        var display = window.getComputedStyle(gd).display;\n",
       "        if (!display || display === 'none') {{\n",
       "            console.log([gd, 'removed!']);\n",
       "            Plotly.purge(gd);\n",
       "            observer.disconnect();\n",
       "        }}\n",
       "}});\n",
       "\n",
       "// Listen for the removal of the full notebook cells\n",
       "var notebookContainer = gd.closest('#notebook-container');\n",
       "if (notebookContainer) {{\n",
       "    x.observe(notebookContainer, {childList: true});\n",
       "}}\n",
       "\n",
       "// Listen for the clearing of the current output cell\n",
       "var outputEl = gd.closest('.output');\n",
       "if (outputEl) {{\n",
       "    x.observe(outputEl, {childList: true});\n",
       "}}\n",
       "\n",
       "                        })                };                });            </script>        </div>"
      ]
     },
     "metadata": {},
     "output_type": "display_data"
    }
   ],
   "source": [
    "pu.plot_timestep(sharpy_output, tstep=-400, minus_mstar=(wake_panels-6), plotly=True)"
   ]
  },
  {
   "cell_type": "code",
   "execution_count": null,
   "metadata": {},
   "outputs": [
    {
     "data": {
      "image/svg+xml": "<?xml version=\"1.0\" encoding=\"utf-8\" standalone=\"no\"?>\n<!DOCTYPE svg PUBLIC \"-//W3C//DTD SVG 1.1//EN\"\n  \"http://www.w3.org/Graphics/SVG/1.1/DTD/svg11.dtd\">\n<!-- Created with matplotlib (https://matplotlib.org/) -->\n<svg height=\"207.83625pt\" version=\"1.1\" viewBox=\"0 0 385.78125 207.83625\" width=\"385.78125pt\" xmlns=\"http://www.w3.org/2000/svg\" xmlns:xlink=\"http://www.w3.org/1999/xlink\">\n <defs>\n  <style type=\"text/css\">\n*{stroke-linecap:butt;stroke-linejoin:round;}\n  </style>\n </defs>\n <g id=\"figure_1\">\n  <g id=\"patch_1\">\n   <path d=\"M 0 207.83625 \nL 385.78125 207.83625 \nL 385.78125 0 \nL 0 0 \nz\n\" style=\"fill:none;\"/>\n  </g>\n  <g id=\"axes_1\">\n   <g id=\"patch_2\">\n    <path d=\"M 43.78125 170.28 \nL 378.58125 170.28 \nL 378.58125 7.2 \nL 43.78125 7.2 \nz\n\" style=\"fill:#ffffff;\"/>\n   </g>\n   <g id=\"matplotlib.axis_1\">\n    <g id=\"xtick_1\">\n     <g id=\"line2d_1\">\n      <path clip-path=\"url(#p5892688367)\" d=\"M 58.999432 170.28 \nL 58.999432 7.2 \n\" style=\"fill:none;stroke:#b0b0b0;stroke-linecap:square;stroke-width:0.8;\"/>\n     </g>\n     <g id=\"line2d_2\">\n      <defs>\n       <path d=\"M 0 0 \nL 0 3.5 \n\" id=\"m30f93b6f11\" style=\"stroke:#000000;stroke-width:0.8;\"/>\n      </defs>\n      <g>\n       <use style=\"stroke:#000000;stroke-width:0.8;\" x=\"58.999432\" xlink:href=\"#m30f93b6f11\" y=\"170.28\"/>\n      </g>\n     </g>\n     <g id=\"text_1\">\n      <!-- 0 -->\n      <defs>\n       <path d=\"M 31.78125 66.40625 \nQ 24.171875 66.40625 20.328125 58.90625 \nQ 16.5 51.421875 16.5 36.375 \nQ 16.5 21.390625 20.328125 13.890625 \nQ 24.171875 6.390625 31.78125 6.390625 \nQ 39.453125 6.390625 43.28125 13.890625 \nQ 47.125 21.390625 47.125 36.375 \nQ 47.125 51.421875 43.28125 58.90625 \nQ 39.453125 66.40625 31.78125 66.40625 \nz\nM 31.78125 74.21875 \nQ 44.046875 74.21875 50.515625 64.515625 \nQ 56.984375 54.828125 56.984375 36.375 \nQ 56.984375 17.96875 50.515625 8.265625 \nQ 44.046875 -1.421875 31.78125 -1.421875 \nQ 19.53125 -1.421875 13.0625 8.265625 \nQ 6.59375 17.96875 6.59375 36.375 \nQ 6.59375 54.828125 13.0625 64.515625 \nQ 19.53125 74.21875 31.78125 74.21875 \nz\n\" id=\"DejaVuSans-48\"/>\n      </defs>\n      <g transform=\"translate(55.818182 184.878438)scale(0.1 -0.1)\">\n       <use xlink:href=\"#DejaVuSans-48\"/>\n      </g>\n     </g>\n    </g>\n    <g id=\"xtick_2\">\n     <g id=\"line2d_3\">\n      <path clip-path=\"url(#p5892688367)\" d=\"M 119.872159 170.28 \nL 119.872159 7.2 \n\" style=\"fill:none;stroke:#b0b0b0;stroke-linecap:square;stroke-width:0.8;\"/>\n     </g>\n     <g id=\"line2d_4\">\n      <g>\n       <use style=\"stroke:#000000;stroke-width:0.8;\" x=\"119.872159\" xlink:href=\"#m30f93b6f11\" y=\"170.28\"/>\n      </g>\n     </g>\n     <g id=\"text_2\">\n      <!-- 1 -->\n      <defs>\n       <path d=\"M 12.40625 8.296875 \nL 28.515625 8.296875 \nL 28.515625 63.921875 \nL 10.984375 60.40625 \nL 10.984375 69.390625 \nL 28.421875 72.90625 \nL 38.28125 72.90625 \nL 38.28125 8.296875 \nL 54.390625 8.296875 \nL 54.390625 0 \nL 12.40625 0 \nz\n\" id=\"DejaVuSans-49\"/>\n      </defs>\n      <g transform=\"translate(116.690909 184.878438)scale(0.1 -0.1)\">\n       <use xlink:href=\"#DejaVuSans-49\"/>\n      </g>\n     </g>\n    </g>\n    <g id=\"xtick_3\">\n     <g id=\"line2d_5\">\n      <path clip-path=\"url(#p5892688367)\" d=\"M 180.744886 170.28 \nL 180.744886 7.2 \n\" style=\"fill:none;stroke:#b0b0b0;stroke-linecap:square;stroke-width:0.8;\"/>\n     </g>\n     <g id=\"line2d_6\">\n      <g>\n       <use style=\"stroke:#000000;stroke-width:0.8;\" x=\"180.744886\" xlink:href=\"#m30f93b6f11\" y=\"170.28\"/>\n      </g>\n     </g>\n     <g id=\"text_3\">\n      <!-- 2 -->\n      <defs>\n       <path d=\"M 19.1875 8.296875 \nL 53.609375 8.296875 \nL 53.609375 0 \nL 7.328125 0 \nL 7.328125 8.296875 \nQ 12.9375 14.109375 22.625 23.890625 \nQ 32.328125 33.6875 34.8125 36.53125 \nQ 39.546875 41.84375 41.421875 45.53125 \nQ 43.3125 49.21875 43.3125 52.78125 \nQ 43.3125 58.59375 39.234375 62.25 \nQ 35.15625 65.921875 28.609375 65.921875 \nQ 23.96875 65.921875 18.8125 64.3125 \nQ 13.671875 62.703125 7.8125 59.421875 \nL 7.8125 69.390625 \nQ 13.765625 71.78125 18.9375 73 \nQ 24.125 74.21875 28.421875 74.21875 \nQ 39.75 74.21875 46.484375 68.546875 \nQ 53.21875 62.890625 53.21875 53.421875 \nQ 53.21875 48.921875 51.53125 44.890625 \nQ 49.859375 40.875 45.40625 35.40625 \nQ 44.1875 33.984375 37.640625 27.21875 \nQ 31.109375 20.453125 19.1875 8.296875 \nz\n\" id=\"DejaVuSans-50\"/>\n      </defs>\n      <g transform=\"translate(177.563636 184.878438)scale(0.1 -0.1)\">\n       <use xlink:href=\"#DejaVuSans-50\"/>\n      </g>\n     </g>\n    </g>\n    <g id=\"xtick_4\">\n     <g id=\"line2d_7\">\n      <path clip-path=\"url(#p5892688367)\" d=\"M 241.617614 170.28 \nL 241.617614 7.2 \n\" style=\"fill:none;stroke:#b0b0b0;stroke-linecap:square;stroke-width:0.8;\"/>\n     </g>\n     <g id=\"line2d_8\">\n      <g>\n       <use style=\"stroke:#000000;stroke-width:0.8;\" x=\"241.617614\" xlink:href=\"#m30f93b6f11\" y=\"170.28\"/>\n      </g>\n     </g>\n     <g id=\"text_4\">\n      <!-- 3 -->\n      <defs>\n       <path d=\"M 40.578125 39.3125 \nQ 47.65625 37.796875 51.625 33 \nQ 55.609375 28.21875 55.609375 21.1875 \nQ 55.609375 10.40625 48.1875 4.484375 \nQ 40.765625 -1.421875 27.09375 -1.421875 \nQ 22.515625 -1.421875 17.65625 -0.515625 \nQ 12.796875 0.390625 7.625 2.203125 \nL 7.625 11.71875 \nQ 11.71875 9.328125 16.59375 8.109375 \nQ 21.484375 6.890625 26.8125 6.890625 \nQ 36.078125 6.890625 40.9375 10.546875 \nQ 45.796875 14.203125 45.796875 21.1875 \nQ 45.796875 27.640625 41.28125 31.265625 \nQ 36.765625 34.90625 28.71875 34.90625 \nL 20.21875 34.90625 \nL 20.21875 43.015625 \nL 29.109375 43.015625 \nQ 36.375 43.015625 40.234375 45.921875 \nQ 44.09375 48.828125 44.09375 54.296875 \nQ 44.09375 59.90625 40.109375 62.90625 \nQ 36.140625 65.921875 28.71875 65.921875 \nQ 24.65625 65.921875 20.015625 65.03125 \nQ 15.375 64.15625 9.8125 62.3125 \nL 9.8125 71.09375 \nQ 15.4375 72.65625 20.34375 73.4375 \nQ 25.25 74.21875 29.59375 74.21875 \nQ 40.828125 74.21875 47.359375 69.109375 \nQ 53.90625 64.015625 53.90625 55.328125 \nQ 53.90625 49.265625 50.4375 45.09375 \nQ 46.96875 40.921875 40.578125 39.3125 \nz\n\" id=\"DejaVuSans-51\"/>\n      </defs>\n      <g transform=\"translate(238.436364 184.878438)scale(0.1 -0.1)\">\n       <use xlink:href=\"#DejaVuSans-51\"/>\n      </g>\n     </g>\n    </g>\n    <g id=\"xtick_5\">\n     <g id=\"line2d_9\">\n      <path clip-path=\"url(#p5892688367)\" d=\"M 302.490341 170.28 \nL 302.490341 7.2 \n\" style=\"fill:none;stroke:#b0b0b0;stroke-linecap:square;stroke-width:0.8;\"/>\n     </g>\n     <g id=\"line2d_10\">\n      <g>\n       <use style=\"stroke:#000000;stroke-width:0.8;\" x=\"302.490341\" xlink:href=\"#m30f93b6f11\" y=\"170.28\"/>\n      </g>\n     </g>\n     <g id=\"text_5\">\n      <!-- 4 -->\n      <defs>\n       <path d=\"M 37.796875 64.3125 \nL 12.890625 25.390625 \nL 37.796875 25.390625 \nz\nM 35.203125 72.90625 \nL 47.609375 72.90625 \nL 47.609375 25.390625 \nL 58.015625 25.390625 \nL 58.015625 17.1875 \nL 47.609375 17.1875 \nL 47.609375 0 \nL 37.796875 0 \nL 37.796875 17.1875 \nL 4.890625 17.1875 \nL 4.890625 26.703125 \nz\n\" id=\"DejaVuSans-52\"/>\n      </defs>\n      <g transform=\"translate(299.309091 184.878438)scale(0.1 -0.1)\">\n       <use xlink:href=\"#DejaVuSans-52\"/>\n      </g>\n     </g>\n    </g>\n    <g id=\"xtick_6\">\n     <g id=\"line2d_11\">\n      <path clip-path=\"url(#p5892688367)\" d=\"M 363.363068 170.28 \nL 363.363068 7.2 \n\" style=\"fill:none;stroke:#b0b0b0;stroke-linecap:square;stroke-width:0.8;\"/>\n     </g>\n     <g id=\"line2d_12\">\n      <g>\n       <use style=\"stroke:#000000;stroke-width:0.8;\" x=\"363.363068\" xlink:href=\"#m30f93b6f11\" y=\"170.28\"/>\n      </g>\n     </g>\n     <g id=\"text_6\">\n      <!-- 5 -->\n      <defs>\n       <path d=\"M 10.796875 72.90625 \nL 49.515625 72.90625 \nL 49.515625 64.59375 \nL 19.828125 64.59375 \nL 19.828125 46.734375 \nQ 21.96875 47.46875 24.109375 47.828125 \nQ 26.265625 48.1875 28.421875 48.1875 \nQ 40.625 48.1875 47.75 41.5 \nQ 54.890625 34.8125 54.890625 23.390625 \nQ 54.890625 11.625 47.5625 5.09375 \nQ 40.234375 -1.421875 26.90625 -1.421875 \nQ 22.3125 -1.421875 17.546875 -0.640625 \nQ 12.796875 0.140625 7.71875 1.703125 \nL 7.71875 11.625 \nQ 12.109375 9.234375 16.796875 8.0625 \nQ 21.484375 6.890625 26.703125 6.890625 \nQ 35.15625 6.890625 40.078125 11.328125 \nQ 45.015625 15.765625 45.015625 23.390625 \nQ 45.015625 31 40.078125 35.4375 \nQ 35.15625 39.890625 26.703125 39.890625 \nQ 22.75 39.890625 18.8125 39.015625 \nQ 14.890625 38.140625 10.796875 36.28125 \nz\n\" id=\"DejaVuSans-53\"/>\n      </defs>\n      <g transform=\"translate(360.181818 184.878438)scale(0.1 -0.1)\">\n       <use xlink:href=\"#DejaVuSans-53\"/>\n      </g>\n     </g>\n    </g>\n    <g id=\"text_7\">\n     <!-- time [s] -->\n     <defs>\n      <path d=\"M 18.3125 70.21875 \nL 18.3125 54.6875 \nL 36.8125 54.6875 \nL 36.8125 47.703125 \nL 18.3125 47.703125 \nL 18.3125 18.015625 \nQ 18.3125 11.328125 20.140625 9.421875 \nQ 21.96875 7.515625 27.59375 7.515625 \nL 36.8125 7.515625 \nL 36.8125 0 \nL 27.59375 0 \nQ 17.1875 0 13.234375 3.875 \nQ 9.28125 7.765625 9.28125 18.015625 \nL 9.28125 47.703125 \nL 2.6875 47.703125 \nL 2.6875 54.6875 \nL 9.28125 54.6875 \nL 9.28125 70.21875 \nz\n\" id=\"DejaVuSans-116\"/>\n      <path d=\"M 9.421875 54.6875 \nL 18.40625 54.6875 \nL 18.40625 0 \nL 9.421875 0 \nz\nM 9.421875 75.984375 \nL 18.40625 75.984375 \nL 18.40625 64.59375 \nL 9.421875 64.59375 \nz\n\" id=\"DejaVuSans-105\"/>\n      <path d=\"M 52 44.1875 \nQ 55.375 50.25 60.0625 53.125 \nQ 64.75 56 71.09375 56 \nQ 79.640625 56 84.28125 50.015625 \nQ 88.921875 44.046875 88.921875 33.015625 \nL 88.921875 0 \nL 79.890625 0 \nL 79.890625 32.71875 \nQ 79.890625 40.578125 77.09375 44.375 \nQ 74.3125 48.1875 68.609375 48.1875 \nQ 61.625 48.1875 57.5625 43.546875 \nQ 53.515625 38.921875 53.515625 30.90625 \nL 53.515625 0 \nL 44.484375 0 \nL 44.484375 32.71875 \nQ 44.484375 40.625 41.703125 44.40625 \nQ 38.921875 48.1875 33.109375 48.1875 \nQ 26.21875 48.1875 22.15625 43.53125 \nQ 18.109375 38.875 18.109375 30.90625 \nL 18.109375 0 \nL 9.078125 0 \nL 9.078125 54.6875 \nL 18.109375 54.6875 \nL 18.109375 46.1875 \nQ 21.1875 51.21875 25.484375 53.609375 \nQ 29.78125 56 35.6875 56 \nQ 41.65625 56 45.828125 52.96875 \nQ 50 49.953125 52 44.1875 \nz\n\" id=\"DejaVuSans-109\"/>\n      <path d=\"M 56.203125 29.59375 \nL 56.203125 25.203125 \nL 14.890625 25.203125 \nQ 15.484375 15.921875 20.484375 11.0625 \nQ 25.484375 6.203125 34.421875 6.203125 \nQ 39.59375 6.203125 44.453125 7.46875 \nQ 49.3125 8.734375 54.109375 11.28125 \nL 54.109375 2.78125 \nQ 49.265625 0.734375 44.1875 -0.34375 \nQ 39.109375 -1.421875 33.890625 -1.421875 \nQ 20.796875 -1.421875 13.15625 6.1875 \nQ 5.515625 13.8125 5.515625 26.8125 \nQ 5.515625 40.234375 12.765625 48.109375 \nQ 20.015625 56 32.328125 56 \nQ 43.359375 56 49.78125 48.890625 \nQ 56.203125 41.796875 56.203125 29.59375 \nz\nM 47.21875 32.234375 \nQ 47.125 39.59375 43.09375 43.984375 \nQ 39.0625 48.390625 32.421875 48.390625 \nQ 24.90625 48.390625 20.390625 44.140625 \nQ 15.875 39.890625 15.1875 32.171875 \nz\n\" id=\"DejaVuSans-101\"/>\n      <path id=\"DejaVuSans-32\"/>\n      <path d=\"M 8.59375 75.984375 \nL 29.296875 75.984375 \nL 29.296875 69 \nL 17.578125 69 \nL 17.578125 -6.203125 \nL 29.296875 -6.203125 \nL 29.296875 -13.1875 \nL 8.59375 -13.1875 \nz\n\" id=\"DejaVuSans-91\"/>\n      <path d=\"M 44.28125 53.078125 \nL 44.28125 44.578125 \nQ 40.484375 46.53125 36.375 47.5 \nQ 32.28125 48.484375 27.875 48.484375 \nQ 21.1875 48.484375 17.84375 46.4375 \nQ 14.5 44.390625 14.5 40.28125 \nQ 14.5 37.15625 16.890625 35.375 \nQ 19.28125 33.59375 26.515625 31.984375 \nL 29.59375 31.296875 \nQ 39.15625 29.25 43.1875 25.515625 \nQ 47.21875 21.78125 47.21875 15.09375 \nQ 47.21875 7.46875 41.1875 3.015625 \nQ 35.15625 -1.421875 24.609375 -1.421875 \nQ 20.21875 -1.421875 15.453125 -0.5625 \nQ 10.6875 0.296875 5.421875 2 \nL 5.421875 11.28125 \nQ 10.40625 8.6875 15.234375 7.390625 \nQ 20.0625 6.109375 24.8125 6.109375 \nQ 31.15625 6.109375 34.5625 8.28125 \nQ 37.984375 10.453125 37.984375 14.40625 \nQ 37.984375 18.0625 35.515625 20.015625 \nQ 33.0625 21.96875 24.703125 23.78125 \nL 21.578125 24.515625 \nQ 13.234375 26.265625 9.515625 29.90625 \nQ 5.8125 33.546875 5.8125 39.890625 \nQ 5.8125 47.609375 11.28125 51.796875 \nQ 16.75 56 26.8125 56 \nQ 31.78125 56 36.171875 55.265625 \nQ 40.578125 54.546875 44.28125 53.078125 \nz\n\" id=\"DejaVuSans-115\"/>\n      <path d=\"M 30.421875 75.984375 \nL 30.421875 -13.1875 \nL 9.71875 -13.1875 \nL 9.71875 -6.203125 \nL 21.390625 -6.203125 \nL 21.390625 69 \nL 9.71875 69 \nL 9.71875 75.984375 \nz\n\" id=\"DejaVuSans-93\"/>\n     </defs>\n     <g transform=\"translate(191.789844 198.556563)scale(0.1 -0.1)\">\n      <use xlink:href=\"#DejaVuSans-116\"/>\n      <use x=\"39.208984\" xlink:href=\"#DejaVuSans-105\"/>\n      <use x=\"66.992188\" xlink:href=\"#DejaVuSans-109\"/>\n      <use x=\"164.404297\" xlink:href=\"#DejaVuSans-101\"/>\n      <use x=\"225.927734\" xlink:href=\"#DejaVuSans-32\"/>\n      <use x=\"257.714844\" xlink:href=\"#DejaVuSans-91\"/>\n      <use x=\"296.728516\" xlink:href=\"#DejaVuSans-115\"/>\n      <use x=\"348.828125\" xlink:href=\"#DejaVuSans-93\"/>\n     </g>\n    </g>\n   </g>\n   <g id=\"matplotlib.axis_2\">\n    <g id=\"ytick_1\">\n     <g id=\"line2d_13\">\n      <path clip-path=\"url(#p5892688367)\" d=\"M 43.78125 136.030719 \nL 378.58125 136.030719 \n\" style=\"fill:none;stroke:#b0b0b0;stroke-linecap:square;stroke-width:0.8;\"/>\n     </g>\n     <g id=\"line2d_14\">\n      <defs>\n       <path d=\"M 0 0 \nL -3.5 0 \n\" id=\"m7fe9754afd\" style=\"stroke:#000000;stroke-width:0.8;\"/>\n      </defs>\n      <g>\n       <use style=\"stroke:#000000;stroke-width:0.8;\" x=\"43.78125\" xlink:href=\"#m7fe9754afd\" y=\"136.030719\"/>\n      </g>\n     </g>\n     <g id=\"text_8\">\n      <!-- 1.0 -->\n      <defs>\n       <path d=\"M 10.6875 12.40625 \nL 21 12.40625 \nL 21 0 \nL 10.6875 0 \nz\n\" id=\"DejaVuSans-46\"/>\n      </defs>\n      <g transform=\"translate(20.878125 139.829938)scale(0.1 -0.1)\">\n       <use xlink:href=\"#DejaVuSans-49\"/>\n       <use x=\"63.623047\" xlink:href=\"#DejaVuSans-46\"/>\n       <use x=\"95.410156\" xlink:href=\"#DejaVuSans-48\"/>\n      </g>\n     </g>\n    </g>\n    <g id=\"ytick_2\">\n     <g id=\"line2d_15\">\n      <path clip-path=\"url(#p5892688367)\" d=\"M 43.78125 96.10679 \nL 378.58125 96.10679 \n\" style=\"fill:none;stroke:#b0b0b0;stroke-linecap:square;stroke-width:0.8;\"/>\n     </g>\n     <g id=\"line2d_16\">\n      <g>\n       <use style=\"stroke:#000000;stroke-width:0.8;\" x=\"43.78125\" xlink:href=\"#m7fe9754afd\" y=\"96.10679\"/>\n      </g>\n     </g>\n     <g id=\"text_9\">\n      <!-- 1.5 -->\n      <g transform=\"translate(20.878125 99.906008)scale(0.1 -0.1)\">\n       <use xlink:href=\"#DejaVuSans-49\"/>\n       <use x=\"63.623047\" xlink:href=\"#DejaVuSans-46\"/>\n       <use x=\"95.410156\" xlink:href=\"#DejaVuSans-53\"/>\n      </g>\n     </g>\n    </g>\n    <g id=\"ytick_3\">\n     <g id=\"line2d_17\">\n      <path clip-path=\"url(#p5892688367)\" d=\"M 43.78125 56.18286 \nL 378.58125 56.18286 \n\" style=\"fill:none;stroke:#b0b0b0;stroke-linecap:square;stroke-width:0.8;\"/>\n     </g>\n     <g id=\"line2d_18\">\n      <g>\n       <use style=\"stroke:#000000;stroke-width:0.8;\" x=\"43.78125\" xlink:href=\"#m7fe9754afd\" y=\"56.18286\"/>\n      </g>\n     </g>\n     <g id=\"text_10\">\n      <!-- 2.0 -->\n      <g transform=\"translate(20.878125 59.982079)scale(0.1 -0.1)\">\n       <use xlink:href=\"#DejaVuSans-50\"/>\n       <use x=\"63.623047\" xlink:href=\"#DejaVuSans-46\"/>\n       <use x=\"95.410156\" xlink:href=\"#DejaVuSans-48\"/>\n      </g>\n     </g>\n    </g>\n    <g id=\"ytick_4\">\n     <g id=\"line2d_19\">\n      <path clip-path=\"url(#p5892688367)\" d=\"M 43.78125 16.25893 \nL 378.58125 16.25893 \n\" style=\"fill:none;stroke:#b0b0b0;stroke-linecap:square;stroke-width:0.8;\"/>\n     </g>\n     <g id=\"line2d_20\">\n      <g>\n       <use style=\"stroke:#000000;stroke-width:0.8;\" x=\"43.78125\" xlink:href=\"#m7fe9754afd\" y=\"16.25893\"/>\n      </g>\n     </g>\n     <g id=\"text_11\">\n      <!-- 2.5 -->\n      <g transform=\"translate(20.878125 20.058149)scale(0.1 -0.1)\">\n       <use xlink:href=\"#DejaVuSans-50\"/>\n       <use x=\"63.623047\" xlink:href=\"#DejaVuSans-46\"/>\n       <use x=\"95.410156\" xlink:href=\"#DejaVuSans-53\"/>\n      </g>\n     </g>\n    </g>\n    <g id=\"text_12\">\n     <!-- tip position [m] -->\n     <defs>\n      <path d=\"M 18.109375 8.203125 \nL 18.109375 -20.796875 \nL 9.078125 -20.796875 \nL 9.078125 54.6875 \nL 18.109375 54.6875 \nL 18.109375 46.390625 \nQ 20.953125 51.265625 25.265625 53.625 \nQ 29.59375 56 35.59375 56 \nQ 45.5625 56 51.78125 48.09375 \nQ 58.015625 40.1875 58.015625 27.296875 \nQ 58.015625 14.40625 51.78125 6.484375 \nQ 45.5625 -1.421875 35.59375 -1.421875 \nQ 29.59375 -1.421875 25.265625 0.953125 \nQ 20.953125 3.328125 18.109375 8.203125 \nz\nM 48.6875 27.296875 \nQ 48.6875 37.203125 44.609375 42.84375 \nQ 40.53125 48.484375 33.40625 48.484375 \nQ 26.265625 48.484375 22.1875 42.84375 \nQ 18.109375 37.203125 18.109375 27.296875 \nQ 18.109375 17.390625 22.1875 11.75 \nQ 26.265625 6.109375 33.40625 6.109375 \nQ 40.53125 6.109375 44.609375 11.75 \nQ 48.6875 17.390625 48.6875 27.296875 \nz\n\" id=\"DejaVuSans-112\"/>\n      <path d=\"M 30.609375 48.390625 \nQ 23.390625 48.390625 19.1875 42.75 \nQ 14.984375 37.109375 14.984375 27.296875 \nQ 14.984375 17.484375 19.15625 11.84375 \nQ 23.34375 6.203125 30.609375 6.203125 \nQ 37.796875 6.203125 41.984375 11.859375 \nQ 46.1875 17.53125 46.1875 27.296875 \nQ 46.1875 37.015625 41.984375 42.703125 \nQ 37.796875 48.390625 30.609375 48.390625 \nz\nM 30.609375 56 \nQ 42.328125 56 49.015625 48.375 \nQ 55.71875 40.765625 55.71875 27.296875 \nQ 55.71875 13.875 49.015625 6.21875 \nQ 42.328125 -1.421875 30.609375 -1.421875 \nQ 18.84375 -1.421875 12.171875 6.21875 \nQ 5.515625 13.875 5.515625 27.296875 \nQ 5.515625 40.765625 12.171875 48.375 \nQ 18.84375 56 30.609375 56 \nz\n\" id=\"DejaVuSans-111\"/>\n      <path d=\"M 54.890625 33.015625 \nL 54.890625 0 \nL 45.90625 0 \nL 45.90625 32.71875 \nQ 45.90625 40.484375 42.875 44.328125 \nQ 39.84375 48.1875 33.796875 48.1875 \nQ 26.515625 48.1875 22.3125 43.546875 \nQ 18.109375 38.921875 18.109375 30.90625 \nL 18.109375 0 \nL 9.078125 0 \nL 9.078125 54.6875 \nL 18.109375 54.6875 \nL 18.109375 46.1875 \nQ 21.34375 51.125 25.703125 53.5625 \nQ 30.078125 56 35.796875 56 \nQ 45.21875 56 50.046875 50.171875 \nQ 54.890625 44.34375 54.890625 33.015625 \nz\n\" id=\"DejaVuSans-110\"/>\n     </defs>\n     <g transform=\"translate(14.798438 127.018125)rotate(-90)scale(0.1 -0.1)\">\n      <use xlink:href=\"#DejaVuSans-116\"/>\n      <use x=\"39.208984\" xlink:href=\"#DejaVuSans-105\"/>\n      <use x=\"66.992188\" xlink:href=\"#DejaVuSans-112\"/>\n      <use x=\"130.46875\" xlink:href=\"#DejaVuSans-32\"/>\n      <use x=\"162.255859\" xlink:href=\"#DejaVuSans-112\"/>\n      <use x=\"225.732422\" xlink:href=\"#DejaVuSans-111\"/>\n      <use x=\"286.914062\" xlink:href=\"#DejaVuSans-115\"/>\n      <use x=\"339.013672\" xlink:href=\"#DejaVuSans-105\"/>\n      <use x=\"366.796875\" xlink:href=\"#DejaVuSans-116\"/>\n      <use x=\"406.005859\" xlink:href=\"#DejaVuSans-105\"/>\n      <use x=\"433.789062\" xlink:href=\"#DejaVuSans-111\"/>\n      <use x=\"494.970703\" xlink:href=\"#DejaVuSans-110\"/>\n      <use x=\"558.349609\" xlink:href=\"#DejaVuSans-32\"/>\n      <use x=\"590.136719\" xlink:href=\"#DejaVuSans-91\"/>\n      <use x=\"629.150391\" xlink:href=\"#DejaVuSans-109\"/>\n      <use x=\"726.5625\" xlink:href=\"#DejaVuSans-93\"/>\n     </g>\n    </g>\n   </g>\n   <g id=\"line2d_21\">\n    <path clip-path=\"url(#p5892688367)\" d=\"M 58.999432 14.612727 \nL 59.33799 14.652613 \nL 59.676548 14.820966 \nL 60.015106 15.187262 \nL 60.353664 15.774734 \nL 61.03078 17.700057 \nL 61.707896 21.104491 \nL 62.385012 25.991496 \nL 63.739244 38.28187 \nL 65.093476 50.34587 \nL 66.786266 62.912511 \nL 69.49473 81.337395 \nL 70.848962 88.717838 \nL 73.557426 101.20697 \nL 75.250216 108.180309 \nL 77.281563 115.021593 \nL 79.651469 122.31664 \nL 81.005701 125.845117 \nL 83.375607 131.28996 \nL 85.068397 134.78734 \nL 86.422629 137.172418 \nL 89.131093 141.500344 \nL 90.485325 143.3602 \nL 93.193789 146.597203 \nL 94.886579 148.35078 \nL 97.595043 150.762062 \nL 99.964949 152.539914 \nL 102.673413 154.248309 \nL 106.058993 155.99329 \nL 109.106015 157.25449 \nL 112.491595 158.375171 \nL 115.200059 159.119031 \nL 119.601313 160.062197 \nL 125.356799 160.943371 \nL 130.435168 161.492141 \nL 136.86777 161.952962 \nL 147.363068 162.405794 \nL 164.629526 162.706837 \nL 178.848962 162.788548 \nL 203.225137 162.837149 \nL 256.378742 162.858707 \nL 275.676548 162.863864 \nL 314.610717 162.861106 \nL 333.231407 162.861018 \nL 347.112284 162.8661 \nL 363.363068 162.867273 \nL 363.363068 162.867273 \n\" style=\"fill:none;stroke:#1f77b4;stroke-linecap:square;stroke-width:1.5;\"/>\n   </g>\n   <g id=\"patch_3\">\n    <path d=\"M 43.78125 170.28 \nL 43.78125 7.2 \n\" style=\"fill:none;stroke:#000000;stroke-linecap:square;stroke-linejoin:miter;stroke-width:0.8;\"/>\n   </g>\n   <g id=\"patch_4\">\n    <path d=\"M 378.58125 170.28 \nL 378.58125 7.2 \n\" style=\"fill:none;stroke:#000000;stroke-linecap:square;stroke-linejoin:miter;stroke-width:0.8;\"/>\n   </g>\n   <g id=\"patch_5\">\n    <path d=\"M 43.78125 170.28 \nL 378.58125 170.28 \n\" style=\"fill:none;stroke:#000000;stroke-linecap:square;stroke-linejoin:miter;stroke-width:0.8;\"/>\n   </g>\n   <g id=\"patch_6\">\n    <path d=\"M 43.78125 7.2 \nL 378.58125 7.2 \n\" style=\"fill:none;stroke:#000000;stroke-linecap:square;stroke-linejoin:miter;stroke-width:0.8;\"/>\n   </g>\n  </g>\n </g>\n <defs>\n  <clipPath id=\"p5892688367\">\n   <rect height=\"163.08\" width=\"334.8\" x=\"43.78125\" y=\"7.2\"/>\n  </clipPath>\n </defs>\n</svg>\n",
      "text/plain": [
       "<Figure size 432x216 with 1 Axes>"
      ]
     },
     "metadata": {
      "needs_background": "light"
     },
     "output_type": "display_data"
    }
   ],
   "source": [
    "time = np.linspace(0, dt*time_steps, time_steps)\n",
    "tip_pos = np.zeros((time_steps))\n",
    "for it in range(time_steps):\n",
    "    tip_pos[it] = sharpy_output.structure.timestep_info[it].pos[-1, 2]\n",
    "\n",
    "fig, plots = plt.subplots(1, 1, figsize=(6, 3))\n",
    "\n",
    "plots.grid()\n",
    "plots.set_xlabel(\"time [s]\")\n",
    "plots.set_ylabel(\"tip position [m]\")\n",
    "plots.plot(time, tip_pos, '-')\n",
    "\n",
    "plt.show()\n",
    "\n"
   ]
  },
  {
   "cell_type": "code",
   "execution_count": null,
   "metadata": {},
   "outputs": [
    {
     "name": "stdout",
     "output_type": "stream",
     "text": [
      "[<sharpy.utils.datastructures.StructTimeStepInfo object at 0x7fdb6b728650>, <sharpy.utils.datastructures.StructTimeStepInfo object at 0x7fdb6b72ef90>, <sharpy.utils.datastructures.StructTimeStepInfo object at 0x7fdb683f8350>, <sharpy.utils.datastructures.StructTimeStepInfo object at 0x7fdb683c3d10>, <sharpy.utils.datastructures.StructTimeStepInfo object at 0x7fdb68421650>, <sharpy.utils.datastructures.StructTimeStepInfo object at 0x7fdb68524d50>, <sharpy.utils.datastructures.StructTimeStepInfo object at 0x7fdb683e6dd0>, <sharpy.utils.datastructures.StructTimeStepInfo object at 0x7fdb683b9a10>, <sharpy.utils.datastructures.StructTimeStepInfo object at 0x7fdb6840dc10>, <sharpy.utils.datastructures.StructTimeStepInfo object at 0x7fdb68519e50>, <sharpy.utils.datastructures.StructTimeStepInfo object at 0x7fdb6857a150>, <sharpy.utils.datastructures.StructTimeStepInfo object at 0x7fdb6840d050>, <sharpy.utils.datastructures.StructTimeStepInfo object at 0x7fdb68453d50>, <sharpy.utils.datastructures.StructTimeStepInfo object at 0x7fdb6b725450>, <sharpy.utils.datastructures.StructTimeStepInfo object at 0x7fdb68339b50>, <sharpy.utils.datastructures.StructTimeStepInfo object at 0x7fdb683e6ed0>, <sharpy.utils.datastructures.StructTimeStepInfo object at 0x7fdb68495750>, <sharpy.utils.datastructures.StructTimeStepInfo object at 0x7fdb68594bd0>, <sharpy.utils.datastructures.StructTimeStepInfo object at 0x7fdb683f8910>, <sharpy.utils.datastructures.StructTimeStepInfo object at 0x7fdb6b725ad0>, <sharpy.utils.datastructures.StructTimeStepInfo object at 0x7fdb6835ea10>, <sharpy.utils.datastructures.StructTimeStepInfo object at 0x7fdb683e6050>, <sharpy.utils.datastructures.StructTimeStepInfo object at 0x7fdb68421890>, <sharpy.utils.datastructures.StructTimeStepInfo object at 0x7fdb683b9990>, <sharpy.utils.datastructures.StructTimeStepInfo object at 0x7fdb6840dd50>, <sharpy.utils.datastructures.StructTimeStepInfo object at 0x7fdb68418bd0>, <sharpy.utils.datastructures.StructTimeStepInfo object at 0x7fdb683c3210>, <sharpy.utils.datastructures.StructTimeStepInfo object at 0x7fdb684a0390>, <sharpy.utils.datastructures.StructTimeStepInfo object at 0x7fdb68421e10>, <sharpy.utils.datastructures.StructTimeStepInfo object at 0x7fdb684e6ed0>, <sharpy.utils.datastructures.StructTimeStepInfo object at 0x7fdb68495350>, <sharpy.utils.datastructures.StructTimeStepInfo object at 0x7fdb683e6fd0>, <sharpy.utils.datastructures.StructTimeStepInfo object at 0x7fdb684f8f90>, <sharpy.utils.datastructures.StructTimeStepInfo object at 0x7fdb6835e990>, <sharpy.utils.datastructures.StructTimeStepInfo object at 0x7fdb685a1c10>, <sharpy.utils.datastructures.StructTimeStepInfo object at 0x7fdb68519050>, <sharpy.utils.datastructures.StructTimeStepInfo object at 0x7fdb7e0ffa50>, <sharpy.utils.datastructures.StructTimeStepInfo object at 0x7fdb683c3310>, <sharpy.utils.datastructures.StructTimeStepInfo object at 0x7fdb684212d0>, <sharpy.utils.datastructures.StructTimeStepInfo object at 0x7fdb6835e9d0>, <sharpy.utils.datastructures.StructTimeStepInfo object at 0x7fdb6b6925d0>, <sharpy.utils.datastructures.StructTimeStepInfo object at 0x7fdb68461610>, <sharpy.utils.datastructures.StructTimeStepInfo object at 0x7fdb6b728c90>, <sharpy.utils.datastructures.StructTimeStepInfo object at 0x7fdb6835efd0>, <sharpy.utils.datastructures.StructTimeStepInfo object at 0x7fdb68421690>, <sharpy.utils.datastructures.StructTimeStepInfo object at 0x7fdb684218d0>, <sharpy.utils.datastructures.StructTimeStepInfo object at 0x7fdb683f8d50>, <sharpy.utils.datastructures.StructTimeStepInfo object at 0x7fdb685a1810>, <sharpy.utils.datastructures.StructTimeStepInfo object at 0x7fdb69dc2f90>, <sharpy.utils.datastructures.StructTimeStepInfo object at 0x7fdb68421e50>, <sharpy.utils.datastructures.StructTimeStepInfo object at 0x7fdb683f8050>, <sharpy.utils.datastructures.StructTimeStepInfo object at 0x7fdb6843e090>, <sharpy.utils.datastructures.StructTimeStepInfo object at 0x7fdb68453d10>, <sharpy.utils.datastructures.StructTimeStepInfo object at 0x7fdb68421810>, <sharpy.utils.datastructures.StructTimeStepInfo object at 0x7fdb6b725d50>, <sharpy.utils.datastructures.StructTimeStepInfo object at 0x7fdb68418b10>, <sharpy.utils.datastructures.StructTimeStepInfo object at 0x7fdb6835e810>, <sharpy.utils.datastructures.StructTimeStepInfo object at 0x7fdb68421850>, <sharpy.utils.datastructures.StructTimeStepInfo object at 0x7fdb683f8cd0>, <sharpy.utils.datastructures.StructTimeStepInfo object at 0x7fdb68524e10>, <sharpy.utils.datastructures.StructTimeStepInfo object at 0x7fdb68418390>, <sharpy.utils.datastructures.StructTimeStepInfo object at 0x7fdb683e6790>, <sharpy.utils.datastructures.StructTimeStepInfo object at 0x7fdb68434f10>, <sharpy.utils.datastructures.StructTimeStepInfo object at 0x7fdb684e6e90>, <sharpy.utils.datastructures.StructTimeStepInfo object at 0x7fdb6b729450>, <sharpy.utils.datastructures.StructTimeStepInfo object at 0x7fdb683f8dd0>, <sharpy.utils.datastructures.StructTimeStepInfo object at 0x7fdb6b729910>, <sharpy.utils.datastructures.StructTimeStepInfo object at 0x7fdb683f8ad0>, <sharpy.utils.datastructures.StructTimeStepInfo object at 0x7fdb68421ed0>, <sharpy.utils.datastructures.StructTimeStepInfo object at 0x7fdb683661d0>, <sharpy.utils.datastructures.StructTimeStepInfo object at 0x7fdb68418510>, <sharpy.utils.datastructures.StructTimeStepInfo object at 0x7fdb68421410>, <sharpy.utils.datastructures.StructTimeStepInfo object at 0x7fdb68421450>, <sharpy.utils.datastructures.StructTimeStepInfo object at 0x7fdb68447090>, <sharpy.utils.datastructures.StructTimeStepInfo object at 0x7fdb683e6f50>, <sharpy.utils.datastructures.StructTimeStepInfo object at 0x7fdb6b729510>, <sharpy.utils.datastructures.StructTimeStepInfo object at 0x7fdb6b6a81d0>, <sharpy.utils.datastructures.StructTimeStepInfo object at 0x7fdb68453c50>, <sharpy.utils.datastructures.StructTimeStepInfo object at 0x7fdb683f8b10>, <sharpy.utils.datastructures.StructTimeStepInfo object at 0x7fdb683f8a50>, <sharpy.utils.datastructures.StructTimeStepInfo object at 0x7fdb68421910>, <sharpy.utils.datastructures.StructTimeStepInfo object at 0x7fdb683f8750>, <sharpy.utils.datastructures.StructTimeStepInfo object at 0x7fdb683f83d0>, <sharpy.utils.datastructures.StructTimeStepInfo object at 0x7fdb683b9890>, <sharpy.utils.datastructures.StructTimeStepInfo object at 0x7fdb6835e790>, <sharpy.utils.datastructures.StructTimeStepInfo object at 0x7fdb68366f90>, <sharpy.utils.datastructures.StructTimeStepInfo object at 0x7fdb68421550>, <sharpy.utils.datastructures.StructTimeStepInfo object at 0x7fdb68352fd0>, <sharpy.utils.datastructures.StructTimeStepInfo object at 0x7fdb683f8790>, <sharpy.utils.datastructures.StructTimeStepInfo object at 0x7fdb68418590>, <sharpy.utils.datastructures.StructTimeStepInfo object at 0x7fdb683f8510>, <sharpy.utils.datastructures.StructTimeStepInfo object at 0x7fdb68352450>, <sharpy.utils.datastructures.StructTimeStepInfo object at 0x7fdb68421290>, <sharpy.utils.datastructures.StructTimeStepInfo object at 0x7fdb683e6f90>, <sharpy.utils.datastructures.StructTimeStepInfo object at 0x7fdb68421350>, <sharpy.utils.datastructures.StructTimeStepInfo object at 0x7fdb683f8610>, <sharpy.utils.datastructures.StructTimeStepInfo object at 0x7fdb68418d10>, <sharpy.utils.datastructures.StructTimeStepInfo object at 0x7fdb68418c10>, <sharpy.utils.datastructures.StructTimeStepInfo object at 0x7fdb683f8c10>, <sharpy.utils.datastructures.StructTimeStepInfo object at 0x7fdb683f8a10>, <sharpy.utils.datastructures.StructTimeStepInfo object at 0x7fdb683f8450>, <sharpy.utils.datastructures.StructTimeStepInfo object at 0x7fdb68418d50>, <sharpy.utils.datastructures.StructTimeStepInfo object at 0x7fdb68421790>, <sharpy.utils.datastructures.StructTimeStepInfo object at 0x7fdb68352b10>, <sharpy.utils.datastructures.StructTimeStepInfo object at 0x7fdb684219d0>, <sharpy.utils.datastructures.StructTimeStepInfo object at 0x7fdb68366f50>, <sharpy.utils.datastructures.StructTimeStepInfo object at 0x7fdb6b729190>, <sharpy.utils.datastructures.StructTimeStepInfo object at 0x7fdb683f84d0>, <sharpy.utils.datastructures.StructTimeStepInfo object at 0x7fdb68352e50>, <sharpy.utils.datastructures.StructTimeStepInfo object at 0x7fdb68366e50>, <sharpy.utils.datastructures.StructTimeStepInfo object at 0x7fdb6b729610>, <sharpy.utils.datastructures.StructTimeStepInfo object at 0x7fdb6b7296d0>, <sharpy.utils.datastructures.StructTimeStepInfo object at 0x7fdb683663d0>, <sharpy.utils.datastructures.StructTimeStepInfo object at 0x7fdb684225d0>, <sharpy.utils.datastructures.StructTimeStepInfo object at 0x7fdb68366390>, <sharpy.utils.datastructures.StructTimeStepInfo object at 0x7fdb6b7295d0>, <sharpy.utils.datastructures.StructTimeStepInfo object at 0x7fdb68366250>, <sharpy.utils.datastructures.StructTimeStepInfo object at 0x7fdb68352290>, <sharpy.utils.datastructures.StructTimeStepInfo object at 0x7fdb683f88d0>, <sharpy.utils.datastructures.StructTimeStepInfo object at 0x7fdb68422110>, <sharpy.utils.datastructures.StructTimeStepInfo object at 0x7fdb684227d0>, <sharpy.utils.datastructures.StructTimeStepInfo object at 0x7fdb68352a10>, <sharpy.utils.datastructures.StructTimeStepInfo object at 0x7fdb68422c90>, <sharpy.utils.datastructures.StructTimeStepInfo object at 0x7fdb684183d0>, <sharpy.utils.datastructures.StructTimeStepInfo object at 0x7fdb683b9a50>, <sharpy.utils.datastructures.StructTimeStepInfo object at 0x7fdb68422b90>, <sharpy.utils.datastructures.StructTimeStepInfo object at 0x7fdb683f8410>, <sharpy.utils.datastructures.StructTimeStepInfo object at 0x7fdb68422790>, <sharpy.utils.datastructures.StructTimeStepInfo object at 0x7fdb68421b10>, <sharpy.utils.datastructures.StructTimeStepInfo object at 0x7fdb68422b10>, <sharpy.utils.datastructures.StructTimeStepInfo object at 0x7fdb68422410>, <sharpy.utils.datastructures.StructTimeStepInfo object at 0x7fdb68421510>, <sharpy.utils.datastructures.StructTimeStepInfo object at 0x7fdb68352c90>, <sharpy.utils.datastructures.StructTimeStepInfo object at 0x7fdb68366d50>, <sharpy.utils.datastructures.StructTimeStepInfo object at 0x7fdb68366fd0>, <sharpy.utils.datastructures.StructTimeStepInfo object at 0x7fdb68421090>, <sharpy.utils.datastructures.StructTimeStepInfo object at 0x7fdb683667d0>, <sharpy.utils.datastructures.StructTimeStepInfo object at 0x7fdb68366290>, <sharpy.utils.datastructures.StructTimeStepInfo object at 0x7fdb68421d10>, <sharpy.utils.datastructures.StructTimeStepInfo object at 0x7fdb68422c10>, <sharpy.utils.datastructures.StructTimeStepInfo object at 0x7fdb683660d0>, <sharpy.utils.datastructures.StructTimeStepInfo object at 0x7fdb683f8190>, <sharpy.utils.datastructures.StructTimeStepInfo object at 0x7fdb68422fd0>, <sharpy.utils.datastructures.StructTimeStepInfo object at 0x7fdb68421a50>, <sharpy.utils.datastructures.StructTimeStepInfo object at 0x7fdb68421dd0>, <sharpy.utils.datastructures.StructTimeStepInfo object at 0x7fdb68422810>, <sharpy.utils.datastructures.StructTimeStepInfo object at 0x7fdb684210d0>, <sharpy.utils.datastructures.StructTimeStepInfo object at 0x7fdb68422510>, <sharpy.utils.datastructures.StructTimeStepInfo object at 0x7fdb68422a50>, <sharpy.utils.datastructures.StructTimeStepInfo object at 0x7fdb683f8f90>, <sharpy.utils.datastructures.StructTimeStepInfo object at 0x7fdb683527d0>, <sharpy.utils.datastructures.StructTimeStepInfo object at 0x7fdb68422590>, <sharpy.utils.datastructures.StructTimeStepInfo object at 0x7fdb683f8810>, <sharpy.utils.datastructures.StructTimeStepInfo object at 0x7fdb683526d0>, <sharpy.utils.datastructures.StructTimeStepInfo object at 0x7fdb68352810>, <sharpy.utils.datastructures.StructTimeStepInfo object at 0x7fdb684221d0>, <sharpy.utils.datastructures.StructTimeStepInfo object at 0x7fdb68352910>, <sharpy.utils.datastructures.StructTimeStepInfo object at 0x7fdb683f82d0>, <sharpy.utils.datastructures.StructTimeStepInfo object at 0x7fdb68352590>, <sharpy.utils.datastructures.StructTimeStepInfo object at 0x7fdb68421110>, <sharpy.utils.datastructures.StructTimeStepInfo object at 0x7fdb68360710>, <sharpy.utils.datastructures.StructTimeStepInfo object at 0x7fdb68352e90>, <sharpy.utils.datastructures.StructTimeStepInfo object at 0x7fdb683f81d0>, <sharpy.utils.datastructures.StructTimeStepInfo object at 0x7fdb68421fd0>, <sharpy.utils.datastructures.StructTimeStepInfo object at 0x7fdb68422b50>, <sharpy.utils.datastructures.StructTimeStepInfo object at 0x7fdb68352950>, <sharpy.utils.datastructures.StructTimeStepInfo object at 0x7fdb68421050>, <sharpy.utils.datastructures.StructTimeStepInfo object at 0x7fdb683f8110>, <sharpy.utils.datastructures.StructTimeStepInfo object at 0x7fdb68421c50>, <sharpy.utils.datastructures.StructTimeStepInfo object at 0x7fdb68366650>, <sharpy.utils.datastructures.StructTimeStepInfo object at 0x7fdb68352210>, <sharpy.utils.datastructures.StructTimeStepInfo object at 0x7fdb68352050>, <sharpy.utils.datastructures.StructTimeStepInfo object at 0x7fdb684213d0>, <sharpy.utils.datastructures.StructTimeStepInfo object at 0x7fdb68360390>, <sharpy.utils.datastructures.StructTimeStepInfo object at 0x7fdb68422210>, <sharpy.utils.datastructures.StructTimeStepInfo object at 0x7fdb68352cd0>, <sharpy.utils.datastructures.StructTimeStepInfo object at 0x7fdb68366a10>, <sharpy.utils.datastructures.StructTimeStepInfo object at 0x7fdb68422550>, <sharpy.utils.datastructures.StructTimeStepInfo object at 0x7fdb6835db50>, <sharpy.utils.datastructures.StructTimeStepInfo object at 0x7fdb6835db10>, <sharpy.utils.datastructures.StructTimeStepInfo object at 0x7fdb68421590>, <sharpy.utils.datastructures.StructTimeStepInfo object at 0x7fdb6b7294d0>, <sharpy.utils.datastructures.StructTimeStepInfo object at 0x7fdb68421e90>, <sharpy.utils.datastructures.StructTimeStepInfo object at 0x7fdb684226d0>, <sharpy.utils.datastructures.StructTimeStepInfo object at 0x7fdb68352510>, <sharpy.utils.datastructures.StructTimeStepInfo object at 0x7fdb68422150>, <sharpy.utils.datastructures.StructTimeStepInfo object at 0x7fdb683528d0>, <sharpy.utils.datastructures.StructTimeStepInfo object at 0x7fdb68366ad0>, <sharpy.utils.datastructures.StructTimeStepInfo object at 0x7fdb683529d0>, <sharpy.utils.datastructures.StructTimeStepInfo object at 0x7fdb68421f90>, <sharpy.utils.datastructures.StructTimeStepInfo object at 0x7fdb68422bd0>, <sharpy.utils.datastructures.StructTimeStepInfo object at 0x7fdb68366090>, <sharpy.utils.datastructures.StructTimeStepInfo object at 0x7fdb68421a90>, <sharpy.utils.datastructures.StructTimeStepInfo object at 0x7fdb6835dcd0>, <sharpy.utils.datastructures.StructTimeStepInfo object at 0x7fdb68422390>, <sharpy.utils.datastructures.StructTimeStepInfo object at 0x7fdb683f89d0>, <sharpy.utils.datastructures.StructTimeStepInfo object at 0x7fdb683f8c90>, <sharpy.utils.datastructures.StructTimeStepInfo object at 0x7fdb68352f10>, <sharpy.utils.datastructures.StructTimeStepInfo object at 0x7fdb6835dc10>, <sharpy.utils.datastructures.StructTimeStepInfo object at 0x7fdb68422190>, <sharpy.utils.datastructures.StructTimeStepInfo object at 0x7fdb68352610>, <sharpy.utils.datastructures.StructTimeStepInfo object at 0x7fdb68352f50>, <sharpy.utils.datastructures.StructTimeStepInfo object at 0x7fdb683520d0>, <sharpy.utils.datastructures.StructTimeStepInfo object at 0x7fdb68352ed0>, <sharpy.utils.datastructures.StructTimeStepInfo object at 0x7fdb68360d10>, <sharpy.utils.datastructures.StructTimeStepInfo object at 0x7fdb6835d390>, <sharpy.utils.datastructures.StructTimeStepInfo object at 0x7fdb6835dfd0>, <sharpy.utils.datastructures.StructTimeStepInfo object at 0x7fdb6835da10>, <sharpy.utils.datastructures.StructTimeStepInfo object at 0x7fdb683669d0>, <sharpy.utils.datastructures.StructTimeStepInfo object at 0x7fdb68422710>, <sharpy.utils.datastructures.StructTimeStepInfo object at 0x7fdb68360290>, <sharpy.utils.datastructures.StructTimeStepInfo object at 0x7fdb683f8850>, <sharpy.utils.datastructures.StructTimeStepInfo object at 0x7fdb683609d0>, <sharpy.utils.datastructures.StructTimeStepInfo object at 0x7fdb683f8f10>, <sharpy.utils.datastructures.StructTimeStepInfo object at 0x7fdb68360310>, <sharpy.utils.datastructures.StructTimeStepInfo object at 0x7fdb68421210>, <sharpy.utils.datastructures.StructTimeStepInfo object at 0x7fdb68421c10>, <sharpy.utils.datastructures.StructTimeStepInfo object at 0x7fdb68352f90>, <sharpy.utils.datastructures.StructTimeStepInfo object at 0x7fdb68366a50>, <sharpy.utils.datastructures.StructTimeStepInfo object at 0x7fdb6835d8d0>, <sharpy.utils.datastructures.StructTimeStepInfo object at 0x7fdb6835dad0>, <sharpy.utils.datastructures.StructTimeStepInfo object at 0x7fdb68366510>, <sharpy.utils.datastructures.StructTimeStepInfo object at 0x7fdb68364a10>, <sharpy.utils.datastructures.StructTimeStepInfo object at 0x7fdb68422f50>, <sharpy.utils.datastructures.StructTimeStepInfo object at 0x7fdb68366bd0>, <sharpy.utils.datastructures.StructTimeStepInfo object at 0x7fdb68360750>, <sharpy.utils.datastructures.StructTimeStepInfo object at 0x7fdb68364d90>, <sharpy.utils.datastructures.StructTimeStepInfo object at 0x7fdb68366750>, <sharpy.utils.datastructures.StructTimeStepInfo object at 0x7fdb68364890>, <sharpy.utils.datastructures.StructTimeStepInfo object at 0x7fdb68364090>, <sharpy.utils.datastructures.StructTimeStepInfo object at 0x7fdb6835d450>, <sharpy.utils.datastructures.StructTimeStepInfo object at 0x7fdb6835dd10>, <sharpy.utils.datastructures.StructTimeStepInfo object at 0x7fdb68366950>, <sharpy.utils.datastructures.StructTimeStepInfo object at 0x7fdb6835d6d0>, <sharpy.utils.datastructures.StructTimeStepInfo object at 0x7fdb68366410>, <sharpy.utils.datastructures.StructTimeStepInfo object at 0x7fdb6835d0d0>, <sharpy.utils.datastructures.StructTimeStepInfo object at 0x7fdb68422090>, <sharpy.utils.datastructures.StructTimeStepInfo object at 0x7fdb683601d0>, <sharpy.utils.datastructures.StructTimeStepInfo object at 0x7fdb68364a90>, <sharpy.utils.datastructures.StructTimeStepInfo object at 0x7fdb6835d3d0>, <sharpy.utils.datastructures.StructTimeStepInfo object at 0x7fdb68366e10>, <sharpy.utils.datastructures.StructTimeStepInfo object at 0x7fdb68366890>, <sharpy.utils.datastructures.StructTimeStepInfo object at 0x7fdb68364350>, <sharpy.utils.datastructures.StructTimeStepInfo object at 0x7fdb6835de90>, <sharpy.utils.datastructures.StructTimeStepInfo object at 0x7fdb68421a10>, <sharpy.utils.datastructures.StructTimeStepInfo object at 0x7fdb6835ddd0>, <sharpy.utils.datastructures.StructTimeStepInfo object at 0x7fdb6835d7d0>, <sharpy.utils.datastructures.StructTimeStepInfo object at 0x7fdb68422690>, <sharpy.utils.datastructures.StructTimeStepInfo object at 0x7fdb68364ad0>, <sharpy.utils.datastructures.StructTimeStepInfo object at 0x7fdb68360610>, <sharpy.utils.datastructures.StructTimeStepInfo object at 0x7fdb68422750>, <sharpy.utils.datastructures.StructTimeStepInfo object at 0x7fdb68360890>, <sharpy.utils.datastructures.StructTimeStepInfo object at 0x7fdb68422d10>, <sharpy.utils.datastructures.StructTimeStepInfo object at 0x7fdb683605d0>, <sharpy.utils.datastructures.StructTimeStepInfo object at 0x7fdb454e8110>, <sharpy.utils.datastructures.StructTimeStepInfo object at 0x7fdb68364990>, <sharpy.utils.datastructures.StructTimeStepInfo object at 0x7fdb68360150>, <sharpy.utils.datastructures.StructTimeStepInfo object at 0x7fdb68366a90>, <sharpy.utils.datastructures.StructTimeStepInfo object at 0x7fdb68366f10>, <sharpy.utils.datastructures.StructTimeStepInfo object at 0x7fdb6835d050>, <sharpy.utils.datastructures.StructTimeStepInfo object at 0x7fdb68364e90>, <sharpy.utils.datastructures.StructTimeStepInfo object at 0x7fdb684f6390>, <sharpy.utils.datastructures.StructTimeStepInfo object at 0x7fdb684223d0>, <sharpy.utils.datastructures.StructTimeStepInfo object at 0x7fdb68360d90>, <sharpy.utils.datastructures.StructTimeStepInfo object at 0x7fdb683644d0>, <sharpy.utils.datastructures.StructTimeStepInfo object at 0x7fdb68364050>, <sharpy.utils.datastructures.StructTimeStepInfo object at 0x7fdb6835d350>, <sharpy.utils.datastructures.StructTimeStepInfo object at 0x7fdb68364150>, <sharpy.utils.datastructures.StructTimeStepInfo object at 0x7fdb454e8cd0>, <sharpy.utils.datastructures.StructTimeStepInfo object at 0x7fdb68360e90>, <sharpy.utils.datastructures.StructTimeStepInfo object at 0x7fdb68352410>, <sharpy.utils.datastructures.StructTimeStepInfo object at 0x7fdb683602d0>, <sharpy.utils.datastructures.StructTimeStepInfo object at 0x7fdb68364d10>, <sharpy.utils.datastructures.StructTimeStepInfo object at 0x7fdb683642d0>, <sharpy.utils.datastructures.StructTimeStepInfo object at 0x7fdb454e8dd0>, <sharpy.utils.datastructures.StructTimeStepInfo object at 0x7fdb68364750>, <sharpy.utils.datastructures.StructTimeStepInfo object at 0x7fdb6835dc50>, <sharpy.utils.datastructures.StructTimeStepInfo object at 0x7fdb68364fd0>, <sharpy.utils.datastructures.StructTimeStepInfo object at 0x7fdb454e8e50>, <sharpy.utils.datastructures.StructTimeStepInfo object at 0x7fdb6835d250>, <sharpy.utils.datastructures.StructTimeStepInfo object at 0x7fdb454f4150>, <sharpy.utils.datastructures.StructTimeStepInfo object at 0x7fdb454f4c10>, <sharpy.utils.datastructures.StructTimeStepInfo object at 0x7fdb454e8f90>, <sharpy.utils.datastructures.StructTimeStepInfo object at 0x7fdb454f4090>, <sharpy.utils.datastructures.StructTimeStepInfo object at 0x7fdb454e8490>, <sharpy.utils.datastructures.StructTimeStepInfo object at 0x7fdb68495ed0>, <sharpy.utils.datastructures.StructTimeStepInfo object at 0x7fdb68364690>, <sharpy.utils.datastructures.StructTimeStepInfo object at 0x7fdb6835d110>, <sharpy.utils.datastructures.StructTimeStepInfo object at 0x7fdb68352850>, <sharpy.utils.datastructures.StructTimeStepInfo object at 0x7fdb683f8e50>, <sharpy.utils.datastructures.StructTimeStepInfo object at 0x7fdb454e8910>, <sharpy.utils.datastructures.StructTimeStepInfo object at 0x7fdb454f4e10>, <sharpy.utils.datastructures.StructTimeStepInfo object at 0x7fdb454f48d0>, <sharpy.utils.datastructures.StructTimeStepInfo object at 0x7fdb454f42d0>, <sharpy.utils.datastructures.StructTimeStepInfo object at 0x7fdb68364dd0>, <sharpy.utils.datastructures.StructTimeStepInfo object at 0x7fdb6835dc90>, <sharpy.utils.datastructures.StructTimeStepInfo object at 0x7fdb68360c10>, <sharpy.utils.datastructures.StructTimeStepInfo object at 0x7fdb683641d0>, <sharpy.utils.datastructures.StructTimeStepInfo object at 0x7fdb68360dd0>, <sharpy.utils.datastructures.StructTimeStepInfo object at 0x7fdb6835d9d0>, <sharpy.utils.datastructures.StructTimeStepInfo object at 0x7fdb454f4a90>, <sharpy.utils.datastructures.StructTimeStepInfo object at 0x7fdb68422d90>, <sharpy.utils.datastructures.StructTimeStepInfo object at 0x7fdb454e8610>, <sharpy.utils.datastructures.StructTimeStepInfo object at 0x7fdb454f4610>, <sharpy.utils.datastructures.StructTimeStepInfo object at 0x7fdb68352250>, <sharpy.utils.datastructures.StructTimeStepInfo object at 0x7fdb68364b50>, <sharpy.utils.datastructures.StructTimeStepInfo object at 0x7fdb68364290>, <sharpy.utils.datastructures.StructTimeStepInfo object at 0x7fdb454e8190>, <sharpy.utils.datastructures.StructTimeStepInfo object at 0x7fdb6835d590>, <sharpy.utils.datastructures.StructTimeStepInfo object at 0x7fdb454f46d0>, <sharpy.utils.datastructures.StructTimeStepInfo object at 0x7fdb454f43d0>, <sharpy.utils.datastructures.StructTimeStepInfo object at 0x7fdb454d3890>, <sharpy.utils.datastructures.StructTimeStepInfo object at 0x7fdb454f4910>, <sharpy.utils.datastructures.StructTimeStepInfo object at 0x7fdb454e8f50>, <sharpy.utils.datastructures.StructTimeStepInfo object at 0x7fdb454f4410>, <sharpy.utils.datastructures.StructTimeStepInfo object at 0x7fdb454d3750>, <sharpy.utils.datastructures.StructTimeStepInfo object at 0x7fdb68364410>, <sharpy.utils.datastructures.StructTimeStepInfo object at 0x7fdb68360ed0>, <sharpy.utils.datastructures.StructTimeStepInfo object at 0x7fdb454f4b10>, <sharpy.utils.datastructures.StructTimeStepInfo object at 0x7fdb68352d50>, <sharpy.utils.datastructures.StructTimeStepInfo object at 0x7fdb454d3210>, <sharpy.utils.datastructures.StructTimeStepInfo object at 0x7fdb454e85d0>, <sharpy.utils.datastructures.StructTimeStepInfo object at 0x7fdb68360350>, <sharpy.utils.datastructures.StructTimeStepInfo object at 0x7fdb454f4750>, <sharpy.utils.datastructures.StructTimeStepInfo object at 0x7fdb68364c50>, <sharpy.utils.datastructures.StructTimeStepInfo object at 0x7fdb6835d190>, <sharpy.utils.datastructures.StructTimeStepInfo object at 0x7fdb683603d0>, <sharpy.utils.datastructures.StructTimeStepInfo object at 0x7fdb454f4510>, <sharpy.utils.datastructures.StructTimeStepInfo object at 0x7fdb454f4d90>, <sharpy.utils.datastructures.StructTimeStepInfo object at 0x7fdb454e8790>, <sharpy.utils.datastructures.StructTimeStepInfo object at 0x7fdb68360fd0>, <sharpy.utils.datastructures.StructTimeStepInfo object at 0x7fdb454e8c90>, <sharpy.utils.datastructures.StructTimeStepInfo object at 0x7fdb68364e50>, <sharpy.utils.datastructures.StructTimeStepInfo object at 0x7fdb68364590>, <sharpy.utils.datastructures.StructTimeStepInfo object at 0x7fdb6835de10>, <sharpy.utils.datastructures.StructTimeStepInfo object at 0x7fdb6835db90>, <sharpy.utils.datastructures.StructTimeStepInfo object at 0x7fdb6835d290>, <sharpy.utils.datastructures.StructTimeStepInfo object at 0x7fdb454d3190>, <sharpy.utils.datastructures.StructTimeStepInfo object at 0x7fdb6835d690>, <sharpy.utils.datastructures.StructTimeStepInfo object at 0x7fdb454f47d0>, <sharpy.utils.datastructures.StructTimeStepInfo object at 0x7fdb454f4690>, <sharpy.utils.datastructures.StructTimeStepInfo object at 0x7fdb454f4c50>, <sharpy.utils.datastructures.StructTimeStepInfo object at 0x7fdb454f4a50>, <sharpy.utils.datastructures.StructTimeStepInfo object at 0x7fdb454d78d0>, <sharpy.utils.datastructures.StructTimeStepInfo object at 0x7fdb68364810>, <sharpy.utils.datastructures.StructTimeStepInfo object at 0x7fdb454f45d0>, <sharpy.utils.datastructures.StructTimeStepInfo object at 0x7fdb454e8bd0>, <sharpy.utils.datastructures.StructTimeStepInfo object at 0x7fdb454d7090>, <sharpy.utils.datastructures.StructTimeStepInfo object at 0x7fdb454d3410>, <sharpy.utils.datastructures.StructTimeStepInfo object at 0x7fdb454d7d10>, <sharpy.utils.datastructures.StructTimeStepInfo object at 0x7fdb454d7510>, <sharpy.utils.datastructures.StructTimeStepInfo object at 0x7fdb454f4cd0>, <sharpy.utils.datastructures.StructTimeStepInfo object at 0x7fdb454e8d50>, <sharpy.utils.datastructures.StructTimeStepInfo object at 0x7fdb68366dd0>, <sharpy.utils.datastructures.StructTimeStepInfo object at 0x7fdb454f4810>, <sharpy.utils.datastructures.StructTimeStepInfo object at 0x7fdb454f4350>, <sharpy.utils.datastructures.StructTimeStepInfo object at 0x7fdb454d3610>, <sharpy.utils.datastructures.StructTimeStepInfo object at 0x7fdb68364510>, <sharpy.utils.datastructures.StructTimeStepInfo object at 0x7fdb454d7810>, <sharpy.utils.datastructures.StructTimeStepInfo object at 0x7fdb454e8ed0>, <sharpy.utils.datastructures.StructTimeStepInfo object at 0x7fdb454d7410>, <sharpy.utils.datastructures.StructTimeStepInfo object at 0x7fdb454e8210>, <sharpy.utils.datastructures.StructTimeStepInfo object at 0x7fdb454e86d0>, <sharpy.utils.datastructures.StructTimeStepInfo object at 0x7fdb454d7f50>, <sharpy.utils.datastructures.StructTimeStepInfo object at 0x7fdb68360a90>, <sharpy.utils.datastructures.StructTimeStepInfo object at 0x7fdb454e8b90>, <sharpy.utils.datastructures.StructTimeStepInfo object at 0x7fdb454d3cd0>, <sharpy.utils.datastructures.StructTimeStepInfo object at 0x7fdb454f4f90>, <sharpy.utils.datastructures.StructTimeStepInfo object at 0x7fdb454e8750>, <sharpy.utils.datastructures.StructTimeStepInfo object at 0x7fdb454d7a50>, <sharpy.utils.datastructures.StructTimeStepInfo object at 0x7fdb68360250>, <sharpy.utils.datastructures.StructTimeStepInfo object at 0x7fdb68360190>, <sharpy.utils.datastructures.StructTimeStepInfo object at 0x7fdb68364110>, <sharpy.utils.datastructures.StructTimeStepInfo object at 0x7fdb454cbb50>, <sharpy.utils.datastructures.StructTimeStepInfo object at 0x7fdb454d7550>, <sharpy.utils.datastructures.StructTimeStepInfo object at 0x7fdb454d7d90>, <sharpy.utils.datastructures.StructTimeStepInfo object at 0x7fdb454d35d0>, <sharpy.utils.datastructures.StructTimeStepInfo object at 0x7fdb68360990>, <sharpy.utils.datastructures.StructTimeStepInfo object at 0x7fdb454d7f10>, <sharpy.utils.datastructures.StructTimeStepInfo object at 0x7fdb454f4e90>, <sharpy.utils.datastructures.StructTimeStepInfo object at 0x7fdb68364790>, <sharpy.utils.datastructures.StructTimeStepInfo object at 0x7fdb454d3810>, <sharpy.utils.datastructures.StructTimeStepInfo object at 0x7fdb454e88d0>, <sharpy.utils.datastructures.StructTimeStepInfo object at 0x7fdb454cb650>, <sharpy.utils.datastructures.StructTimeStepInfo object at 0x7fdb454d3b50>, <sharpy.utils.datastructures.StructTimeStepInfo object at 0x7fdb454d7210>, <sharpy.utils.datastructures.StructTimeStepInfo object at 0x7fdb454d30d0>, <sharpy.utils.datastructures.StructTimeStepInfo object at 0x7fdb683643d0>, <sharpy.utils.datastructures.StructTimeStepInfo object at 0x7fdb6835d790>, <sharpy.utils.datastructures.StructTimeStepInfo object at 0x7fdb683606d0>, <sharpy.utils.datastructures.StructTimeStepInfo object at 0x7fdb454cbc10>, <sharpy.utils.datastructures.StructTimeStepInfo object at 0x7fdb454f4790>, <sharpy.utils.datastructures.StructTimeStepInfo object at 0x7fdb68360c90>, <sharpy.utils.datastructures.StructTimeStepInfo object at 0x7fdb454cbf10>, <sharpy.utils.datastructures.StructTimeStepInfo object at 0x7fdb454f4310>, <sharpy.utils.datastructures.StructTimeStepInfo object at 0x7fdb454d3510>, <sharpy.utils.datastructures.StructTimeStepInfo object at 0x7fdb454d7b50>, <sharpy.utils.datastructures.StructTimeStepInfo object at 0x7fdb683607d0>, <sharpy.utils.datastructures.StructTimeStepInfo object at 0x7fdb454d7ed0>, <sharpy.utils.datastructures.StructTimeStepInfo object at 0x7fdb454d7690>, <sharpy.utils.datastructures.StructTimeStepInfo object at 0x7fdb454d38d0>, <sharpy.utils.datastructures.StructTimeStepInfo object at 0x7fdb68364610>, <sharpy.utils.datastructures.StructTimeStepInfo object at 0x7fdb454d3150>, <sharpy.utils.datastructures.StructTimeStepInfo object at 0x7fdb454d7050>, <sharpy.utils.datastructures.StructTimeStepInfo object at 0x7fdb454cbb90>, <sharpy.utils.datastructures.StructTimeStepInfo object at 0x7fdb454d3ed0>, <sharpy.utils.datastructures.StructTimeStepInfo object at 0x7fdb454cb890>, <sharpy.utils.datastructures.StructTimeStepInfo object at 0x7fdb454cbdd0>, <sharpy.utils.datastructures.StructTimeStepInfo object at 0x7fdb454cb610>, <sharpy.utils.datastructures.StructTimeStepInfo object at 0x7fdb454f3dd0>, <sharpy.utils.datastructures.StructTimeStepInfo object at 0x7fdb454cb050>, <sharpy.utils.datastructures.StructTimeStepInfo object at 0x7fdb68364710>, <sharpy.utils.datastructures.StructTimeStepInfo object at 0x7fdb454f3d90>, <sharpy.utils.datastructures.StructTimeStepInfo object at 0x7fdb454f3e90>, <sharpy.utils.datastructures.StructTimeStepInfo object at 0x7fdb454cb190>, <sharpy.utils.datastructures.StructTimeStepInfo object at 0x7fdb454d3310>, <sharpy.utils.datastructures.StructTimeStepInfo object at 0x7fdb683647d0>, <sharpy.utils.datastructures.StructTimeStepInfo object at 0x7fdb68360210>, <sharpy.utils.datastructures.StructTimeStepInfo object at 0x7fdb454d7390>, <sharpy.utils.datastructures.StructTimeStepInfo object at 0x7fdb454cb490>, <sharpy.utils.datastructures.StructTimeStepInfo object at 0x7fdb454d7450>, <sharpy.utils.datastructures.StructTimeStepInfo object at 0x7fdb454e8a10>, <sharpy.utils.datastructures.StructTimeStepInfo object at 0x7fdb454d3f90>, <sharpy.utils.datastructures.StructTimeStepInfo object at 0x7fdb454d7750>, <sharpy.utils.datastructures.StructTimeStepInfo object at 0x7fdb454d7e50>, <sharpy.utils.datastructures.StructTimeStepInfo object at 0x7fdb68360b90>, <sharpy.utils.datastructures.StructTimeStepInfo object at 0x7fdb454f3cd0>, <sharpy.utils.datastructures.StructTimeStepInfo object at 0x7fdb454d7490>, <sharpy.utils.datastructures.StructTimeStepInfo object at 0x7fdb454d34d0>, <sharpy.utils.datastructures.StructTimeStepInfo object at 0x7fdb454f3550>, <sharpy.utils.datastructures.StructTimeStepInfo object at 0x7fdb454cb3d0>, <sharpy.utils.datastructures.StructTimeStepInfo object at 0x7fdb454d7fd0>, <sharpy.utils.datastructures.StructTimeStepInfo object at 0x7fdb6803b9d0>, <sharpy.utils.datastructures.StructTimeStepInfo object at 0x7fdb454d3910>, <sharpy.utils.datastructures.StructTimeStepInfo object at 0x7fdb454cb310>, <sharpy.utils.datastructures.StructTimeStepInfo object at 0x7fdb454f3c10>, <sharpy.utils.datastructures.StructTimeStepInfo object at 0x7fdb454f3750>, <sharpy.utils.datastructures.StructTimeStepInfo object at 0x7fdb6803ba90>, <sharpy.utils.datastructures.StructTimeStepInfo object at 0x7fdb68364850>, <sharpy.utils.datastructures.StructTimeStepInfo object at 0x7fdb454f3710>, <sharpy.utils.datastructures.StructTimeStepInfo object at 0x7fdb6835d4d0>, <sharpy.utils.datastructures.StructTimeStepInfo object at 0x7fdb454d7e10>, <sharpy.utils.datastructures.StructTimeStepInfo object at 0x7fdb6835d310>, <sharpy.utils.datastructures.StructTimeStepInfo object at 0x7fdb68360cd0>, <sharpy.utils.datastructures.StructTimeStepInfo object at 0x7fdb6803bdd0>, <sharpy.utils.datastructures.StructTimeStepInfo object at 0x7fdb454f4ed0>, <sharpy.utils.datastructures.StructTimeStepInfo object at 0x7fdb454d73d0>, <sharpy.utils.datastructures.StructTimeStepInfo object at 0x7fdb454f32d0>, <sharpy.utils.datastructures.StructTimeStepInfo object at 0x7fdb6803b590>, <sharpy.utils.datastructures.StructTimeStepInfo object at 0x7fdb454d3990>, <sharpy.utils.datastructures.StructTimeStepInfo object at 0x7fdb454f3590>, <sharpy.utils.datastructures.StructTimeStepInfo object at 0x7fdb454d3290>, <sharpy.utils.datastructures.StructTimeStepInfo object at 0x7fdb454d3f10>, <sharpy.utils.datastructures.StructTimeStepInfo object at 0x7fdb454f4e50>, <sharpy.utils.datastructures.StructTimeStepInfo object at 0x7fdb454f4950>, <sharpy.utils.datastructures.StructTimeStepInfo object at 0x7fdb6803be10>, <sharpy.utils.datastructures.StructTimeStepInfo object at 0x7fdb454d7790>, <sharpy.utils.datastructures.StructTimeStepInfo object at 0x7fdb454d31d0>, <sharpy.utils.datastructures.StructTimeStepInfo object at 0x7fdb454e8410>, <sharpy.utils.datastructures.StructTimeStepInfo object at 0x7fdb454f4b90>, <sharpy.utils.datastructures.StructTimeStepInfo object at 0x7fdb454e8350>, <sharpy.utils.datastructures.StructTimeStepInfo object at 0x7fdb454f34d0>, <sharpy.utils.datastructures.StructTimeStepInfo object at 0x7fdb6803be50>, <sharpy.utils.datastructures.StructTimeStepInfo object at 0x7fdb6803b2d0>, <sharpy.utils.datastructures.StructTimeStepInfo object at 0x7fdb454cb110>, <sharpy.utils.datastructures.StructTimeStepInfo object at 0x7fdb454f3b50>, <sharpy.utils.datastructures.StructTimeStepInfo object at 0x7fdb454cbd50>, <sharpy.utils.datastructures.StructTimeStepInfo object at 0x7fdb6803b650>, <sharpy.utils.datastructures.StructTimeStepInfo object at 0x7fdb454f3390>, <sharpy.utils.datastructures.StructTimeStepInfo object at 0x7fdb454e8ad0>, <sharpy.utils.datastructures.StructTimeStepInfo object at 0x7fdb68038090>, <sharpy.utils.datastructures.StructTimeStepInfo object at 0x7fdb68038a10>, <sharpy.utils.datastructures.StructTimeStepInfo object at 0x7fdb454cbbd0>, <sharpy.utils.datastructures.StructTimeStepInfo object at 0x7fdb454d39d0>, <sharpy.utils.datastructures.StructTimeStepInfo object at 0x7fdb454e8a90>, <sharpy.utils.datastructures.StructTimeStepInfo object at 0x7fdb454d3c10>, <sharpy.utils.datastructures.StructTimeStepInfo object at 0x7fdb454e8c50>, <sharpy.utils.datastructures.StructTimeStepInfo object at 0x7fdb454f3150>, <sharpy.utils.datastructures.StructTimeStepInfo object at 0x7fdb454d3550>, <sharpy.utils.datastructures.StructTimeStepInfo object at 0x7fdb454cba10>, <sharpy.utils.datastructures.StructTimeStepInfo object at 0x7fdb454d3490>, <sharpy.utils.datastructures.StructTimeStepInfo object at 0x7fdb6803b110>, <sharpy.utils.datastructures.StructTimeStepInfo object at 0x7fdb454d3ad0>, <sharpy.utils.datastructures.StructTimeStepInfo object at 0x7fdb454d3b90>, <sharpy.utils.datastructures.StructTimeStepInfo object at 0x7fdb454cbcd0>, <sharpy.utils.datastructures.StructTimeStepInfo object at 0x7fdb454cb350>, <sharpy.utils.datastructures.StructTimeStepInfo object at 0x7fdb6803bcd0>, <sharpy.utils.datastructures.StructTimeStepInfo object at 0x7fdb454d75d0>, <sharpy.utils.datastructures.StructTimeStepInfo object at 0x7fdb68038990>, <sharpy.utils.datastructures.StructTimeStepInfo object at 0x7fdb454d7590>, <sharpy.utils.datastructures.StructTimeStepInfo object at 0x7fdb6803b390>, <sharpy.utils.datastructures.StructTimeStepInfo object at 0x7fdb6803b310>, <sharpy.utils.datastructures.StructTimeStepInfo object at 0x7fdb454cbc50>, <sharpy.utils.datastructures.StructTimeStepInfo object at 0x7fdb6803b490>, <sharpy.utils.datastructures.StructTimeStepInfo object at 0x7fdb68038b90>, <sharpy.utils.datastructures.StructTimeStepInfo object at 0x7fdb6803bbd0>, <sharpy.utils.datastructures.StructTimeStepInfo object at 0x7fdb454d3590>, <sharpy.utils.datastructures.StructTimeStepInfo object at 0x7fdb454e82d0>, <sharpy.utils.datastructures.StructTimeStepInfo object at 0x7fdb680385d0>, <sharpy.utils.datastructures.StructTimeStepInfo object at 0x7fdb454cb9d0>, <sharpy.utils.datastructures.StructTimeStepInfo object at 0x7fdb454d3350>, <sharpy.utils.datastructures.StructTimeStepInfo object at 0x7fdb454f3050>, <sharpy.utils.datastructures.StructTimeStepInfo object at 0x7fdb454cb0d0>, <sharpy.utils.datastructures.StructTimeStepInfo object at 0x7fdb454cb810>, <sharpy.utils.datastructures.StructTimeStepInfo object at 0x7fdb454cb090>, <sharpy.utils.datastructures.StructTimeStepInfo object at 0x7fdb454f37d0>, <sharpy.utils.datastructures.StructTimeStepInfo object at 0x7fdb454cbad0>, <sharpy.utils.datastructures.StructTimeStepInfo object at 0x7fdb68038dd0>, <sharpy.utils.datastructures.StructTimeStepInfo object at 0x7fdb454cb950>, <sharpy.utils.datastructures.StructTimeStepInfo object at 0x7fdb454e8e10>, <sharpy.utils.datastructures.StructTimeStepInfo object at 0x7fdb454cb790>, <sharpy.utils.datastructures.StructTimeStepInfo object at 0x7fdb680388d0>, <sharpy.utils.datastructures.StructTimeStepInfo object at 0x7fdb454f3b90>, <sharpy.utils.datastructures.StructTimeStepInfo object at 0x7fdb454e8f10>, <sharpy.utils.datastructures.StructTimeStepInfo object at 0x7fdb6803b850>, <sharpy.utils.datastructures.StructTimeStepInfo object at 0x7fdb6803bf90>, <sharpy.utils.datastructures.StructTimeStepInfo object at 0x7fdb680396d0>, <sharpy.utils.datastructures.StructTimeStepInfo object at 0x7fdb68039bd0>, <sharpy.utils.datastructures.StructTimeStepInfo object at 0x7fdb68038f90>, <sharpy.utils.datastructures.StructTimeStepInfo object at 0x7fdb68038150>, <sharpy.utils.datastructures.StructTimeStepInfo object at 0x7fdb68039490>, <sharpy.utils.datastructures.StructTimeStepInfo object at 0x7fdb454f3a10>, <sharpy.utils.datastructures.StructTimeStepInfo object at 0x7fdb680382d0>, <sharpy.utils.datastructures.StructTimeStepInfo object at 0x7fdb6803b790>, <sharpy.utils.datastructures.StructTimeStepInfo object at 0x7fdb454cbe10>, <sharpy.utils.datastructures.StructTimeStepInfo object at 0x7fdb68038e90>, <sharpy.utils.datastructures.StructTimeStepInfo object at 0x7fdb68060c50>, <sharpy.utils.datastructures.StructTimeStepInfo object at 0x7fdb68039b90>, <sharpy.utils.datastructures.StructTimeStepInfo object at 0x7fdb68039610>, <sharpy.utils.datastructures.StructTimeStepInfo object at 0x7fdb68039c10>, <sharpy.utils.datastructures.StructTimeStepInfo object at 0x7fdb454f3990>, <sharpy.utils.datastructures.StructTimeStepInfo object at 0x7fdb68038750>, <sharpy.utils.datastructures.StructTimeStepInfo object at 0x7fdb680608d0>, <sharpy.utils.datastructures.StructTimeStepInfo object at 0x7fdb68038d10>, <sharpy.utils.datastructures.StructTimeStepInfo object at 0x7fdb68039090>, <sharpy.utils.datastructures.StructTimeStepInfo object at 0x7fdb454cb690>, <sharpy.utils.datastructures.StructTimeStepInfo object at 0x7fdb680387d0>, <sharpy.utils.datastructures.StructTimeStepInfo object at 0x7fdb6803b510>, <sharpy.utils.datastructures.StructTimeStepInfo object at 0x7fdb68038850>, <sharpy.utils.datastructures.StructTimeStepInfo object at 0x7fdb6803bd10>, <sharpy.utils.datastructures.StructTimeStepInfo object at 0x7fdb68038410>, <sharpy.utils.datastructures.StructTimeStepInfo object at 0x7fdb68039a50>, <sharpy.utils.datastructures.StructTimeStepInfo object at 0x7fdb68060350>, <sharpy.utils.datastructures.StructTimeStepInfo object at 0x7fdb6803bf50>, <sharpy.utils.datastructures.StructTimeStepInfo object at 0x7fdb68060310>, <sharpy.utils.datastructures.StructTimeStepInfo object at 0x7fdb68039d10>, <sharpy.utils.datastructures.StructTimeStepInfo object at 0x7fdb6803bb10>, <sharpy.utils.datastructures.StructTimeStepInfo object at 0x7fdb68039310>, <sharpy.utils.datastructures.StructTimeStepInfo object at 0x7fdb454f3c50>, <sharpy.utils.datastructures.StructTimeStepInfo object at 0x7fdb454f3d10>, <sharpy.utils.datastructures.StructTimeStepInfo object at 0x7fdb68039f10>, <sharpy.utils.datastructures.StructTimeStepInfo object at 0x7fdb680386d0>, <sharpy.utils.datastructures.StructTimeStepInfo object at 0x7fdb454cb410>, <sharpy.utils.datastructures.StructTimeStepInfo object at 0x7fdb454cbe50>, <sharpy.utils.datastructures.StructTimeStepInfo object at 0x7fdb68060d90>, <sharpy.utils.datastructures.StructTimeStepInfo object at 0x7fdb6803b250>, <sharpy.utils.datastructures.StructTimeStepInfo object at 0x7fdb454d4350>, <sharpy.utils.datastructures.StructTimeStepInfo object at 0x7fdb68039f50>, <sharpy.utils.datastructures.StructTimeStepInfo object at 0x7fdb68038e10>, <sharpy.utils.datastructures.StructTimeStepInfo object at 0x7fdb68039150>, <sharpy.utils.datastructures.StructTimeStepInfo object at 0x7fdb454d4810>, <sharpy.utils.datastructures.StructTimeStepInfo object at 0x7fdb680609d0>, <sharpy.utils.datastructures.StructTimeStepInfo object at 0x7fdb454d3fd0>, <sharpy.utils.datastructures.StructTimeStepInfo object at 0x7fdb68038350>, <sharpy.utils.datastructures.StructTimeStepInfo object at 0x7fdb454f3190>, <sharpy.utils.datastructures.StructTimeStepInfo object at 0x7fdb454cb590>, <sharpy.utils.datastructures.StructTimeStepInfo object at 0x7fdb68039f90>, <sharpy.utils.datastructures.StructTimeStepInfo object at 0x7fdb6803b710>, <sharpy.utils.datastructures.StructTimeStepInfo object at 0x7fdb454d4d10>, <sharpy.utils.datastructures.StructTimeStepInfo object at 0x7fdb6803bc90>, <sharpy.utils.datastructures.StructTimeStepInfo object at 0x7fdb454f3790>, <sharpy.utils.datastructures.StructTimeStepInfo object at 0x7fdb454d44d0>, <sharpy.utils.datastructures.StructTimeStepInfo object at 0x7fdb454f3310>, <sharpy.utils.datastructures.StructTimeStepInfo object at 0x7fdb68039250>, <sharpy.utils.datastructures.StructTimeStepInfo object at 0x7fdb6803b1d0>, <sharpy.utils.datastructures.StructTimeStepInfo object at 0x7fdb6803bc50>, <sharpy.utils.datastructures.StructTimeStepInfo object at 0x7fdb68038f50>, <sharpy.utils.datastructures.StructTimeStepInfo object at 0x7fdb454d72d0>, <sharpy.utils.datastructures.StructTimeStepInfo object at 0x7fdb454d4ad0>, <sharpy.utils.datastructures.StructTimeStepInfo object at 0x7fdb68039ed0>, <sharpy.utils.datastructures.StructTimeStepInfo object at 0x7fdb454d4890>, <sharpy.utils.datastructures.StructTimeStepInfo object at 0x7fdb454d4e50>, <sharpy.utils.datastructures.StructTimeStepInfo object at 0x7fdb454f3090>, <sharpy.utils.datastructures.StructTimeStepInfo object at 0x7fdb68038bd0>, <sharpy.utils.datastructures.StructTimeStepInfo object at 0x7fdb68039e10>, <sharpy.utils.datastructures.StructTimeStepInfo object at 0x7fdb454d4b10>, <sharpy.utils.datastructures.StructTimeStepInfo object at 0x7fdb680604d0>, <sharpy.utils.datastructures.StructTimeStepInfo object at 0x7fdb68060590>, <sharpy.utils.datastructures.StructTimeStepInfo object at 0x7fdb454f36d0>, <sharpy.utils.datastructures.StructTimeStepInfo object at 0x7fdb454cb150>, <sharpy.utils.datastructures.StructTimeStepInfo object at 0x7fdb454d4450>, <sharpy.utils.datastructures.StructTimeStepInfo object at 0x7fdb68039550>, <sharpy.utils.datastructures.StructTimeStepInfo object at 0x7fdb68039e90>, <sharpy.utils.datastructures.StructTimeStepInfo object at 0x7fdb454d4f50>, <sharpy.utils.datastructures.StructTimeStepInfo object at 0x7fdb68060790>, <sharpy.utils.datastructures.StructTimeStepInfo object at 0x7fdb454d4fd0>, <sharpy.utils.datastructures.StructTimeStepInfo object at 0x7fdb454d40d0>, <sharpy.utils.datastructures.StructTimeStepInfo object at 0x7fdb68060190>, <sharpy.utils.datastructures.StructTimeStepInfo object at 0x7fdb680288d0>, <sharpy.utils.datastructures.StructTimeStepInfo object at 0x7fdb6803bb50>, <sharpy.utils.datastructures.StructTimeStepInfo object at 0x7fdb680397d0>, <sharpy.utils.datastructures.StructTimeStepInfo object at 0x7fdb454f3410>, <sharpy.utils.datastructures.StructTimeStepInfo object at 0x7fdb454cbfd0>, <sharpy.utils.datastructures.StructTimeStepInfo object at 0x7fdb68028050>, <sharpy.utils.datastructures.StructTimeStepInfo object at 0x7fdb454d4bd0>, <sharpy.utils.datastructures.StructTimeStepInfo object at 0x7fdb454d4950>, <sharpy.utils.datastructures.StructTimeStepInfo object at 0x7fdb68060a90>, <sharpy.utils.datastructures.StructTimeStepInfo object at 0x7fdb68039390>, <sharpy.utils.datastructures.StructTimeStepInfo object at 0x7fdb68060410>, <sharpy.utils.datastructures.StructTimeStepInfo object at 0x7fdb68028090>, <sharpy.utils.datastructures.StructTimeStepInfo object at 0x7fdb68028650>, <sharpy.utils.datastructures.StructTimeStepInfo object at 0x7fdb6803b4d0>, <sharpy.utils.datastructures.StructTimeStepInfo object at 0x7fdb680602d0>, <sharpy.utils.datastructures.StructTimeStepInfo object at 0x7fdb454d4190>, <sharpy.utils.datastructures.StructTimeStepInfo object at 0x7fdb454f3910>, <sharpy.utils.datastructures.StructTimeStepInfo object at 0x7fdb680600d0>, <sharpy.utils.datastructures.StructTimeStepInfo object at 0x7fdb68038190>, <sharpy.utils.datastructures.StructTimeStepInfo object at 0x7fdb454f3950>, <sharpy.utils.datastructures.StructTimeStepInfo object at 0x7fdb68028c50>, <sharpy.utils.datastructures.StructTimeStepInfo object at 0x7fdb68028390>, <sharpy.utils.datastructures.StructTimeStepInfo object at 0x7fdb680380d0>, <sharpy.utils.datastructures.StructTimeStepInfo object at 0x7fdb6803b050>, <sharpy.utils.datastructures.StructTimeStepInfo object at 0x7fdb6803b150>, <sharpy.utils.datastructures.StructTimeStepInfo object at 0x7fdb454e8510>, <sharpy.utils.datastructures.StructTimeStepInfo object at 0x7fdb68039850>, <sharpy.utils.datastructures.StructTimeStepInfo object at 0x7fdb4562d910>, <sharpy.utils.datastructures.StructTimeStepInfo object at 0x7fdb68039c50>, <sharpy.utils.datastructures.StructTimeStepInfo object at 0x7fdb68038650>, <sharpy.utils.datastructures.StructTimeStepInfo object at 0x7fdb68028790>, <sharpy.utils.datastructures.StructTimeStepInfo object at 0x7fdb454d47d0>, <sharpy.utils.datastructures.StructTimeStepInfo object at 0x7fdb68060c10>, <sharpy.utils.datastructures.StructTimeStepInfo object at 0x7fdb68038610>, <sharpy.utils.datastructures.StructTimeStepInfo object at 0x7fdb68038fd0>, <sharpy.utils.datastructures.StructTimeStepInfo object at 0x7fdb68039790>, <sharpy.utils.datastructures.StructTimeStepInfo object at 0x7fdb68038890>, <sharpy.utils.datastructures.StructTimeStepInfo object at 0x7fdb454d4a10>, <sharpy.utils.datastructures.StructTimeStepInfo object at 0x7fdb68039650>, <sharpy.utils.datastructures.StructTimeStepInfo object at 0x7fdb454d4650>, <sharpy.utils.datastructures.StructTimeStepInfo object at 0x7fdb454d4f10>, <sharpy.utils.datastructures.StructTimeStepInfo object at 0x7fdb6803b990>, <sharpy.utils.datastructures.StructTimeStepInfo object at 0x7fdb6803ba50>, <sharpy.utils.datastructures.StructTimeStepInfo object at 0x7fdb68038b10>, <sharpy.utils.datastructures.StructTimeStepInfo object at 0x7fdb68060e10>, <sharpy.utils.datastructures.StructTimeStepInfo object at 0x7fdb4562dd10>, <sharpy.utils.datastructures.StructTimeStepInfo object at 0x7fdb68028b10>, <sharpy.utils.datastructures.StructTimeStepInfo object at 0x7fdb68060f90>, <sharpy.utils.datastructures.StructTimeStepInfo object at 0x7fdb4562dcd0>, <sharpy.utils.datastructures.StructTimeStepInfo object at 0x7fdb68028e50>, <sharpy.utils.datastructures.StructTimeStepInfo object at 0x7fdb4562d710>, <sharpy.utils.datastructures.StructTimeStepInfo object at 0x7fdb6803b3d0>, <sharpy.utils.datastructures.StructTimeStepInfo object at 0x7fdb68060b50>, <sharpy.utils.datastructures.StructTimeStepInfo object at 0x7fdb68060850>, <sharpy.utils.datastructures.StructTimeStepInfo object at 0x7fdb680383d0>, <sharpy.utils.datastructures.StructTimeStepInfo object at 0x7fdb4560d150>, <sharpy.utils.datastructures.StructTimeStepInfo object at 0x7fdb680606d0>, <sharpy.utils.datastructures.StructTimeStepInfo object at 0x7fdb4562d0d0>, <sharpy.utils.datastructures.StructTimeStepInfo object at 0x7fdb4562dd50>, <sharpy.utils.datastructures.StructTimeStepInfo object at 0x7fdb4562d690>, <sharpy.utils.datastructures.StructTimeStepInfo object at 0x7fdb68060650>, <sharpy.utils.datastructures.StructTimeStepInfo object at 0x7fdb454d49d0>, <sharpy.utils.datastructures.StructTimeStepInfo object at 0x7fdb4560d410>, <sharpy.utils.datastructures.StructTimeStepInfo object at 0x7fdb68039690>, <sharpy.utils.datastructures.StructTimeStepInfo object at 0x7fdb454d4610>, <sharpy.utils.datastructures.StructTimeStepInfo object at 0x7fdb68060f10>, <sharpy.utils.datastructures.StructTimeStepInfo object at 0x7fdb454d4390>, <sharpy.utils.datastructures.StructTimeStepInfo object at 0x7fdb68060290>, <sharpy.utils.datastructures.StructTimeStepInfo object at 0x7fdb4560d250>, <sharpy.utils.datastructures.StructTimeStepInfo object at 0x7fdb454d4110>, <sharpy.utils.datastructures.StructTimeStepInfo object at 0x7fdb4560d2d0>, <sharpy.utils.datastructures.StructTimeStepInfo object at 0x7fdb4560df50>, <sharpy.utils.datastructures.StructTimeStepInfo object at 0x7fdb68039950>, <sharpy.utils.datastructures.StructTimeStepInfo object at 0x7fdb68060750>, <sharpy.utils.datastructures.StructTimeStepInfo object at 0x7fdb454d4590>, <sharpy.utils.datastructures.StructTimeStepInfo object at 0x7fdb68060550>, <sharpy.utils.datastructures.StructTimeStepInfo object at 0x7fdb68028710>, <sharpy.utils.datastructures.StructTimeStepInfo object at 0x7fdb68039110>, <sharpy.utils.datastructures.StructTimeStepInfo object at 0x7fdb68028fd0>, <sharpy.utils.datastructures.StructTimeStepInfo object at 0x7fdb4562da90>, <sharpy.utils.datastructures.StructTimeStepInfo object at 0x7fdb68028b90>, <sharpy.utils.datastructures.StructTimeStepInfo object at 0x7fdb4560d110>, <sharpy.utils.datastructures.StructTimeStepInfo object at 0x7fdb68028450>, <sharpy.utils.datastructures.StructTimeStepInfo object at 0x7fdb68060d50>, <sharpy.utils.datastructures.StructTimeStepInfo object at 0x7fdb4562db10>, <sharpy.utils.datastructures.StructTimeStepInfo object at 0x7fdb68028d10>, <sharpy.utils.datastructures.StructTimeStepInfo object at 0x7fdb4560d5d0>, <sharpy.utils.datastructures.StructTimeStepInfo object at 0x7fdb68060990>, <sharpy.utils.datastructures.StructTimeStepInfo object at 0x7fdb68039910>, <sharpy.utils.datastructures.StructTimeStepInfo object at 0x7fdb68028310>, <sharpy.utils.datastructures.StructTimeStepInfo object at 0x7fdb68028150>, <sharpy.utils.datastructures.StructTimeStepInfo object at 0x7fdb4560dd90>, <sharpy.utils.datastructures.StructTimeStepInfo object at 0x7fdb68028590>, <sharpy.utils.datastructures.StructTimeStepInfo object at 0x7fdb4562d810>, <sharpy.utils.datastructures.StructTimeStepInfo object at 0x7fdb68028190>, <sharpy.utils.datastructures.StructTimeStepInfo object at 0x7fdb454d7b90>, <sharpy.utils.datastructures.StructTimeStepInfo object at 0x7fdb454d4410>, <sharpy.utils.datastructures.StructTimeStepInfo object at 0x7fdb4562d390>, <sharpy.utils.datastructures.StructTimeStepInfo object at 0x7fdb4562ded0>, <sharpy.utils.datastructures.StructTimeStepInfo object at 0x7fdb4560d9d0>, <sharpy.utils.datastructures.StructTimeStepInfo object at 0x7fdb68060690>, <sharpy.utils.datastructures.StructTimeStepInfo object at 0x7fdb68060cd0>, <sharpy.utils.datastructures.StructTimeStepInfo object at 0x7fdb4560d0d0>, <sharpy.utils.datastructures.StructTimeStepInfo object at 0x7fdb45603cd0>, <sharpy.utils.datastructures.StructTimeStepInfo object at 0x7fdb680395d0>, <sharpy.utils.datastructures.StructTimeStepInfo object at 0x7fdb68039590>, <sharpy.utils.datastructures.StructTimeStepInfo object at 0x7fdb4562da10>, <sharpy.utils.datastructures.StructTimeStepInfo object at 0x7fdb68028850>, <sharpy.utils.datastructures.StructTimeStepInfo object at 0x7fdb45603390>, <sharpy.utils.datastructures.StructTimeStepInfo object at 0x7fdb454d4850>, <sharpy.utils.datastructures.StructTimeStepInfo object at 0x7fdb454d4e90>, <sharpy.utils.datastructures.StructTimeStepInfo object at 0x7fdb4562d110>, <sharpy.utils.datastructures.StructTimeStepInfo object at 0x7fdb68060490>, <sharpy.utils.datastructures.StructTimeStepInfo object at 0x7fdb454d4790>, <sharpy.utils.datastructures.StructTimeStepInfo object at 0x7fdb45603b50>, <sharpy.utils.datastructures.StructTimeStepInfo object at 0x7fdb68028610>, <sharpy.utils.datastructures.StructTimeStepInfo object at 0x7fdb4560dc50>, <sharpy.utils.datastructures.StructTimeStepInfo object at 0x7fdb4560d6d0>, <sharpy.utils.datastructures.StructTimeStepInfo object at 0x7fdb4562d350>, <sharpy.utils.datastructures.StructTimeStepInfo object at 0x7fdb45603490>, <sharpy.utils.datastructures.StructTimeStepInfo object at 0x7fdb4562d050>, <sharpy.utils.datastructures.StructTimeStepInfo object at 0x7fdb4562d790>, <sharpy.utils.datastructures.StructTimeStepInfo object at 0x7fdb68060450>, <sharpy.utils.datastructures.StructTimeStepInfo object at 0x7fdb454d4d90>, <sharpy.utils.datastructures.StructTimeStepInfo object at 0x7fdb4560dcd0>, <sharpy.utils.datastructures.StructTimeStepInfo object at 0x7fdb4560d910>, <sharpy.utils.datastructures.StructTimeStepInfo object at 0x7fdb4562d1d0>, <sharpy.utils.datastructures.StructTimeStepInfo object at 0x7fdb4560d550>, <sharpy.utils.datastructures.StructTimeStepInfo object at 0x7fdb4560d4d0>, <sharpy.utils.datastructures.StructTimeStepInfo object at 0x7fdb454d4cd0>, <sharpy.utils.datastructures.StructTimeStepInfo object at 0x7fdb4560dbd0>, <sharpy.utils.datastructures.StructTimeStepInfo object at 0x7fdb45603090>, <sharpy.utils.datastructures.StructTimeStepInfo object at 0x7fdb45603f90>, <sharpy.utils.datastructures.StructTimeStepInfo object at 0x7fdb45624790>, <sharpy.utils.datastructures.StructTimeStepInfo object at 0x7fdb45603e90>, <sharpy.utils.datastructures.StructTimeStepInfo object at 0x7fdb454d4a90>, <sharpy.utils.datastructures.StructTimeStepInfo object at 0x7fdb45603a50>, <sharpy.utils.datastructures.StructTimeStepInfo object at 0x7fdb4560d610>, <sharpy.utils.datastructures.StructTimeStepInfo object at 0x7fdb680283d0>, <sharpy.utils.datastructures.StructTimeStepInfo object at 0x7fdb45603650>, <sharpy.utils.datastructures.StructTimeStepInfo object at 0x7fdb4560d850>, <sharpy.utils.datastructures.StructTimeStepInfo object at 0x7fdb45624550>, <sharpy.utils.datastructures.StructTimeStepInfo object at 0x7fdb4562dfd0>, <sharpy.utils.datastructures.StructTimeStepInfo object at 0x7fdb68028dd0>, <sharpy.utils.datastructures.StructTimeStepInfo object at 0x7fdb4560d350>, <sharpy.utils.datastructures.StructTimeStepInfo object at 0x7fdb4562db90>, <sharpy.utils.datastructures.StructTimeStepInfo object at 0x7fdb45603210>, <sharpy.utils.datastructures.StructTimeStepInfo object at 0x7fdb4562d550>, <sharpy.utils.datastructures.StructTimeStepInfo object at 0x7fdb68035850>, <sharpy.utils.datastructures.StructTimeStepInfo object at 0x7fdb45603450>, <sharpy.utils.datastructures.StructTimeStepInfo object at 0x7fdb4562d610>, <sharpy.utils.datastructures.StructTimeStepInfo object at 0x7fdb456035d0>, <sharpy.utils.datastructures.StructTimeStepInfo object at 0x7fdb4560d050>, <sharpy.utils.datastructures.StructTimeStepInfo object at 0x7fdb4562dad0>, <sharpy.utils.datastructures.StructTimeStepInfo object at 0x7fdb68035210>, <sharpy.utils.datastructures.StructTimeStepInfo object at 0x7fdb4560db90>, <sharpy.utils.datastructures.StructTimeStepInfo object at 0x7fdb45603b10>, <sharpy.utils.datastructures.StructTimeStepInfo object at 0x7fdb680351d0>, <sharpy.utils.datastructures.StructTimeStepInfo object at 0x7fdb68035810>, <sharpy.utils.datastructures.StructTimeStepInfo object at 0x7fdb68035290>, <sharpy.utils.datastructures.StructTimeStepInfo object at 0x7fdb68038510>, <sharpy.utils.datastructures.StructTimeStepInfo object at 0x7fdb4562d2d0>, <sharpy.utils.datastructures.StructTimeStepInfo object at 0x7fdb45603c10>, <sharpy.utils.datastructures.StructTimeStepInfo object at 0x7fdb4562d8d0>, <sharpy.utils.datastructures.StructTimeStepInfo object at 0x7fdb4560d950>, <sharpy.utils.datastructures.StructTimeStepInfo object at 0x7fdb45603c50>, <sharpy.utils.datastructures.StructTimeStepInfo object at 0x7fdb45603a90>, <sharpy.utils.datastructures.StructTimeStepInfo object at 0x7fdb4562d3d0>, <sharpy.utils.datastructures.StructTimeStepInfo object at 0x7fdb45624250>, <sharpy.utils.datastructures.StructTimeStepInfo object at 0x7fdb4560d290>, <sharpy.utils.datastructures.StructTimeStepInfo object at 0x7fdb45603810>, <sharpy.utils.datastructures.StructTimeStepInfo object at 0x7fdb4560dd50>, <sharpy.utils.datastructures.StructTimeStepInfo object at 0x7fdb45624e50>, <sharpy.utils.datastructures.StructTimeStepInfo object at 0x7fdb4560d450>, <sharpy.utils.datastructures.StructTimeStepInfo object at 0x7fdb454d4510>, <sharpy.utils.datastructures.StructTimeStepInfo object at 0x7fdb4560db10>, <sharpy.utils.datastructures.StructTimeStepInfo object at 0x7fdb4560ddd0>, <sharpy.utils.datastructures.StructTimeStepInfo object at 0x7fdb45624650>, <sharpy.utils.datastructures.StructTimeStepInfo object at 0x7fdb680289d0>, <sharpy.utils.datastructures.StructTimeStepInfo object at 0x7fdb4560db50>, <sharpy.utils.datastructures.StructTimeStepInfo object at 0x7fdb68035d10>, <sharpy.utils.datastructures.StructTimeStepInfo object at 0x7fdb4562d9d0>, <sharpy.utils.datastructures.StructTimeStepInfo object at 0x7fdb45603910>, <sharpy.utils.datastructures.StructTimeStepInfo object at 0x7fdb68035050>, <sharpy.utils.datastructures.StructTimeStepInfo object at 0x7fdb68035b10>, <sharpy.utils.datastructures.StructTimeStepInfo object at 0x7fdb68028550>, <sharpy.utils.datastructures.StructTimeStepInfo object at 0x7fdb68035690>, <sharpy.utils.datastructures.StructTimeStepInfo object at 0x7fdb68035090>, <sharpy.utils.datastructures.StructTimeStepInfo object at 0x7fdb68035590>, <sharpy.utils.datastructures.StructTimeStepInfo object at 0x7fdb45624990>, <sharpy.utils.datastructures.StructTimeStepInfo object at 0x7fdb4562dd90>, <sharpy.utils.datastructures.StructTimeStepInfo object at 0x7fdb4560d310>, <sharpy.utils.datastructures.StructTimeStepInfo object at 0x7fdb68028cd0>, <sharpy.utils.datastructures.StructTimeStepInfo object at 0x7fdb45624c50>, <sharpy.utils.datastructures.StructTimeStepInfo object at 0x7fdb68028110>, <sharpy.utils.datastructures.StructTimeStepInfo object at 0x7fdb456037d0>, <sharpy.utils.datastructures.StructTimeStepInfo object at 0x7fdb44f775d0>, <sharpy.utils.datastructures.StructTimeStepInfo object at 0x7fdb45603410>, <sharpy.utils.datastructures.StructTimeStepInfo object at 0x7fdb45624e90>, <sharpy.utils.datastructures.StructTimeStepInfo object at 0x7fdb4562d210>, <sharpy.utils.datastructures.StructTimeStepInfo object at 0x7fdb68028c90>, <sharpy.utils.datastructures.StructTimeStepInfo object at 0x7fdb454d7c10>, <sharpy.utils.datastructures.StructTimeStepInfo object at 0x7fdb4560d510>, <sharpy.utils.datastructures.StructTimeStepInfo object at 0x7fdb4562d090>, <sharpy.utils.datastructures.StructTimeStepInfo object at 0x7fdb4562d250>, <sharpy.utils.datastructures.StructTimeStepInfo object at 0x7fdb44f774d0>, <sharpy.utils.datastructures.StructTimeStepInfo object at 0x7fdb45603dd0>, <sharpy.utils.datastructures.StructTimeStepInfo object at 0x7fdb68035d90>, <sharpy.utils.datastructures.StructTimeStepInfo object at 0x7fdb45603590>, <sharpy.utils.datastructures.StructTimeStepInfo object at 0x7fdb45624b10>, <sharpy.utils.datastructures.StructTimeStepInfo object at 0x7fdb44f77150>, <sharpy.utils.datastructures.StructTimeStepInfo object at 0x7fdb45603d50>, <sharpy.utils.datastructures.StructTimeStepInfo object at 0x7fdb44f77bd0>, <sharpy.utils.datastructures.StructTimeStepInfo object at 0x7fdb68028990>, <sharpy.utils.datastructures.StructTimeStepInfo object at 0x7fdb68035550>, <sharpy.utils.datastructures.StructTimeStepInfo object at 0x7fdb45603150>, <sharpy.utils.datastructures.StructTimeStepInfo object at 0x7fdb44f77c90>, <sharpy.utils.datastructures.StructTimeStepInfo object at 0x7fdb68028250>, <sharpy.utils.datastructures.StructTimeStepInfo object at 0x7fdb44f77490>, <sharpy.utils.datastructures.StructTimeStepInfo object at 0x7fdb45603d90>, <sharpy.utils.datastructures.StructTimeStepInfo object at 0x7fdb4560de50>, <sharpy.utils.datastructures.StructTimeStepInfo object at 0x7fdb680356d0>, <sharpy.utils.datastructures.StructTimeStepInfo object at 0x7fdb44f77650>, <sharpy.utils.datastructures.StructTimeStepInfo object at 0x7fdb44f77d50>, <sharpy.utils.datastructures.StructTimeStepInfo object at 0x7fdb4562d450>, <sharpy.utils.datastructures.StructTimeStepInfo object at 0x7fdb44f77610>, <sharpy.utils.datastructures.StructTimeStepInfo object at 0x7fdb45624410>, <sharpy.utils.datastructures.StructTimeStepInfo object at 0x7fdb4560d890>, <sharpy.utils.datastructures.StructTimeStepInfo object at 0x7fdb44f8d650>, <sharpy.utils.datastructures.StructTimeStepInfo object at 0x7fdb4560d710>, <sharpy.utils.datastructures.StructTimeStepInfo object at 0x7fdb68035bd0>, <sharpy.utils.datastructures.StructTimeStepInfo object at 0x7fdb68035250>, <sharpy.utils.datastructures.StructTimeStepInfo object at 0x7fdb45624610>, <sharpy.utils.datastructures.StructTimeStepInfo object at 0x7fdb4560dfd0>, <sharpy.utils.datastructures.StructTimeStepInfo object at 0x7fdb45603790>, <sharpy.utils.datastructures.StructTimeStepInfo object at 0x7fdb44f8db10>, <sharpy.utils.datastructures.StructTimeStepInfo object at 0x7fdb44f77f90>, <sharpy.utils.datastructures.StructTimeStepInfo object at 0x7fdb45624150>, <sharpy.utils.datastructures.StructTimeStepInfo object at 0x7fdb44f77350>, <sharpy.utils.datastructures.StructTimeStepInfo object at 0x7fdb45624450>, <sharpy.utils.datastructures.StructTimeStepInfo object at 0x7fdb44f8d710>, <sharpy.utils.datastructures.StructTimeStepInfo object at 0x7fdb68028d90>, <sharpy.utils.datastructures.StructTimeStepInfo object at 0x7fdb44f8d290>, <sharpy.utils.datastructures.StructTimeStepInfo object at 0x7fdb68028d50>, <sharpy.utils.datastructures.StructTimeStepInfo object at 0x7fdb44f8d950>, <sharpy.utils.datastructures.StructTimeStepInfo object at 0x7fdb44f77450>, <sharpy.utils.datastructures.StructTimeStepInfo object at 0x7fdb45603bd0>, <sharpy.utils.datastructures.StructTimeStepInfo object at 0x7fdb44f77b50>, <sharpy.utils.datastructures.StructTimeStepInfo object at 0x7fdb456034d0>, <sharpy.utils.datastructures.StructTimeStepInfo object at 0x7fdb45624a90>, <sharpy.utils.datastructures.StructTimeStepInfo object at 0x7fdb44f8d510>, <sharpy.utils.datastructures.StructTimeStepInfo object at 0x7fdb44f8dd50>, <sharpy.utils.datastructures.StructTimeStepInfo object at 0x7fdb68035f90>, <sharpy.utils.datastructures.StructTimeStepInfo object at 0x7fdb44f77090>, <sharpy.utils.datastructures.StructTimeStepInfo object at 0x7fdb45603050>, <sharpy.utils.datastructures.StructTimeStepInfo object at 0x7fdb45624110>, <sharpy.utils.datastructures.StructTimeStepInfo object at 0x7fdb68035890>, <sharpy.utils.datastructures.StructTimeStepInfo object at 0x7fdb44f8d450>, <sharpy.utils.datastructures.StructTimeStepInfo object at 0x7fdb44f773d0>, <sharpy.utils.datastructures.StructTimeStepInfo object at 0x7fdb44f77890>, <sharpy.utils.datastructures.StructTimeStepInfo object at 0x7fdb4562de50>, <sharpy.utils.datastructures.StructTimeStepInfo object at 0x7fdb68035e10>, <sharpy.utils.datastructures.StructTimeStepInfo object at 0x7fdb45624dd0>, <sharpy.utils.datastructures.StructTimeStepInfo object at 0x7fdb45624c10>, <sharpy.utils.datastructures.StructTimeStepInfo object at 0x7fdb44f8d4d0>, <sharpy.utils.datastructures.StructTimeStepInfo object at 0x7fdb44f8d750>, <sharpy.utils.datastructures.StructTimeStepInfo object at 0x7fdb44fa4e90>, <sharpy.utils.datastructures.StructTimeStepInfo object at 0x7fdb44f77590>, <sharpy.utils.datastructures.StructTimeStepInfo object at 0x7fdb44fa4810>, <sharpy.utils.datastructures.StructTimeStepInfo object at 0x7fdb44fa4310>, <sharpy.utils.datastructures.StructTimeStepInfo object at 0x7fdb44f8d410>, <sharpy.utils.datastructures.StructTimeStepInfo object at 0x7fdb44f8d590>, <sharpy.utils.datastructures.StructTimeStepInfo object at 0x7fdb44fa4250>, <sharpy.utils.datastructures.StructTimeStepInfo object at 0x7fdb44f77e10>, <sharpy.utils.datastructures.StructTimeStepInfo object at 0x7fdb44f8dbd0>, <sharpy.utils.datastructures.StructTimeStepInfo object at 0x7fdb45624810>, <sharpy.utils.datastructures.StructTimeStepInfo object at 0x7fdb454d43d0>, <sharpy.utils.datastructures.StructTimeStepInfo object at 0x7fdb44f77cd0>, <sharpy.utils.datastructures.StructTimeStepInfo object at 0x7fdb44fa4490>, <sharpy.utils.datastructures.StructTimeStepInfo object at 0x7fdb68035fd0>, <sharpy.utils.datastructures.StructTimeStepInfo object at 0x7fdb45620b50>, <sharpy.utils.datastructures.StructTimeStepInfo object at 0x7fdb44fa4290>, <sharpy.utils.datastructures.StructTimeStepInfo object at 0x7fdb68035cd0>, <sharpy.utils.datastructures.StructTimeStepInfo object at 0x7fdb44fa41d0>, <sharpy.utils.datastructures.StructTimeStepInfo object at 0x7fdb45620d50>, <sharpy.utils.datastructures.StructTimeStepInfo object at 0x7fdb44fa4fd0>, <sharpy.utils.datastructures.StructTimeStepInfo object at 0x7fdb68060b90>, <sharpy.utils.datastructures.StructTimeStepInfo object at 0x7fdb44f8db90>, <sharpy.utils.datastructures.StructTimeStepInfo object at 0x7fdb44fa4750>, <sharpy.utils.datastructures.StructTimeStepInfo object at 0x7fdb44fa4190>, <sharpy.utils.datastructures.StructTimeStepInfo object at 0x7fdb456201d0>, <sharpy.utils.datastructures.StructTimeStepInfo object at 0x7fdb44f8ddd0>, <sharpy.utils.datastructures.StructTimeStepInfo object at 0x7fdb44fa4110>, <sharpy.utils.datastructures.StructTimeStepInfo object at 0x7fdb44f8d850>, <sharpy.utils.datastructures.StructTimeStepInfo object at 0x7fdb68035750>, <sharpy.utils.datastructures.StructTimeStepInfo object at 0x7fdb45620f10>, <sharpy.utils.datastructures.StructTimeStepInfo object at 0x7fdb44f77ed0>, <sharpy.utils.datastructures.StructTimeStepInfo object at 0x7fdb44f8de50>, <sharpy.utils.datastructures.StructTimeStepInfo object at 0x7fdb44f8d9d0>, <sharpy.utils.datastructures.StructTimeStepInfo object at 0x7fdb44fa49d0>, <sharpy.utils.datastructures.StructTimeStepInfo object at 0x7fdb44fa47d0>, <sharpy.utils.datastructures.StructTimeStepInfo object at 0x7fdb45620950>, <sharpy.utils.datastructures.StructTimeStepInfo object at 0x7fdb45620590>]\n"
     ]
    }
   ],
   "source": [
    "print(sharpy_output.structure.timestep_info)"
   ]
  },
  {
   "cell_type": "code",
   "execution_count": null,
   "metadata": {},
   "outputs": [],
   "source": []
  }
 ],
 "metadata": {
  "kernelspec": {
   "display_name": "Python 3.7.5 ('sharpy_env')",
   "language": "python",
   "name": "python3"
  },
  "language_info": {
   "codemirror_mode": {
    "name": "ipython",
    "version": 3
   },
   "file_extension": ".py",
   "mimetype": "text/x-python",
   "name": "python",
   "nbconvert_exporter": "python",
   "pygments_lexer": "ipython3",
   "version": "3.7.5"
  },
  "vscode": {
   "interpreter": {
    "hash": "d49438a85068a1e5cdecee7d4daf6c817a6e3c5701eb03450a0dbffb1a1d49f1"
   }
  }
 },
 "nbformat": 4,
 "nbformat_minor": 4
}
